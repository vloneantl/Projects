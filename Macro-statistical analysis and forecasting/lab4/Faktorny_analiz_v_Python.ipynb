{
 "cells": [
  {
   "cell_type": "markdown",
   "metadata": {
    "id": "KSWN3BdFJSc7"
   },
   "source": [
    "# Факторный анализ в Python"
   ]
  },
  {
   "cell_type": "markdown",
   "metadata": {
    "id": "US84oXqeJSc-"
   },
   "source": [
    "## Загрузка данных"
   ]
  },
  {
   "cell_type": "code",
   "execution_count": 1,
   "metadata": {
    "colab": {
     "base_uri": "https://localhost:8080/"
    },
    "executionInfo": {
     "elapsed": 1610,
     "status": "ok",
     "timestamp": 1607461101884,
     "user": {
      "displayName": "Анастасия Кирина",
      "photoUrl": "https://lh3.googleusercontent.com/a-/AOh14Gityrrgz-OMqGn_Z6UtocuFgHf78gRIGMi-KPL7Fg=s64",
      "userId": "13543370386291201185"
     },
     "user_tz": -180
    },
    "id": "jcPopWOjJSc_",
    "outputId": "ababf977-df21-4328-b278-5394fe70fb8b"
   },
   "outputs": [],
   "source": [
    "import pandas as pd\n",
    "import numpy as np\n",
    "import matplotlib.pyplot as plt\n",
    "import math\n",
    "import scipy.stats as ss\n",
    "from math import  sin, cos, pi \n",
    "from statsmodels.formula.api import ols\n",
    "from scipy.stats import chi2\n",
    "from numpy import arange"
   ]
  },
  {
   "cell_type": "code",
   "execution_count": 2,
   "metadata": {
    "id": "1SewDOafJSdA",
    "outputId": "c265c754-ec73-4305-b188-890d57d82d2e"
   },
   "outputs": [
    {
     "data": {
      "text/html": [
       "<div>\n",
       "<style scoped>\n",
       "    .dataframe tbody tr th:only-of-type {\n",
       "        vertical-align: middle;\n",
       "    }\n",
       "\n",
       "    .dataframe tbody tr th {\n",
       "        vertical-align: top;\n",
       "    }\n",
       "\n",
       "    .dataframe thead th {\n",
       "        text-align: right;\n",
       "    }\n",
       "</style>\n",
       "<table border=\"1\" class=\"dataframe\">\n",
       "  <thead>\n",
       "    <tr style=\"text-align: right;\">\n",
       "      <th></th>\n",
       "      <th>X1</th>\n",
       "      <th>X2</th>\n",
       "      <th>X3</th>\n",
       "      <th>X4</th>\n",
       "      <th>X5</th>\n",
       "      <th>X6</th>\n",
       "      <th>X7</th>\n",
       "      <th>X8</th>\n",
       "      <th>X9</th>\n",
       "      <th>X10</th>\n",
       "    </tr>\n",
       "  </thead>\n",
       "  <tbody>\n",
       "    <tr>\n",
       "      <td>0</td>\n",
       "      <td>-0.466334</td>\n",
       "      <td>-0.499452</td>\n",
       "      <td>-1.195254</td>\n",
       "      <td>-1.507236</td>\n",
       "      <td>0.069739</td>\n",
       "      <td>0.207068</td>\n",
       "      <td>-0.626404</td>\n",
       "      <td>-0.266906</td>\n",
       "      <td>-0.251121</td>\n",
       "      <td>-0.373212</td>\n",
       "    </tr>\n",
       "    <tr>\n",
       "      <td>1</td>\n",
       "      <td>-0.785712</td>\n",
       "      <td>-0.855048</td>\n",
       "      <td>-1.298529</td>\n",
       "      <td>-1.448984</td>\n",
       "      <td>0.329812</td>\n",
       "      <td>-0.109225</td>\n",
       "      <td>-0.316544</td>\n",
       "      <td>0.106932</td>\n",
       "      <td>-0.394951</td>\n",
       "      <td>-0.521242</td>\n",
       "    </tr>\n",
       "    <tr>\n",
       "      <td>2</td>\n",
       "      <td>-1.034117</td>\n",
       "      <td>-0.979066</td>\n",
       "      <td>-0.317418</td>\n",
       "      <td>-0.827632</td>\n",
       "      <td>-1.342087</td>\n",
       "      <td>-0.202253</td>\n",
       "      <td>0.406464</td>\n",
       "      <td>-0.999628</td>\n",
       "      <td>-0.682612</td>\n",
       "      <td>-0.521242</td>\n",
       "    </tr>\n",
       "    <tr>\n",
       "      <td>3</td>\n",
       "      <td>-1.424468</td>\n",
       "      <td>-0.768632</td>\n",
       "      <td>-1.453441</td>\n",
       "      <td>-0.245114</td>\n",
       "      <td>-0.264641</td>\n",
       "      <td>0.225674</td>\n",
       "      <td>0.561394</td>\n",
       "      <td>-1.109287</td>\n",
       "      <td>-0.768011</td>\n",
       "      <td>-0.528291</td>\n",
       "    </tr>\n",
       "    <tr>\n",
       "      <td>4</td>\n",
       "      <td>0.598260</td>\n",
       "      <td>-0.709319</td>\n",
       "      <td>-1.943996</td>\n",
       "      <td>-0.497539</td>\n",
       "      <td>0.682768</td>\n",
       "      <td>-0.518546</td>\n",
       "      <td>-1.349412</td>\n",
       "      <td>-0.629528</td>\n",
       "      <td>-0.535785</td>\n",
       "      <td>-0.462500</td>\n",
       "    </tr>\n",
       "  </tbody>\n",
       "</table>\n",
       "</div>"
      ],
      "text/plain": [
       "         X1        X2        X3        X4        X5        X6        X7  \\\n",
       "0 -0.466334 -0.499452 -1.195254 -1.507236  0.069739  0.207068 -0.626404   \n",
       "1 -0.785712 -0.855048 -1.298529 -1.448984  0.329812 -0.109225 -0.316544   \n",
       "2 -1.034117 -0.979066 -0.317418 -0.827632 -1.342087 -0.202253  0.406464   \n",
       "3 -1.424468 -0.768632 -1.453441 -0.245114 -0.264641  0.225674  0.561394   \n",
       "4  0.598260 -0.709319 -1.943996 -0.497539  0.682768 -0.518546 -1.349412   \n",
       "\n",
       "         X8        X9       X10  \n",
       "0 -0.266906 -0.251121 -0.373212  \n",
       "1  0.106932 -0.394951 -0.521242  \n",
       "2 -0.999628 -0.682612 -0.521242  \n",
       "3 -1.109287 -0.768011 -0.528291  \n",
       "4 -0.629528 -0.535785 -0.462500  "
      ]
     },
     "execution_count": 2,
     "metadata": {},
     "output_type": "execute_result"
    }
   ],
   "source": [
    "features = [\"X1\", \"X2\", \"X3\", \"X4\", \"X5\", \"X6\", \"X7\", \"X8\", \"X9\", \"X10\"]\n",
    "f_len = len (features)\n",
    "unclr_data = pd.read_excel ('Dannye_1.xlsx', sheet_name = 'Данные для питона')\n",
    "unclr_data = unclr_data[features]\n",
    "\n",
    "unclr_data.head()"
   ]
  },
  {
   "cell_type": "markdown",
   "metadata": {
    "id": "zvd5QA3mJSdB"
   },
   "source": [
    "#### X78 – ПРОДАЖА АЛКОГОЛЬНОЙ ПРОДУКЦИИ НАСЕЛЕНИЮ (Пиво и пивные напитки) (тысяч декалитров)\n",
    "#### X63 – СМЕРТНОСТЬ НАСЕЛЕНИЯ В ТРУДОСПОСОБНОМ ВОЗРАСТЕ\n",
    "#### X44 – ЧИСЛО ЗАРЕГИСТРИРОВАННЫХ ПРЕСТУПЛЕНИЙ, СОВЕРШЕННЫХ в 2018 г. (Убийство и покушение на убийство)\n",
    "#### X45 – ОЖИДАЕМАЯ ПРОДОЛЖИТЕЛЬНОСТЬ ЖИЗНИ ПРИ РОЖДЕНИИ (число лет)\n",
    "#### X41 – СРЕДНЕ-ДУШЕВЫЕ ДЕНЕЖНЫЕ ДОХОДЫ (В МЕСЯЦ), РУБ. \n",
    "#### X40 – ЧИСЛО ЗАРЕГИСТРИРОВАННЫХ ГРАБЕЖЕЙ, СОВЕРШЕННЫХ в 2018 г. (на 1000 человек)\n",
    "#### X31 – УРОВЕНЬ БЕЗРАБОТИЦЫ"
   ]
  },
  {
   "cell_type": "markdown",
   "metadata": {
    "id": "wEGu0kcAJSdB"
   },
   "source": [
    "## Удаляем строки с пустыми значениями и стандартизируем данные"
   ]
  },
  {
   "cell_type": "code",
   "execution_count": 3,
   "metadata": {
    "id": "nMeS-EaZJSdC",
    "outputId": "41ef35a8-acdd-4b6c-dce3-0aac45baf58f"
   },
   "outputs": [
    {
     "name": "stderr",
     "output_type": "stream",
     "text": [
      "/Users/antonlukanov/opt/anaconda3/lib/python3.7/site-packages/pandas/core/ops/__init__.py:1115: FutureWarning: elementwise comparison failed; returning scalar instead, but in the future will perform elementwise comparison\n",
      "  result = method(y)\n"
     ]
    },
    {
     "data": {
      "text/html": [
       "<div>\n",
       "<style scoped>\n",
       "    .dataframe tbody tr th:only-of-type {\n",
       "        vertical-align: middle;\n",
       "    }\n",
       "\n",
       "    .dataframe tbody tr th {\n",
       "        vertical-align: top;\n",
       "    }\n",
       "\n",
       "    .dataframe thead th {\n",
       "        text-align: right;\n",
       "    }\n",
       "</style>\n",
       "<table border=\"1\" class=\"dataframe\">\n",
       "  <thead>\n",
       "    <tr style=\"text-align: right;\">\n",
       "      <th></th>\n",
       "      <th>X1</th>\n",
       "      <th>X2</th>\n",
       "      <th>X3</th>\n",
       "      <th>X4</th>\n",
       "      <th>X5</th>\n",
       "      <th>X6</th>\n",
       "      <th>X7</th>\n",
       "      <th>X8</th>\n",
       "      <th>X9</th>\n",
       "      <th>X10</th>\n",
       "    </tr>\n",
       "  </thead>\n",
       "  <tbody>\n",
       "    <tr>\n",
       "      <td>0</td>\n",
       "      <td>-0.466334</td>\n",
       "      <td>-0.499452</td>\n",
       "      <td>-1.195254</td>\n",
       "      <td>-1.507236</td>\n",
       "      <td>0.069739</td>\n",
       "      <td>0.207068</td>\n",
       "      <td>-0.626404</td>\n",
       "      <td>-0.266906</td>\n",
       "      <td>-0.251121</td>\n",
       "      <td>-0.373212</td>\n",
       "    </tr>\n",
       "    <tr>\n",
       "      <td>1</td>\n",
       "      <td>-0.785712</td>\n",
       "      <td>-0.855048</td>\n",
       "      <td>-1.298529</td>\n",
       "      <td>-1.448984</td>\n",
       "      <td>0.329812</td>\n",
       "      <td>-0.109225</td>\n",
       "      <td>-0.316544</td>\n",
       "      <td>0.106932</td>\n",
       "      <td>-0.394951</td>\n",
       "      <td>-0.521242</td>\n",
       "    </tr>\n",
       "    <tr>\n",
       "      <td>2</td>\n",
       "      <td>-1.034117</td>\n",
       "      <td>-0.979066</td>\n",
       "      <td>-0.317418</td>\n",
       "      <td>-0.827632</td>\n",
       "      <td>-1.342087</td>\n",
       "      <td>-0.202253</td>\n",
       "      <td>0.406464</td>\n",
       "      <td>-0.999628</td>\n",
       "      <td>-0.682612</td>\n",
       "      <td>-0.521242</td>\n",
       "    </tr>\n",
       "    <tr>\n",
       "      <td>3</td>\n",
       "      <td>-1.424468</td>\n",
       "      <td>-0.768632</td>\n",
       "      <td>-1.453441</td>\n",
       "      <td>-0.245114</td>\n",
       "      <td>-0.264641</td>\n",
       "      <td>0.225674</td>\n",
       "      <td>0.561394</td>\n",
       "      <td>-1.109287</td>\n",
       "      <td>-0.768011</td>\n",
       "      <td>-0.528291</td>\n",
       "    </tr>\n",
       "    <tr>\n",
       "      <td>4</td>\n",
       "      <td>0.598260</td>\n",
       "      <td>-0.709319</td>\n",
       "      <td>-1.943996</td>\n",
       "      <td>-0.497539</td>\n",
       "      <td>0.682768</td>\n",
       "      <td>-0.518546</td>\n",
       "      <td>-1.349412</td>\n",
       "      <td>-0.629528</td>\n",
       "      <td>-0.535785</td>\n",
       "      <td>-0.462500</td>\n",
       "    </tr>\n",
       "  </tbody>\n",
       "</table>\n",
       "</div>"
      ],
      "text/plain": [
       "         X1        X2        X3        X4        X5        X6        X7  \\\n",
       "0 -0.466334 -0.499452 -1.195254 -1.507236  0.069739  0.207068 -0.626404   \n",
       "1 -0.785712 -0.855048 -1.298529 -1.448984  0.329812 -0.109225 -0.316544   \n",
       "2 -1.034117 -0.979066 -0.317418 -0.827632 -1.342087 -0.202253  0.406464   \n",
       "3 -1.424468 -0.768632 -1.453441 -0.245114 -0.264641  0.225674  0.561394   \n",
       "4  0.598260 -0.709319 -1.943996 -0.497539  0.682768 -0.518546 -1.349412   \n",
       "\n",
       "         X8        X9       X10  \n",
       "0 -0.266906 -0.251121 -0.373212  \n",
       "1  0.106932 -0.394951 -0.521242  \n",
       "2 -0.999628 -0.682612 -0.521242  \n",
       "3 -1.109287 -0.768011 -0.528291  \n",
       "4 -0.629528 -0.535785 -0.462500  "
      ]
     },
     "execution_count": 3,
     "metadata": {},
     "output_type": "execute_result"
    }
   ],
   "source": [
    "unsc_data = unclr_data[unclr_data!='-'].dropna().astype('float64')\n",
    "index = unsc_data.index \n",
    "columns = unsc_data.columns \n",
    "index = unsc_data.index\n",
    "columns = unsc_data.columns\n",
    "scaled = (unsc_data - unsc_data.mean(axis=0))/unsc_data.std()\n",
    "data = pd.DataFrame(scaled, columns=columns, index=index) \n",
    "\n",
    "data.head()"
   ]
  },
  {
   "cell_type": "markdown",
   "metadata": {
    "id": "e1vBxiUmJSdC"
   },
   "source": [
    "## Корреляционная матрица"
   ]
  },
  {
   "cell_type": "code",
   "execution_count": 4,
   "metadata": {
    "id": "p-IKyd8LJSdD",
    "outputId": "c7b05712-35f3-443b-b9ef-1d300e94e412"
   },
   "outputs": [
    {
     "data": {
      "text/html": [
       "<div>\n",
       "<style scoped>\n",
       "    .dataframe tbody tr th:only-of-type {\n",
       "        vertical-align: middle;\n",
       "    }\n",
       "\n",
       "    .dataframe tbody tr th {\n",
       "        vertical-align: top;\n",
       "    }\n",
       "\n",
       "    .dataframe thead th {\n",
       "        text-align: right;\n",
       "    }\n",
       "</style>\n",
       "<table border=\"1\" class=\"dataframe\">\n",
       "  <thead>\n",
       "    <tr style=\"text-align: right;\">\n",
       "      <th></th>\n",
       "      <th>X1</th>\n",
       "      <th>X2</th>\n",
       "      <th>X3</th>\n",
       "      <th>X4</th>\n",
       "      <th>X5</th>\n",
       "      <th>X6</th>\n",
       "      <th>X7</th>\n",
       "      <th>X8</th>\n",
       "      <th>X9</th>\n",
       "      <th>X10</th>\n",
       "    </tr>\n",
       "  </thead>\n",
       "  <tbody>\n",
       "    <tr>\n",
       "      <td>X1</td>\n",
       "      <td>1.000000</td>\n",
       "      <td>-0.328434</td>\n",
       "      <td>0.717837</td>\n",
       "      <td>0.037041</td>\n",
       "      <td>-0.011260</td>\n",
       "      <td>0.088430</td>\n",
       "      <td>-0.042839</td>\n",
       "      <td>0.183548</td>\n",
       "      <td>-0.342709</td>\n",
       "      <td>-0.151315</td>\n",
       "    </tr>\n",
       "    <tr>\n",
       "      <td>X2</td>\n",
       "      <td>-0.328434</td>\n",
       "      <td>1.000000</td>\n",
       "      <td>-0.086028</td>\n",
       "      <td>0.697131</td>\n",
       "      <td>0.114888</td>\n",
       "      <td>-0.063335</td>\n",
       "      <td>0.212093</td>\n",
       "      <td>0.424869</td>\n",
       "      <td>0.691414</td>\n",
       "      <td>0.171459</td>\n",
       "    </tr>\n",
       "    <tr>\n",
       "      <td>X3</td>\n",
       "      <td>0.717837</td>\n",
       "      <td>-0.086028</td>\n",
       "      <td>1.000000</td>\n",
       "      <td>0.231706</td>\n",
       "      <td>0.137372</td>\n",
       "      <td>-0.111616</td>\n",
       "      <td>0.068966</td>\n",
       "      <td>0.168973</td>\n",
       "      <td>-0.133866</td>\n",
       "      <td>-0.096152</td>\n",
       "    </tr>\n",
       "    <tr>\n",
       "      <td>X4</td>\n",
       "      <td>0.037041</td>\n",
       "      <td>0.697131</td>\n",
       "      <td>0.231706</td>\n",
       "      <td>1.000000</td>\n",
       "      <td>0.163452</td>\n",
       "      <td>-0.152133</td>\n",
       "      <td>0.004120</td>\n",
       "      <td>0.544849</td>\n",
       "      <td>0.490472</td>\n",
       "      <td>0.177011</td>\n",
       "    </tr>\n",
       "    <tr>\n",
       "      <td>X5</td>\n",
       "      <td>-0.011260</td>\n",
       "      <td>0.114888</td>\n",
       "      <td>0.137372</td>\n",
       "      <td>0.163452</td>\n",
       "      <td>1.000000</td>\n",
       "      <td>-0.362135</td>\n",
       "      <td>-0.078402</td>\n",
       "      <td>0.163061</td>\n",
       "      <td>-0.096510</td>\n",
       "      <td>-0.034461</td>\n",
       "    </tr>\n",
       "    <tr>\n",
       "      <td>X6</td>\n",
       "      <td>0.088430</td>\n",
       "      <td>-0.063335</td>\n",
       "      <td>-0.111616</td>\n",
       "      <td>-0.152133</td>\n",
       "      <td>-0.362135</td>\n",
       "      <td>1.000000</td>\n",
       "      <td>0.072092</td>\n",
       "      <td>-0.039255</td>\n",
       "      <td>0.032160</td>\n",
       "      <td>-0.000521</td>\n",
       "    </tr>\n",
       "    <tr>\n",
       "      <td>X7</td>\n",
       "      <td>-0.042839</td>\n",
       "      <td>0.212093</td>\n",
       "      <td>0.068966</td>\n",
       "      <td>0.004120</td>\n",
       "      <td>-0.078402</td>\n",
       "      <td>0.072092</td>\n",
       "      <td>1.000000</td>\n",
       "      <td>0.033985</td>\n",
       "      <td>-0.001701</td>\n",
       "      <td>-0.269317</td>\n",
       "    </tr>\n",
       "    <tr>\n",
       "      <td>X8</td>\n",
       "      <td>0.183548</td>\n",
       "      <td>0.424869</td>\n",
       "      <td>0.168973</td>\n",
       "      <td>0.544849</td>\n",
       "      <td>0.163061</td>\n",
       "      <td>-0.039255</td>\n",
       "      <td>0.033985</td>\n",
       "      <td>1.000000</td>\n",
       "      <td>0.062749</td>\n",
       "      <td>0.005379</td>\n",
       "    </tr>\n",
       "    <tr>\n",
       "      <td>X9</td>\n",
       "      <td>-0.342709</td>\n",
       "      <td>0.691414</td>\n",
       "      <td>-0.133866</td>\n",
       "      <td>0.490472</td>\n",
       "      <td>-0.096510</td>\n",
       "      <td>0.032160</td>\n",
       "      <td>-0.001701</td>\n",
       "      <td>0.062749</td>\n",
       "      <td>1.000000</td>\n",
       "      <td>0.381331</td>\n",
       "    </tr>\n",
       "    <tr>\n",
       "      <td>X10</td>\n",
       "      <td>-0.151315</td>\n",
       "      <td>0.171459</td>\n",
       "      <td>-0.096152</td>\n",
       "      <td>0.177011</td>\n",
       "      <td>-0.034461</td>\n",
       "      <td>-0.000521</td>\n",
       "      <td>-0.269317</td>\n",
       "      <td>0.005379</td>\n",
       "      <td>0.381331</td>\n",
       "      <td>1.000000</td>\n",
       "    </tr>\n",
       "  </tbody>\n",
       "</table>\n",
       "</div>"
      ],
      "text/plain": [
       "           X1        X2        X3        X4        X5        X6        X7  \\\n",
       "X1   1.000000 -0.328434  0.717837  0.037041 -0.011260  0.088430 -0.042839   \n",
       "X2  -0.328434  1.000000 -0.086028  0.697131  0.114888 -0.063335  0.212093   \n",
       "X3   0.717837 -0.086028  1.000000  0.231706  0.137372 -0.111616  0.068966   \n",
       "X4   0.037041  0.697131  0.231706  1.000000  0.163452 -0.152133  0.004120   \n",
       "X5  -0.011260  0.114888  0.137372  0.163452  1.000000 -0.362135 -0.078402   \n",
       "X6   0.088430 -0.063335 -0.111616 -0.152133 -0.362135  1.000000  0.072092   \n",
       "X7  -0.042839  0.212093  0.068966  0.004120 -0.078402  0.072092  1.000000   \n",
       "X8   0.183548  0.424869  0.168973  0.544849  0.163061 -0.039255  0.033985   \n",
       "X9  -0.342709  0.691414 -0.133866  0.490472 -0.096510  0.032160 -0.001701   \n",
       "X10 -0.151315  0.171459 -0.096152  0.177011 -0.034461 -0.000521 -0.269317   \n",
       "\n",
       "           X8        X9       X10  \n",
       "X1   0.183548 -0.342709 -0.151315  \n",
       "X2   0.424869  0.691414  0.171459  \n",
       "X3   0.168973 -0.133866 -0.096152  \n",
       "X4   0.544849  0.490472  0.177011  \n",
       "X5   0.163061 -0.096510 -0.034461  \n",
       "X6  -0.039255  0.032160 -0.000521  \n",
       "X7   0.033985 -0.001701 -0.269317  \n",
       "X8   1.000000  0.062749  0.005379  \n",
       "X9   0.062749  1.000000  0.381331  \n",
       "X10  0.005379  0.381331  1.000000  "
      ]
     },
     "execution_count": 4,
     "metadata": {},
     "output_type": "execute_result"
    }
   ],
   "source": [
    "correlations = data.corr()\n",
    "\n",
    "correlations"
   ]
  },
  {
   "cell_type": "markdown",
   "metadata": {
    "id": "wuWc23urJSdD"
   },
   "source": [
    "## Проверим гипотезу о незначимости корреляционной матрицы с использованием критерия Уилкса"
   ]
  },
  {
   "cell_type": "code",
   "execution_count": 5,
   "metadata": {
    "id": "aVtNY7ukJSdE",
    "outputId": "02dc614b-4058-451a-b7f4-9ffab8c9aa7f"
   },
   "outputs": [
    {
     "name": "stdout",
     "output_type": "stream",
     "text": [
      "Наблюдаемое значение составило 310.9174381199846\n",
      "Значение p-value равно 1.9584181649143794e-41\n",
      "Отвергаем гипотезу, матрица парных коэффициентов корреляции значима\n"
     ]
    }
   ],
   "source": [
    "def chi_2(n,k,R):\n",
    "    return -(n-1/6*(2*k+5))*math.log(np.linalg.det(R), math.e)\n",
    "\n",
    "chi_2_crt=chi_2(data.shape[0],data.shape[1],correlations)\n",
    "print('Наблюдаемое значение составило',chi_2_crt)\n",
    "p_value=chi2.sf(chi_2_crt, data.shape[1]*(data.shape[1]-1)/2)\n",
    "print ('Значение p-value равно {}'.format(p_value))\n",
    "if p_value>0.05:\n",
    "    print('Принимаем гипотезу, матрица парных коэффициентов корреляции незначима')\n",
    "else:\n",
    "    print('Отвергаем гипотезу, матрица парных коэффициентов корреляции значима')"
   ]
  },
  {
   "cell_type": "markdown",
   "metadata": {
    "id": "IjCo3FYZJSdE"
   },
   "source": [
    "## Оценка общности признаков\n",
    "### Общность- доля дисперсии признака, объясняемая общими факторами\n",
    "### Для i-ого признака: квадрат оценки множественного коеффициента детерминации уравнения регрессии i-ого признака на все остальные "
   ]
  },
  {
   "cell_type": "code",
   "execution_count": 6,
   "metadata": {
    "id": "IQqJ_WZfJSdE",
    "outputId": "e0cfee41-8892-46b5-c4aa-61d35a391cda"
   },
   "outputs": [
    {
     "data": {
      "text/html": [
       "<div>\n",
       "<style scoped>\n",
       "    .dataframe tbody tr th:only-of-type {\n",
       "        vertical-align: middle;\n",
       "    }\n",
       "\n",
       "    .dataframe tbody tr th {\n",
       "        vertical-align: top;\n",
       "    }\n",
       "\n",
       "    .dataframe thead th {\n",
       "        text-align: right;\n",
       "    }\n",
       "</style>\n",
       "<table border=\"1\" class=\"dataframe\">\n",
       "  <thead>\n",
       "    <tr style=\"text-align: right;\">\n",
       "      <th></th>\n",
       "      <th>Communalities</th>\n",
       "    </tr>\n",
       "  </thead>\n",
       "  <tbody>\n",
       "    <tr>\n",
       "      <td>X1</td>\n",
       "      <td>0.661356</td>\n",
       "    </tr>\n",
       "    <tr>\n",
       "      <td>X2</td>\n",
       "      <td>0.771145</td>\n",
       "    </tr>\n",
       "    <tr>\n",
       "      <td>X3</td>\n",
       "      <td>0.607581</td>\n",
       "    </tr>\n",
       "    <tr>\n",
       "      <td>X4</td>\n",
       "      <td>0.657973</td>\n",
       "    </tr>\n",
       "    <tr>\n",
       "      <td>X5</td>\n",
       "      <td>0.217015</td>\n",
       "    </tr>\n",
       "    <tr>\n",
       "      <td>X6</td>\n",
       "      <td>0.197103</td>\n",
       "    </tr>\n",
       "    <tr>\n",
       "      <td>X7</td>\n",
       "      <td>0.233708</td>\n",
       "    </tr>\n",
       "    <tr>\n",
       "      <td>X8</td>\n",
       "      <td>0.450496</td>\n",
       "    </tr>\n",
       "    <tr>\n",
       "      <td>X9</td>\n",
       "      <td>0.646949</td>\n",
       "    </tr>\n",
       "    <tr>\n",
       "      <td>X10</td>\n",
       "      <td>0.224752</td>\n",
       "    </tr>\n",
       "  </tbody>\n",
       "</table>\n",
       "</div>"
      ],
      "text/plain": [
       "     Communalities\n",
       "X1        0.661356\n",
       "X2        0.771145\n",
       "X3        0.607581\n",
       "X4        0.657973\n",
       "X5        0.217015\n",
       "X6        0.197103\n",
       "X7        0.233708\n",
       "X8        0.450496\n",
       "X9        0.646949\n",
       "X10       0.224752"
      ]
     },
     "execution_count": 6,
     "metadata": {},
     "output_type": "execute_result"
    }
   ],
   "source": [
    "communalities=[]\n",
    "for variable in features:\n",
    "    communalities.append(ols(formula=\"{} ~ {}\"\n",
    "                             .format(variable, ' + '.join(set(features)-set([variable])))\n",
    "                             , data=data).fit().rsquared)\n",
    "\n",
    "pd.DataFrame(communalities,index = features,columns = ['Communalities'])"
   ]
  },
  {
   "cell_type": "markdown",
   "metadata": {
    "id": "rMHKTIB0JSdF"
   },
   "source": [
    "## Расчет редуцированной матрицы\n",
    "### Редуцированная матрица=корреляционная матрица с оценками общностей признака на диагонали"
   ]
  },
  {
   "cell_type": "code",
   "execution_count": 7,
   "metadata": {
    "id": "R1QD7BIoJSdF",
    "outputId": "07852a99-9bf4-4329-8542-4218ec262d22"
   },
   "outputs": [
    {
     "data": {
      "text/html": [
       "<div>\n",
       "<style scoped>\n",
       "    .dataframe tbody tr th:only-of-type {\n",
       "        vertical-align: middle;\n",
       "    }\n",
       "\n",
       "    .dataframe tbody tr th {\n",
       "        vertical-align: top;\n",
       "    }\n",
       "\n",
       "    .dataframe thead th {\n",
       "        text-align: right;\n",
       "    }\n",
       "</style>\n",
       "<table border=\"1\" class=\"dataframe\">\n",
       "  <thead>\n",
       "    <tr style=\"text-align: right;\">\n",
       "      <th></th>\n",
       "      <th>X1</th>\n",
       "      <th>X2</th>\n",
       "      <th>X3</th>\n",
       "      <th>X4</th>\n",
       "      <th>X5</th>\n",
       "      <th>X6</th>\n",
       "      <th>X7</th>\n",
       "      <th>X8</th>\n",
       "      <th>X9</th>\n",
       "      <th>X10</th>\n",
       "    </tr>\n",
       "  </thead>\n",
       "  <tbody>\n",
       "    <tr>\n",
       "      <td>X1</td>\n",
       "      <td>0.661356</td>\n",
       "      <td>-0.328434</td>\n",
       "      <td>0.717837</td>\n",
       "      <td>0.037041</td>\n",
       "      <td>-0.011260</td>\n",
       "      <td>0.088430</td>\n",
       "      <td>-0.042839</td>\n",
       "      <td>0.183548</td>\n",
       "      <td>-0.342709</td>\n",
       "      <td>-0.151315</td>\n",
       "    </tr>\n",
       "    <tr>\n",
       "      <td>X2</td>\n",
       "      <td>-0.328434</td>\n",
       "      <td>0.771145</td>\n",
       "      <td>-0.086028</td>\n",
       "      <td>0.697131</td>\n",
       "      <td>0.114888</td>\n",
       "      <td>-0.063335</td>\n",
       "      <td>0.212093</td>\n",
       "      <td>0.424869</td>\n",
       "      <td>0.691414</td>\n",
       "      <td>0.171459</td>\n",
       "    </tr>\n",
       "    <tr>\n",
       "      <td>X3</td>\n",
       "      <td>0.717837</td>\n",
       "      <td>-0.086028</td>\n",
       "      <td>0.607581</td>\n",
       "      <td>0.231706</td>\n",
       "      <td>0.137372</td>\n",
       "      <td>-0.111616</td>\n",
       "      <td>0.068966</td>\n",
       "      <td>0.168973</td>\n",
       "      <td>-0.133866</td>\n",
       "      <td>-0.096152</td>\n",
       "    </tr>\n",
       "    <tr>\n",
       "      <td>X4</td>\n",
       "      <td>0.037041</td>\n",
       "      <td>0.697131</td>\n",
       "      <td>0.231706</td>\n",
       "      <td>0.657973</td>\n",
       "      <td>0.163452</td>\n",
       "      <td>-0.152133</td>\n",
       "      <td>0.004120</td>\n",
       "      <td>0.544849</td>\n",
       "      <td>0.490472</td>\n",
       "      <td>0.177011</td>\n",
       "    </tr>\n",
       "    <tr>\n",
       "      <td>X5</td>\n",
       "      <td>-0.011260</td>\n",
       "      <td>0.114888</td>\n",
       "      <td>0.137372</td>\n",
       "      <td>0.163452</td>\n",
       "      <td>0.217015</td>\n",
       "      <td>-0.362135</td>\n",
       "      <td>-0.078402</td>\n",
       "      <td>0.163061</td>\n",
       "      <td>-0.096510</td>\n",
       "      <td>-0.034461</td>\n",
       "    </tr>\n",
       "    <tr>\n",
       "      <td>X6</td>\n",
       "      <td>0.088430</td>\n",
       "      <td>-0.063335</td>\n",
       "      <td>-0.111616</td>\n",
       "      <td>-0.152133</td>\n",
       "      <td>-0.362135</td>\n",
       "      <td>0.197103</td>\n",
       "      <td>0.072092</td>\n",
       "      <td>-0.039255</td>\n",
       "      <td>0.032160</td>\n",
       "      <td>-0.000521</td>\n",
       "    </tr>\n",
       "    <tr>\n",
       "      <td>X7</td>\n",
       "      <td>-0.042839</td>\n",
       "      <td>0.212093</td>\n",
       "      <td>0.068966</td>\n",
       "      <td>0.004120</td>\n",
       "      <td>-0.078402</td>\n",
       "      <td>0.072092</td>\n",
       "      <td>0.233708</td>\n",
       "      <td>0.033985</td>\n",
       "      <td>-0.001701</td>\n",
       "      <td>-0.269317</td>\n",
       "    </tr>\n",
       "    <tr>\n",
       "      <td>X8</td>\n",
       "      <td>0.183548</td>\n",
       "      <td>0.424869</td>\n",
       "      <td>0.168973</td>\n",
       "      <td>0.544849</td>\n",
       "      <td>0.163061</td>\n",
       "      <td>-0.039255</td>\n",
       "      <td>0.033985</td>\n",
       "      <td>0.450496</td>\n",
       "      <td>0.062749</td>\n",
       "      <td>0.005379</td>\n",
       "    </tr>\n",
       "    <tr>\n",
       "      <td>X9</td>\n",
       "      <td>-0.342709</td>\n",
       "      <td>0.691414</td>\n",
       "      <td>-0.133866</td>\n",
       "      <td>0.490472</td>\n",
       "      <td>-0.096510</td>\n",
       "      <td>0.032160</td>\n",
       "      <td>-0.001701</td>\n",
       "      <td>0.062749</td>\n",
       "      <td>0.646949</td>\n",
       "      <td>0.381331</td>\n",
       "    </tr>\n",
       "    <tr>\n",
       "      <td>X10</td>\n",
       "      <td>-0.151315</td>\n",
       "      <td>0.171459</td>\n",
       "      <td>-0.096152</td>\n",
       "      <td>0.177011</td>\n",
       "      <td>-0.034461</td>\n",
       "      <td>-0.000521</td>\n",
       "      <td>-0.269317</td>\n",
       "      <td>0.005379</td>\n",
       "      <td>0.381331</td>\n",
       "      <td>0.224752</td>\n",
       "    </tr>\n",
       "  </tbody>\n",
       "</table>\n",
       "</div>"
      ],
      "text/plain": [
       "           X1        X2        X3        X4        X5        X6        X7  \\\n",
       "X1   0.661356 -0.328434  0.717837  0.037041 -0.011260  0.088430 -0.042839   \n",
       "X2  -0.328434  0.771145 -0.086028  0.697131  0.114888 -0.063335  0.212093   \n",
       "X3   0.717837 -0.086028  0.607581  0.231706  0.137372 -0.111616  0.068966   \n",
       "X4   0.037041  0.697131  0.231706  0.657973  0.163452 -0.152133  0.004120   \n",
       "X5  -0.011260  0.114888  0.137372  0.163452  0.217015 -0.362135 -0.078402   \n",
       "X6   0.088430 -0.063335 -0.111616 -0.152133 -0.362135  0.197103  0.072092   \n",
       "X7  -0.042839  0.212093  0.068966  0.004120 -0.078402  0.072092  0.233708   \n",
       "X8   0.183548  0.424869  0.168973  0.544849  0.163061 -0.039255  0.033985   \n",
       "X9  -0.342709  0.691414 -0.133866  0.490472 -0.096510  0.032160 -0.001701   \n",
       "X10 -0.151315  0.171459 -0.096152  0.177011 -0.034461 -0.000521 -0.269317   \n",
       "\n",
       "           X8        X9       X10  \n",
       "X1   0.183548 -0.342709 -0.151315  \n",
       "X2   0.424869  0.691414  0.171459  \n",
       "X3   0.168973 -0.133866 -0.096152  \n",
       "X4   0.544849  0.490472  0.177011  \n",
       "X5   0.163061 -0.096510 -0.034461  \n",
       "X6  -0.039255  0.032160 -0.000521  \n",
       "X7   0.033985 -0.001701 -0.269317  \n",
       "X8   0.450496  0.062749  0.005379  \n",
       "X9   0.062749  0.646949  0.381331  \n",
       "X10  0.005379  0.381331  0.224752  "
      ]
     },
     "execution_count": 7,
     "metadata": {},
     "output_type": "execute_result"
    }
   ],
   "source": [
    "Rh_eval = np.empty((f_len,f_len)) \n",
    "for i in range(f_len):\n",
    "    for j in range(f_len):\n",
    "        if i==j:\n",
    "            Rh_eval[i][j] = communalities[i]\n",
    "        else:\n",
    "            Rh_eval[i][j] = correlations.values [i][j]\n",
    "pd.DataFrame(Rh_eval, index=features, columns=features)"
   ]
  },
  {
   "cell_type": "markdown",
   "metadata": {
    "id": "HOnsQrlrJSdG"
   },
   "source": [
    "## Расчет собственных чисел и соответствующих им собственных векторов редуцированной матрицы"
   ]
  },
  {
   "cell_type": "markdown",
   "metadata": {
    "id": "RdCSvTgjJSdG"
   },
   "source": [
    "### Собственные значения- дисперсия выделенных факторов"
   ]
  },
  {
   "cell_type": "code",
   "execution_count": 8,
   "metadata": {
    "id": "NeSvgfVHJSdG",
    "outputId": "a2f251d4-ee42-443b-c852-37a81280209d"
   },
   "outputs": [
    {
     "data": {
      "text/plain": [
       "[(2.3385912330991228,\n",
       "  array([ 0.22364219, -0.59026622,  0.06569533, -0.49317312, -0.07289105,\n",
       "          0.06716507, -0.0375377 , -0.27245307, -0.48219186, -0.18989829])),\n",
       " (1.6296164517572769,\n",
       "  array([-0.58499482, -0.01436342, -0.60433606, -0.30704351, -0.16804095,\n",
       "          0.09818918, -0.03180673, -0.34273706,  0.16668255,  0.11804518])),\n",
       " (0.641132121947644,\n",
       "  array([ 0.31239582,  0.02849157,  0.1359182 , -0.02339598, -0.61830459,\n",
       "          0.59189253,  0.145072  , -0.09611297,  0.32728895,  0.11196861])),\n",
       " (0.5769627723823909,\n",
       "  array([-0.13893233,  0.26780455, -0.11694706, -0.06531202, -0.05968486,\n",
       "          0.12944783,  0.67004686,  0.17926219, -0.24104232, -0.57577609])),\n",
       " (0.2837841352995056,\n",
       "  array([ 0.05352111, -0.09248608, -0.4535856 ,  0.11698955, -0.12332627,\n",
       "          0.32041426, -0.32940006,  0.64583819, -0.3473365 ,  0.0708991 ])),\n",
       " (-0.08279715965274272,\n",
       "  array([-0.16200933, -0.41496505, -0.06948511,  0.69169056, -0.37207103,\n",
       "         -0.19061608, -0.04194791, -0.19078591, -0.01563453, -0.32421951])),\n",
       " (-0.13081106813113924,\n",
       "  array([-0.35405663, -0.20152742,  0.27688013,  0.01363244, -0.24669995,\n",
       "         -0.15397943,  0.42513885,  0.22393775, -0.2756831 ,  0.6047473 ])),\n",
       " (-0.1785720989321968,\n",
       "  array([ 0.04743249, -0.37221487, -0.05562612, -0.32575593, -0.13112217,\n",
       "         -0.36294993,  0.0849046 ,  0.48654355,  0.56623418, -0.19108854])),\n",
       " (-0.19402981389497817,\n",
       "  array([ 0.38746713,  0.38582984, -0.2743454 , -0.10253975, -0.47345052,\n",
       "         -0.56894628, -0.02642855, -0.09948048, -0.21497995,  0.10275351])),\n",
       " (-0.2157979154807906,\n",
       "  array([ 0.42897978, -0.26472041, -0.48241199,  0.22079847,  0.35317244,\n",
       "          0.02474384,  0.47818014, -0.12904519,  0.10374343,  0.28811719]))]"
      ]
     },
     "execution_count": 8,
     "metadata": {},
     "output_type": "execute_result"
    }
   ],
   "source": [
    "uns_eigenvalues_Rh_eval, eigenveсtors_Rh_eval=np.linalg.eig(Rh_eval)\n",
    "couple_lst=[]\n",
    "\n",
    "for i in range(len(uns_eigenvalues_Rh_eval)):\n",
    "    couple_lst.append((uns_eigenvalues_Rh_eval[i], eigenveсtors_Rh_eval[:,i]))\n",
    "\n",
    "from operator import itemgetter\n",
    "\n",
    "couple_lst = sorted(couple_lst, key = itemgetter(0),reverse=True)\n",
    "eigenvalues_Rh_eval=sorted(uns_eigenvalues_Rh_eval,reverse=True)\n",
    "\n",
    "couple_lst"
   ]
  },
  {
   "cell_type": "markdown",
   "metadata": {
    "id": "kyFJDn5qJSdJ"
   },
   "source": [
    "## Сравнение суммарной общности с суммой собственных чисел редуцированной матрицы для поиска количества факторов, до которого можно снизить размерность признакового пространства. "
   ]
  },
  {
   "cell_type": "code",
   "execution_count": 9,
   "metadata": {
    "id": "aGuecVM4JSdK",
    "outputId": "15566972-7e24-47c1-edd0-e7d6eb5d0070"
   },
   "outputs": [
    {
     "name": "stdout",
     "output_type": "stream",
     "text": [
      "Суммарная общность:  4.668078658394092\n",
      "Сумма оценок первого собственного числа редуцированной матрицы: 2.3385912330991228\n",
      "До одного фактора снизить нельзя\n"
     ]
    }
   ],
   "source": [
    "#np.trace- сумма диагональных элементов матрицы\n",
    "print('Суммарная общность: ', np.trace(Rh_eval))\n",
    "print('Сумма оценок первого собственного числа редуцированной матрицы:', eigenvalues_Rh_eval[0])\n",
    "if np.trace(Rh_eval) < eigenvalues_Rh_eval[0]:\n",
    "    print('Размерность признакового пространства можно снизить до одного общего фактора.')\n",
    "else:\n",
    "    print('До одного фактора снизить нельзя')"
   ]
  },
  {
   "cell_type": "code",
   "execution_count": 10,
   "metadata": {
    "id": "OO36062EJSdK",
    "outputId": "24cde8bd-08be-45e5-c82b-9b68ce4be535"
   },
   "outputs": [
    {
     "name": "stdout",
     "output_type": "stream",
     "text": [
      "Суммарная общность:  4.668078658394092\n",
      "Сумма оценок первых двух собственных чисел редуцированной матрицы: 3.9682076848563996\n",
      "До двух факторов снизить нельзя\n"
     ]
    }
   ],
   "source": [
    "print('Суммарная общность: ', np.trace(Rh_eval))\n",
    "print('Сумма оценок первых двух собственных чисел редуцированной матрицы:', eigenvalues_Rh_eval[0]+eigenvalues_Rh_eval[1])\n",
    "if np.trace(Rh_eval) < eigenvalues_Rh_eval[0]+eigenvalues_Rh_eval[1]:\n",
    "    print('Размерность признакового пространства можно снизить до двух общих факторов.')\n",
    "else:\n",
    "    print('До двух факторов снизить нельзя')"
   ]
  },
  {
   "cell_type": "code",
   "execution_count": 11,
   "metadata": {
    "id": "Du1nI0mgJSdL",
    "outputId": "2149dc2e-e3a8-49bd-ec77-8bf4d921ee0b"
   },
   "outputs": [
    {
     "name": "stdout",
     "output_type": "stream",
     "text": [
      "Суммарная общность:  4.668078658394092\n",
      "Сумма оценок первых трех собственных чисел редуцированной матрицы: 4.609339806804043\n",
      "До трех факторов снизить нельзя\n"
     ]
    }
   ],
   "source": [
    "print('Суммарная общность: ', np.trace(Rh_eval))\n",
    "print('Сумма оценок первых трех собственных чисел редуцированной матрицы:', eigenvalues_Rh_eval[0]+eigenvalues_Rh_eval[1]+eigenvalues_Rh_eval[2])\n",
    "if np.trace(Rh_eval) < eigenvalues_Rh_eval[0]+eigenvalues_Rh_eval[1]+eigenvalues_Rh_eval[2]:\n",
    "    print('Размерность признакового пространства можно снизить до трех общих факторов.')\n",
    "else:\n",
    "    print('До трех факторов снизить нельзя')"
   ]
  },
  {
   "cell_type": "markdown",
   "metadata": {
    "id": "D4hxVfJLJSdL"
   },
   "source": [
    "## Критерий каменистой осыпи"
   ]
  },
  {
   "cell_type": "code",
   "execution_count": 12,
   "metadata": {
    "id": "3yOv1ZYmJSdL",
    "outputId": "b807ed05-aa03-4572-d95b-02689c153f37"
   },
   "outputs": [
    {
     "data": {
      "image/png": "[encoded data removed]",
      "text/plain": [
       "<Figure size 432x288 with 1 Axes>"
      ]
     },
     "metadata": {
      "needs_background": "light"
     },
     "output_type": "display_data"
    }
   ],
   "source": [
    "dft = pd.DataFrame([])\n",
    "eigenvalues_pos=[]\n",
    "for i in range (len(eigenvalues_Rh_eval)):\n",
    "    if eigenvalues_Rh_eval[i] >= -5:\n",
    "        eigenvalues_pos.append(eigenvalues_Rh_eval[i])\n",
    "dft['y'] = eigenvalues_pos\n",
    "dft['x'] = list (range(len(eigenvalues_pos)))\n",
    "dft['Tot_var'] = (dft['y']/f_len).apply(lambda x: round(x *100, 2)).apply(str) +'%'\n",
    "\n",
    "plt.figure(figsize=(6,4))\n",
    "plt.plot(dft['x'], dft['y'], marker='o')\n",
    "ax = plt.gca()\n",
    "dft.apply(lambda x: ax.annotate(x['Tot_var'], (x['x'], x['y'])), axis=1)\n",
    "plt.title('Positive eigenvalues of Rh_eval matrix')\n",
    "plt.grid(axis='y')\n",
    "plt.show()"
   ]
  },
  {
   "cell_type": "markdown",
   "metadata": {
    "id": "SEG6dGorJSdM"
   },
   "source": [
    "## Критерий Кайзера"
   ]
  },
  {
   "cell_type": "code",
   "execution_count": 13,
   "metadata": {
    "id": "o8uHiFbaJSdM",
    "outputId": "dc019e69-d480-43d0-b931-f8ecc9d0e8e7"
   },
   "outputs": [
    {
     "name": "stdout",
     "output_type": "stream",
     "text": [
      "Критерий Кайзера предлагает 2 фактор(-а/ов).\n"
     ]
    }
   ],
   "source": [
    "print('Критерий Кайзера предлагает {} фактор(-а/ов).'.format(len(uns_eigenvalues_Rh_eval[uns_eigenvalues_Rh_eval >1])))"
   ]
  },
  {
   "cell_type": "markdown",
   "metadata": {
    "id": "dH21tYfeJSdN"
   },
   "source": [
    "## Берем три фактора"
   ]
  },
  {
   "cell_type": "code",
   "execution_count": 14,
   "metadata": {
    "id": "on3Le6eXJSdN",
    "outputId": "3b04c6cc-272e-4371-8778-0c7f98b91c75"
   },
   "outputs": [
    {
     "data": {
      "text/html": [
       "<div>\n",
       "<style scoped>\n",
       "    .dataframe tbody tr th:only-of-type {\n",
       "        vertical-align: middle;\n",
       "    }\n",
       "\n",
       "    .dataframe tbody tr th {\n",
       "        vertical-align: top;\n",
       "    }\n",
       "\n",
       "    .dataframe thead th {\n",
       "        text-align: right;\n",
       "    }\n",
       "</style>\n",
       "<table border=\"1\" class=\"dataframe\">\n",
       "  <thead>\n",
       "    <tr style=\"text-align: right;\">\n",
       "      <th></th>\n",
       "      <th>X1</th>\n",
       "      <th>X2</th>\n",
       "      <th>X3</th>\n",
       "      <th>X4</th>\n",
       "      <th>X5</th>\n",
       "      <th>X6</th>\n",
       "      <th>X7</th>\n",
       "      <th>X8</th>\n",
       "      <th>X9</th>\n",
       "      <th>X10</th>\n",
       "    </tr>\n",
       "  </thead>\n",
       "  <tbody>\n",
       "    <tr>\n",
       "      <td>Factor_1</td>\n",
       "      <td>0.223642</td>\n",
       "      <td>-0.590266</td>\n",
       "      <td>0.065695</td>\n",
       "      <td>-0.493173</td>\n",
       "      <td>-0.072891</td>\n",
       "      <td>0.067165</td>\n",
       "      <td>-0.037538</td>\n",
       "      <td>-0.272453</td>\n",
       "      <td>-0.482192</td>\n",
       "      <td>-0.189898</td>\n",
       "    </tr>\n",
       "    <tr>\n",
       "      <td>Factor_2</td>\n",
       "      <td>-0.584995</td>\n",
       "      <td>-0.014363</td>\n",
       "      <td>-0.604336</td>\n",
       "      <td>-0.307044</td>\n",
       "      <td>-0.168041</td>\n",
       "      <td>0.098189</td>\n",
       "      <td>-0.031807</td>\n",
       "      <td>-0.342737</td>\n",
       "      <td>0.166683</td>\n",
       "      <td>0.118045</td>\n",
       "    </tr>\n",
       "  </tbody>\n",
       "</table>\n",
       "</div>"
      ],
      "text/plain": [
       "                X1        X2        X3        X4        X5        X6  \\\n",
       "Factor_1  0.223642 -0.590266  0.065695 -0.493173 -0.072891  0.067165   \n",
       "Factor_2 -0.584995 -0.014363 -0.604336 -0.307044 -0.168041  0.098189   \n",
       "\n",
       "                X7        X8        X9       X10  \n",
       "Factor_1 -0.037538 -0.272453 -0.482192 -0.189898  \n",
       "Factor_2 -0.031807 -0.342737  0.166683  0.118045  "
      ]
     },
     "execution_count": 14,
     "metadata": {},
     "output_type": "execute_result"
    }
   ],
   "source": [
    "fact = 2\n",
    "\n",
    "U = np.empty ((fact,f_len)) \n",
    "for i in range(fact):\n",
    "    U[i]=couple_lst[i][1]\n",
    "\n",
    "df_U=pd.DataFrame(data=U, index=['Factor_'+str(i +1) for i in range(fact)], columns=features)\n",
    "\n",
    "df_U"
   ]
  },
  {
   "cell_type": "code",
   "execution_count": 15,
   "metadata": {
    "id": "PeI5EGfzJSdN",
    "outputId": "9b1008c8-ef45-42be-a7d2-6f8185a4a45e"
   },
   "outputs": [
    {
     "data": {
      "text/html": [
       "<div>\n",
       "<style scoped>\n",
       "    .dataframe tbody tr th:only-of-type {\n",
       "        vertical-align: middle;\n",
       "    }\n",
       "\n",
       "    .dataframe tbody tr th {\n",
       "        vertical-align: top;\n",
       "    }\n",
       "\n",
       "    .dataframe thead th {\n",
       "        text-align: right;\n",
       "    }\n",
       "</style>\n",
       "<table border=\"1\" class=\"dataframe\">\n",
       "  <thead>\n",
       "    <tr style=\"text-align: right;\">\n",
       "      <th></th>\n",
       "      <th>Factor_1</th>\n",
       "      <th>Factor_2</th>\n",
       "    </tr>\n",
       "  </thead>\n",
       "  <tbody>\n",
       "    <tr>\n",
       "      <td>X1</td>\n",
       "      <td>0.342004</td>\n",
       "      <td>-0.746784</td>\n",
       "    </tr>\n",
       "    <tr>\n",
       "      <td>X2</td>\n",
       "      <td>-0.902662</td>\n",
       "      <td>-0.018336</td>\n",
       "    </tr>\n",
       "    <tr>\n",
       "      <td>X3</td>\n",
       "      <td>0.100464</td>\n",
       "      <td>-0.771474</td>\n",
       "    </tr>\n",
       "    <tr>\n",
       "      <td>X4</td>\n",
       "      <td>-0.754183</td>\n",
       "      <td>-0.391961</td>\n",
       "    </tr>\n",
       "    <tr>\n",
       "      <td>X5</td>\n",
       "      <td>-0.111468</td>\n",
       "      <td>-0.214515</td>\n",
       "    </tr>\n",
       "    <tr>\n",
       "      <td>X6</td>\n",
       "      <td>0.102712</td>\n",
       "      <td>0.125345</td>\n",
       "    </tr>\n",
       "    <tr>\n",
       "      <td>X7</td>\n",
       "      <td>-0.057404</td>\n",
       "      <td>-0.040603</td>\n",
       "    </tr>\n",
       "    <tr>\n",
       "      <td>X8</td>\n",
       "      <td>-0.416648</td>\n",
       "      <td>-0.437526</td>\n",
       "    </tr>\n",
       "    <tr>\n",
       "      <td>X9</td>\n",
       "      <td>-0.737390</td>\n",
       "      <td>0.212781</td>\n",
       "    </tr>\n",
       "    <tr>\n",
       "      <td>X10</td>\n",
       "      <td>-0.290401</td>\n",
       "      <td>0.150692</td>\n",
       "    </tr>\n",
       "  </tbody>\n",
       "</table>\n",
       "</div>"
      ],
      "text/plain": [
       "     Factor_1  Factor_2\n",
       "X1   0.342004 -0.746784\n",
       "X2  -0.902662 -0.018336\n",
       "X3   0.100464 -0.771474\n",
       "X4  -0.754183 -0.391961\n",
       "X5  -0.111468 -0.214515\n",
       "X6   0.102712  0.125345\n",
       "X7  -0.057404 -0.040603\n",
       "X8  -0.416648 -0.437526\n",
       "X9  -0.737390  0.212781\n",
       "X10 -0.290401  0.150692"
      ]
     },
     "execution_count": 15,
     "metadata": {},
     "output_type": "execute_result"
    }
   ],
   "source": [
    "sqrt_l=np.eye(fact)\n",
    "for i in range(fact):\n",
    "    sqrt_l[i][i]=math.sqrt(eigenvalues_Rh_eval[i])  \n",
    "A=np.dot(U.T,sqrt_l) #матрица весовых коэфф\n",
    "df_A = pd.DataFrame(data=A, columns=['Factor_'+str(i + 1) for i in range(fact)], index=features) #Датафрейм для А\n",
    "\n",
    "df_A"
   ]
  },
  {
   "cell_type": "code",
   "execution_count": 16,
   "metadata": {
    "id": "0ZTWhe2pJSdO"
   },
   "outputs": [],
   "source": [
    "#Важно отметить, что матрица, рассчитанная таким способом может не совпасть с аналогичной, полученной с помощью других программных пакетов. Это связано с тем, что собственные вектора матрицы R_h берутся с точностью до знака. Для того, чтобы скорректировать полученные результаты, можно воспользоваться следующим кодом\n",
    "df_A['Factor_1'] *= -1# если не совпал первый столбец\n",
    "df_A['Factor_2'] *= -1# если не совпал второй столбец\n",
    "#df_A['Factor_3'] *= -1# если не совпал третий столбец"
   ]
  },
  {
   "cell_type": "code",
   "execution_count": 30,
   "metadata": {
    "id": "IC1g6mCfJSdO",
    "outputId": "5beb9a69-d0f6-45e5-ddff-2e3226291c4b"
   },
   "outputs": [
    {
     "data": {
      "text/html": [
       "<div>\n",
       "<style scoped>\n",
       "    .dataframe tbody tr th:only-of-type {\n",
       "        vertical-align: middle;\n",
       "    }\n",
       "\n",
       "    .dataframe tbody tr th {\n",
       "        vertical-align: top;\n",
       "    }\n",
       "\n",
       "    .dataframe thead th {\n",
       "        text-align: right;\n",
       "    }\n",
       "</style>\n",
       "<table border=\"1\" class=\"dataframe\">\n",
       "  <thead>\n",
       "    <tr style=\"text-align: right;\">\n",
       "      <th></th>\n",
       "      <th>Factor_1</th>\n",
       "      <th>Factor_2</th>\n",
       "    </tr>\n",
       "  </thead>\n",
       "  <tbody>\n",
       "    <tr>\n",
       "      <td>X1</td>\n",
       "      <td>0.342004</td>\n",
       "      <td>-0.746784</td>\n",
       "    </tr>\n",
       "    <tr>\n",
       "      <td>X2</td>\n",
       "      <td>-0.902662</td>\n",
       "      <td>-0.018336</td>\n",
       "    </tr>\n",
       "    <tr>\n",
       "      <td>X3</td>\n",
       "      <td>0.100464</td>\n",
       "      <td>-0.771474</td>\n",
       "    </tr>\n",
       "    <tr>\n",
       "      <td>X4</td>\n",
       "      <td>-0.754183</td>\n",
       "      <td>-0.391961</td>\n",
       "    </tr>\n",
       "    <tr>\n",
       "      <td>X5</td>\n",
       "      <td>-0.111468</td>\n",
       "      <td>-0.214515</td>\n",
       "    </tr>\n",
       "    <tr>\n",
       "      <td>X6</td>\n",
       "      <td>0.102712</td>\n",
       "      <td>0.125345</td>\n",
       "    </tr>\n",
       "    <tr>\n",
       "      <td>X7</td>\n",
       "      <td>-0.057404</td>\n",
       "      <td>-0.040603</td>\n",
       "    </tr>\n",
       "    <tr>\n",
       "      <td>X8</td>\n",
       "      <td>-0.416648</td>\n",
       "      <td>-0.437526</td>\n",
       "    </tr>\n",
       "    <tr>\n",
       "      <td>X9</td>\n",
       "      <td>-0.737390</td>\n",
       "      <td>0.212781</td>\n",
       "    </tr>\n",
       "    <tr>\n",
       "      <td>X10</td>\n",
       "      <td>-0.290401</td>\n",
       "      <td>0.150692</td>\n",
       "    </tr>\n",
       "  </tbody>\n",
       "</table>\n",
       "</div>"
      ],
      "text/plain": [
       "     Factor_1  Factor_2\n",
       "X1   0.342004 -0.746784\n",
       "X2  -0.902662 -0.018336\n",
       "X3   0.100464 -0.771474\n",
       "X4  -0.754183 -0.391961\n",
       "X5  -0.111468 -0.214515\n",
       "X6   0.102712  0.125345\n",
       "X7  -0.057404 -0.040603\n",
       "X8  -0.416648 -0.437526\n",
       "X9  -0.737390  0.212781\n",
       "X10 -0.290401  0.150692"
      ]
     },
     "execution_count": 30,
     "metadata": {},
     "output_type": "execute_result"
    }
   ],
   "source": [
    "df_A"
   ]
  },
  {
   "cell_type": "code",
   "execution_count": 31,
   "metadata": {
    "id": "m4oSKG2-JSdO",
    "outputId": "8fbcf3e3-e893-4fe7-dcf1-f3cc79aafa4b"
   },
   "outputs": [
    {
     "data": {
      "image/png": "[encoded data removed]",
      "text/plain": [
       "<Figure size 432x288 with 1 Axes>"
      ]
     },
     "metadata": {
      "needs_background": "light"
     },
     "output_type": "display_data"
    }
   ],
   "source": [
    "plt.scatter(df_A['Factor_1'], df_A['Factor_2'])\n",
    "plt.scatter (0, 0, c = 'r')\n",
    "plt.grid()\n",
    "plt.title ('factor loadings A')\n",
    "for variable in features :\n",
    "    plt.annotate('{}'.format(variable), xy = (df_A['Factor_1'][variable],df_A['Factor_2'][variable]))"
   ]
  },
  {
   "cell_type": "code",
   "execution_count": 18,
   "metadata": {
    "id": "LjRaaP0EJSdP",
    "outputId": "940760a3-e771-4667-e4b2-0b2db4ee4733"
   },
   "outputs": [
    {
     "data": {
      "image/png": "[encoded data removed]",
      "text/plain": [
       "<Figure size 576x576 with 1 Axes>"
      ]
     },
     "metadata": {
      "needs_background": "light"
     },
     "output_type": "display_data"
    }
   ],
   "source": [
    "from mpl_toolkits.mplot3d import Axes3D\n",
    "\n",
    "fig = plt.figure(figsize=(8, 8))\n",
    "ax = fig.add_subplot(projection='3d')\n",
    "ax.scatter(df_A['Factor_1'], df_A['Factor_2'])\n",
    "#ax.scatter(df_A['Factor_1'], df_A['Factor_2'], df_A['Factor_3'])\n",
    "\n",
    "ax.set_xlabel('Factor_1')\n",
    "ax.set_ylabel('Factor_2')\n",
    "#ax.set_zlabel('Factor_3')\n",
    "\n",
    "plt.show()"
   ]
  },
  {
   "cell_type": "markdown",
   "metadata": {
    "id": "fnXl1pEjJSdP"
   },
   "source": [
    "## Функции квартимакс и варимакс для расчета критериев q и v при вращении факторных осей"
   ]
  },
  {
   "cell_type": "code",
   "execution_count": 32,
   "metadata": {
    "id": "Wgjwyr9BJSdP"
   },
   "outputs": [],
   "source": [
    "def quartimax (X): \n",
    "    value = 0\n",
    "    m = X.shape[1]\n",
    "    for row in X:\n",
    "        value += (sum (row**4) - (sum(row**2))**2)/m**2\n",
    "    return value\n",
    "\n",
    "def varimax (X) :\n",
    "    value = 0\n",
    "    k = X.shape[0]\n",
    "    for row in X.T:\n",
    "        value += (k*sum(row**4) -sum(row**2)**2)/k**2\n",
    "    return value\n",
    "\n",
    "def criteria (method,X):\n",
    "    if method == 'varimax':\n",
    "        return varimax(X)\n",
    "    elif method == 'quartimax':\n",
    "        return quartimax (X)\n",
    "    else:\n",
    "        print ('wrong input')"
   ]
  },
  {
   "cell_type": "code",
   "execution_count": 140,
   "metadata": {},
   "outputs": [
    {
     "ename": "KeyError",
     "evalue": "\"['Factor_3'] not found in axis\"",
     "output_type": "error",
     "traceback": [
      "\u001b[0;31m---------------------------------------------------------------------------\u001b[0m",
      "\u001b[0;31mKeyError\u001b[0m                                  Traceback (most recent call last)",
      "\u001b[0;32m<ipython-input-140-fb9a5e8f8836>\u001b[0m in \u001b[0;36m<module>\u001b[0;34m\u001b[0m\n\u001b[1;32m      1\u001b[0m \u001b[0mdf_A1\u001b[0m \u001b[0;34m=\u001b[0m \u001b[0mdf_A\u001b[0m\u001b[0;34m.\u001b[0m\u001b[0mcopy\u001b[0m\u001b[0;34m(\u001b[0m\u001b[0;34m)\u001b[0m\u001b[0;34m\u001b[0m\u001b[0;34m\u001b[0m\u001b[0m\n\u001b[0;32m----> 2\u001b[0;31m \u001b[0mdf_A1\u001b[0m \u001b[0;34m=\u001b[0m \u001b[0mdf_A1\u001b[0m\u001b[0;34m.\u001b[0m\u001b[0mdrop\u001b[0m\u001b[0;34m(\u001b[0m\u001b[0;34m'Factor_3'\u001b[0m\u001b[0;34m,\u001b[0m \u001b[0;36m1\u001b[0m\u001b[0;34m)\u001b[0m\u001b[0;34m\u001b[0m\u001b[0;34m\u001b[0m\u001b[0m\n\u001b[0m",
      "\u001b[0;32m~/opt/anaconda3/lib/python3.7/site-packages/pandas/core/frame.py\u001b[0m in \u001b[0;36mdrop\u001b[0;34m(self, labels, axis, index, columns, level, inplace, errors)\u001b[0m\n\u001b[1;32m   4100\u001b[0m             \u001b[0mlevel\u001b[0m\u001b[0;34m=\u001b[0m\u001b[0mlevel\u001b[0m\u001b[0;34m,\u001b[0m\u001b[0;34m\u001b[0m\u001b[0;34m\u001b[0m\u001b[0m\n\u001b[1;32m   4101\u001b[0m             \u001b[0minplace\u001b[0m\u001b[0;34m=\u001b[0m\u001b[0minplace\u001b[0m\u001b[0;34m,\u001b[0m\u001b[0;34m\u001b[0m\u001b[0;34m\u001b[0m\u001b[0m\n\u001b[0;32m-> 4102\u001b[0;31m             \u001b[0merrors\u001b[0m\u001b[0;34m=\u001b[0m\u001b[0merrors\u001b[0m\u001b[0;34m,\u001b[0m\u001b[0;34m\u001b[0m\u001b[0;34m\u001b[0m\u001b[0m\n\u001b[0m\u001b[1;32m   4103\u001b[0m         )\n\u001b[1;32m   4104\u001b[0m \u001b[0;34m\u001b[0m\u001b[0m\n",
      "\u001b[0;32m~/opt/anaconda3/lib/python3.7/site-packages/pandas/core/generic.py\u001b[0m in \u001b[0;36mdrop\u001b[0;34m(self, labels, axis, index, columns, level, inplace, errors)\u001b[0m\n\u001b[1;32m   3912\u001b[0m         \u001b[0;32mfor\u001b[0m \u001b[0maxis\u001b[0m\u001b[0;34m,\u001b[0m \u001b[0mlabels\u001b[0m \u001b[0;32min\u001b[0m \u001b[0maxes\u001b[0m\u001b[0;34m.\u001b[0m\u001b[0mitems\u001b[0m\u001b[0;34m(\u001b[0m\u001b[0;34m)\u001b[0m\u001b[0;34m:\u001b[0m\u001b[0;34m\u001b[0m\u001b[0;34m\u001b[0m\u001b[0m\n\u001b[1;32m   3913\u001b[0m             \u001b[0;32mif\u001b[0m \u001b[0mlabels\u001b[0m \u001b[0;32mis\u001b[0m \u001b[0;32mnot\u001b[0m \u001b[0;32mNone\u001b[0m\u001b[0;34m:\u001b[0m\u001b[0;34m\u001b[0m\u001b[0;34m\u001b[0m\u001b[0m\n\u001b[0;32m-> 3914\u001b[0;31m                 \u001b[0mobj\u001b[0m \u001b[0;34m=\u001b[0m \u001b[0mobj\u001b[0m\u001b[0;34m.\u001b[0m\u001b[0m_drop_axis\u001b[0m\u001b[0;34m(\u001b[0m\u001b[0mlabels\u001b[0m\u001b[0;34m,\u001b[0m \u001b[0maxis\u001b[0m\u001b[0;34m,\u001b[0m \u001b[0mlevel\u001b[0m\u001b[0;34m=\u001b[0m\u001b[0mlevel\u001b[0m\u001b[0;34m,\u001b[0m \u001b[0merrors\u001b[0m\u001b[0;34m=\u001b[0m\u001b[0merrors\u001b[0m\u001b[0;34m)\u001b[0m\u001b[0;34m\u001b[0m\u001b[0;34m\u001b[0m\u001b[0m\n\u001b[0m\u001b[1;32m   3915\u001b[0m \u001b[0;34m\u001b[0m\u001b[0m\n\u001b[1;32m   3916\u001b[0m         \u001b[0;32mif\u001b[0m \u001b[0minplace\u001b[0m\u001b[0;34m:\u001b[0m\u001b[0;34m\u001b[0m\u001b[0;34m\u001b[0m\u001b[0m\n",
      "\u001b[0;32m~/opt/anaconda3/lib/python3.7/site-packages/pandas/core/generic.py\u001b[0m in \u001b[0;36m_drop_axis\u001b[0;34m(self, labels, axis, level, errors)\u001b[0m\n\u001b[1;32m   3944\u001b[0m                 \u001b[0mnew_axis\u001b[0m \u001b[0;34m=\u001b[0m \u001b[0maxis\u001b[0m\u001b[0;34m.\u001b[0m\u001b[0mdrop\u001b[0m\u001b[0;34m(\u001b[0m\u001b[0mlabels\u001b[0m\u001b[0;34m,\u001b[0m \u001b[0mlevel\u001b[0m\u001b[0;34m=\u001b[0m\u001b[0mlevel\u001b[0m\u001b[0;34m,\u001b[0m \u001b[0merrors\u001b[0m\u001b[0;34m=\u001b[0m\u001b[0merrors\u001b[0m\u001b[0;34m)\u001b[0m\u001b[0;34m\u001b[0m\u001b[0;34m\u001b[0m\u001b[0m\n\u001b[1;32m   3945\u001b[0m             \u001b[0;32melse\u001b[0m\u001b[0;34m:\u001b[0m\u001b[0;34m\u001b[0m\u001b[0;34m\u001b[0m\u001b[0m\n\u001b[0;32m-> 3946\u001b[0;31m                 \u001b[0mnew_axis\u001b[0m \u001b[0;34m=\u001b[0m \u001b[0maxis\u001b[0m\u001b[0;34m.\u001b[0m\u001b[0mdrop\u001b[0m\u001b[0;34m(\u001b[0m\u001b[0mlabels\u001b[0m\u001b[0;34m,\u001b[0m \u001b[0merrors\u001b[0m\u001b[0;34m=\u001b[0m\u001b[0merrors\u001b[0m\u001b[0;34m)\u001b[0m\u001b[0;34m\u001b[0m\u001b[0;34m\u001b[0m\u001b[0m\n\u001b[0m\u001b[1;32m   3947\u001b[0m             \u001b[0mresult\u001b[0m \u001b[0;34m=\u001b[0m \u001b[0mself\u001b[0m\u001b[0;34m.\u001b[0m\u001b[0mreindex\u001b[0m\u001b[0;34m(\u001b[0m\u001b[0;34m**\u001b[0m\u001b[0;34m{\u001b[0m\u001b[0maxis_name\u001b[0m\u001b[0;34m:\u001b[0m \u001b[0mnew_axis\u001b[0m\u001b[0;34m}\u001b[0m\u001b[0;34m)\u001b[0m\u001b[0;34m\u001b[0m\u001b[0;34m\u001b[0m\u001b[0m\n\u001b[1;32m   3948\u001b[0m \u001b[0;34m\u001b[0m\u001b[0m\n",
      "\u001b[0;32m~/opt/anaconda3/lib/python3.7/site-packages/pandas/core/indexes/base.py\u001b[0m in \u001b[0;36mdrop\u001b[0;34m(self, labels, errors)\u001b[0m\n\u001b[1;32m   5338\u001b[0m         \u001b[0;32mif\u001b[0m \u001b[0mmask\u001b[0m\u001b[0;34m.\u001b[0m\u001b[0many\u001b[0m\u001b[0;34m(\u001b[0m\u001b[0;34m)\u001b[0m\u001b[0;34m:\u001b[0m\u001b[0;34m\u001b[0m\u001b[0;34m\u001b[0m\u001b[0m\n\u001b[1;32m   5339\u001b[0m             \u001b[0;32mif\u001b[0m \u001b[0merrors\u001b[0m \u001b[0;34m!=\u001b[0m \u001b[0;34m\"ignore\"\u001b[0m\u001b[0;34m:\u001b[0m\u001b[0;34m\u001b[0m\u001b[0;34m\u001b[0m\u001b[0m\n\u001b[0;32m-> 5340\u001b[0;31m                 \u001b[0;32mraise\u001b[0m \u001b[0mKeyError\u001b[0m\u001b[0;34m(\u001b[0m\u001b[0;34m\"{} not found in axis\"\u001b[0m\u001b[0;34m.\u001b[0m\u001b[0mformat\u001b[0m\u001b[0;34m(\u001b[0m\u001b[0mlabels\u001b[0m\u001b[0;34m[\u001b[0m\u001b[0mmask\u001b[0m\u001b[0;34m]\u001b[0m\u001b[0;34m)\u001b[0m\u001b[0;34m)\u001b[0m\u001b[0;34m\u001b[0m\u001b[0;34m\u001b[0m\u001b[0m\n\u001b[0m\u001b[1;32m   5341\u001b[0m             \u001b[0mindexer\u001b[0m \u001b[0;34m=\u001b[0m \u001b[0mindexer\u001b[0m\u001b[0;34m[\u001b[0m\u001b[0;34m~\u001b[0m\u001b[0mmask\u001b[0m\u001b[0;34m]\u001b[0m\u001b[0;34m\u001b[0m\u001b[0;34m\u001b[0m\u001b[0m\n\u001b[1;32m   5342\u001b[0m         \u001b[0;32mreturn\u001b[0m \u001b[0mself\u001b[0m\u001b[0;34m.\u001b[0m\u001b[0mdelete\u001b[0m\u001b[0;34m(\u001b[0m\u001b[0mindexer\u001b[0m\u001b[0;34m)\u001b[0m\u001b[0;34m\u001b[0m\u001b[0;34m\u001b[0m\u001b[0m\n",
      "\u001b[0;31mKeyError\u001b[0m: \"['Factor_3'] not found in axis\""
     ]
    }
   ],
   "source": [
    "df_A1 = df_A.copy()\n",
    "df_A1 = df_A1.drop('Factor_3', 1)"
   ]
  },
  {
   "cell_type": "markdown",
   "metadata": {
    "id": "KJH1lnswJSdQ"
   },
   "source": [
    "## Вращение в случае двух факторов"
   ]
  },
  {
   "cell_type": "code",
   "execution_count": 33,
   "metadata": {
    "id": "e-Greqf4JSdQ",
    "outputId": "88b2efe1-9ccb-4eb8-bd22-7f6ac9c94cf9"
   },
   "outputs": [],
   "source": [
    "rad_column = []\n",
    "grad_column=[]\n",
    "\n",
    "criteria_column = []\n",
    "dict_for_B = {}\n",
    "\n",
    "for alpha in arange(0, pi/2, 0.0001):\n",
    "\n",
    "    rad_column.append(alpha)\n",
    "    grad_column.append(alpha*180/pi)\n",
    "\n",
    "    grad = alpha\n",
    "    T = [[cos(grad),sin(grad)],\n",
    "         [-sin(grad),cos(grad)]]\n",
    "    B = np.dot (A,T)\n",
    "    dict_for_B[criteria('quartimax',B)] = B\n",
    "    criteria_column.append (criteria('quartimax',B))\n",
    "\n",
    "df_rotation = pd.DataFrame([]) \n",
    "df_rotation['rad'] = rad_column\n",
    "df_rotation['grad'] = grad_column\n",
    "df_rotation ['criteria'] = criteria_column"
   ]
  },
  {
   "cell_type": "code",
   "execution_count": 34,
   "metadata": {},
   "outputs": [
    {
     "data": {
      "text/html": [
       "<div>\n",
       "<style scoped>\n",
       "    .dataframe tbody tr th:only-of-type {\n",
       "        vertical-align: middle;\n",
       "    }\n",
       "\n",
       "    .dataframe tbody tr th {\n",
       "        vertical-align: top;\n",
       "    }\n",
       "\n",
       "    .dataframe thead th {\n",
       "        text-align: right;\n",
       "    }\n",
       "</style>\n",
       "<table border=\"1\" class=\"dataframe\">\n",
       "  <thead>\n",
       "    <tr style=\"text-align: right;\">\n",
       "      <th></th>\n",
       "      <th>rad</th>\n",
       "      <th>grad</th>\n",
       "      <th>criteria</th>\n",
       "    </tr>\n",
       "  </thead>\n",
       "  <tbody>\n",
       "    <tr>\n",
       "      <td>0</td>\n",
       "      <td>0.0000</td>\n",
       "      <td>0.000000</td>\n",
       "      <td>-0.109702</td>\n",
       "    </tr>\n",
       "    <tr>\n",
       "      <td>1</td>\n",
       "      <td>0.0001</td>\n",
       "      <td>0.005730</td>\n",
       "      <td>-0.109723</td>\n",
       "    </tr>\n",
       "    <tr>\n",
       "      <td>2</td>\n",
       "      <td>0.0002</td>\n",
       "      <td>0.011459</td>\n",
       "      <td>-0.109744</td>\n",
       "    </tr>\n",
       "    <tr>\n",
       "      <td>3</td>\n",
       "      <td>0.0003</td>\n",
       "      <td>0.017189</td>\n",
       "      <td>-0.109765</td>\n",
       "    </tr>\n",
       "    <tr>\n",
       "      <td>4</td>\n",
       "      <td>0.0004</td>\n",
       "      <td>0.022918</td>\n",
       "      <td>-0.109786</td>\n",
       "    </tr>\n",
       "    <tr>\n",
       "      <td>...</td>\n",
       "      <td>...</td>\n",
       "      <td>...</td>\n",
       "      <td>...</td>\n",
       "    </tr>\n",
       "    <tr>\n",
       "      <td>15703</td>\n",
       "      <td>1.5703</td>\n",
       "      <td>89.971563</td>\n",
       "      <td>-0.109599</td>\n",
       "    </tr>\n",
       "    <tr>\n",
       "      <td>15704</td>\n",
       "      <td>1.5704</td>\n",
       "      <td>89.977292</td>\n",
       "      <td>-0.109619</td>\n",
       "    </tr>\n",
       "    <tr>\n",
       "      <td>15705</td>\n",
       "      <td>1.5705</td>\n",
       "      <td>89.983022</td>\n",
       "      <td>-0.109640</td>\n",
       "    </tr>\n",
       "    <tr>\n",
       "      <td>15706</td>\n",
       "      <td>1.5706</td>\n",
       "      <td>89.988751</td>\n",
       "      <td>-0.109661</td>\n",
       "    </tr>\n",
       "    <tr>\n",
       "      <td>15707</td>\n",
       "      <td>1.5707</td>\n",
       "      <td>89.994481</td>\n",
       "      <td>-0.109682</td>\n",
       "    </tr>\n",
       "  </tbody>\n",
       "</table>\n",
       "<p>15708 rows × 3 columns</p>\n",
       "</div>"
      ],
      "text/plain": [
       "          rad       grad  criteria\n",
       "0      0.0000   0.000000 -0.109702\n",
       "1      0.0001   0.005730 -0.109723\n",
       "2      0.0002   0.011459 -0.109744\n",
       "3      0.0003   0.017189 -0.109765\n",
       "4      0.0004   0.022918 -0.109786\n",
       "...       ...        ...       ...\n",
       "15703  1.5703  89.971563 -0.109599\n",
       "15704  1.5704  89.977292 -0.109619\n",
       "15705  1.5705  89.983022 -0.109640\n",
       "15706  1.5706  89.988751 -0.109661\n",
       "15707  1.5707  89.994481 -0.109682\n",
       "\n",
       "[15708 rows x 3 columns]"
      ]
     },
     "execution_count": 34,
     "metadata": {},
     "output_type": "execute_result"
    }
   ],
   "source": [
    "df_rotation"
   ]
  },
  {
   "cell_type": "markdown",
   "metadata": {
    "id": "ivUsARJZJSdQ"
   },
   "source": [
    "## Для трех факторов (выполняется около 10 минут), используем квартимакс в качестве критерия"
   ]
  },
  {
   "cell_type": "code",
   "execution_count": 123,
   "metadata": {
    "id": "TbhHj0vuJSdR",
    "outputId": "b5977c7d-d6ae-48f1-da23-e9e101434865"
   },
   "outputs": [
    {
     "name": "stdout",
     "output_type": "stream",
     "text": [
      "0.0\n"
     ]
    },
    {
     "ename": "ValueError",
     "evalue": "shapes (10,2) and (3,3) not aligned: 2 (dim 1) != 3 (dim 0)",
     "output_type": "error",
     "traceback": [
      "\u001b[0;31m---------------------------------------------------------------------------\u001b[0m",
      "\u001b[0;31mValueError\u001b[0m                                Traceback (most recent call last)",
      "\u001b[0;32m<ipython-input-123-b57361dada36>\u001b[0m in \u001b[0;36m<module>\u001b[0;34m\u001b[0m\n\u001b[1;32m     33\u001b[0m                  \u001b[0;34m[\u001b[0m\u001b[0msin\u001b[0m\u001b[0;34m(\u001b[0m\u001b[0mgrad3\u001b[0m\u001b[0;34m)\u001b[0m\u001b[0;34m,\u001b[0m \u001b[0mcos\u001b[0m\u001b[0;34m(\u001b[0m\u001b[0mgrad3\u001b[0m\u001b[0;34m)\u001b[0m\u001b[0;34m,\u001b[0m \u001b[0;36m0\u001b[0m\u001b[0;34m]\u001b[0m\u001b[0;34m,\u001b[0m\u001b[0;34m\u001b[0m\u001b[0;34m\u001b[0m\u001b[0m\n\u001b[1;32m     34\u001b[0m                  [0, 0, 1]]\n\u001b[0;32m---> 35\u001b[0;31m             \u001b[0mB\u001b[0m \u001b[0;34m=\u001b[0m \u001b[0mnp\u001b[0m\u001b[0;34m.\u001b[0m\u001b[0mdot\u001b[0m\u001b[0;34m(\u001b[0m\u001b[0mnp\u001b[0m\u001b[0;34m.\u001b[0m\u001b[0mdot\u001b[0m\u001b[0;34m(\u001b[0m\u001b[0mnp\u001b[0m\u001b[0;34m.\u001b[0m\u001b[0mdot\u001b[0m \u001b[0;34m(\u001b[0m\u001b[0mA\u001b[0m\u001b[0;34m,\u001b[0m\u001b[0mT\u001b[0m\u001b[0;34m)\u001b[0m\u001b[0;34m,\u001b[0m \u001b[0mT2\u001b[0m\u001b[0;34m)\u001b[0m\u001b[0;34m,\u001b[0m \u001b[0mT3\u001b[0m\u001b[0;34m)\u001b[0m\u001b[0;34m\u001b[0m\u001b[0;34m\u001b[0m\u001b[0m\n\u001b[0m\u001b[1;32m     36\u001b[0m             \u001b[0mdict_for_B\u001b[0m\u001b[0;34m[\u001b[0m\u001b[0mcriteria\u001b[0m\u001b[0;34m(\u001b[0m\u001b[0;34m'quartimax'\u001b[0m\u001b[0;34m,\u001b[0m\u001b[0mB\u001b[0m\u001b[0;34m)\u001b[0m\u001b[0;34m]\u001b[0m \u001b[0;34m=\u001b[0m \u001b[0mB\u001b[0m\u001b[0;34m\u001b[0m\u001b[0;34m\u001b[0m\u001b[0m\n\u001b[1;32m     37\u001b[0m             \u001b[0mcriteria_column\u001b[0m\u001b[0;34m.\u001b[0m\u001b[0mappend\u001b[0m \u001b[0;34m(\u001b[0m\u001b[0mcriteria\u001b[0m\u001b[0;34m(\u001b[0m\u001b[0;34m'quartimax'\u001b[0m\u001b[0;34m,\u001b[0m\u001b[0mB\u001b[0m\u001b[0;34m)\u001b[0m\u001b[0;34m)\u001b[0m\u001b[0;34m\u001b[0m\u001b[0;34m\u001b[0m\u001b[0m\n",
      "\u001b[0;32m<__array_function__ internals>\u001b[0m in \u001b[0;36mdot\u001b[0;34m(*args, **kwargs)\u001b[0m\n",
      "\u001b[0;31mValueError\u001b[0m: shapes (10,2) and (3,3) not aligned: 2 (dim 1) != 3 (dim 0)"
     ]
    }
   ],
   "source": [
    "import tqdm\n",
    "radx_column = []\n",
    "gradx_column=[]\n",
    "rady_column = []\n",
    "grady_column=[]\n",
    "radz_column = []\n",
    "gradz_column=[]\n",
    "\n",
    "criteria_column = []\n",
    "dict_for_B = {}\n",
    "\n",
    "for alpha in arange(0, pi/2, 0.01):\n",
    "    print(alpha)\n",
    "    for alpha2 in arange(0, pi/2, 0.01):\n",
    "        for alpha3 in arange(0, pi/2, 0.01):\n",
    "            radx_column.append(alpha)\n",
    "            gradx_column.append(alpha*180/pi)\n",
    "            rady_column.append(alpha2)\n",
    "            grady_column.append(alpha2*180/pi)\n",
    "            radz_column.append(alpha3)\n",
    "            gradz_column.append(alpha3*180/pi)            \n",
    "            \n",
    "            grad = alpha\n",
    "            grad2 = alpha2\n",
    "            grad3 = alpha3\n",
    "            T = [[1, 0, 0],\n",
    "                 [0, cos(grad), -sin(grad)],\n",
    "                 [0, sin(grad), cos(grad)]]\n",
    "            T2 = [[cos(grad2), 0, sin(grad2)],\n",
    "                 [0, 1, 0],\n",
    "                 [-sin(grad2), 0, cos(grad2)]]\n",
    "            T3 = [[cos(grad3), -sin(grad3), 0],\n",
    "                 [sin(grad3), cos(grad3), 0],\n",
    "                 [0, 0, 1]]\n",
    "            B = np.dot(np.dot(np.dot (A,T), T2), T3)\n",
    "            dict_for_B[criteria('quartimax',B)] = B\n",
    "            criteria_column.append (criteria('quartimax',B))\n",
    "\n",
    "df_rotation = pd.DataFrame([]) \n",
    "df_rotation['radx'] = radx_column\n",
    "df_rotation['gradx'] = gradx_column\n",
    "df_rotation['rady'] = rady_column\n",
    "df_rotation['grady'] = grady_column\n",
    "df_rotation['radz'] = radz_column\n",
    "df_rotation['gradz'] = gradz_column\n",
    "df_rotation ['criteria'] = criteria_column\n",
    "df_rotation"
   ]
  },
  {
   "cell_type": "code",
   "execution_count": 35,
   "metadata": {
    "id": "oG6Tu1ooJSdR",
    "outputId": "d5465436-6394-4613-8054-5d8514191647"
   },
   "outputs": [
    {
     "data": {
      "text/plain": [
       "-0.08633216546825599"
      ]
     },
     "execution_count": 35,
     "metadata": {},
     "output_type": "execute_result"
    }
   ],
   "source": [
    "criteria_best = df_rotation ['criteria'].max()\n",
    "\n",
    "criteria_best"
   ]
  },
  {
   "cell_type": "markdown",
   "metadata": {
    "id": "emBOHkZyJSdS"
   },
   "source": [
    "## Вывод лучшего угла вращения для трех факторов"
   ]
  },
  {
   "cell_type": "code",
   "execution_count": 125,
   "metadata": {
    "id": "2PX2D-FlJSdS",
    "outputId": "aed7cb6c-f172-4ede-8bd1-5754d1a2db1d"
   },
   "outputs": [
    {
     "ename": "KeyError",
     "evalue": "'radx'",
     "output_type": "error",
     "traceback": [
      "\u001b[0;31m---------------------------------------------------------------------------\u001b[0m",
      "\u001b[0;31mKeyError\u001b[0m                                  Traceback (most recent call last)",
      "\u001b[0;32m~/opt/anaconda3/lib/python3.7/site-packages/pandas/core/indexes/base.py\u001b[0m in \u001b[0;36mget_loc\u001b[0;34m(self, key, method, tolerance)\u001b[0m\n\u001b[1;32m   2896\u001b[0m             \u001b[0;32mtry\u001b[0m\u001b[0;34m:\u001b[0m\u001b[0;34m\u001b[0m\u001b[0;34m\u001b[0m\u001b[0m\n\u001b[0;32m-> 2897\u001b[0;31m                 \u001b[0;32mreturn\u001b[0m \u001b[0mself\u001b[0m\u001b[0;34m.\u001b[0m\u001b[0m_engine\u001b[0m\u001b[0;34m.\u001b[0m\u001b[0mget_loc\u001b[0m\u001b[0;34m(\u001b[0m\u001b[0mkey\u001b[0m\u001b[0;34m)\u001b[0m\u001b[0;34m\u001b[0m\u001b[0;34m\u001b[0m\u001b[0m\n\u001b[0m\u001b[1;32m   2898\u001b[0m             \u001b[0;32mexcept\u001b[0m \u001b[0mKeyError\u001b[0m\u001b[0;34m:\u001b[0m\u001b[0;34m\u001b[0m\u001b[0;34m\u001b[0m\u001b[0m\n",
      "\u001b[0;32mpandas/_libs/index.pyx\u001b[0m in \u001b[0;36mpandas._libs.index.IndexEngine.get_loc\u001b[0;34m()\u001b[0m\n",
      "\u001b[0;32mpandas/_libs/index.pyx\u001b[0m in \u001b[0;36mpandas._libs.index.IndexEngine.get_loc\u001b[0;34m()\u001b[0m\n",
      "\u001b[0;32mpandas/_libs/hashtable_class_helper.pxi\u001b[0m in \u001b[0;36mpandas._libs.hashtable.PyObjectHashTable.get_item\u001b[0;34m()\u001b[0m\n",
      "\u001b[0;32mpandas/_libs/hashtable_class_helper.pxi\u001b[0m in \u001b[0;36mpandas._libs.hashtable.PyObjectHashTable.get_item\u001b[0;34m()\u001b[0m\n",
      "\u001b[0;31mKeyError\u001b[0m: 'radx'",
      "\nDuring handling of the above exception, another exception occurred:\n",
      "\u001b[0;31mKeyError\u001b[0m                                  Traceback (most recent call last)",
      "\u001b[0;32m<ipython-input-125-8723c6307b38>\u001b[0m in \u001b[0;36m<module>\u001b[0;34m\u001b[0m\n\u001b[0;32m----> 1\u001b[0;31m \u001b[0mradx_best\u001b[0m \u001b[0;34m=\u001b[0m \u001b[0mdf_rotation\u001b[0m\u001b[0;34m.\u001b[0m\u001b[0mloc\u001b[0m\u001b[0;34m[\u001b[0m\u001b[0mdf_rotation\u001b[0m\u001b[0;34m[\u001b[0m\u001b[0;34m'criteria'\u001b[0m\u001b[0;34m]\u001b[0m\u001b[0;34m.\u001b[0m\u001b[0midxmax\u001b[0m\u001b[0;34m(\u001b[0m\u001b[0;34m)\u001b[0m\u001b[0;34m,\u001b[0m\u001b[0;34m'radx'\u001b[0m\u001b[0;34m]\u001b[0m\u001b[0;34m\u001b[0m\u001b[0;34m\u001b[0m\u001b[0m\n\u001b[0m\u001b[1;32m      2\u001b[0m \u001b[0mgradx_best\u001b[0m \u001b[0;34m=\u001b[0m \u001b[0mdf_rotation\u001b[0m\u001b[0;34m.\u001b[0m\u001b[0mloc\u001b[0m \u001b[0;34m[\u001b[0m\u001b[0mdf_rotation\u001b[0m\u001b[0;34m[\u001b[0m\u001b[0;34m'criteria'\u001b[0m\u001b[0;34m]\u001b[0m\u001b[0;34m.\u001b[0m\u001b[0midxmax\u001b[0m\u001b[0;34m(\u001b[0m\u001b[0;34m)\u001b[0m\u001b[0;34m,\u001b[0m\u001b[0;34m'gradx'\u001b[0m\u001b[0;34m]\u001b[0m\u001b[0;34m\u001b[0m\u001b[0;34m\u001b[0m\u001b[0m\n\u001b[1;32m      3\u001b[0m \u001b[0mrady_best\u001b[0m \u001b[0;34m=\u001b[0m \u001b[0mdf_rotation\u001b[0m\u001b[0;34m.\u001b[0m\u001b[0mloc\u001b[0m\u001b[0;34m[\u001b[0m\u001b[0mdf_rotation\u001b[0m\u001b[0;34m[\u001b[0m\u001b[0;34m'criteria'\u001b[0m\u001b[0;34m]\u001b[0m\u001b[0;34m.\u001b[0m\u001b[0midxmax\u001b[0m\u001b[0;34m(\u001b[0m\u001b[0;34m)\u001b[0m\u001b[0;34m,\u001b[0m\u001b[0;34m'rady'\u001b[0m\u001b[0;34m]\u001b[0m\u001b[0;34m\u001b[0m\u001b[0;34m\u001b[0m\u001b[0m\n\u001b[1;32m      4\u001b[0m \u001b[0mgrady_best\u001b[0m \u001b[0;34m=\u001b[0m \u001b[0mdf_rotation\u001b[0m\u001b[0;34m.\u001b[0m\u001b[0mloc\u001b[0m \u001b[0;34m[\u001b[0m\u001b[0mdf_rotation\u001b[0m\u001b[0;34m[\u001b[0m\u001b[0;34m'criteria'\u001b[0m\u001b[0;34m]\u001b[0m\u001b[0;34m.\u001b[0m\u001b[0midxmax\u001b[0m\u001b[0;34m(\u001b[0m\u001b[0;34m)\u001b[0m\u001b[0;34m,\u001b[0m\u001b[0;34m'grady'\u001b[0m\u001b[0;34m]\u001b[0m\u001b[0;34m\u001b[0m\u001b[0;34m\u001b[0m\u001b[0m\n\u001b[1;32m      5\u001b[0m \u001b[0mradz_best\u001b[0m \u001b[0;34m=\u001b[0m \u001b[0mdf_rotation\u001b[0m\u001b[0;34m.\u001b[0m\u001b[0mloc\u001b[0m\u001b[0;34m[\u001b[0m\u001b[0mdf_rotation\u001b[0m\u001b[0;34m[\u001b[0m\u001b[0;34m'criteria'\u001b[0m\u001b[0;34m]\u001b[0m\u001b[0;34m.\u001b[0m\u001b[0midxmax\u001b[0m\u001b[0;34m(\u001b[0m\u001b[0;34m)\u001b[0m\u001b[0;34m,\u001b[0m\u001b[0;34m'radz'\u001b[0m\u001b[0;34m]\u001b[0m\u001b[0;34m\u001b[0m\u001b[0;34m\u001b[0m\u001b[0m\n",
      "\u001b[0;32m~/opt/anaconda3/lib/python3.7/site-packages/pandas/core/indexing.py\u001b[0m in \u001b[0;36m__getitem__\u001b[0;34m(self, key)\u001b[0m\n\u001b[1;32m   1416\u001b[0m                 \u001b[0;32mexcept\u001b[0m \u001b[0;34m(\u001b[0m\u001b[0mKeyError\u001b[0m\u001b[0;34m,\u001b[0m \u001b[0mIndexError\u001b[0m\u001b[0;34m,\u001b[0m \u001b[0mAttributeError\u001b[0m\u001b[0;34m)\u001b[0m\u001b[0;34m:\u001b[0m\u001b[0;34m\u001b[0m\u001b[0;34m\u001b[0m\u001b[0m\n\u001b[1;32m   1417\u001b[0m                     \u001b[0;32mpass\u001b[0m\u001b[0;34m\u001b[0m\u001b[0;34m\u001b[0m\u001b[0m\n\u001b[0;32m-> 1418\u001b[0;31m             \u001b[0;32mreturn\u001b[0m \u001b[0mself\u001b[0m\u001b[0;34m.\u001b[0m\u001b[0m_getitem_tuple\u001b[0m\u001b[0;34m(\u001b[0m\u001b[0mkey\u001b[0m\u001b[0;34m)\u001b[0m\u001b[0;34m\u001b[0m\u001b[0;34m\u001b[0m\u001b[0m\n\u001b[0m\u001b[1;32m   1419\u001b[0m         \u001b[0;32melse\u001b[0m\u001b[0;34m:\u001b[0m\u001b[0;34m\u001b[0m\u001b[0;34m\u001b[0m\u001b[0m\n\u001b[1;32m   1420\u001b[0m             \u001b[0;31m# we by definition only have the 0th axis\u001b[0m\u001b[0;34m\u001b[0m\u001b[0;34m\u001b[0m\u001b[0;34m\u001b[0m\u001b[0m\n",
      "\u001b[0;32m~/opt/anaconda3/lib/python3.7/site-packages/pandas/core/indexing.py\u001b[0m in \u001b[0;36m_getitem_tuple\u001b[0;34m(self, tup)\u001b[0m\n\u001b[1;32m    803\u001b[0m     \u001b[0;32mdef\u001b[0m \u001b[0m_getitem_tuple\u001b[0m\u001b[0;34m(\u001b[0m\u001b[0mself\u001b[0m\u001b[0;34m,\u001b[0m \u001b[0mtup\u001b[0m\u001b[0;34m)\u001b[0m\u001b[0;34m:\u001b[0m\u001b[0;34m\u001b[0m\u001b[0;34m\u001b[0m\u001b[0m\n\u001b[1;32m    804\u001b[0m         \u001b[0;32mtry\u001b[0m\u001b[0;34m:\u001b[0m\u001b[0;34m\u001b[0m\u001b[0;34m\u001b[0m\u001b[0m\n\u001b[0;32m--> 805\u001b[0;31m             \u001b[0;32mreturn\u001b[0m \u001b[0mself\u001b[0m\u001b[0;34m.\u001b[0m\u001b[0m_getitem_lowerdim\u001b[0m\u001b[0;34m(\u001b[0m\u001b[0mtup\u001b[0m\u001b[0;34m)\u001b[0m\u001b[0;34m\u001b[0m\u001b[0;34m\u001b[0m\u001b[0m\n\u001b[0m\u001b[1;32m    806\u001b[0m         \u001b[0;32mexcept\u001b[0m \u001b[0mIndexingError\u001b[0m\u001b[0;34m:\u001b[0m\u001b[0;34m\u001b[0m\u001b[0;34m\u001b[0m\u001b[0m\n\u001b[1;32m    807\u001b[0m             \u001b[0;32mpass\u001b[0m\u001b[0;34m\u001b[0m\u001b[0;34m\u001b[0m\u001b[0m\n",
      "\u001b[0;32m~/opt/anaconda3/lib/python3.7/site-packages/pandas/core/indexing.py\u001b[0m in \u001b[0;36m_getitem_lowerdim\u001b[0;34m(self, tup)\u001b[0m\n\u001b[1;32m    959\u001b[0m                     \u001b[0;32mreturn\u001b[0m \u001b[0msection\u001b[0m\u001b[0;34m\u001b[0m\u001b[0;34m\u001b[0m\u001b[0m\n\u001b[1;32m    960\u001b[0m                 \u001b[0;31m# This is an elided recursive call to iloc/loc/etc'\u001b[0m\u001b[0;34m\u001b[0m\u001b[0;34m\u001b[0m\u001b[0;34m\u001b[0m\u001b[0m\n\u001b[0;32m--> 961\u001b[0;31m                 \u001b[0;32mreturn\u001b[0m \u001b[0mgetattr\u001b[0m\u001b[0;34m(\u001b[0m\u001b[0msection\u001b[0m\u001b[0;34m,\u001b[0m \u001b[0mself\u001b[0m\u001b[0;34m.\u001b[0m\u001b[0mname\u001b[0m\u001b[0;34m)\u001b[0m\u001b[0;34m[\u001b[0m\u001b[0mnew_key\u001b[0m\u001b[0;34m]\u001b[0m\u001b[0;34m\u001b[0m\u001b[0;34m\u001b[0m\u001b[0m\n\u001b[0m\u001b[1;32m    962\u001b[0m \u001b[0;34m\u001b[0m\u001b[0m\n\u001b[1;32m    963\u001b[0m         \u001b[0;32mraise\u001b[0m \u001b[0mIndexingError\u001b[0m\u001b[0;34m(\u001b[0m\u001b[0;34m\"not applicable\"\u001b[0m\u001b[0;34m)\u001b[0m\u001b[0;34m\u001b[0m\u001b[0;34m\u001b[0m\u001b[0m\n",
      "\u001b[0;32m~/opt/anaconda3/lib/python3.7/site-packages/pandas/core/indexing.py\u001b[0m in \u001b[0;36m__getitem__\u001b[0;34m(self, key)\u001b[0m\n\u001b[1;32m   1422\u001b[0m \u001b[0;34m\u001b[0m\u001b[0m\n\u001b[1;32m   1423\u001b[0m             \u001b[0mmaybe_callable\u001b[0m \u001b[0;34m=\u001b[0m \u001b[0mcom\u001b[0m\u001b[0;34m.\u001b[0m\u001b[0mapply_if_callable\u001b[0m\u001b[0;34m(\u001b[0m\u001b[0mkey\u001b[0m\u001b[0;34m,\u001b[0m \u001b[0mself\u001b[0m\u001b[0;34m.\u001b[0m\u001b[0mobj\u001b[0m\u001b[0;34m)\u001b[0m\u001b[0;34m\u001b[0m\u001b[0;34m\u001b[0m\u001b[0m\n\u001b[0;32m-> 1424\u001b[0;31m             \u001b[0;32mreturn\u001b[0m \u001b[0mself\u001b[0m\u001b[0;34m.\u001b[0m\u001b[0m_getitem_axis\u001b[0m\u001b[0;34m(\u001b[0m\u001b[0mmaybe_callable\u001b[0m\u001b[0;34m,\u001b[0m \u001b[0maxis\u001b[0m\u001b[0;34m=\u001b[0m\u001b[0maxis\u001b[0m\u001b[0;34m)\u001b[0m\u001b[0;34m\u001b[0m\u001b[0;34m\u001b[0m\u001b[0m\n\u001b[0m\u001b[1;32m   1425\u001b[0m \u001b[0;34m\u001b[0m\u001b[0m\n\u001b[1;32m   1426\u001b[0m     \u001b[0;32mdef\u001b[0m \u001b[0m_is_scalar_access\u001b[0m\u001b[0;34m(\u001b[0m\u001b[0mself\u001b[0m\u001b[0;34m,\u001b[0m \u001b[0mkey\u001b[0m\u001b[0;34m:\u001b[0m \u001b[0mTuple\u001b[0m\u001b[0;34m)\u001b[0m\u001b[0;34m:\u001b[0m\u001b[0;34m\u001b[0m\u001b[0;34m\u001b[0m\u001b[0m\n",
      "\u001b[0;32m~/opt/anaconda3/lib/python3.7/site-packages/pandas/core/indexing.py\u001b[0m in \u001b[0;36m_getitem_axis\u001b[0;34m(self, key, axis)\u001b[0m\n\u001b[1;32m   1848\u001b[0m         \u001b[0;31m# fall thru to straight lookup\u001b[0m\u001b[0;34m\u001b[0m\u001b[0;34m\u001b[0m\u001b[0;34m\u001b[0m\u001b[0m\n\u001b[1;32m   1849\u001b[0m         \u001b[0mself\u001b[0m\u001b[0;34m.\u001b[0m\u001b[0m_validate_key\u001b[0m\u001b[0;34m(\u001b[0m\u001b[0mkey\u001b[0m\u001b[0;34m,\u001b[0m \u001b[0maxis\u001b[0m\u001b[0;34m)\u001b[0m\u001b[0;34m\u001b[0m\u001b[0;34m\u001b[0m\u001b[0m\n\u001b[0;32m-> 1850\u001b[0;31m         \u001b[0;32mreturn\u001b[0m \u001b[0mself\u001b[0m\u001b[0;34m.\u001b[0m\u001b[0m_get_label\u001b[0m\u001b[0;34m(\u001b[0m\u001b[0mkey\u001b[0m\u001b[0;34m,\u001b[0m \u001b[0maxis\u001b[0m\u001b[0;34m=\u001b[0m\u001b[0maxis\u001b[0m\u001b[0;34m)\u001b[0m\u001b[0;34m\u001b[0m\u001b[0;34m\u001b[0m\u001b[0m\n\u001b[0m\u001b[1;32m   1851\u001b[0m \u001b[0;34m\u001b[0m\u001b[0m\n\u001b[1;32m   1852\u001b[0m \u001b[0;34m\u001b[0m\u001b[0m\n",
      "\u001b[0;32m~/opt/anaconda3/lib/python3.7/site-packages/pandas/core/indexing.py\u001b[0m in \u001b[0;36m_get_label\u001b[0;34m(self, label, axis)\u001b[0m\n\u001b[1;32m    154\u001b[0m             \u001b[0;31m# but will fail when the index is not present\u001b[0m\u001b[0;34m\u001b[0m\u001b[0;34m\u001b[0m\u001b[0;34m\u001b[0m\u001b[0m\n\u001b[1;32m    155\u001b[0m             \u001b[0;31m# see GH5667\u001b[0m\u001b[0;34m\u001b[0m\u001b[0;34m\u001b[0m\u001b[0;34m\u001b[0m\u001b[0m\n\u001b[0;32m--> 156\u001b[0;31m             \u001b[0;32mreturn\u001b[0m \u001b[0mself\u001b[0m\u001b[0;34m.\u001b[0m\u001b[0mobj\u001b[0m\u001b[0;34m.\u001b[0m\u001b[0m_xs\u001b[0m\u001b[0;34m(\u001b[0m\u001b[0mlabel\u001b[0m\u001b[0;34m,\u001b[0m \u001b[0maxis\u001b[0m\u001b[0;34m=\u001b[0m\u001b[0maxis\u001b[0m\u001b[0;34m)\u001b[0m\u001b[0;34m\u001b[0m\u001b[0;34m\u001b[0m\u001b[0m\n\u001b[0m\u001b[1;32m    157\u001b[0m         \u001b[0;32melif\u001b[0m \u001b[0misinstance\u001b[0m\u001b[0;34m(\u001b[0m\u001b[0mlabel\u001b[0m\u001b[0;34m,\u001b[0m \u001b[0mtuple\u001b[0m\u001b[0;34m)\u001b[0m \u001b[0;32mand\u001b[0m \u001b[0misinstance\u001b[0m\u001b[0;34m(\u001b[0m\u001b[0mlabel\u001b[0m\u001b[0;34m[\u001b[0m\u001b[0maxis\u001b[0m\u001b[0;34m]\u001b[0m\u001b[0;34m,\u001b[0m \u001b[0mslice\u001b[0m\u001b[0;34m)\u001b[0m\u001b[0;34m:\u001b[0m\u001b[0;34m\u001b[0m\u001b[0;34m\u001b[0m\u001b[0m\n\u001b[1;32m    158\u001b[0m             \u001b[0;32mraise\u001b[0m \u001b[0mIndexingError\u001b[0m\u001b[0;34m(\u001b[0m\u001b[0;34m\"no slices here, handle elsewhere\"\u001b[0m\u001b[0;34m)\u001b[0m\u001b[0;34m\u001b[0m\u001b[0;34m\u001b[0m\u001b[0m\n",
      "\u001b[0;32m~/opt/anaconda3/lib/python3.7/site-packages/pandas/core/generic.py\u001b[0m in \u001b[0;36mxs\u001b[0;34m(self, key, axis, level, drop_level)\u001b[0m\n\u001b[1;32m   3735\u001b[0m             \u001b[0mloc\u001b[0m\u001b[0;34m,\u001b[0m \u001b[0mnew_index\u001b[0m \u001b[0;34m=\u001b[0m \u001b[0mself\u001b[0m\u001b[0;34m.\u001b[0m\u001b[0mindex\u001b[0m\u001b[0;34m.\u001b[0m\u001b[0mget_loc_level\u001b[0m\u001b[0;34m(\u001b[0m\u001b[0mkey\u001b[0m\u001b[0;34m,\u001b[0m \u001b[0mdrop_level\u001b[0m\u001b[0;34m=\u001b[0m\u001b[0mdrop_level\u001b[0m\u001b[0;34m)\u001b[0m\u001b[0;34m\u001b[0m\u001b[0;34m\u001b[0m\u001b[0m\n\u001b[1;32m   3736\u001b[0m         \u001b[0;32melse\u001b[0m\u001b[0;34m:\u001b[0m\u001b[0;34m\u001b[0m\u001b[0;34m\u001b[0m\u001b[0m\n\u001b[0;32m-> 3737\u001b[0;31m             \u001b[0mloc\u001b[0m \u001b[0;34m=\u001b[0m \u001b[0mself\u001b[0m\u001b[0;34m.\u001b[0m\u001b[0mindex\u001b[0m\u001b[0;34m.\u001b[0m\u001b[0mget_loc\u001b[0m\u001b[0;34m(\u001b[0m\u001b[0mkey\u001b[0m\u001b[0;34m)\u001b[0m\u001b[0;34m\u001b[0m\u001b[0;34m\u001b[0m\u001b[0m\n\u001b[0m\u001b[1;32m   3738\u001b[0m \u001b[0;34m\u001b[0m\u001b[0m\n\u001b[1;32m   3739\u001b[0m             \u001b[0;32mif\u001b[0m \u001b[0misinstance\u001b[0m\u001b[0;34m(\u001b[0m\u001b[0mloc\u001b[0m\u001b[0;34m,\u001b[0m \u001b[0mnp\u001b[0m\u001b[0;34m.\u001b[0m\u001b[0mndarray\u001b[0m\u001b[0;34m)\u001b[0m\u001b[0;34m:\u001b[0m\u001b[0;34m\u001b[0m\u001b[0;34m\u001b[0m\u001b[0m\n",
      "\u001b[0;32m~/opt/anaconda3/lib/python3.7/site-packages/pandas/core/indexes/base.py\u001b[0m in \u001b[0;36mget_loc\u001b[0;34m(self, key, method, tolerance)\u001b[0m\n\u001b[1;32m   2897\u001b[0m                 \u001b[0;32mreturn\u001b[0m \u001b[0mself\u001b[0m\u001b[0;34m.\u001b[0m\u001b[0m_engine\u001b[0m\u001b[0;34m.\u001b[0m\u001b[0mget_loc\u001b[0m\u001b[0;34m(\u001b[0m\u001b[0mkey\u001b[0m\u001b[0;34m)\u001b[0m\u001b[0;34m\u001b[0m\u001b[0;34m\u001b[0m\u001b[0m\n\u001b[1;32m   2898\u001b[0m             \u001b[0;32mexcept\u001b[0m \u001b[0mKeyError\u001b[0m\u001b[0;34m:\u001b[0m\u001b[0;34m\u001b[0m\u001b[0;34m\u001b[0m\u001b[0m\n\u001b[0;32m-> 2899\u001b[0;31m                 \u001b[0;32mreturn\u001b[0m \u001b[0mself\u001b[0m\u001b[0;34m.\u001b[0m\u001b[0m_engine\u001b[0m\u001b[0;34m.\u001b[0m\u001b[0mget_loc\u001b[0m\u001b[0;34m(\u001b[0m\u001b[0mself\u001b[0m\u001b[0;34m.\u001b[0m\u001b[0m_maybe_cast_indexer\u001b[0m\u001b[0;34m(\u001b[0m\u001b[0mkey\u001b[0m\u001b[0;34m)\u001b[0m\u001b[0;34m)\u001b[0m\u001b[0;34m\u001b[0m\u001b[0;34m\u001b[0m\u001b[0m\n\u001b[0m\u001b[1;32m   2900\u001b[0m         \u001b[0mindexer\u001b[0m \u001b[0;34m=\u001b[0m \u001b[0mself\u001b[0m\u001b[0;34m.\u001b[0m\u001b[0mget_indexer\u001b[0m\u001b[0;34m(\u001b[0m\u001b[0;34m[\u001b[0m\u001b[0mkey\u001b[0m\u001b[0;34m]\u001b[0m\u001b[0;34m,\u001b[0m \u001b[0mmethod\u001b[0m\u001b[0;34m=\u001b[0m\u001b[0mmethod\u001b[0m\u001b[0;34m,\u001b[0m \u001b[0mtolerance\u001b[0m\u001b[0;34m=\u001b[0m\u001b[0mtolerance\u001b[0m\u001b[0;34m)\u001b[0m\u001b[0;34m\u001b[0m\u001b[0;34m\u001b[0m\u001b[0m\n\u001b[1;32m   2901\u001b[0m         \u001b[0;32mif\u001b[0m \u001b[0mindexer\u001b[0m\u001b[0;34m.\u001b[0m\u001b[0mndim\u001b[0m \u001b[0;34m>\u001b[0m \u001b[0;36m1\u001b[0m \u001b[0;32mor\u001b[0m \u001b[0mindexer\u001b[0m\u001b[0;34m.\u001b[0m\u001b[0msize\u001b[0m \u001b[0;34m>\u001b[0m \u001b[0;36m1\u001b[0m\u001b[0;34m:\u001b[0m\u001b[0;34m\u001b[0m\u001b[0;34m\u001b[0m\u001b[0m\n",
      "\u001b[0;32mpandas/_libs/index.pyx\u001b[0m in \u001b[0;36mpandas._libs.index.IndexEngine.get_loc\u001b[0;34m()\u001b[0m\n",
      "\u001b[0;32mpandas/_libs/index.pyx\u001b[0m in \u001b[0;36mpandas._libs.index.IndexEngine.get_loc\u001b[0;34m()\u001b[0m\n",
      "\u001b[0;32mpandas/_libs/hashtable_class_helper.pxi\u001b[0m in \u001b[0;36mpandas._libs.hashtable.PyObjectHashTable.get_item\u001b[0;34m()\u001b[0m\n",
      "\u001b[0;32mpandas/_libs/hashtable_class_helper.pxi\u001b[0m in \u001b[0;36mpandas._libs.hashtable.PyObjectHashTable.get_item\u001b[0;34m()\u001b[0m\n",
      "\u001b[0;31mKeyError\u001b[0m: 'radx'"
     ]
    }
   ],
   "source": [
    "radx_best = df_rotation.loc[df_rotation['criteria'].idxmax(),'radx']\n",
    "gradx_best = df_rotation.loc [df_rotation['criteria'].idxmax(),'gradx']\n",
    "rady_best = df_rotation.loc[df_rotation['criteria'].idxmax(),'rady']\n",
    "grady_best = df_rotation.loc [df_rotation['criteria'].idxmax(),'grady']\n",
    "radz_best = df_rotation.loc[df_rotation['criteria'].idxmax(),'radz']\n",
    "gradz_best = df_rotation.loc [df_rotation['criteria'].idxmax(),'gradz']\n",
    "\n",
    "print ('Лучший угол для вращения x:{:.3f} y:{:.3f} z:{:.3f} радиан или x:{:.3f} y:{:.3f} z:{:.3f} градусов'.format (radx_best, gradx_best, rady_best, grady_best, radz_best, gradz_best))"
   ]
  },
  {
   "cell_type": "markdown",
   "metadata": {
    "id": "hIwilVJTJSdS"
   },
   "source": [
    "## Вывод лучшего угла вращения для двух факторов (оставил для проверки)"
   ]
  },
  {
   "cell_type": "code",
   "execution_count": 36,
   "metadata": {
    "id": "vYmHUuxIJSdS",
    "outputId": "289e369d-8a57-4109-91dd-30aa724d23ac"
   },
   "outputs": [
    {
     "name": "stdout",
     "output_type": "stream",
     "text": [
      "Лучший угол для вращения :1.361 радиан или 77.957 градусов\n"
     ]
    }
   ],
   "source": [
    "rad_best = df_rotation.loc[df_rotation['criteria'].idxmax(),'rad']\n",
    "grad_best = df_rotation.loc [df_rotation['criteria'].idxmax(),'grad']\n",
    "\n",
    "print ('Лучший угол для вращения :{:.3f} радиан или {:.3f} градусов'.format (rad_best,grad_best))"
   ]
  },
  {
   "cell_type": "markdown",
   "metadata": {
    "id": "n7AH0b0iJSdT"
   },
   "source": [
    "## Матрица факторного отображения после вращения"
   ]
  },
  {
   "cell_type": "code",
   "execution_count": 37,
   "metadata": {
    "id": "vcF-YGH0JSdU",
    "outputId": "4953d487-a530-4515-eeb1-392ba58f243d"
   },
   "outputs": [
    {
     "data": {
      "text/html": [
       "<div>\n",
       "<style scoped>\n",
       "    .dataframe tbody tr th:only-of-type {\n",
       "        vertical-align: middle;\n",
       "    }\n",
       "\n",
       "    .dataframe tbody tr th {\n",
       "        vertical-align: top;\n",
       "    }\n",
       "\n",
       "    .dataframe thead th {\n",
       "        text-align: right;\n",
       "    }\n",
       "</style>\n",
       "<table border=\"1\" class=\"dataframe\">\n",
       "  <thead>\n",
       "    <tr style=\"text-align: right;\">\n",
       "      <th></th>\n",
       "      <th>Factor_1</th>\n",
       "      <th>Factor_2</th>\n",
       "    </tr>\n",
       "  </thead>\n",
       "  <tbody>\n",
       "    <tr>\n",
       "      <td>X1</td>\n",
       "      <td>0.801707</td>\n",
       "      <td>0.178658</td>\n",
       "    </tr>\n",
       "    <tr>\n",
       "      <td>X2</td>\n",
       "      <td>-0.170410</td>\n",
       "      <td>-0.886620</td>\n",
       "    </tr>\n",
       "    <tr>\n",
       "      <td>X3</td>\n",
       "      <td>0.775456</td>\n",
       "      <td>-0.062716</td>\n",
       "    </tr>\n",
       "    <tr>\n",
       "      <td>X4</td>\n",
       "      <td>0.225972</td>\n",
       "      <td>-0.819366</td>\n",
       "    </tr>\n",
       "    <tr>\n",
       "      <td>X5</td>\n",
       "      <td>0.186536</td>\n",
       "      <td>-0.153774</td>\n",
       "    </tr>\n",
       "    <tr>\n",
       "      <td>X6</td>\n",
       "      <td>-0.101155</td>\n",
       "      <td>0.126605</td>\n",
       "    </tr>\n",
       "    <tr>\n",
       "      <td>X7</td>\n",
       "      <td>0.027732</td>\n",
       "      <td>-0.064613</td>\n",
       "    </tr>\n",
       "    <tr>\n",
       "      <td>X8</td>\n",
       "      <td>0.340962</td>\n",
       "      <td>-0.498768</td>\n",
       "    </tr>\n",
       "    <tr>\n",
       "      <td>X9</td>\n",
       "      <td>-0.361955</td>\n",
       "      <td>-0.676763</td>\n",
       "    </tr>\n",
       "    <tr>\n",
       "      <td>X10</td>\n",
       "      <td>-0.207968</td>\n",
       "      <td>-0.252567</td>\n",
       "    </tr>\n",
       "  </tbody>\n",
       "</table>\n",
       "</div>"
      ],
      "text/plain": [
       "     Factor_1  Factor_2\n",
       "X1   0.801707  0.178658\n",
       "X2  -0.170410 -0.886620\n",
       "X3   0.775456 -0.062716\n",
       "X4   0.225972 -0.819366\n",
       "X5   0.186536 -0.153774\n",
       "X6  -0.101155  0.126605\n",
       "X7   0.027732 -0.064613\n",
       "X8   0.340962 -0.498768\n",
       "X9  -0.361955 -0.676763\n",
       "X10 -0.207968 -0.252567"
      ]
     },
     "execution_count": 37,
     "metadata": {},
     "output_type": "execute_result"
    }
   ],
   "source": [
    "B = dict_for_B [criteria_best]\n",
    "df_B = pd.DataFrame(data=B, columns=['Factor_'+str(i +1) for i in range(fact)], index=features)\n",
    "\n",
    "df_B"
   ]
  },
  {
   "cell_type": "code",
   "execution_count": 40,
   "metadata": {},
   "outputs": [
    {
     "data": {
      "text/html": [
       "<div>\n",
       "<style scoped>\n",
       "    .dataframe tbody tr th:only-of-type {\n",
       "        vertical-align: middle;\n",
       "    }\n",
       "\n",
       "    .dataframe tbody tr th {\n",
       "        vertical-align: top;\n",
       "    }\n",
       "\n",
       "    .dataframe thead th {\n",
       "        text-align: right;\n",
       "    }\n",
       "</style>\n",
       "<table border=\"1\" class=\"dataframe\">\n",
       "  <thead>\n",
       "    <tr style=\"text-align: right;\">\n",
       "      <th></th>\n",
       "      <th>Factor_1</th>\n",
       "      <th>Factor_2</th>\n",
       "    </tr>\n",
       "  </thead>\n",
       "  <tbody>\n",
       "    <tr>\n",
       "      <td>X1</td>\n",
       "      <td>0.801707</td>\n",
       "      <td>-0.178658</td>\n",
       "    </tr>\n",
       "    <tr>\n",
       "      <td>X2</td>\n",
       "      <td>-0.170410</td>\n",
       "      <td>0.886620</td>\n",
       "    </tr>\n",
       "    <tr>\n",
       "      <td>X3</td>\n",
       "      <td>0.775456</td>\n",
       "      <td>0.062716</td>\n",
       "    </tr>\n",
       "    <tr>\n",
       "      <td>X4</td>\n",
       "      <td>0.225972</td>\n",
       "      <td>0.819366</td>\n",
       "    </tr>\n",
       "    <tr>\n",
       "      <td>X5</td>\n",
       "      <td>0.186536</td>\n",
       "      <td>0.153774</td>\n",
       "    </tr>\n",
       "    <tr>\n",
       "      <td>X6</td>\n",
       "      <td>-0.101155</td>\n",
       "      <td>-0.126605</td>\n",
       "    </tr>\n",
       "    <tr>\n",
       "      <td>X7</td>\n",
       "      <td>0.027732</td>\n",
       "      <td>0.064613</td>\n",
       "    </tr>\n",
       "    <tr>\n",
       "      <td>X8</td>\n",
       "      <td>0.340962</td>\n",
       "      <td>0.498768</td>\n",
       "    </tr>\n",
       "    <tr>\n",
       "      <td>X9</td>\n",
       "      <td>-0.361955</td>\n",
       "      <td>0.676763</td>\n",
       "    </tr>\n",
       "    <tr>\n",
       "      <td>X10</td>\n",
       "      <td>-0.207968</td>\n",
       "      <td>0.252567</td>\n",
       "    </tr>\n",
       "  </tbody>\n",
       "</table>\n",
       "</div>"
      ],
      "text/plain": [
       "     Factor_1  Factor_2\n",
       "X1   0.801707 -0.178658\n",
       "X2  -0.170410  0.886620\n",
       "X3   0.775456  0.062716\n",
       "X4   0.225972  0.819366\n",
       "X5   0.186536  0.153774\n",
       "X6  -0.101155 -0.126605\n",
       "X7   0.027732  0.064613\n",
       "X8   0.340962  0.498768\n",
       "X9  -0.361955  0.676763\n",
       "X10 -0.207968  0.252567"
      ]
     },
     "execution_count": 40,
     "metadata": {},
     "output_type": "execute_result"
    }
   ],
   "source": [
    "df_B['Factor_2'] *= -1\n",
    "df_B"
   ]
  },
  {
   "cell_type": "code",
   "execution_count": 42,
   "metadata": {},
   "outputs": [
    {
     "data": {
      "text/plain": [
       "['Factor_1', 'Factor_2']"
      ]
     },
     "execution_count": 42,
     "metadata": {},
     "output_type": "execute_result"
    }
   ],
   "source": [
    "cols = df_B.columns.tolist()\n",
    "cols"
   ]
  },
  {
   "cell_type": "code",
   "execution_count": 43,
   "metadata": {},
   "outputs": [],
   "source": [
    "cols = ['Factor_2', 'Factor_1']"
   ]
  },
  {
   "cell_type": "code",
   "execution_count": 45,
   "metadata": {},
   "outputs": [],
   "source": [
    "df_B = df_B[cols]"
   ]
  },
  {
   "cell_type": "code",
   "execution_count": 47,
   "metadata": {},
   "outputs": [
    {
     "data": {
      "text/html": [
       "<div>\n",
       "<style scoped>\n",
       "    .dataframe tbody tr th:only-of-type {\n",
       "        vertical-align: middle;\n",
       "    }\n",
       "\n",
       "    .dataframe tbody tr th {\n",
       "        vertical-align: top;\n",
       "    }\n",
       "\n",
       "    .dataframe thead th {\n",
       "        text-align: right;\n",
       "    }\n",
       "</style>\n",
       "<table border=\"1\" class=\"dataframe\">\n",
       "  <thead>\n",
       "    <tr style=\"text-align: right;\">\n",
       "      <th></th>\n",
       "      <th>Factor_1</th>\n",
       "      <th>Factor_2</th>\n",
       "    </tr>\n",
       "  </thead>\n",
       "  <tbody>\n",
       "    <tr>\n",
       "      <td>X1</td>\n",
       "      <td>-0.178658</td>\n",
       "      <td>0.801707</td>\n",
       "    </tr>\n",
       "    <tr>\n",
       "      <td>X2</td>\n",
       "      <td>0.886620</td>\n",
       "      <td>-0.170410</td>\n",
       "    </tr>\n",
       "    <tr>\n",
       "      <td>X3</td>\n",
       "      <td>0.062716</td>\n",
       "      <td>0.775456</td>\n",
       "    </tr>\n",
       "    <tr>\n",
       "      <td>X4</td>\n",
       "      <td>0.819366</td>\n",
       "      <td>0.225972</td>\n",
       "    </tr>\n",
       "    <tr>\n",
       "      <td>X5</td>\n",
       "      <td>0.153774</td>\n",
       "      <td>0.186536</td>\n",
       "    </tr>\n",
       "    <tr>\n",
       "      <td>X6</td>\n",
       "      <td>-0.126605</td>\n",
       "      <td>-0.101155</td>\n",
       "    </tr>\n",
       "    <tr>\n",
       "      <td>X7</td>\n",
       "      <td>0.064613</td>\n",
       "      <td>0.027732</td>\n",
       "    </tr>\n",
       "    <tr>\n",
       "      <td>X8</td>\n",
       "      <td>0.498768</td>\n",
       "      <td>0.340962</td>\n",
       "    </tr>\n",
       "    <tr>\n",
       "      <td>X9</td>\n",
       "      <td>0.676763</td>\n",
       "      <td>-0.361955</td>\n",
       "    </tr>\n",
       "    <tr>\n",
       "      <td>X10</td>\n",
       "      <td>0.252567</td>\n",
       "      <td>-0.207968</td>\n",
       "    </tr>\n",
       "  </tbody>\n",
       "</table>\n",
       "</div>"
      ],
      "text/plain": [
       "     Factor_1  Factor_2\n",
       "X1  -0.178658  0.801707\n",
       "X2   0.886620 -0.170410\n",
       "X3   0.062716  0.775456\n",
       "X4   0.819366  0.225972\n",
       "X5   0.153774  0.186536\n",
       "X6  -0.126605 -0.101155\n",
       "X7   0.064613  0.027732\n",
       "X8   0.498768  0.340962\n",
       "X9   0.676763 -0.361955\n",
       "X10  0.252567 -0.207968"
      ]
     },
     "execution_count": 47,
     "metadata": {},
     "output_type": "execute_result"
    }
   ],
   "source": [
    "df_B = df_B.rename(columns={'Factor_2': 'Factor_1', 'Factor_1': 'Factor_2'})\n",
    "df_B"
   ]
  },
  {
   "cell_type": "code",
   "execution_count": 48,
   "metadata": {
    "id": "tPJcumRDJSdU",
    "outputId": "bc2c7f33-8ed8-46cb-acab-ccc0b84dc87b"
   },
   "outputs": [
    {
     "data": {
      "image/png": "[encoded data removed]",
      "text/plain": [
       "<Figure size 432x288 with 1 Axes>"
      ]
     },
     "metadata": {
      "needs_background": "light"
     },
     "output_type": "display_data"
    }
   ],
   "source": [
    "plt.scatter(df_B['Factor_1'],df_B['Factor_2'])\n",
    "plt.scatter (0,0,c= 'r')\n",
    "plt.grid()\n",
    "plt.title ('factor loadings B')\n",
    "for variable in features :\n",
    "    plt.annotate('{}'.format(variable),xy = (df_B['Factor_1'][variable],df_B['Factor_2'][variable]))"
   ]
  },
  {
   "cell_type": "code",
   "execution_count": 27,
   "metadata": {
    "id": "PkPtHz7VJSdU",
    "outputId": "4769ada9-770d-47f6-ab73-5fc26a517fcc"
   },
   "outputs": [
    {
     "ename": "KeyError",
     "evalue": "'Factor_3'",
     "output_type": "error",
     "traceback": [
      "\u001b[0;31m---------------------------------------------------------------------------\u001b[0m",
      "\u001b[0;31mKeyError\u001b[0m                                  Traceback (most recent call last)",
      "\u001b[0;32m~/opt/anaconda3/lib/python3.7/site-packages/pandas/core/indexes/base.py\u001b[0m in \u001b[0;36mget_loc\u001b[0;34m(self, key, method, tolerance)\u001b[0m\n\u001b[1;32m   2896\u001b[0m             \u001b[0;32mtry\u001b[0m\u001b[0;34m:\u001b[0m\u001b[0;34m\u001b[0m\u001b[0;34m\u001b[0m\u001b[0m\n\u001b[0;32m-> 2897\u001b[0;31m                 \u001b[0;32mreturn\u001b[0m \u001b[0mself\u001b[0m\u001b[0;34m.\u001b[0m\u001b[0m_engine\u001b[0m\u001b[0;34m.\u001b[0m\u001b[0mget_loc\u001b[0m\u001b[0;34m(\u001b[0m\u001b[0mkey\u001b[0m\u001b[0;34m)\u001b[0m\u001b[0;34m\u001b[0m\u001b[0;34m\u001b[0m\u001b[0m\n\u001b[0m\u001b[1;32m   2898\u001b[0m             \u001b[0;32mexcept\u001b[0m \u001b[0mKeyError\u001b[0m\u001b[0;34m:\u001b[0m\u001b[0;34m\u001b[0m\u001b[0;34m\u001b[0m\u001b[0m\n",
      "\u001b[0;32mpandas/_libs/index.pyx\u001b[0m in \u001b[0;36mpandas._libs.index.IndexEngine.get_loc\u001b[0;34m()\u001b[0m\n",
      "\u001b[0;32mpandas/_libs/index.pyx\u001b[0m in \u001b[0;36mpandas._libs.index.IndexEngine.get_loc\u001b[0;34m()\u001b[0m\n",
      "\u001b[0;32mpandas/_libs/hashtable_class_helper.pxi\u001b[0m in \u001b[0;36mpandas._libs.hashtable.PyObjectHashTable.get_item\u001b[0;34m()\u001b[0m\n",
      "\u001b[0;32mpandas/_libs/hashtable_class_helper.pxi\u001b[0m in \u001b[0;36mpandas._libs.hashtable.PyObjectHashTable.get_item\u001b[0;34m()\u001b[0m\n",
      "\u001b[0;31mKeyError\u001b[0m: 'Factor_3'",
      "\nDuring handling of the above exception, another exception occurred:\n",
      "\u001b[0;31mKeyError\u001b[0m                                  Traceback (most recent call last)",
      "\u001b[0;32m<ipython-input-27-e7e72f5c6ee1>\u001b[0m in \u001b[0;36m<module>\u001b[0;34m\u001b[0m\n\u001b[1;32m      3\u001b[0m \u001b[0mfig\u001b[0m \u001b[0;34m=\u001b[0m \u001b[0mplt\u001b[0m\u001b[0;34m.\u001b[0m\u001b[0mfigure\u001b[0m\u001b[0;34m(\u001b[0m\u001b[0mfigsize\u001b[0m\u001b[0;34m=\u001b[0m\u001b[0;34m(\u001b[0m\u001b[0;36m8\u001b[0m\u001b[0;34m,\u001b[0m \u001b[0;36m8\u001b[0m\u001b[0;34m)\u001b[0m\u001b[0;34m)\u001b[0m\u001b[0;34m\u001b[0m\u001b[0;34m\u001b[0m\u001b[0m\n\u001b[1;32m      4\u001b[0m \u001b[0max\u001b[0m \u001b[0;34m=\u001b[0m \u001b[0mfig\u001b[0m\u001b[0;34m.\u001b[0m\u001b[0madd_subplot\u001b[0m\u001b[0;34m(\u001b[0m\u001b[0mprojection\u001b[0m\u001b[0;34m=\u001b[0m\u001b[0;34m'3d'\u001b[0m\u001b[0;34m)\u001b[0m\u001b[0;34m\u001b[0m\u001b[0;34m\u001b[0m\u001b[0m\n\u001b[0;32m----> 5\u001b[0;31m \u001b[0max\u001b[0m\u001b[0;34m.\u001b[0m\u001b[0mscatter\u001b[0m\u001b[0;34m(\u001b[0m\u001b[0mdf_B\u001b[0m\u001b[0;34m[\u001b[0m\u001b[0;34m'Factor_1'\u001b[0m\u001b[0;34m]\u001b[0m\u001b[0;34m,\u001b[0m \u001b[0mdf_B\u001b[0m\u001b[0;34m[\u001b[0m\u001b[0;34m'Factor_2'\u001b[0m\u001b[0;34m]\u001b[0m\u001b[0;34m,\u001b[0m \u001b[0mdf_B\u001b[0m\u001b[0;34m[\u001b[0m\u001b[0;34m'Factor_3'\u001b[0m\u001b[0;34m]\u001b[0m\u001b[0;34m)\u001b[0m\u001b[0;34m\u001b[0m\u001b[0;34m\u001b[0m\u001b[0m\n\u001b[0m\u001b[1;32m      6\u001b[0m \u001b[0;34m\u001b[0m\u001b[0m\n\u001b[1;32m      7\u001b[0m \u001b[0max\u001b[0m\u001b[0;34m.\u001b[0m\u001b[0mset_xlabel\u001b[0m\u001b[0;34m(\u001b[0m\u001b[0;34m'Factor_1'\u001b[0m\u001b[0;34m)\u001b[0m\u001b[0;34m\u001b[0m\u001b[0;34m\u001b[0m\u001b[0m\n",
      "\u001b[0;32m~/opt/anaconda3/lib/python3.7/site-packages/pandas/core/frame.py\u001b[0m in \u001b[0;36m__getitem__\u001b[0;34m(self, key)\u001b[0m\n\u001b[1;32m   2978\u001b[0m             \u001b[0;32mif\u001b[0m \u001b[0mself\u001b[0m\u001b[0;34m.\u001b[0m\u001b[0mcolumns\u001b[0m\u001b[0;34m.\u001b[0m\u001b[0mnlevels\u001b[0m \u001b[0;34m>\u001b[0m \u001b[0;36m1\u001b[0m\u001b[0;34m:\u001b[0m\u001b[0;34m\u001b[0m\u001b[0;34m\u001b[0m\u001b[0m\n\u001b[1;32m   2979\u001b[0m                 \u001b[0;32mreturn\u001b[0m \u001b[0mself\u001b[0m\u001b[0;34m.\u001b[0m\u001b[0m_getitem_multilevel\u001b[0m\u001b[0;34m(\u001b[0m\u001b[0mkey\u001b[0m\u001b[0;34m)\u001b[0m\u001b[0;34m\u001b[0m\u001b[0;34m\u001b[0m\u001b[0m\n\u001b[0;32m-> 2980\u001b[0;31m             \u001b[0mindexer\u001b[0m \u001b[0;34m=\u001b[0m \u001b[0mself\u001b[0m\u001b[0;34m.\u001b[0m\u001b[0mcolumns\u001b[0m\u001b[0;34m.\u001b[0m\u001b[0mget_loc\u001b[0m\u001b[0;34m(\u001b[0m\u001b[0mkey\u001b[0m\u001b[0;34m)\u001b[0m\u001b[0;34m\u001b[0m\u001b[0;34m\u001b[0m\u001b[0m\n\u001b[0m\u001b[1;32m   2981\u001b[0m             \u001b[0;32mif\u001b[0m \u001b[0mis_integer\u001b[0m\u001b[0;34m(\u001b[0m\u001b[0mindexer\u001b[0m\u001b[0;34m)\u001b[0m\u001b[0;34m:\u001b[0m\u001b[0;34m\u001b[0m\u001b[0;34m\u001b[0m\u001b[0m\n\u001b[1;32m   2982\u001b[0m                 \u001b[0mindexer\u001b[0m \u001b[0;34m=\u001b[0m \u001b[0;34m[\u001b[0m\u001b[0mindexer\u001b[0m\u001b[0;34m]\u001b[0m\u001b[0;34m\u001b[0m\u001b[0;34m\u001b[0m\u001b[0m\n",
      "\u001b[0;32m~/opt/anaconda3/lib/python3.7/site-packages/pandas/core/indexes/base.py\u001b[0m in \u001b[0;36mget_loc\u001b[0;34m(self, key, method, tolerance)\u001b[0m\n\u001b[1;32m   2897\u001b[0m                 \u001b[0;32mreturn\u001b[0m \u001b[0mself\u001b[0m\u001b[0;34m.\u001b[0m\u001b[0m_engine\u001b[0m\u001b[0;34m.\u001b[0m\u001b[0mget_loc\u001b[0m\u001b[0;34m(\u001b[0m\u001b[0mkey\u001b[0m\u001b[0;34m)\u001b[0m\u001b[0;34m\u001b[0m\u001b[0;34m\u001b[0m\u001b[0m\n\u001b[1;32m   2898\u001b[0m             \u001b[0;32mexcept\u001b[0m \u001b[0mKeyError\u001b[0m\u001b[0;34m:\u001b[0m\u001b[0;34m\u001b[0m\u001b[0;34m\u001b[0m\u001b[0m\n\u001b[0;32m-> 2899\u001b[0;31m                 \u001b[0;32mreturn\u001b[0m \u001b[0mself\u001b[0m\u001b[0;34m.\u001b[0m\u001b[0m_engine\u001b[0m\u001b[0;34m.\u001b[0m\u001b[0mget_loc\u001b[0m\u001b[0;34m(\u001b[0m\u001b[0mself\u001b[0m\u001b[0;34m.\u001b[0m\u001b[0m_maybe_cast_indexer\u001b[0m\u001b[0;34m(\u001b[0m\u001b[0mkey\u001b[0m\u001b[0;34m)\u001b[0m\u001b[0;34m)\u001b[0m\u001b[0;34m\u001b[0m\u001b[0;34m\u001b[0m\u001b[0m\n\u001b[0m\u001b[1;32m   2900\u001b[0m         \u001b[0mindexer\u001b[0m \u001b[0;34m=\u001b[0m \u001b[0mself\u001b[0m\u001b[0;34m.\u001b[0m\u001b[0mget_indexer\u001b[0m\u001b[0;34m(\u001b[0m\u001b[0;34m[\u001b[0m\u001b[0mkey\u001b[0m\u001b[0;34m]\u001b[0m\u001b[0;34m,\u001b[0m \u001b[0mmethod\u001b[0m\u001b[0;34m=\u001b[0m\u001b[0mmethod\u001b[0m\u001b[0;34m,\u001b[0m \u001b[0mtolerance\u001b[0m\u001b[0;34m=\u001b[0m\u001b[0mtolerance\u001b[0m\u001b[0;34m)\u001b[0m\u001b[0;34m\u001b[0m\u001b[0;34m\u001b[0m\u001b[0m\n\u001b[1;32m   2901\u001b[0m         \u001b[0;32mif\u001b[0m \u001b[0mindexer\u001b[0m\u001b[0;34m.\u001b[0m\u001b[0mndim\u001b[0m \u001b[0;34m>\u001b[0m \u001b[0;36m1\u001b[0m \u001b[0;32mor\u001b[0m \u001b[0mindexer\u001b[0m\u001b[0;34m.\u001b[0m\u001b[0msize\u001b[0m \u001b[0;34m>\u001b[0m \u001b[0;36m1\u001b[0m\u001b[0;34m:\u001b[0m\u001b[0;34m\u001b[0m\u001b[0;34m\u001b[0m\u001b[0m\n",
      "\u001b[0;32mpandas/_libs/index.pyx\u001b[0m in \u001b[0;36mpandas._libs.index.IndexEngine.get_loc\u001b[0;34m()\u001b[0m\n",
      "\u001b[0;32mpandas/_libs/index.pyx\u001b[0m in \u001b[0;36mpandas._libs.index.IndexEngine.get_loc\u001b[0;34m()\u001b[0m\n",
      "\u001b[0;32mpandas/_libs/hashtable_class_helper.pxi\u001b[0m in \u001b[0;36mpandas._libs.hashtable.PyObjectHashTable.get_item\u001b[0;34m()\u001b[0m\n",
      "\u001b[0;32mpandas/_libs/hashtable_class_helper.pxi\u001b[0m in \u001b[0;36mpandas._libs.hashtable.PyObjectHashTable.get_item\u001b[0;34m()\u001b[0m\n",
      "\u001b[0;31mKeyError\u001b[0m: 'Factor_3'"
     ]
    },
    {
     "data": {
      "image/png": "[encoded data removed]",
      "text/plain": [
       "<Figure size 576x576 with 1 Axes>"
      ]
     },
     "metadata": {
      "needs_background": "light"
     },
     "output_type": "display_data"
    }
   ],
   "source": [
    "from mpl_toolkits.mplot3d import Axes3D\n",
    "\n",
    "fig = plt.figure(figsize=(8, 8))\n",
    "ax = fig.add_subplot(projection='3d')\n",
    "ax.scatter(df_B['Factor_1'], df_B['Factor_2'], df_B['Factor_3'])\n",
    "\n",
    "ax.set_xlabel('Factor_1')\n",
    "ax.set_ylabel('Factor_2')\n",
    "ax.set_zlabel('Factor_3')\n",
    "\n",
    "plt.show()"
   ]
  },
  {
   "cell_type": "markdown",
   "metadata": {
    "id": "EafPggE2JSdV"
   },
   "source": [
    "## Оценка редуцированной матрицы парных коэффициентов корреляции"
   ]
  },
  {
   "cell_type": "code",
   "execution_count": 49,
   "metadata": {
    "id": "X19m5p1aJSdV",
    "outputId": "fea8c17a-8323-43ee-c41c-e7d3bb28ba01"
   },
   "outputs": [
    {
     "data": {
      "text/html": [
       "<div>\n",
       "<style scoped>\n",
       "    .dataframe tbody tr th:only-of-type {\n",
       "        vertical-align: middle;\n",
       "    }\n",
       "\n",
       "    .dataframe tbody tr th {\n",
       "        vertical-align: top;\n",
       "    }\n",
       "\n",
       "    .dataframe thead th {\n",
       "        text-align: right;\n",
       "    }\n",
       "</style>\n",
       "<table border=\"1\" class=\"dataframe\">\n",
       "  <thead>\n",
       "    <tr style=\"text-align: right;\">\n",
       "      <th></th>\n",
       "      <th>X1</th>\n",
       "      <th>X2</th>\n",
       "      <th>X3</th>\n",
       "      <th>X4</th>\n",
       "      <th>X5</th>\n",
       "      <th>X6</th>\n",
       "      <th>X7</th>\n",
       "      <th>X8</th>\n",
       "      <th>X9</th>\n",
       "      <th>X10</th>\n",
       "    </tr>\n",
       "  </thead>\n",
       "  <tbody>\n",
       "    <tr>\n",
       "      <td>X1</td>\n",
       "      <td>0.674652</td>\n",
       "      <td>-0.295021</td>\n",
       "      <td>0.610483</td>\n",
       "      <td>0.034777</td>\n",
       "      <td>0.122074</td>\n",
       "      <td>-0.058478</td>\n",
       "      <td>0.010689</td>\n",
       "      <td>0.184242</td>\n",
       "      <td>-0.411091</td>\n",
       "      <td>-0.211853</td>\n",
       "    </tr>\n",
       "    <tr>\n",
       "      <td>X2</td>\n",
       "      <td>-0.295021</td>\n",
       "      <td>0.815135</td>\n",
       "      <td>-0.076540</td>\n",
       "      <td>0.687959</td>\n",
       "      <td>0.104551</td>\n",
       "      <td>-0.095012</td>\n",
       "      <td>0.052561</td>\n",
       "      <td>0.384114</td>\n",
       "      <td>0.661712</td>\n",
       "      <td>0.259371</td>\n",
       "    </tr>\n",
       "    <tr>\n",
       "      <td>X3</td>\n",
       "      <td>0.610483</td>\n",
       "      <td>-0.076540</td>\n",
       "      <td>0.605265</td>\n",
       "      <td>0.226619</td>\n",
       "      <td>0.154294</td>\n",
       "      <td>-0.086381</td>\n",
       "      <td>0.025557</td>\n",
       "      <td>0.295682</td>\n",
       "      <td>-0.238236</td>\n",
       "      <td>-0.145430</td>\n",
       "    </tr>\n",
       "    <tr>\n",
       "      <td>X4</td>\n",
       "      <td>0.034777</td>\n",
       "      <td>0.687959</td>\n",
       "      <td>0.226619</td>\n",
       "      <td>0.722425</td>\n",
       "      <td>0.168149</td>\n",
       "      <td>-0.126594</td>\n",
       "      <td>0.059208</td>\n",
       "      <td>0.485721</td>\n",
       "      <td>0.472725</td>\n",
       "      <td>0.159950</td>\n",
       "    </tr>\n",
       "    <tr>\n",
       "      <td>X5</td>\n",
       "      <td>0.122074</td>\n",
       "      <td>0.104551</td>\n",
       "      <td>0.154294</td>\n",
       "      <td>0.168149</td>\n",
       "      <td>0.058442</td>\n",
       "      <td>-0.038337</td>\n",
       "      <td>0.015109</td>\n",
       "      <td>0.140299</td>\n",
       "      <td>0.036551</td>\n",
       "      <td>0.000045</td>\n",
       "    </tr>\n",
       "    <tr>\n",
       "      <td>X6</td>\n",
       "      <td>-0.058478</td>\n",
       "      <td>-0.095012</td>\n",
       "      <td>-0.086381</td>\n",
       "      <td>-0.126594</td>\n",
       "      <td>-0.038337</td>\n",
       "      <td>0.026261</td>\n",
       "      <td>-0.010986</td>\n",
       "      <td>-0.097636</td>\n",
       "      <td>-0.049068</td>\n",
       "      <td>-0.010939</td>\n",
       "    </tr>\n",
       "    <tr>\n",
       "      <td>X7</td>\n",
       "      <td>0.010689</td>\n",
       "      <td>0.052561</td>\n",
       "      <td>0.025557</td>\n",
       "      <td>0.059208</td>\n",
       "      <td>0.015109</td>\n",
       "      <td>-0.010986</td>\n",
       "      <td>0.004944</td>\n",
       "      <td>0.041682</td>\n",
       "      <td>0.033690</td>\n",
       "      <td>0.010552</td>\n",
       "    </tr>\n",
       "    <tr>\n",
       "      <td>X8</td>\n",
       "      <td>0.184242</td>\n",
       "      <td>0.384114</td>\n",
       "      <td>0.295682</td>\n",
       "      <td>0.485721</td>\n",
       "      <td>0.140299</td>\n",
       "      <td>-0.097636</td>\n",
       "      <td>0.041682</td>\n",
       "      <td>0.365024</td>\n",
       "      <td>0.214134</td>\n",
       "      <td>0.055063</td>\n",
       "    </tr>\n",
       "    <tr>\n",
       "      <td>X9</td>\n",
       "      <td>-0.411091</td>\n",
       "      <td>0.661712</td>\n",
       "      <td>-0.238236</td>\n",
       "      <td>0.472725</td>\n",
       "      <td>0.036551</td>\n",
       "      <td>-0.049068</td>\n",
       "      <td>0.033690</td>\n",
       "      <td>0.214134</td>\n",
       "      <td>0.589019</td>\n",
       "      <td>0.246203</td>\n",
       "    </tr>\n",
       "    <tr>\n",
       "      <td>X10</td>\n",
       "      <td>-0.211853</td>\n",
       "      <td>0.259371</td>\n",
       "      <td>-0.145430</td>\n",
       "      <td>0.159950</td>\n",
       "      <td>0.000045</td>\n",
       "      <td>-0.010939</td>\n",
       "      <td>0.010552</td>\n",
       "      <td>0.055063</td>\n",
       "      <td>0.246203</td>\n",
       "      <td>0.107041</td>\n",
       "    </tr>\n",
       "  </tbody>\n",
       "</table>\n",
       "</div>"
      ],
      "text/plain": [
       "           X1        X2        X3        X4        X5        X6        X7  \\\n",
       "X1   0.674652 -0.295021  0.610483  0.034777  0.122074 -0.058478  0.010689   \n",
       "X2  -0.295021  0.815135 -0.076540  0.687959  0.104551 -0.095012  0.052561   \n",
       "X3   0.610483 -0.076540  0.605265  0.226619  0.154294 -0.086381  0.025557   \n",
       "X4   0.034777  0.687959  0.226619  0.722425  0.168149 -0.126594  0.059208   \n",
       "X5   0.122074  0.104551  0.154294  0.168149  0.058442 -0.038337  0.015109   \n",
       "X6  -0.058478 -0.095012 -0.086381 -0.126594 -0.038337  0.026261 -0.010986   \n",
       "X7   0.010689  0.052561  0.025557  0.059208  0.015109 -0.010986  0.004944   \n",
       "X8   0.184242  0.384114  0.295682  0.485721  0.140299 -0.097636  0.041682   \n",
       "X9  -0.411091  0.661712 -0.238236  0.472725  0.036551 -0.049068  0.033690   \n",
       "X10 -0.211853  0.259371 -0.145430  0.159950  0.000045 -0.010939  0.010552   \n",
       "\n",
       "           X8        X9       X10  \n",
       "X1   0.184242 -0.411091 -0.211853  \n",
       "X2   0.384114  0.661712  0.259371  \n",
       "X3   0.295682 -0.238236 -0.145430  \n",
       "X4   0.485721  0.472725  0.159950  \n",
       "X5   0.140299  0.036551  0.000045  \n",
       "X6  -0.097636 -0.049068 -0.010939  \n",
       "X7   0.041682  0.033690  0.010552  \n",
       "X8   0.365024  0.214134  0.055063  \n",
       "X9   0.214134  0.589019  0.246203  \n",
       "X10  0.055063  0.246203  0.107041  "
      ]
     },
     "execution_count": 49,
     "metadata": {},
     "output_type": "execute_result"
    }
   ],
   "source": [
    "Rh_real = np.dot(B,B.T)\n",
    "\n",
    "pd.DataFrame(Rh_real,index = features,columns = features)"
   ]
  },
  {
   "cell_type": "markdown",
   "metadata": {
    "id": "sGi2IB6RJSdW"
   },
   "source": [
    "## Оценка остаточной матрицы парных коэффициентов корреляции"
   ]
  },
  {
   "cell_type": "code",
   "execution_count": 50,
   "metadata": {
    "id": "TaRdSpOqJSdW",
    "outputId": "efb50acd-4db2-450e-8aab-b7cab3846540"
   },
   "outputs": [
    {
     "data": {
      "text/html": [
       "<div>\n",
       "<style scoped>\n",
       "    .dataframe tbody tr th:only-of-type {\n",
       "        vertical-align: middle;\n",
       "    }\n",
       "\n",
       "    .dataframe tbody tr th {\n",
       "        vertical-align: top;\n",
       "    }\n",
       "\n",
       "    .dataframe thead th {\n",
       "        text-align: right;\n",
       "    }\n",
       "</style>\n",
       "<table border=\"1\" class=\"dataframe\">\n",
       "  <thead>\n",
       "    <tr style=\"text-align: right;\">\n",
       "      <th></th>\n",
       "      <th>X1</th>\n",
       "      <th>X2</th>\n",
       "      <th>X3</th>\n",
       "      <th>X4</th>\n",
       "      <th>X5</th>\n",
       "      <th>X6</th>\n",
       "      <th>X7</th>\n",
       "      <th>X8</th>\n",
       "      <th>X9</th>\n",
       "      <th>X10</th>\n",
       "    </tr>\n",
       "  </thead>\n",
       "  <tbody>\n",
       "    <tr>\n",
       "      <td>X1</td>\n",
       "      <td>0.325348</td>\n",
       "      <td>-0.033413</td>\n",
       "      <td>0.107354</td>\n",
       "      <td>0.002264</td>\n",
       "      <td>-0.133333</td>\n",
       "      <td>0.146907</td>\n",
       "      <td>-0.053529</td>\n",
       "      <td>-0.000694</td>\n",
       "      <td>0.068382</td>\n",
       "      <td>0.060537</td>\n",
       "    </tr>\n",
       "    <tr>\n",
       "      <td>X2</td>\n",
       "      <td>-0.033413</td>\n",
       "      <td>0.184865</td>\n",
       "      <td>-0.009488</td>\n",
       "      <td>0.009173</td>\n",
       "      <td>0.010337</td>\n",
       "      <td>0.031677</td>\n",
       "      <td>0.159531</td>\n",
       "      <td>0.040755</td>\n",
       "      <td>0.029702</td>\n",
       "      <td>-0.087912</td>\n",
       "    </tr>\n",
       "    <tr>\n",
       "      <td>X3</td>\n",
       "      <td>0.107354</td>\n",
       "      <td>-0.009488</td>\n",
       "      <td>0.394735</td>\n",
       "      <td>0.005087</td>\n",
       "      <td>-0.016922</td>\n",
       "      <td>-0.025235</td>\n",
       "      <td>0.043409</td>\n",
       "      <td>-0.126709</td>\n",
       "      <td>0.104370</td>\n",
       "      <td>0.049278</td>\n",
       "    </tr>\n",
       "    <tr>\n",
       "      <td>X4</td>\n",
       "      <td>0.002264</td>\n",
       "      <td>0.009173</td>\n",
       "      <td>0.005087</td>\n",
       "      <td>0.277575</td>\n",
       "      <td>-0.004697</td>\n",
       "      <td>-0.025539</td>\n",
       "      <td>-0.055088</td>\n",
       "      <td>0.059127</td>\n",
       "      <td>0.017747</td>\n",
       "      <td>0.017061</td>\n",
       "    </tr>\n",
       "    <tr>\n",
       "      <td>X5</td>\n",
       "      <td>-0.133333</td>\n",
       "      <td>0.010337</td>\n",
       "      <td>-0.016922</td>\n",
       "      <td>-0.004697</td>\n",
       "      <td>0.941558</td>\n",
       "      <td>-0.323797</td>\n",
       "      <td>-0.093510</td>\n",
       "      <td>0.022762</td>\n",
       "      <td>-0.133061</td>\n",
       "      <td>-0.034506</td>\n",
       "    </tr>\n",
       "    <tr>\n",
       "      <td>X6</td>\n",
       "      <td>0.146907</td>\n",
       "      <td>0.031677</td>\n",
       "      <td>-0.025235</td>\n",
       "      <td>-0.025539</td>\n",
       "      <td>-0.323797</td>\n",
       "      <td>0.973739</td>\n",
       "      <td>0.083077</td>\n",
       "      <td>0.058381</td>\n",
       "      <td>0.081228</td>\n",
       "      <td>0.010418</td>\n",
       "    </tr>\n",
       "    <tr>\n",
       "      <td>X7</td>\n",
       "      <td>-0.053529</td>\n",
       "      <td>0.159531</td>\n",
       "      <td>0.043409</td>\n",
       "      <td>-0.055088</td>\n",
       "      <td>-0.093510</td>\n",
       "      <td>0.083077</td>\n",
       "      <td>0.995056</td>\n",
       "      <td>-0.007697</td>\n",
       "      <td>-0.035391</td>\n",
       "      <td>-0.279868</td>\n",
       "    </tr>\n",
       "    <tr>\n",
       "      <td>X8</td>\n",
       "      <td>-0.000694</td>\n",
       "      <td>0.040755</td>\n",
       "      <td>-0.126709</td>\n",
       "      <td>0.059127</td>\n",
       "      <td>0.022762</td>\n",
       "      <td>0.058381</td>\n",
       "      <td>-0.007697</td>\n",
       "      <td>0.634976</td>\n",
       "      <td>-0.151386</td>\n",
       "      <td>-0.049684</td>\n",
       "    </tr>\n",
       "    <tr>\n",
       "      <td>X9</td>\n",
       "      <td>0.068382</td>\n",
       "      <td>0.029702</td>\n",
       "      <td>0.104370</td>\n",
       "      <td>0.017747</td>\n",
       "      <td>-0.133061</td>\n",
       "      <td>0.081228</td>\n",
       "      <td>-0.035391</td>\n",
       "      <td>-0.151386</td>\n",
       "      <td>0.410981</td>\n",
       "      <td>0.135128</td>\n",
       "    </tr>\n",
       "    <tr>\n",
       "      <td>X10</td>\n",
       "      <td>0.060537</td>\n",
       "      <td>-0.087912</td>\n",
       "      <td>0.049278</td>\n",
       "      <td>0.017061</td>\n",
       "      <td>-0.034506</td>\n",
       "      <td>0.010418</td>\n",
       "      <td>-0.279868</td>\n",
       "      <td>-0.049684</td>\n",
       "      <td>0.135128</td>\n",
       "      <td>0.892959</td>\n",
       "    </tr>\n",
       "  </tbody>\n",
       "</table>\n",
       "</div>"
      ],
      "text/plain": [
       "           X1        X2        X3        X4        X5        X6        X7  \\\n",
       "X1   0.325348 -0.033413  0.107354  0.002264 -0.133333  0.146907 -0.053529   \n",
       "X2  -0.033413  0.184865 -0.009488  0.009173  0.010337  0.031677  0.159531   \n",
       "X3   0.107354 -0.009488  0.394735  0.005087 -0.016922 -0.025235  0.043409   \n",
       "X4   0.002264  0.009173  0.005087  0.277575 -0.004697 -0.025539 -0.055088   \n",
       "X5  -0.133333  0.010337 -0.016922 -0.004697  0.941558 -0.323797 -0.093510   \n",
       "X6   0.146907  0.031677 -0.025235 -0.025539 -0.323797  0.973739  0.083077   \n",
       "X7  -0.053529  0.159531  0.043409 -0.055088 -0.093510  0.083077  0.995056   \n",
       "X8  -0.000694  0.040755 -0.126709  0.059127  0.022762  0.058381 -0.007697   \n",
       "X9   0.068382  0.029702  0.104370  0.017747 -0.133061  0.081228 -0.035391   \n",
       "X10  0.060537 -0.087912  0.049278  0.017061 -0.034506  0.010418 -0.279868   \n",
       "\n",
       "           X8        X9       X10  \n",
       "X1  -0.000694  0.068382  0.060537  \n",
       "X2   0.040755  0.029702 -0.087912  \n",
       "X3  -0.126709  0.104370  0.049278  \n",
       "X4   0.059127  0.017747  0.017061  \n",
       "X5   0.022762 -0.133061 -0.034506  \n",
       "X6   0.058381  0.081228  0.010418  \n",
       "X7  -0.007697 -0.035391 -0.279868  \n",
       "X8   0.634976 -0.151386 -0.049684  \n",
       "X9  -0.151386  0.410981  0.135128  \n",
       "X10 -0.049684  0.135128  0.892959  "
      ]
     },
     "execution_count": 50,
     "metadata": {},
     "output_type": "execute_result"
    }
   ],
   "source": [
    "D2 = correlations.values - Rh_real\n",
    "\n",
    "pd.DataFrame(D2,index = features,columns = features)"
   ]
  },
  {
   "cell_type": "markdown",
   "metadata": {
    "id": "q9lZAZvNJSdW"
   },
   "source": [
    "## Оценки характерностей"
   ]
  },
  {
   "cell_type": "code",
   "execution_count": 51,
   "metadata": {
    "id": "E7IpSvVcJSdX",
    "outputId": "ec8a907b-ed85-436f-894f-092a09451e21"
   },
   "outputs": [
    {
     "data": {
      "text/plain": [
       "[0.5703926840404461,\n",
       " 0.42995974464825604,\n",
       " 0.6282794230378629,\n",
       " 0.5268540760339728,\n",
       " 0.9703391679365899,\n",
       " 0.9867821198195325,\n",
       " 0.9975249920236879,\n",
       " 0.796853743380736,\n",
       " 0.6410778080738103,\n",
       " 0.9449651112017127]"
      ]
     },
     "execution_count": 51,
     "metadata": {},
     "output_type": "execute_result"
    }
   ],
   "source": [
    "charact =[]\n",
    "for i in range(D2.shape[0]):\n",
    "    charact.append (math.sqrt(D2[i][i]))\n",
    "    \n",
    "charact"
   ]
  },
  {
   "cell_type": "markdown",
   "metadata": {
    "id": "cBMoWhRTJSdX"
   },
   "source": [
    "## Связь исходных признаков с главными факторами"
   ]
  },
  {
   "cell_type": "code",
   "execution_count": 135,
   "metadata": {
    "id": "jAqNHkvUJSdX",
    "outputId": "5fcfe9cc-37f7-477c-90bb-ca765d25f823",
    "scrolled": true
   },
   "outputs": [
    {
     "ename": "IndexError",
     "evalue": "index 2 is out of bounds for axis 1 with size 2",
     "output_type": "error",
     "traceback": [
      "\u001b[0;31m---------------------------------------------------------------------------\u001b[0m",
      "\u001b[0;31mIndexError\u001b[0m                                Traceback (most recent call last)",
      "\u001b[0;32m<ipython-input-135-ba9ba375b876>\u001b[0m in \u001b[0;36m<module>\u001b[0;34m\u001b[0m\n\u001b[1;32m      1\u001b[0m \u001b[0;32mfor\u001b[0m \u001b[0mi\u001b[0m \u001b[0;32min\u001b[0m \u001b[0mrange\u001b[0m\u001b[0;34m(\u001b[0m\u001b[0;36m0\u001b[0m\u001b[0;34m,\u001b[0m\u001b[0mf_len\u001b[0m\u001b[0;34m)\u001b[0m\u001b[0;34m:\u001b[0m\u001b[0;34m\u001b[0m\u001b[0;34m\u001b[0m\u001b[0m\n\u001b[0;32m----> 2\u001b[0;31m     \u001b[0mprint\u001b[0m\u001b[0;34m(\u001b[0m\u001b[0;34m'{} = {:.3f}*F{} + {:.3f}*F{} + {:.3f}*F{} + {:.3f}*D{}'\u001b[0m\u001b[0;34m.\u001b[0m\u001b[0mformat\u001b[0m\u001b[0;34m(\u001b[0m\u001b[0mfeatures\u001b[0m\u001b[0;34m[\u001b[0m\u001b[0mi\u001b[0m\u001b[0;34m]\u001b[0m\u001b[0;34m,\u001b[0m \u001b[0mB\u001b[0m\u001b[0;34m[\u001b[0m\u001b[0mi\u001b[0m\u001b[0;34m,\u001b[0m\u001b[0;36m0\u001b[0m\u001b[0;34m]\u001b[0m\u001b[0;34m,\u001b[0m \u001b[0;36m1\u001b[0m\u001b[0;34m,\u001b[0m \u001b[0mB\u001b[0m\u001b[0;34m[\u001b[0m\u001b[0mi\u001b[0m\u001b[0;34m,\u001b[0m\u001b[0;36m1\u001b[0m\u001b[0;34m]\u001b[0m\u001b[0;34m,\u001b[0m \u001b[0;36m2\u001b[0m\u001b[0;34m,\u001b[0m \u001b[0mB\u001b[0m\u001b[0;34m[\u001b[0m\u001b[0mi\u001b[0m\u001b[0;34m,\u001b[0m \u001b[0;36m2\u001b[0m\u001b[0;34m]\u001b[0m\u001b[0;34m,\u001b[0m \u001b[0;36m3\u001b[0m\u001b[0;34m,\u001b[0m \u001b[0mcharact\u001b[0m\u001b[0;34m[\u001b[0m\u001b[0mi\u001b[0m\u001b[0;34m]\u001b[0m\u001b[0;34m,\u001b[0m \u001b[0mi\u001b[0m\u001b[0;34m+\u001b[0m\u001b[0;36m1\u001b[0m\u001b[0;34m)\u001b[0m\u001b[0;34m)\u001b[0m\u001b[0;34m\u001b[0m\u001b[0;34m\u001b[0m\u001b[0m\n\u001b[0m",
      "\u001b[0;31mIndexError\u001b[0m: index 2 is out of bounds for axis 1 with size 2"
     ]
    }
   ],
   "source": [
    "for i in range(0,f_len):\n",
    "    print('{} = {:.3f}*F{} + {:.3f}*F{} + {:.3f}*F{} + {:.3f}*D{}'.format(features[i], B[i,0], 1, B[i,1], 2, B[i, 2], 3, charact[i], i+1))"
   ]
  },
  {
   "cell_type": "code",
   "execution_count": 30,
   "metadata": {},
   "outputs": [
    {
     "name": "stdout",
     "output_type": "stream",
     "text": [
      "X1 = 0.802*F1 + 0.179*F2 + 0.570*D1\n",
      "X2 = -0.170*F1 + -0.887*F2 + 0.430*D2\n",
      "X3 = 0.775*F1 + -0.063*F2 + 0.628*D3\n",
      "X4 = 0.226*F1 + -0.819*F2 + 0.527*D4\n",
      "X5 = 0.187*F1 + -0.154*F2 + 0.970*D5\n",
      "X6 = -0.101*F1 + 0.127*F2 + 0.987*D6\n",
      "X7 = 0.028*F1 + -0.065*F2 + 0.998*D7\n",
      "X8 = 0.341*F1 + -0.499*F2 + 0.797*D8\n",
      "X9 = -0.362*F1 + -0.677*F2 + 0.641*D9\n",
      "X10 = -0.208*F1 + -0.253*F2 + 0.945*D10\n"
     ]
    }
   ],
   "source": [
    "for i in range(0,f_len):\n",
    "    print('{} = {:.3f}*F{} + {:.3f}*F{} + {:.3f}*D{}'.format(features[i], B[i,0], 1, B[i,1], 2, charact[i], i+1))"
   ]
  },
  {
   "cell_type": "markdown",
   "metadata": {
    "id": "X2bVoy3GJSdY"
   },
   "source": [
    "## Индивидуальные значения главных факторов, полученные методом Бартлетта"
   ]
  },
  {
   "cell_type": "code",
   "execution_count": 52,
   "metadata": {
    "id": "blreK1HQJSdZ",
    "outputId": "b494304e-a341-4efa-f638-46d6224b6c29"
   },
   "outputs": [
    {
     "ename": "ValueError",
     "evalue": "Shape of passed values is (85, 2), indices imply (85, 3)",
     "output_type": "error",
     "traceback": [
      "\u001b[0;31m---------------------------------------------------------------------------\u001b[0m",
      "\u001b[0;31mValueError\u001b[0m                                Traceback (most recent call last)",
      "\u001b[0;32m~/opt/anaconda3/lib/python3.7/site-packages/pandas/core/internals/managers.py\u001b[0m in \u001b[0;36mcreate_block_manager_from_blocks\u001b[0;34m(blocks, axes)\u001b[0m\n\u001b[1;32m   1677\u001b[0m                 blocks = [\n\u001b[0;32m-> 1678\u001b[0;31m                     \u001b[0mmake_block\u001b[0m\u001b[0;34m(\u001b[0m\u001b[0mvalues\u001b[0m\u001b[0;34m=\u001b[0m\u001b[0mblocks\u001b[0m\u001b[0;34m[\u001b[0m\u001b[0;36m0\u001b[0m\u001b[0;34m]\u001b[0m\u001b[0;34m,\u001b[0m \u001b[0mplacement\u001b[0m\u001b[0;34m=\u001b[0m\u001b[0mslice\u001b[0m\u001b[0;34m(\u001b[0m\u001b[0;36m0\u001b[0m\u001b[0;34m,\u001b[0m \u001b[0mlen\u001b[0m\u001b[0;34m(\u001b[0m\u001b[0maxes\u001b[0m\u001b[0;34m[\u001b[0m\u001b[0;36m0\u001b[0m\u001b[0;34m]\u001b[0m\u001b[0;34m)\u001b[0m\u001b[0;34m)\u001b[0m\u001b[0;34m)\u001b[0m\u001b[0;34m\u001b[0m\u001b[0;34m\u001b[0m\u001b[0m\n\u001b[0m\u001b[1;32m   1679\u001b[0m                 ]\n",
      "\u001b[0;32m~/opt/anaconda3/lib/python3.7/site-packages/pandas/core/internals/blocks.py\u001b[0m in \u001b[0;36mmake_block\u001b[0;34m(values, placement, klass, ndim, dtype, fastpath)\u001b[0m\n\u001b[1;32m   3266\u001b[0m \u001b[0;34m\u001b[0m\u001b[0m\n\u001b[0;32m-> 3267\u001b[0;31m     \u001b[0;32mreturn\u001b[0m \u001b[0mklass\u001b[0m\u001b[0;34m(\u001b[0m\u001b[0mvalues\u001b[0m\u001b[0;34m,\u001b[0m \u001b[0mndim\u001b[0m\u001b[0;34m=\u001b[0m\u001b[0mndim\u001b[0m\u001b[0;34m,\u001b[0m \u001b[0mplacement\u001b[0m\u001b[0;34m=\u001b[0m\u001b[0mplacement\u001b[0m\u001b[0;34m)\u001b[0m\u001b[0;34m\u001b[0m\u001b[0;34m\u001b[0m\u001b[0m\n\u001b[0m\u001b[1;32m   3268\u001b[0m \u001b[0;34m\u001b[0m\u001b[0m\n",
      "\u001b[0;32m~/opt/anaconda3/lib/python3.7/site-packages/pandas/core/internals/blocks.py\u001b[0m in \u001b[0;36m__init__\u001b[0;34m(self, values, placement, ndim)\u001b[0m\n\u001b[1;32m    127\u001b[0m                 \u001b[0;34m\"Wrong number of items passed {val}, placement implies \"\u001b[0m\u001b[0;34m\u001b[0m\u001b[0;34m\u001b[0m\u001b[0m\n\u001b[0;32m--> 128\u001b[0;31m                 \u001b[0;34m\"{mgr}\"\u001b[0m\u001b[0;34m.\u001b[0m\u001b[0mformat\u001b[0m\u001b[0;34m(\u001b[0m\u001b[0mval\u001b[0m\u001b[0;34m=\u001b[0m\u001b[0mlen\u001b[0m\u001b[0;34m(\u001b[0m\u001b[0mself\u001b[0m\u001b[0;34m.\u001b[0m\u001b[0mvalues\u001b[0m\u001b[0;34m)\u001b[0m\u001b[0;34m,\u001b[0m \u001b[0mmgr\u001b[0m\u001b[0;34m=\u001b[0m\u001b[0mlen\u001b[0m\u001b[0;34m(\u001b[0m\u001b[0mself\u001b[0m\u001b[0;34m.\u001b[0m\u001b[0mmgr_locs\u001b[0m\u001b[0;34m)\u001b[0m\u001b[0;34m)\u001b[0m\u001b[0;34m\u001b[0m\u001b[0;34m\u001b[0m\u001b[0m\n\u001b[0m\u001b[1;32m    129\u001b[0m             )\n",
      "\u001b[0;31mValueError\u001b[0m: Wrong number of items passed 2, placement implies 3",
      "\nDuring handling of the above exception, another exception occurred:\n",
      "\u001b[0;31mValueError\u001b[0m                                Traceback (most recent call last)",
      "\u001b[0;32m<ipython-input-52-c493f45aca5e>\u001b[0m in \u001b[0;36m<module>\u001b[0;34m\u001b[0m\n\u001b[1;32m      6\u001b[0m \u001b[0mW\u001b[0m \u001b[0;34m=\u001b[0m \u001b[0mnp\u001b[0m\u001b[0;34m.\u001b[0m\u001b[0mdot\u001b[0m\u001b[0;34m(\u001b[0m\u001b[0mnp\u001b[0m\u001b[0;34m.\u001b[0m\u001b[0mdot\u001b[0m\u001b[0;34m(\u001b[0m\u001b[0mB\u001b[0m\u001b[0;34m.\u001b[0m\u001b[0mT\u001b[0m\u001b[0;34m,\u001b[0m\u001b[0mnp\u001b[0m\u001b[0;34m.\u001b[0m\u001b[0mlinalg\u001b[0m\u001b[0;34m.\u001b[0m\u001b[0minv\u001b[0m\u001b[0;34m(\u001b[0m\u001b[0mscr_charact\u001b[0m\u001b[0;34m)\u001b[0m\u001b[0;34m)\u001b[0m\u001b[0;34m,\u001b[0m\u001b[0mdata\u001b[0m\u001b[0;34m.\u001b[0m\u001b[0mvalues\u001b[0m\u001b[0;34m.\u001b[0m\u001b[0mT\u001b[0m\u001b[0;34m)\u001b[0m\u001b[0;34m\u001b[0m\u001b[0;34m\u001b[0m\u001b[0m\n\u001b[1;32m      7\u001b[0m \u001b[0mF\u001b[0m \u001b[0;34m=\u001b[0m \u001b[0mnp\u001b[0m\u001b[0;34m.\u001b[0m\u001b[0mdot\u001b[0m\u001b[0;34m(\u001b[0m\u001b[0mQ\u001b[0m\u001b[0;34m,\u001b[0m \u001b[0mW\u001b[0m\u001b[0;34m)\u001b[0m\u001b[0;34m\u001b[0m\u001b[0;34m\u001b[0m\u001b[0m\n\u001b[0;32m----> 8\u001b[0;31m \u001b[0mdf_factor_scores_lect\u001b[0m \u001b[0;34m=\u001b[0m \u001b[0mpd\u001b[0m\u001b[0;34m.\u001b[0m\u001b[0mDataFrame\u001b[0m \u001b[0;34m(\u001b[0m\u001b[0mdata\u001b[0m \u001b[0;34m=\u001b[0m\u001b[0mF\u001b[0m\u001b[0;34m.\u001b[0m\u001b[0mT\u001b[0m\u001b[0;34m,\u001b[0m\u001b[0mindex\u001b[0m \u001b[0;34m=\u001b[0m \u001b[0mindex\u001b[0m\u001b[0;34m,\u001b[0m \u001b[0mcolumns\u001b[0m \u001b[0;34m=\u001b[0m \u001b[0;34m[\u001b[0m\u001b[0;34m'Factor1_lect'\u001b[0m\u001b[0;34m,\u001b[0m\u001b[0;34m'Factor2_lect'\u001b[0m\u001b[0;34m,\u001b[0m \u001b[0;34m'Factor3_lect'\u001b[0m\u001b[0;34m]\u001b[0m \u001b[0;34m)\u001b[0m\u001b[0;34m\u001b[0m\u001b[0;34m\u001b[0m\u001b[0m\n\u001b[0m\u001b[1;32m      9\u001b[0m \u001b[0;34m\u001b[0m\u001b[0m\n\u001b[1;32m     10\u001b[0m \u001b[0mdf_factor_scores_lect\u001b[0m\u001b[0;34m\u001b[0m\u001b[0;34m\u001b[0m\u001b[0m\n",
      "\u001b[0;32m~/opt/anaconda3/lib/python3.7/site-packages/pandas/core/frame.py\u001b[0m in \u001b[0;36m__init__\u001b[0;34m(self, data, index, columns, dtype, copy)\u001b[0m\n\u001b[1;32m    438\u001b[0m                 \u001b[0mmgr\u001b[0m \u001b[0;34m=\u001b[0m \u001b[0minit_dict\u001b[0m\u001b[0;34m(\u001b[0m\u001b[0;34m{\u001b[0m\u001b[0mdata\u001b[0m\u001b[0;34m.\u001b[0m\u001b[0mname\u001b[0m\u001b[0;34m:\u001b[0m \u001b[0mdata\u001b[0m\u001b[0;34m}\u001b[0m\u001b[0;34m,\u001b[0m \u001b[0mindex\u001b[0m\u001b[0;34m,\u001b[0m \u001b[0mcolumns\u001b[0m\u001b[0;34m,\u001b[0m \u001b[0mdtype\u001b[0m\u001b[0;34m=\u001b[0m\u001b[0mdtype\u001b[0m\u001b[0;34m)\u001b[0m\u001b[0;34m\u001b[0m\u001b[0;34m\u001b[0m\u001b[0m\n\u001b[1;32m    439\u001b[0m             \u001b[0;32melse\u001b[0m\u001b[0;34m:\u001b[0m\u001b[0;34m\u001b[0m\u001b[0;34m\u001b[0m\u001b[0m\n\u001b[0;32m--> 440\u001b[0;31m                 \u001b[0mmgr\u001b[0m \u001b[0;34m=\u001b[0m \u001b[0minit_ndarray\u001b[0m\u001b[0;34m(\u001b[0m\u001b[0mdata\u001b[0m\u001b[0;34m,\u001b[0m \u001b[0mindex\u001b[0m\u001b[0;34m,\u001b[0m \u001b[0mcolumns\u001b[0m\u001b[0;34m,\u001b[0m \u001b[0mdtype\u001b[0m\u001b[0;34m=\u001b[0m\u001b[0mdtype\u001b[0m\u001b[0;34m,\u001b[0m \u001b[0mcopy\u001b[0m\u001b[0;34m=\u001b[0m\u001b[0mcopy\u001b[0m\u001b[0;34m)\u001b[0m\u001b[0;34m\u001b[0m\u001b[0;34m\u001b[0m\u001b[0m\n\u001b[0m\u001b[1;32m    441\u001b[0m \u001b[0;34m\u001b[0m\u001b[0m\n\u001b[1;32m    442\u001b[0m         \u001b[0;31m# For data is list-like, or Iterable (will consume into list)\u001b[0m\u001b[0;34m\u001b[0m\u001b[0;34m\u001b[0m\u001b[0;34m\u001b[0m\u001b[0m\n",
      "\u001b[0;32m~/opt/anaconda3/lib/python3.7/site-packages/pandas/core/internals/construction.py\u001b[0m in \u001b[0;36minit_ndarray\u001b[0;34m(values, index, columns, dtype, copy)\u001b[0m\n\u001b[1;32m    211\u001b[0m         \u001b[0mblock_values\u001b[0m \u001b[0;34m=\u001b[0m \u001b[0;34m[\u001b[0m\u001b[0mvalues\u001b[0m\u001b[0;34m]\u001b[0m\u001b[0;34m\u001b[0m\u001b[0;34m\u001b[0m\u001b[0m\n\u001b[1;32m    212\u001b[0m \u001b[0;34m\u001b[0m\u001b[0m\n\u001b[0;32m--> 213\u001b[0;31m     \u001b[0;32mreturn\u001b[0m \u001b[0mcreate_block_manager_from_blocks\u001b[0m\u001b[0;34m(\u001b[0m\u001b[0mblock_values\u001b[0m\u001b[0;34m,\u001b[0m \u001b[0;34m[\u001b[0m\u001b[0mcolumns\u001b[0m\u001b[0;34m,\u001b[0m \u001b[0mindex\u001b[0m\u001b[0;34m]\u001b[0m\u001b[0;34m)\u001b[0m\u001b[0;34m\u001b[0m\u001b[0;34m\u001b[0m\u001b[0m\n\u001b[0m\u001b[1;32m    214\u001b[0m \u001b[0;34m\u001b[0m\u001b[0m\n\u001b[1;32m    215\u001b[0m \u001b[0;34m\u001b[0m\u001b[0m\n",
      "\u001b[0;32m~/opt/anaconda3/lib/python3.7/site-packages/pandas/core/internals/managers.py\u001b[0m in \u001b[0;36mcreate_block_manager_from_blocks\u001b[0;34m(blocks, axes)\u001b[0m\n\u001b[1;32m   1686\u001b[0m         \u001b[0mblocks\u001b[0m \u001b[0;34m=\u001b[0m \u001b[0;34m[\u001b[0m\u001b[0mgetattr\u001b[0m\u001b[0;34m(\u001b[0m\u001b[0mb\u001b[0m\u001b[0;34m,\u001b[0m \u001b[0;34m\"values\"\u001b[0m\u001b[0;34m,\u001b[0m \u001b[0mb\u001b[0m\u001b[0;34m)\u001b[0m \u001b[0;32mfor\u001b[0m \u001b[0mb\u001b[0m \u001b[0;32min\u001b[0m \u001b[0mblocks\u001b[0m\u001b[0;34m]\u001b[0m\u001b[0;34m\u001b[0m\u001b[0;34m\u001b[0m\u001b[0m\n\u001b[1;32m   1687\u001b[0m         \u001b[0mtot_items\u001b[0m \u001b[0;34m=\u001b[0m \u001b[0msum\u001b[0m\u001b[0;34m(\u001b[0m\u001b[0mb\u001b[0m\u001b[0;34m.\u001b[0m\u001b[0mshape\u001b[0m\u001b[0;34m[\u001b[0m\u001b[0;36m0\u001b[0m\u001b[0;34m]\u001b[0m \u001b[0;32mfor\u001b[0m \u001b[0mb\u001b[0m \u001b[0;32min\u001b[0m \u001b[0mblocks\u001b[0m\u001b[0;34m)\u001b[0m\u001b[0;34m\u001b[0m\u001b[0;34m\u001b[0m\u001b[0m\n\u001b[0;32m-> 1688\u001b[0;31m         \u001b[0mconstruction_error\u001b[0m\u001b[0;34m(\u001b[0m\u001b[0mtot_items\u001b[0m\u001b[0;34m,\u001b[0m \u001b[0mblocks\u001b[0m\u001b[0;34m[\u001b[0m\u001b[0;36m0\u001b[0m\u001b[0;34m]\u001b[0m\u001b[0;34m.\u001b[0m\u001b[0mshape\u001b[0m\u001b[0;34m[\u001b[0m\u001b[0;36m1\u001b[0m\u001b[0;34m:\u001b[0m\u001b[0;34m]\u001b[0m\u001b[0;34m,\u001b[0m \u001b[0maxes\u001b[0m\u001b[0;34m,\u001b[0m \u001b[0me\u001b[0m\u001b[0;34m)\u001b[0m\u001b[0;34m\u001b[0m\u001b[0;34m\u001b[0m\u001b[0m\n\u001b[0m\u001b[1;32m   1689\u001b[0m \u001b[0;34m\u001b[0m\u001b[0m\n\u001b[1;32m   1690\u001b[0m \u001b[0;34m\u001b[0m\u001b[0m\n",
      "\u001b[0;32m~/opt/anaconda3/lib/python3.7/site-packages/pandas/core/internals/managers.py\u001b[0m in \u001b[0;36mconstruction_error\u001b[0;34m(tot_items, block_shape, axes, e)\u001b[0m\n\u001b[1;32m   1717\u001b[0m         \u001b[0;32mraise\u001b[0m \u001b[0mValueError\u001b[0m\u001b[0;34m(\u001b[0m\u001b[0;34m\"Empty data passed with indices specified.\"\u001b[0m\u001b[0;34m)\u001b[0m\u001b[0;34m\u001b[0m\u001b[0;34m\u001b[0m\u001b[0m\n\u001b[1;32m   1718\u001b[0m     raise ValueError(\n\u001b[0;32m-> 1719\u001b[0;31m         \u001b[0;34m\"Shape of passed values is {0}, indices imply {1}\"\u001b[0m\u001b[0;34m.\u001b[0m\u001b[0mformat\u001b[0m\u001b[0;34m(\u001b[0m\u001b[0mpassed\u001b[0m\u001b[0;34m,\u001b[0m \u001b[0mimplied\u001b[0m\u001b[0;34m)\u001b[0m\u001b[0;34m\u001b[0m\u001b[0;34m\u001b[0m\u001b[0m\n\u001b[0m\u001b[1;32m   1720\u001b[0m     )\n\u001b[1;32m   1721\u001b[0m \u001b[0;34m\u001b[0m\u001b[0m\n",
      "\u001b[0;31mValueError\u001b[0m: Shape of passed values is (85, 2), indices imply (85, 3)"
     ]
    }
   ],
   "source": [
    "scr_charact = np.eye(f_len)\n",
    "for i in range(f_len):\n",
    "    scr_charact[i][i] = D2[i][i]\n",
    "\n",
    "Q = np.linalg.inv(np.dot(np.dot(B.T, np.linalg.inv(scr_charact)), B))\n",
    "W = np.dot(np.dot(B.T,np.linalg.inv(scr_charact)),data.values.T)\n",
    "F = np.dot(Q, W)\n",
    "df_factor_scores_lect = pd.DataFrame (data =F.T,index = index, columns = ['Factor1_lect','Factor2_lect', 'Factor3_lect'] )\n",
    "                  \n",
    "df_factor_scores_lect"
   ]
  },
  {
   "cell_type": "code",
   "execution_count": 53,
   "metadata": {},
   "outputs": [
    {
     "data": {
      "text/html": [
       "<div>\n",
       "<style scoped>\n",
       "    .dataframe tbody tr th:only-of-type {\n",
       "        vertical-align: middle;\n",
       "    }\n",
       "\n",
       "    .dataframe tbody tr th {\n",
       "        vertical-align: top;\n",
       "    }\n",
       "\n",
       "    .dataframe thead th {\n",
       "        text-align: right;\n",
       "    }\n",
       "</style>\n",
       "<table border=\"1\" class=\"dataframe\">\n",
       "  <thead>\n",
       "    <tr style=\"text-align: right;\">\n",
       "      <th></th>\n",
       "      <th>Factor1_lect</th>\n",
       "      <th>Factor2_lect</th>\n",
       "    </tr>\n",
       "  </thead>\n",
       "  <tbody>\n",
       "    <tr>\n",
       "      <td>0</td>\n",
       "      <td>-1.112763</td>\n",
       "      <td>-1.007264</td>\n",
       "    </tr>\n",
       "    <tr>\n",
       "      <td>1</td>\n",
       "      <td>-1.177126</td>\n",
       "      <td>-1.162926</td>\n",
       "    </tr>\n",
       "    <tr>\n",
       "      <td>2</td>\n",
       "      <td>-0.881123</td>\n",
       "      <td>-1.137435</td>\n",
       "    </tr>\n",
       "    <tr>\n",
       "      <td>3</td>\n",
       "      <td>-1.446542</td>\n",
       "      <td>-0.874785</td>\n",
       "    </tr>\n",
       "    <tr>\n",
       "      <td>4</td>\n",
       "      <td>-0.543382</td>\n",
       "      <td>-0.876391</td>\n",
       "    </tr>\n",
       "    <tr>\n",
       "      <td>...</td>\n",
       "      <td>...</td>\n",
       "      <td>...</td>\n",
       "    </tr>\n",
       "    <tr>\n",
       "      <td>80</td>\n",
       "      <td>-2.134626</td>\n",
       "      <td>1.716923</td>\n",
       "    </tr>\n",
       "    <tr>\n",
       "      <td>81</td>\n",
       "      <td>-1.063871</td>\n",
       "      <td>1.555493</td>\n",
       "    </tr>\n",
       "    <tr>\n",
       "      <td>82</td>\n",
       "      <td>-0.501689</td>\n",
       "      <td>0.478924</td>\n",
       "    </tr>\n",
       "    <tr>\n",
       "      <td>83</td>\n",
       "      <td>-1.447895</td>\n",
       "      <td>1.380401</td>\n",
       "    </tr>\n",
       "    <tr>\n",
       "      <td>84</td>\n",
       "      <td>-2.895583</td>\n",
       "      <td>3.606778</td>\n",
       "    </tr>\n",
       "  </tbody>\n",
       "</table>\n",
       "<p>85 rows × 2 columns</p>\n",
       "</div>"
      ],
      "text/plain": [
       "    Factor1_lect  Factor2_lect\n",
       "0      -1.112763     -1.007264\n",
       "1      -1.177126     -1.162926\n",
       "2      -0.881123     -1.137435\n",
       "3      -1.446542     -0.874785\n",
       "4      -0.543382     -0.876391\n",
       "..           ...           ...\n",
       "80     -2.134626      1.716923\n",
       "81     -1.063871      1.555493\n",
       "82     -0.501689      0.478924\n",
       "83     -1.447895      1.380401\n",
       "84     -2.895583      3.606778\n",
       "\n",
       "[85 rows x 2 columns]"
      ]
     },
     "execution_count": 53,
     "metadata": {},
     "output_type": "execute_result"
    }
   ],
   "source": [
    "scr_charact = np.eye(f_len)\n",
    "for i in range(f_len):\n",
    "    scr_charact[i][i] = D2[i][i]\n",
    "\n",
    "Q = np.linalg.inv(np.dot(np.dot(B.T, np.linalg.inv(scr_charact)), B))\n",
    "W = np.dot(np.dot(B.T,np.linalg.inv(scr_charact)),data.values.T)\n",
    "F = np.dot(Q, W)\n",
    "df_factor_scores_lect = pd.DataFrame (data =F.T,index = index, columns = ['Factor1_lect','Factor2_lect'] )\n",
    "                  \n",
    "df_factor_scores_lect"
   ]
  },
  {
   "cell_type": "markdown",
   "metadata": {
    "id": "YO6Wial1JSdZ"
   },
   "source": [
    "## Индивидуальные значения главных факторов, полученные методом, который используется в программе Statistica"
   ]
  },
  {
   "cell_type": "code",
   "execution_count": 54,
   "metadata": {
    "id": "fZqZsMV2JSdZ",
    "outputId": "ada54655-0e2b-43c6-cec4-a4076f2513e3"
   },
   "outputs": [
    {
     "ename": "ValueError",
     "evalue": "Shape of passed values is (85, 2), indices imply (85, 3)",
     "output_type": "error",
     "traceback": [
      "\u001b[0;31m---------------------------------------------------------------------------\u001b[0m",
      "\u001b[0;31mValueError\u001b[0m                                Traceback (most recent call last)",
      "\u001b[0;32m~/opt/anaconda3/lib/python3.7/site-packages/pandas/core/internals/managers.py\u001b[0m in \u001b[0;36mcreate_block_manager_from_blocks\u001b[0;34m(blocks, axes)\u001b[0m\n\u001b[1;32m   1677\u001b[0m                 blocks = [\n\u001b[0;32m-> 1678\u001b[0;31m                     \u001b[0mmake_block\u001b[0m\u001b[0;34m(\u001b[0m\u001b[0mvalues\u001b[0m\u001b[0;34m=\u001b[0m\u001b[0mblocks\u001b[0m\u001b[0;34m[\u001b[0m\u001b[0;36m0\u001b[0m\u001b[0;34m]\u001b[0m\u001b[0;34m,\u001b[0m \u001b[0mplacement\u001b[0m\u001b[0;34m=\u001b[0m\u001b[0mslice\u001b[0m\u001b[0;34m(\u001b[0m\u001b[0;36m0\u001b[0m\u001b[0;34m,\u001b[0m \u001b[0mlen\u001b[0m\u001b[0;34m(\u001b[0m\u001b[0maxes\u001b[0m\u001b[0;34m[\u001b[0m\u001b[0;36m0\u001b[0m\u001b[0;34m]\u001b[0m\u001b[0;34m)\u001b[0m\u001b[0;34m)\u001b[0m\u001b[0;34m)\u001b[0m\u001b[0;34m\u001b[0m\u001b[0;34m\u001b[0m\u001b[0m\n\u001b[0m\u001b[1;32m   1679\u001b[0m                 ]\n",
      "\u001b[0;32m~/opt/anaconda3/lib/python3.7/site-packages/pandas/core/internals/blocks.py\u001b[0m in \u001b[0;36mmake_block\u001b[0;34m(values, placement, klass, ndim, dtype, fastpath)\u001b[0m\n\u001b[1;32m   3266\u001b[0m \u001b[0;34m\u001b[0m\u001b[0m\n\u001b[0;32m-> 3267\u001b[0;31m     \u001b[0;32mreturn\u001b[0m \u001b[0mklass\u001b[0m\u001b[0;34m(\u001b[0m\u001b[0mvalues\u001b[0m\u001b[0;34m,\u001b[0m \u001b[0mndim\u001b[0m\u001b[0;34m=\u001b[0m\u001b[0mndim\u001b[0m\u001b[0;34m,\u001b[0m \u001b[0mplacement\u001b[0m\u001b[0;34m=\u001b[0m\u001b[0mplacement\u001b[0m\u001b[0;34m)\u001b[0m\u001b[0;34m\u001b[0m\u001b[0;34m\u001b[0m\u001b[0m\n\u001b[0m\u001b[1;32m   3268\u001b[0m \u001b[0;34m\u001b[0m\u001b[0m\n",
      "\u001b[0;32m~/opt/anaconda3/lib/python3.7/site-packages/pandas/core/internals/blocks.py\u001b[0m in \u001b[0;36m__init__\u001b[0;34m(self, values, placement, ndim)\u001b[0m\n\u001b[1;32m    127\u001b[0m                 \u001b[0;34m\"Wrong number of items passed {val}, placement implies \"\u001b[0m\u001b[0;34m\u001b[0m\u001b[0;34m\u001b[0m\u001b[0m\n\u001b[0;32m--> 128\u001b[0;31m                 \u001b[0;34m\"{mgr}\"\u001b[0m\u001b[0;34m.\u001b[0m\u001b[0mformat\u001b[0m\u001b[0;34m(\u001b[0m\u001b[0mval\u001b[0m\u001b[0;34m=\u001b[0m\u001b[0mlen\u001b[0m\u001b[0;34m(\u001b[0m\u001b[0mself\u001b[0m\u001b[0;34m.\u001b[0m\u001b[0mvalues\u001b[0m\u001b[0;34m)\u001b[0m\u001b[0;34m,\u001b[0m \u001b[0mmgr\u001b[0m\u001b[0;34m=\u001b[0m\u001b[0mlen\u001b[0m\u001b[0;34m(\u001b[0m\u001b[0mself\u001b[0m\u001b[0;34m.\u001b[0m\u001b[0mmgr_locs\u001b[0m\u001b[0;34m)\u001b[0m\u001b[0;34m)\u001b[0m\u001b[0;34m\u001b[0m\u001b[0;34m\u001b[0m\u001b[0m\n\u001b[0m\u001b[1;32m    129\u001b[0m             )\n",
      "\u001b[0;31mValueError\u001b[0m: Wrong number of items passed 2, placement implies 3",
      "\nDuring handling of the above exception, another exception occurred:\n",
      "\u001b[0;31mValueError\u001b[0m                                Traceback (most recent call last)",
      "\u001b[0;32m<ipython-input-54-0b3fbd88dbf7>\u001b[0m in \u001b[0;36m<module>\u001b[0;34m\u001b[0m\n\u001b[1;32m      1\u001b[0m \u001b[0mfactor_score_coefficients\u001b[0m \u001b[0;34m=\u001b[0m \u001b[0mnp\u001b[0m\u001b[0;34m.\u001b[0m\u001b[0mdot\u001b[0m\u001b[0;34m(\u001b[0m\u001b[0mnp\u001b[0m\u001b[0;34m.\u001b[0m\u001b[0mlinalg\u001b[0m\u001b[0;34m.\u001b[0m\u001b[0minv\u001b[0m\u001b[0;34m(\u001b[0m\u001b[0mcorrelations\u001b[0m\u001b[0;34m)\u001b[0m\u001b[0;34m,\u001b[0m\u001b[0mB\u001b[0m\u001b[0;34m)\u001b[0m\u001b[0;34m\u001b[0m\u001b[0;34m\u001b[0m\u001b[0m\n\u001b[1;32m      2\u001b[0m \u001b[0mfactor_scores\u001b[0m \u001b[0;34m=\u001b[0m \u001b[0mnp\u001b[0m\u001b[0;34m.\u001b[0m\u001b[0mdot\u001b[0m \u001b[0;34m(\u001b[0m\u001b[0mdata\u001b[0m\u001b[0;34m.\u001b[0m\u001b[0mvalues\u001b[0m\u001b[0;34m,\u001b[0m\u001b[0mfactor_score_coefficients\u001b[0m\u001b[0;34m)\u001b[0m\u001b[0;34m\u001b[0m\u001b[0;34m\u001b[0m\u001b[0m\n\u001b[0;32m----> 3\u001b[0;31m \u001b[0mdf_factor_scores_stat\u001b[0m \u001b[0;34m=\u001b[0m \u001b[0mpd\u001b[0m\u001b[0;34m.\u001b[0m\u001b[0mDataFrame\u001b[0m \u001b[0;34m(\u001b[0m\u001b[0mdata\u001b[0m \u001b[0;34m=\u001b[0m \u001b[0mfactor_scores\u001b[0m\u001b[0;34m,\u001b[0m\u001b[0mindex\u001b[0m \u001b[0;34m=\u001b[0m \u001b[0mindex\u001b[0m \u001b[0;34m,\u001b[0m \u001b[0mcolumns\u001b[0m \u001b[0;34m=\u001b[0m \u001b[0;34m[\u001b[0m\u001b[0;34m'Factor1_stat'\u001b[0m\u001b[0;34m,\u001b[0m\u001b[0;34m'Factor2_stat'\u001b[0m\u001b[0;34m,\u001b[0m \u001b[0;34m'Factor3_stat'\u001b[0m\u001b[0;34m]\u001b[0m\u001b[0;34m)\u001b[0m\u001b[0;34m\u001b[0m\u001b[0;34m\u001b[0m\u001b[0m\n\u001b[0m\u001b[1;32m      4\u001b[0m \u001b[0mdf_factor_scores_stat\u001b[0m\u001b[0;34m\u001b[0m\u001b[0;34m\u001b[0m\u001b[0m\n",
      "\u001b[0;32m~/opt/anaconda3/lib/python3.7/site-packages/pandas/core/frame.py\u001b[0m in \u001b[0;36m__init__\u001b[0;34m(self, data, index, columns, dtype, copy)\u001b[0m\n\u001b[1;32m    438\u001b[0m                 \u001b[0mmgr\u001b[0m \u001b[0;34m=\u001b[0m \u001b[0minit_dict\u001b[0m\u001b[0;34m(\u001b[0m\u001b[0;34m{\u001b[0m\u001b[0mdata\u001b[0m\u001b[0;34m.\u001b[0m\u001b[0mname\u001b[0m\u001b[0;34m:\u001b[0m \u001b[0mdata\u001b[0m\u001b[0;34m}\u001b[0m\u001b[0;34m,\u001b[0m \u001b[0mindex\u001b[0m\u001b[0;34m,\u001b[0m \u001b[0mcolumns\u001b[0m\u001b[0;34m,\u001b[0m \u001b[0mdtype\u001b[0m\u001b[0;34m=\u001b[0m\u001b[0mdtype\u001b[0m\u001b[0;34m)\u001b[0m\u001b[0;34m\u001b[0m\u001b[0;34m\u001b[0m\u001b[0m\n\u001b[1;32m    439\u001b[0m             \u001b[0;32melse\u001b[0m\u001b[0;34m:\u001b[0m\u001b[0;34m\u001b[0m\u001b[0;34m\u001b[0m\u001b[0m\n\u001b[0;32m--> 440\u001b[0;31m                 \u001b[0mmgr\u001b[0m \u001b[0;34m=\u001b[0m \u001b[0minit_ndarray\u001b[0m\u001b[0;34m(\u001b[0m\u001b[0mdata\u001b[0m\u001b[0;34m,\u001b[0m \u001b[0mindex\u001b[0m\u001b[0;34m,\u001b[0m \u001b[0mcolumns\u001b[0m\u001b[0;34m,\u001b[0m \u001b[0mdtype\u001b[0m\u001b[0;34m=\u001b[0m\u001b[0mdtype\u001b[0m\u001b[0;34m,\u001b[0m \u001b[0mcopy\u001b[0m\u001b[0;34m=\u001b[0m\u001b[0mcopy\u001b[0m\u001b[0;34m)\u001b[0m\u001b[0;34m\u001b[0m\u001b[0;34m\u001b[0m\u001b[0m\n\u001b[0m\u001b[1;32m    441\u001b[0m \u001b[0;34m\u001b[0m\u001b[0m\n\u001b[1;32m    442\u001b[0m         \u001b[0;31m# For data is list-like, or Iterable (will consume into list)\u001b[0m\u001b[0;34m\u001b[0m\u001b[0;34m\u001b[0m\u001b[0;34m\u001b[0m\u001b[0m\n",
      "\u001b[0;32m~/opt/anaconda3/lib/python3.7/site-packages/pandas/core/internals/construction.py\u001b[0m in \u001b[0;36minit_ndarray\u001b[0;34m(values, index, columns, dtype, copy)\u001b[0m\n\u001b[1;32m    211\u001b[0m         \u001b[0mblock_values\u001b[0m \u001b[0;34m=\u001b[0m \u001b[0;34m[\u001b[0m\u001b[0mvalues\u001b[0m\u001b[0;34m]\u001b[0m\u001b[0;34m\u001b[0m\u001b[0;34m\u001b[0m\u001b[0m\n\u001b[1;32m    212\u001b[0m \u001b[0;34m\u001b[0m\u001b[0m\n\u001b[0;32m--> 213\u001b[0;31m     \u001b[0;32mreturn\u001b[0m \u001b[0mcreate_block_manager_from_blocks\u001b[0m\u001b[0;34m(\u001b[0m\u001b[0mblock_values\u001b[0m\u001b[0;34m,\u001b[0m \u001b[0;34m[\u001b[0m\u001b[0mcolumns\u001b[0m\u001b[0;34m,\u001b[0m \u001b[0mindex\u001b[0m\u001b[0;34m]\u001b[0m\u001b[0;34m)\u001b[0m\u001b[0;34m\u001b[0m\u001b[0;34m\u001b[0m\u001b[0m\n\u001b[0m\u001b[1;32m    214\u001b[0m \u001b[0;34m\u001b[0m\u001b[0m\n\u001b[1;32m    215\u001b[0m \u001b[0;34m\u001b[0m\u001b[0m\n",
      "\u001b[0;32m~/opt/anaconda3/lib/python3.7/site-packages/pandas/core/internals/managers.py\u001b[0m in \u001b[0;36mcreate_block_manager_from_blocks\u001b[0;34m(blocks, axes)\u001b[0m\n\u001b[1;32m   1686\u001b[0m         \u001b[0mblocks\u001b[0m \u001b[0;34m=\u001b[0m \u001b[0;34m[\u001b[0m\u001b[0mgetattr\u001b[0m\u001b[0;34m(\u001b[0m\u001b[0mb\u001b[0m\u001b[0;34m,\u001b[0m \u001b[0;34m\"values\"\u001b[0m\u001b[0;34m,\u001b[0m \u001b[0mb\u001b[0m\u001b[0;34m)\u001b[0m \u001b[0;32mfor\u001b[0m \u001b[0mb\u001b[0m \u001b[0;32min\u001b[0m \u001b[0mblocks\u001b[0m\u001b[0;34m]\u001b[0m\u001b[0;34m\u001b[0m\u001b[0;34m\u001b[0m\u001b[0m\n\u001b[1;32m   1687\u001b[0m         \u001b[0mtot_items\u001b[0m \u001b[0;34m=\u001b[0m \u001b[0msum\u001b[0m\u001b[0;34m(\u001b[0m\u001b[0mb\u001b[0m\u001b[0;34m.\u001b[0m\u001b[0mshape\u001b[0m\u001b[0;34m[\u001b[0m\u001b[0;36m0\u001b[0m\u001b[0;34m]\u001b[0m \u001b[0;32mfor\u001b[0m \u001b[0mb\u001b[0m \u001b[0;32min\u001b[0m \u001b[0mblocks\u001b[0m\u001b[0;34m)\u001b[0m\u001b[0;34m\u001b[0m\u001b[0;34m\u001b[0m\u001b[0m\n\u001b[0;32m-> 1688\u001b[0;31m         \u001b[0mconstruction_error\u001b[0m\u001b[0;34m(\u001b[0m\u001b[0mtot_items\u001b[0m\u001b[0;34m,\u001b[0m \u001b[0mblocks\u001b[0m\u001b[0;34m[\u001b[0m\u001b[0;36m0\u001b[0m\u001b[0;34m]\u001b[0m\u001b[0;34m.\u001b[0m\u001b[0mshape\u001b[0m\u001b[0;34m[\u001b[0m\u001b[0;36m1\u001b[0m\u001b[0;34m:\u001b[0m\u001b[0;34m]\u001b[0m\u001b[0;34m,\u001b[0m \u001b[0maxes\u001b[0m\u001b[0;34m,\u001b[0m \u001b[0me\u001b[0m\u001b[0;34m)\u001b[0m\u001b[0;34m\u001b[0m\u001b[0;34m\u001b[0m\u001b[0m\n\u001b[0m\u001b[1;32m   1689\u001b[0m \u001b[0;34m\u001b[0m\u001b[0m\n\u001b[1;32m   1690\u001b[0m \u001b[0;34m\u001b[0m\u001b[0m\n",
      "\u001b[0;32m~/opt/anaconda3/lib/python3.7/site-packages/pandas/core/internals/managers.py\u001b[0m in \u001b[0;36mconstruction_error\u001b[0;34m(tot_items, block_shape, axes, e)\u001b[0m\n\u001b[1;32m   1717\u001b[0m         \u001b[0;32mraise\u001b[0m \u001b[0mValueError\u001b[0m\u001b[0;34m(\u001b[0m\u001b[0;34m\"Empty data passed with indices specified.\"\u001b[0m\u001b[0;34m)\u001b[0m\u001b[0;34m\u001b[0m\u001b[0;34m\u001b[0m\u001b[0m\n\u001b[1;32m   1718\u001b[0m     raise ValueError(\n\u001b[0;32m-> 1719\u001b[0;31m         \u001b[0;34m\"Shape of passed values is {0}, indices imply {1}\"\u001b[0m\u001b[0;34m.\u001b[0m\u001b[0mformat\u001b[0m\u001b[0;34m(\u001b[0m\u001b[0mpassed\u001b[0m\u001b[0;34m,\u001b[0m \u001b[0mimplied\u001b[0m\u001b[0;34m)\u001b[0m\u001b[0;34m\u001b[0m\u001b[0;34m\u001b[0m\u001b[0m\n\u001b[0m\u001b[1;32m   1720\u001b[0m     )\n\u001b[1;32m   1721\u001b[0m \u001b[0;34m\u001b[0m\u001b[0m\n",
      "\u001b[0;31mValueError\u001b[0m: Shape of passed values is (85, 2), indices imply (85, 3)"
     ]
    }
   ],
   "source": [
    "factor_score_coefficients = np.dot(np.linalg.inv(correlations),B)\n",
    "factor_scores = np.dot (data.values,factor_score_coefficients)\n",
    "df_factor_scores_stat = pd.DataFrame (data = factor_scores,index = index , columns = ['Factor1_stat','Factor2_stat', 'Factor3_stat'])\n",
    "df_factor_scores_stat"
   ]
  },
  {
   "cell_type": "code",
   "execution_count": 55,
   "metadata": {},
   "outputs": [
    {
     "data": {
      "text/html": [
       "<div>\n",
       "<style scoped>\n",
       "    .dataframe tbody tr th:only-of-type {\n",
       "        vertical-align: middle;\n",
       "    }\n",
       "\n",
       "    .dataframe tbody tr th {\n",
       "        vertical-align: top;\n",
       "    }\n",
       "\n",
       "    .dataframe thead th {\n",
       "        text-align: right;\n",
       "    }\n",
       "</style>\n",
       "<table border=\"1\" class=\"dataframe\">\n",
       "  <thead>\n",
       "    <tr style=\"text-align: right;\">\n",
       "      <th></th>\n",
       "      <th>Factor1_stat</th>\n",
       "      <th>Factor2_stat</th>\n",
       "    </tr>\n",
       "  </thead>\n",
       "  <tbody>\n",
       "    <tr>\n",
       "      <td>0</td>\n",
       "      <td>-0.861086</td>\n",
       "      <td>-0.829731</td>\n",
       "    </tr>\n",
       "    <tr>\n",
       "      <td>1</td>\n",
       "      <td>-0.898054</td>\n",
       "      <td>-1.003573</td>\n",
       "    </tr>\n",
       "    <tr>\n",
       "      <td>2</td>\n",
       "      <td>-0.694861</td>\n",
       "      <td>-1.034486</td>\n",
       "    </tr>\n",
       "    <tr>\n",
       "      <td>3</td>\n",
       "      <td>-1.101280</td>\n",
       "      <td>-0.820298</td>\n",
       "    </tr>\n",
       "    <tr>\n",
       "      <td>4</td>\n",
       "      <td>-0.382886</td>\n",
       "      <td>-0.699614</td>\n",
       "    </tr>\n",
       "    <tr>\n",
       "      <td>...</td>\n",
       "      <td>...</td>\n",
       "      <td>...</td>\n",
       "    </tr>\n",
       "    <tr>\n",
       "      <td>80</td>\n",
       "      <td>-1.828563</td>\n",
       "      <td>1.553150</td>\n",
       "    </tr>\n",
       "    <tr>\n",
       "      <td>81</td>\n",
       "      <td>-1.277232</td>\n",
       "      <td>1.301188</td>\n",
       "    </tr>\n",
       "    <tr>\n",
       "      <td>82</td>\n",
       "      <td>-0.576150</td>\n",
       "      <td>0.524913</td>\n",
       "    </tr>\n",
       "    <tr>\n",
       "      <td>83</td>\n",
       "      <td>-1.237218</td>\n",
       "      <td>1.418003</td>\n",
       "    </tr>\n",
       "    <tr>\n",
       "      <td>84</td>\n",
       "      <td>-2.534465</td>\n",
       "      <td>3.269671</td>\n",
       "    </tr>\n",
       "  </tbody>\n",
       "</table>\n",
       "<p>85 rows × 2 columns</p>\n",
       "</div>"
      ],
      "text/plain": [
       "    Factor1_stat  Factor2_stat\n",
       "0      -0.861086     -0.829731\n",
       "1      -0.898054     -1.003573\n",
       "2      -0.694861     -1.034486\n",
       "3      -1.101280     -0.820298\n",
       "4      -0.382886     -0.699614\n",
       "..           ...           ...\n",
       "80     -1.828563      1.553150\n",
       "81     -1.277232      1.301188\n",
       "82     -0.576150      0.524913\n",
       "83     -1.237218      1.418003\n",
       "84     -2.534465      3.269671\n",
       "\n",
       "[85 rows x 2 columns]"
      ]
     },
     "execution_count": 55,
     "metadata": {},
     "output_type": "execute_result"
    }
   ],
   "source": [
    "factor_score_coefficients = np.dot(np.linalg.inv(correlations),B)\n",
    "factor_scores = np.dot (data.values,factor_score_coefficients)\n",
    "df_factor_scores_stat = pd.DataFrame (data = factor_scores,index = index , columns = ['Factor1_stat','Factor2_stat'])\n",
    "df_factor_scores_stat"
   ]
  },
  {
   "cell_type": "markdown",
   "metadata": {
    "id": "q17tU8xvJSda"
   },
   "source": [
    "## Собираем результат"
   ]
  },
  {
   "cell_type": "code",
   "execution_count": 35,
   "metadata": {
    "id": "UGEitlJ5JSdb",
    "outputId": "eedd9249-47bf-4cfd-a12b-0029bee9dd0d"
   },
   "outputs": [
    {
     "data": {
      "text/html": [
       "<div>\n",
       "<style scoped>\n",
       "    .dataframe tbody tr th:only-of-type {\n",
       "        vertical-align: middle;\n",
       "    }\n",
       "\n",
       "    .dataframe tbody tr th {\n",
       "        vertical-align: top;\n",
       "    }\n",
       "\n",
       "    .dataframe thead th {\n",
       "        text-align: right;\n",
       "    }\n",
       "</style>\n",
       "<table border=\"1\" class=\"dataframe\">\n",
       "  <thead>\n",
       "    <tr style=\"text-align: right;\">\n",
       "      <th></th>\n",
       "      <th>Factor1_lect</th>\n",
       "      <th>Factor2_lect</th>\n",
       "      <th>Factor1_stat</th>\n",
       "      <th>Factor2_stat</th>\n",
       "    </tr>\n",
       "  </thead>\n",
       "  <tbody>\n",
       "    <tr>\n",
       "      <td>0</td>\n",
       "      <td>-1.112763</td>\n",
       "      <td>1.007264</td>\n",
       "      <td>-0.861086</td>\n",
       "      <td>0.829731</td>\n",
       "    </tr>\n",
       "    <tr>\n",
       "      <td>1</td>\n",
       "      <td>-1.177126</td>\n",
       "      <td>1.162926</td>\n",
       "      <td>-0.898054</td>\n",
       "      <td>1.003573</td>\n",
       "    </tr>\n",
       "    <tr>\n",
       "      <td>2</td>\n",
       "      <td>-0.881123</td>\n",
       "      <td>1.137435</td>\n",
       "      <td>-0.694861</td>\n",
       "      <td>1.034486</td>\n",
       "    </tr>\n",
       "    <tr>\n",
       "      <td>3</td>\n",
       "      <td>-1.446542</td>\n",
       "      <td>0.874785</td>\n",
       "      <td>-1.101280</td>\n",
       "      <td>0.820298</td>\n",
       "    </tr>\n",
       "    <tr>\n",
       "      <td>4</td>\n",
       "      <td>-0.543382</td>\n",
       "      <td>0.876391</td>\n",
       "      <td>-0.382886</td>\n",
       "      <td>0.699614</td>\n",
       "    </tr>\n",
       "    <tr>\n",
       "      <td>...</td>\n",
       "      <td>...</td>\n",
       "      <td>...</td>\n",
       "      <td>...</td>\n",
       "      <td>...</td>\n",
       "    </tr>\n",
       "    <tr>\n",
       "      <td>80</td>\n",
       "      <td>-2.134626</td>\n",
       "      <td>-1.716923</td>\n",
       "      <td>-1.828563</td>\n",
       "      <td>-1.553150</td>\n",
       "    </tr>\n",
       "    <tr>\n",
       "      <td>81</td>\n",
       "      <td>-1.063871</td>\n",
       "      <td>-1.555493</td>\n",
       "      <td>-1.277232</td>\n",
       "      <td>-1.301188</td>\n",
       "    </tr>\n",
       "    <tr>\n",
       "      <td>82</td>\n",
       "      <td>-0.501689</td>\n",
       "      <td>-0.478924</td>\n",
       "      <td>-0.576150</td>\n",
       "      <td>-0.524913</td>\n",
       "    </tr>\n",
       "    <tr>\n",
       "      <td>83</td>\n",
       "      <td>-1.447895</td>\n",
       "      <td>-1.380401</td>\n",
       "      <td>-1.237218</td>\n",
       "      <td>-1.418003</td>\n",
       "    </tr>\n",
       "    <tr>\n",
       "      <td>84</td>\n",
       "      <td>-2.895583</td>\n",
       "      <td>-3.606778</td>\n",
       "      <td>-2.534465</td>\n",
       "      <td>-3.269671</td>\n",
       "    </tr>\n",
       "  </tbody>\n",
       "</table>\n",
       "<p>85 rows × 4 columns</p>\n",
       "</div>"
      ],
      "text/plain": [
       "    Factor1_lect  Factor2_lect  Factor1_stat  Factor2_stat\n",
       "0      -1.112763      1.007264     -0.861086      0.829731\n",
       "1      -1.177126      1.162926     -0.898054      1.003573\n",
       "2      -0.881123      1.137435     -0.694861      1.034486\n",
       "3      -1.446542      0.874785     -1.101280      0.820298\n",
       "4      -0.543382      0.876391     -0.382886      0.699614\n",
       "..           ...           ...           ...           ...\n",
       "80     -2.134626     -1.716923     -1.828563     -1.553150\n",
       "81     -1.063871     -1.555493     -1.277232     -1.301188\n",
       "82     -0.501689     -0.478924     -0.576150     -0.524913\n",
       "83     -1.447895     -1.380401     -1.237218     -1.418003\n",
       "84     -2.895583     -3.606778     -2.534465     -3.269671\n",
       "\n",
       "[85 rows x 4 columns]"
      ]
     },
     "execution_count": 35,
     "metadata": {},
     "output_type": "execute_result"
    }
   ],
   "source": [
    "df_result = pd.concat([df_factor_scores_lect, df_factor_scores_stat], axis=1)\n",
    "\n",
    "df_result"
   ]
  },
  {
   "cell_type": "markdown",
   "metadata": {},
   "source": [
    "# Кластеризация"
   ]
  },
  {
   "cell_type": "code",
   "execution_count": 36,
   "metadata": {},
   "outputs": [
    {
     "data": {
      "text/html": [
       "<div>\n",
       "<style scoped>\n",
       "    .dataframe tbody tr th:only-of-type {\n",
       "        vertical-align: middle;\n",
       "    }\n",
       "\n",
       "    .dataframe tbody tr th {\n",
       "        vertical-align: top;\n",
       "    }\n",
       "\n",
       "    .dataframe thead th {\n",
       "        text-align: right;\n",
       "    }\n",
       "</style>\n",
       "<table border=\"1\" class=\"dataframe\">\n",
       "  <thead>\n",
       "    <tr style=\"text-align: right;\">\n",
       "      <th></th>\n",
       "      <th>Factor_1</th>\n",
       "      <th>Factor_2</th>\n",
       "      <th>ward_old</th>\n",
       "      <th>kmeans_old</th>\n",
       "    </tr>\n",
       "  </thead>\n",
       "  <tbody>\n",
       "    <tr>\n",
       "      <td>0</td>\n",
       "      <td>-0.861086</td>\n",
       "      <td>0.829731</td>\n",
       "      <td>6</td>\n",
       "      <td>3</td>\n",
       "    </tr>\n",
       "    <tr>\n",
       "      <td>1</td>\n",
       "      <td>-0.898054</td>\n",
       "      <td>1.003573</td>\n",
       "      <td>4</td>\n",
       "      <td>4</td>\n",
       "    </tr>\n",
       "    <tr>\n",
       "      <td>2</td>\n",
       "      <td>-0.694861</td>\n",
       "      <td>1.034486</td>\n",
       "      <td>6</td>\n",
       "      <td>3</td>\n",
       "    </tr>\n",
       "    <tr>\n",
       "      <td>3</td>\n",
       "      <td>-1.101280</td>\n",
       "      <td>0.820298</td>\n",
       "      <td>6</td>\n",
       "      <td>4</td>\n",
       "    </tr>\n",
       "    <tr>\n",
       "      <td>4</td>\n",
       "      <td>-0.382886</td>\n",
       "      <td>0.699614</td>\n",
       "      <td>5</td>\n",
       "      <td>5</td>\n",
       "    </tr>\n",
       "    <tr>\n",
       "      <td>...</td>\n",
       "      <td>...</td>\n",
       "      <td>...</td>\n",
       "      <td>...</td>\n",
       "      <td>...</td>\n",
       "    </tr>\n",
       "    <tr>\n",
       "      <td>80</td>\n",
       "      <td>-1.828563</td>\n",
       "      <td>-1.553150</td>\n",
       "      <td>1</td>\n",
       "      <td>1</td>\n",
       "    </tr>\n",
       "    <tr>\n",
       "      <td>81</td>\n",
       "      <td>-1.277232</td>\n",
       "      <td>-1.301188</td>\n",
       "      <td>6</td>\n",
       "      <td>3</td>\n",
       "    </tr>\n",
       "    <tr>\n",
       "      <td>82</td>\n",
       "      <td>-0.576150</td>\n",
       "      <td>-0.524913</td>\n",
       "      <td>7</td>\n",
       "      <td>6</td>\n",
       "    </tr>\n",
       "    <tr>\n",
       "      <td>83</td>\n",
       "      <td>-1.237218</td>\n",
       "      <td>-1.418003</td>\n",
       "      <td>7</td>\n",
       "      <td>7</td>\n",
       "    </tr>\n",
       "    <tr>\n",
       "      <td>84</td>\n",
       "      <td>-2.534465</td>\n",
       "      <td>-3.269671</td>\n",
       "      <td>5</td>\n",
       "      <td>5</td>\n",
       "    </tr>\n",
       "  </tbody>\n",
       "</table>\n",
       "<p>85 rows × 4 columns</p>\n",
       "</div>"
      ],
      "text/plain": [
       "    Factor_1  Factor_2  ward_old  kmeans_old\n",
       "0  -0.861086  0.829731         6           3\n",
       "1  -0.898054  1.003573         4           4\n",
       "2  -0.694861  1.034486         6           3\n",
       "3  -1.101280  0.820298         6           4\n",
       "4  -0.382886  0.699614         5           5\n",
       "..       ...       ...       ...         ...\n",
       "80 -1.828563 -1.553150         1           1\n",
       "81 -1.277232 -1.301188         6           3\n",
       "82 -0.576150 -0.524913         7           6\n",
       "83 -1.237218 -1.418003         7           7\n",
       "84 -2.534465 -3.269671         5           5\n",
       "\n",
       "[85 rows x 4 columns]"
      ]
     },
     "execution_count": 36,
     "metadata": {},
     "output_type": "execute_result"
    }
   ],
   "source": [
    "# Загружаем метки классов, полученные на 1 лабе для метода Уорда и К-средних\n",
    "\n",
    "classes = pd.read_excel('classes.xlsx')\n",
    "F = pd.DataFrame(factor_scores)\n",
    "F.columns = ['Factor_' + str(i + 1) for i in range(factor_scores.shape[1])]\n",
    "F['ward_old'] = classes.ward_old.values\n",
    "F['kmeans_old'] = classes.kmeans_old.values\n",
    "F"
   ]
  },
  {
   "cell_type": "code",
   "execution_count": 37,
   "metadata": {},
   "outputs": [],
   "source": [
    "# Кластеризация\n",
    "from sklearn.cluster import AgglomerativeClustering, KMeans\n",
    "from scipy.cluster import hierarchy"
   ]
  },
  {
   "cell_type": "code",
   "execution_count": 38,
   "metadata": {},
   "outputs": [
    {
     "data": {
      "text/plain": [
       "Text(0.5, 1.0, 'ward method')"
      ]
     },
     "execution_count": 38,
     "metadata": {},
     "output_type": "execute_result"
    },
    {
     "data": {
      "image/png": "[encoded data removed]",
      "text/plain": [
       "<Figure size 1080x864 with 1 Axes>"
      ]
     },
     "metadata": {
      "needs_background": "light"
     },
     "output_type": "display_data"
    }
   ],
   "source": [
    "Z = hierarchy.linkage(factor_scores, method='ward', optimal_ordering=True)\n",
    "    #строим дендрограмму\n",
    "\n",
    "plt.figure(figsize=(15,12)) # задаем размеры окна с графиками\n",
    "\n",
    "hierarchy.dendrogram(Z, labels=F.index, leaf_font_size=10)\n",
    "\n",
    "# Z - результат кластеризации, labels - названия строк (ось Х), leaf_font_size - размер шрифта\n",
    "\n",
    "plt.title('{} method'.format('ward'))"
   ]
  },
  {
   "cell_type": "code",
   "execution_count": 39,
   "metadata": {},
   "outputs": [
    {
     "data": {
      "text/html": [
       "<div>\n",
       "<style scoped>\n",
       "    .dataframe tbody tr th:only-of-type {\n",
       "        vertical-align: middle;\n",
       "    }\n",
       "\n",
       "    .dataframe tbody tr th {\n",
       "        vertical-align: top;\n",
       "    }\n",
       "\n",
       "    .dataframe thead th {\n",
       "        text-align: right;\n",
       "    }\n",
       "</style>\n",
       "<table border=\"1\" class=\"dataframe\">\n",
       "  <thead>\n",
       "    <tr style=\"text-align: right;\">\n",
       "      <th></th>\n",
       "      <th>Factor_1</th>\n",
       "      <th>Factor_2</th>\n",
       "      <th>ward_old</th>\n",
       "      <th>kmeans_old</th>\n",
       "      <th>ward_new</th>\n",
       "      <th>kmeans_new</th>\n",
       "    </tr>\n",
       "  </thead>\n",
       "  <tbody>\n",
       "    <tr>\n",
       "      <td>0</td>\n",
       "      <td>-0.861086</td>\n",
       "      <td>0.829731</td>\n",
       "      <td>6</td>\n",
       "      <td>3</td>\n",
       "      <td>5</td>\n",
       "      <td>4</td>\n",
       "    </tr>\n",
       "    <tr>\n",
       "      <td>1</td>\n",
       "      <td>-0.898054</td>\n",
       "      <td>1.003573</td>\n",
       "      <td>4</td>\n",
       "      <td>4</td>\n",
       "      <td>5</td>\n",
       "      <td>4</td>\n",
       "    </tr>\n",
       "    <tr>\n",
       "      <td>2</td>\n",
       "      <td>-0.694861</td>\n",
       "      <td>1.034486</td>\n",
       "      <td>6</td>\n",
       "      <td>3</td>\n",
       "      <td>5</td>\n",
       "      <td>4</td>\n",
       "    </tr>\n",
       "    <tr>\n",
       "      <td>3</td>\n",
       "      <td>-1.101280</td>\n",
       "      <td>0.820298</td>\n",
       "      <td>6</td>\n",
       "      <td>4</td>\n",
       "      <td>5</td>\n",
       "      <td>4</td>\n",
       "    </tr>\n",
       "    <tr>\n",
       "      <td>4</td>\n",
       "      <td>-0.382886</td>\n",
       "      <td>0.699614</td>\n",
       "      <td>5</td>\n",
       "      <td>5</td>\n",
       "      <td>1</td>\n",
       "      <td>4</td>\n",
       "    </tr>\n",
       "    <tr>\n",
       "      <td>...</td>\n",
       "      <td>...</td>\n",
       "      <td>...</td>\n",
       "      <td>...</td>\n",
       "      <td>...</td>\n",
       "      <td>...</td>\n",
       "      <td>...</td>\n",
       "    </tr>\n",
       "    <tr>\n",
       "      <td>80</td>\n",
       "      <td>-1.828563</td>\n",
       "      <td>-1.553150</td>\n",
       "      <td>1</td>\n",
       "      <td>1</td>\n",
       "      <td>4</td>\n",
       "      <td>3</td>\n",
       "    </tr>\n",
       "    <tr>\n",
       "      <td>81</td>\n",
       "      <td>-1.277232</td>\n",
       "      <td>-1.301188</td>\n",
       "      <td>6</td>\n",
       "      <td>3</td>\n",
       "      <td>4</td>\n",
       "      <td>3</td>\n",
       "    </tr>\n",
       "    <tr>\n",
       "      <td>82</td>\n",
       "      <td>-0.576150</td>\n",
       "      <td>-0.524913</td>\n",
       "      <td>7</td>\n",
       "      <td>6</td>\n",
       "      <td>1</td>\n",
       "      <td>3</td>\n",
       "    </tr>\n",
       "    <tr>\n",
       "      <td>83</td>\n",
       "      <td>-1.237218</td>\n",
       "      <td>-1.418003</td>\n",
       "      <td>7</td>\n",
       "      <td>7</td>\n",
       "      <td>4</td>\n",
       "      <td>3</td>\n",
       "    </tr>\n",
       "    <tr>\n",
       "      <td>84</td>\n",
       "      <td>-2.534465</td>\n",
       "      <td>-3.269671</td>\n",
       "      <td>5</td>\n",
       "      <td>5</td>\n",
       "      <td>6</td>\n",
       "      <td>2</td>\n",
       "    </tr>\n",
       "  </tbody>\n",
       "</table>\n",
       "<p>85 rows × 6 columns</p>\n",
       "</div>"
      ],
      "text/plain": [
       "    Factor_1  Factor_2  ward_old  kmeans_old  ward_new  kmeans_new\n",
       "0  -0.861086  0.829731         6           3         5           4\n",
       "1  -0.898054  1.003573         4           4         5           4\n",
       "2  -0.694861  1.034486         6           3         5           4\n",
       "3  -1.101280  0.820298         6           4         5           4\n",
       "4  -0.382886  0.699614         5           5         1           4\n",
       "..       ...       ...       ...         ...       ...         ...\n",
       "80 -1.828563 -1.553150         1           1         4           3\n",
       "81 -1.277232 -1.301188         6           3         4           3\n",
       "82 -0.576150 -0.524913         7           6         1           3\n",
       "83 -1.237218 -1.418003         7           7         4           3\n",
       "84 -2.534465 -3.269671         5           5         6           2\n",
       "\n",
       "[85 rows x 6 columns]"
      ]
     },
     "execution_count": 39,
     "metadata": {},
     "output_type": "execute_result"
    }
   ],
   "source": [
    "n_clusters = 7\n",
    "ward = AgglomerativeClustering(n_clusters=n_clusters , linkage='ward')\n",
    "ward.fit(factor_scores)\n",
    "\n",
    "kmeans = KMeans(n_clusters=n_clusters , random_state=36)\n",
    "kmeans.fit(factor_scores)\n",
    "\n",
    "F['ward_new'] = ward.labels_\n",
    "F['kmeans_new'] = kmeans.labels_\n",
    "F"
   ]
  },
  {
   "cell_type": "code",
   "execution_count": 40,
   "metadata": {},
   "outputs": [
    {
     "data": {
      "image/png": "[encoded data removed]",
      "text/plain": [
       "<Figure size 432x288 with 1 Axes>"
      ]
     },
     "metadata": {
      "needs_background": "light"
     },
     "output_type": "display_data"
    },
    {
     "data": {
      "image/png": "[encoded data removed]",
      "text/plain": [
       "<Figure size 432x288 with 1 Axes>"
      ]
     },
     "metadata": {
      "needs_background": "light"
     },
     "output_type": "display_data"
    },
    {
     "data": {
      "image/png": "[encoded data removed]",
      "text/plain": [
       "<Figure size 432x288 with 1 Axes>"
      ]
     },
     "metadata": {
      "needs_background": "light"
     },
     "output_type": "display_data"
    },
    {
     "data": {
      "image/png": "[encoded data removed]",
      "text/plain": [
       "<Figure size 432x288 with 1 Axes>"
      ]
     },
     "metadata": {
      "needs_background": "light"
     },
     "output_type": "display_data"
    }
   ],
   "source": [
    "# Построение графика\n",
    "\n",
    "for method in ['ward_old', 'kmeans_old', 'ward_new', 'kmeans_new']:\n",
    "    plt.title(method)\n",
    "    for i in range(n_clusters ): # Цикл по меткам классов\n",
    "        data = F[F[method] == i]\n",
    "        plt.plot(data.Factor_1, data.Factor_2, 'o', label=f'class {i}')\n",
    "    plt.legend()\n",
    "    plt.show()\n"
   ]
  },
  {
   "cell_type": "code",
   "execution_count": 41,
   "metadata": {},
   "outputs": [
    {
     "ename": "AttributeError",
     "evalue": "'DataFrame' object has no attribute 'Factor_3'",
     "output_type": "error",
     "traceback": [
      "\u001b[0;31m---------------------------------------------------------------------------\u001b[0m",
      "\u001b[0;31mAttributeError\u001b[0m                            Traceback (most recent call last)",
      "\u001b[0;32m<ipython-input-41-a2b5b30515e0>\u001b[0m in \u001b[0;36m<module>\u001b[0;34m\u001b[0m\n\u001b[1;32m      8\u001b[0m     \u001b[0;32mfor\u001b[0m \u001b[0mi\u001b[0m \u001b[0;32min\u001b[0m \u001b[0mrange\u001b[0m\u001b[0;34m(\u001b[0m\u001b[0mn_clusters\u001b[0m \u001b[0;34m)\u001b[0m\u001b[0;34m:\u001b[0m \u001b[0;31m# Цикл по меткам классов\u001b[0m\u001b[0;34m\u001b[0m\u001b[0;34m\u001b[0m\u001b[0m\n\u001b[1;32m      9\u001b[0m         \u001b[0mdata\u001b[0m \u001b[0;34m=\u001b[0m \u001b[0mF\u001b[0m\u001b[0;34m[\u001b[0m\u001b[0mF\u001b[0m\u001b[0;34m[\u001b[0m\u001b[0mmethod\u001b[0m\u001b[0;34m]\u001b[0m \u001b[0;34m==\u001b[0m \u001b[0mi\u001b[0m\u001b[0;34m]\u001b[0m\u001b[0;34m\u001b[0m\u001b[0;34m\u001b[0m\u001b[0m\n\u001b[0;32m---> 10\u001b[0;31m         \u001b[0max\u001b[0m\u001b[0;34m.\u001b[0m\u001b[0mscatter\u001b[0m\u001b[0;34m(\u001b[0m\u001b[0mdata\u001b[0m\u001b[0;34m.\u001b[0m\u001b[0mFactor_1\u001b[0m\u001b[0;34m,\u001b[0m \u001b[0mdata\u001b[0m\u001b[0;34m.\u001b[0m\u001b[0mFactor_2\u001b[0m\u001b[0;34m,\u001b[0m \u001b[0mdata\u001b[0m\u001b[0;34m.\u001b[0m\u001b[0mFactor_3\u001b[0m\u001b[0;34m,\u001b[0m \u001b[0;34m'o'\u001b[0m\u001b[0;34m,\u001b[0m \u001b[0mlabel\u001b[0m\u001b[0;34m=\u001b[0m\u001b[0;34mf'class {i}'\u001b[0m\u001b[0;34m)\u001b[0m\u001b[0;34m\u001b[0m\u001b[0;34m\u001b[0m\u001b[0m\n\u001b[0m\u001b[1;32m     11\u001b[0m     \u001b[0mplt\u001b[0m\u001b[0;34m.\u001b[0m\u001b[0mlegend\u001b[0m\u001b[0;34m(\u001b[0m\u001b[0;34m)\u001b[0m\u001b[0;34m\u001b[0m\u001b[0;34m\u001b[0m\u001b[0m\n\u001b[1;32m     12\u001b[0m     \u001b[0mplt\u001b[0m\u001b[0;34m.\u001b[0m\u001b[0mshow\u001b[0m\u001b[0;34m(\u001b[0m\u001b[0;34m)\u001b[0m\u001b[0;34m\u001b[0m\u001b[0;34m\u001b[0m\u001b[0m\n",
      "\u001b[0;32m~/opt/anaconda3/lib/python3.7/site-packages/pandas/core/generic.py\u001b[0m in \u001b[0;36m__getattr__\u001b[0;34m(self, name)\u001b[0m\n\u001b[1;32m   5177\u001b[0m             \u001b[0;32mif\u001b[0m \u001b[0mself\u001b[0m\u001b[0;34m.\u001b[0m\u001b[0m_info_axis\u001b[0m\u001b[0;34m.\u001b[0m\u001b[0m_can_hold_identifiers_and_holds_name\u001b[0m\u001b[0;34m(\u001b[0m\u001b[0mname\u001b[0m\u001b[0;34m)\u001b[0m\u001b[0;34m:\u001b[0m\u001b[0;34m\u001b[0m\u001b[0;34m\u001b[0m\u001b[0m\n\u001b[1;32m   5178\u001b[0m                 \u001b[0;32mreturn\u001b[0m \u001b[0mself\u001b[0m\u001b[0;34m[\u001b[0m\u001b[0mname\u001b[0m\u001b[0;34m]\u001b[0m\u001b[0;34m\u001b[0m\u001b[0;34m\u001b[0m\u001b[0m\n\u001b[0;32m-> 5179\u001b[0;31m             \u001b[0;32mreturn\u001b[0m \u001b[0mobject\u001b[0m\u001b[0;34m.\u001b[0m\u001b[0m__getattribute__\u001b[0m\u001b[0;34m(\u001b[0m\u001b[0mself\u001b[0m\u001b[0;34m,\u001b[0m \u001b[0mname\u001b[0m\u001b[0;34m)\u001b[0m\u001b[0;34m\u001b[0m\u001b[0;34m\u001b[0m\u001b[0m\n\u001b[0m\u001b[1;32m   5180\u001b[0m \u001b[0;34m\u001b[0m\u001b[0m\n\u001b[1;32m   5181\u001b[0m     \u001b[0;32mdef\u001b[0m \u001b[0m__setattr__\u001b[0m\u001b[0;34m(\u001b[0m\u001b[0mself\u001b[0m\u001b[0;34m,\u001b[0m \u001b[0mname\u001b[0m\u001b[0;34m,\u001b[0m \u001b[0mvalue\u001b[0m\u001b[0;34m)\u001b[0m\u001b[0;34m:\u001b[0m\u001b[0;34m\u001b[0m\u001b[0;34m\u001b[0m\u001b[0m\n",
      "\u001b[0;31mAttributeError\u001b[0m: 'DataFrame' object has no attribute 'Factor_3'"
     ]
    },
    {
     "data": {
      "image/png": "[encoded data removed]",
      "text/plain": [
       "<Figure size 432x288 with 1 Axes>"
      ]
     },
     "metadata": {
      "needs_background": "light"
     },
     "output_type": "display_data"
    }
   ],
   "source": [
    "# Трехмерный график\n",
    "from mpl_toolkits.mplot3d import Axes3D\n",
    "\n",
    "for method in ['ward_old', 'kmeans_old', 'ward_new', 'kmeans_new']:\n",
    "    fig = plt.figure()\n",
    "    ax = fig.add_subplot(111, projection='3d')\n",
    "    ax.set_title(method)\n",
    "    for i in range(n_clusters ): # Цикл по меткам классов\n",
    "        data = F[F[method] == i]\n",
    "        ax.scatter(data.Factor_1, data.Factor_2, data.Factor_3, 'o', label=f'class {i}')\n",
    "    plt.legend()\n",
    "    plt.show()"
   ]
  },
  {
   "cell_type": "code",
   "execution_count": 44,
   "metadata": {},
   "outputs": [],
   "source": [
    "F.to_excel('4lab_result.xlsx')"
   ]
  },
  {
   "cell_type": "code",
   "execution_count": null,
   "metadata": {},
   "outputs": [],
   "source": []
  }
 ],
 "metadata": {
  "colab": {
   "name": "Факторный анализ в Python.ipynb",
   "provenance": []
  },
  "kernelspec": {
   "display_name": "Python 3",
   "language": "python",
   "name": "python3"
  },
  "language_info": {
   "codemirror_mode": {
    "name": "ipython",
    "version": 3
   },
   "file_extension": ".py",
   "mimetype": "text/x-python",
   "name": "python",
   "nbconvert_exporter": "python",
   "pygments_lexer": "ipython3",
   "version": "3.7.4"
  }
 },
 "nbformat": 4,
 "nbformat_minor": 1
}
