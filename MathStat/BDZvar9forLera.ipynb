{
 "cells": [
  {
   "cell_type": "code",
   "execution_count": 1,
   "metadata": {},
   "outputs": [],
   "source": [
    "import pandas as pd\n",
    "import numpy as np\n",
    "import scipy.stats as sts\n",
    "import matplotlib.pyplot as plt\n",
    "import statsmodels.distributions.empirical_distribution as distr\n",
    "import seaborn as sns\n",
    "from statsmodels.stats.descriptivestats import sign_test"
   ]
  },
  {
   "cell_type": "code",
   "execution_count": 2,
   "metadata": {},
   "outputs": [],
   "source": [
    "DF = pd.read_excel(r'C:\\Users\\Админ\\Python\\бдз\\Задание к бдз\\data_matstat_K5.xls', sheet_name=1)"
   ]
  },
  {
   "cell_type": "code",
   "execution_count": 3,
   "metadata": {},
   "outputs": [
    {
     "data": {
      "text/html": [
       "<div>\n",
       "<style scoped>\n",
       "    .dataframe tbody tr th:only-of-type {\n",
       "        vertical-align: middle;\n",
       "    }\n",
       "\n",
       "    .dataframe tbody tr th {\n",
       "        vertical-align: top;\n",
       "    }\n",
       "\n",
       "    .dataframe thead th {\n",
       "        text-align: right;\n",
       "    }\n",
       "</style>\n",
       "<table border=\"1\" class=\"dataframe\">\n",
       "  <thead>\n",
       "    <tr style=\"text-align: right;\">\n",
       "      <th></th>\n",
       "      <th>A1</th>\n",
       "      <th>A2</th>\n",
       "      <th>A3</th>\n",
       "      <th>A4</th>\n",
       "      <th>A5</th>\n",
       "      <th>A6</th>\n",
       "      <th>A7</th>\n",
       "      <th>A8</th>\n",
       "      <th>A9</th>\n",
       "      <th>A10</th>\n",
       "      <th>A11</th>\n",
       "      <th>A12</th>\n",
       "      <th>A13</th>\n",
       "      <th>A14</th>\n",
       "      <th>A15</th>\n",
       "      <th>A16</th>\n",
       "      <th>A17</th>\n",
       "      <th>A18</th>\n",
       "      <th>A19</th>\n",
       "      <th>A20</th>\n",
       "    </tr>\n",
       "  </thead>\n",
       "  <tbody>\n",
       "    <tr>\n",
       "      <th>0</th>\n",
       "      <td>1061</td>\n",
       "      <td>Alaska Pacific University</td>\n",
       "      <td>AK</td>\n",
       "      <td>IIB</td>\n",
       "      <td>454</td>\n",
       "      <td>382</td>\n",
       "      <td>362</td>\n",
       "      <td>382</td>\n",
       "      <td>N</td>\n",
       "      <td>567</td>\n",
       "      <td>485</td>\n",
       "      <td>471</td>\n",
       "      <td>487</td>\n",
       "      <td>N</td>\n",
       "      <td>6</td>\n",
       "      <td>11</td>\n",
       "      <td>9</td>\n",
       "      <td>4</td>\n",
       "      <td>32</td>\n",
       "      <td>N</td>\n",
       "    </tr>\n",
       "    <tr>\n",
       "      <th>1</th>\n",
       "      <td>1063</td>\n",
       "      <td>Univ.Alaska-Fairbanks</td>\n",
       "      <td>AK</td>\n",
       "      <td>I</td>\n",
       "      <td>686</td>\n",
       "      <td>560</td>\n",
       "      <td>432</td>\n",
       "      <td>508</td>\n",
       "      <td>Y</td>\n",
       "      <td>914</td>\n",
       "      <td>753</td>\n",
       "      <td>572</td>\n",
       "      <td>677</td>\n",
       "      <td>Y</td>\n",
       "      <td>74</td>\n",
       "      <td>125</td>\n",
       "      <td>118</td>\n",
       "      <td>40</td>\n",
       "      <td>404</td>\n",
       "      <td>Y</td>\n",
       "    </tr>\n",
       "    <tr>\n",
       "      <th>2</th>\n",
       "      <td>1065</td>\n",
       "      <td>Univ.Alaska-Southeast</td>\n",
       "      <td>AK</td>\n",
       "      <td>IIA</td>\n",
       "      <td>533</td>\n",
       "      <td>494</td>\n",
       "      <td>329</td>\n",
       "      <td>415</td>\n",
       "      <td>N</td>\n",
       "      <td>716</td>\n",
       "      <td>663</td>\n",
       "      <td>442</td>\n",
       "      <td>559</td>\n",
       "      <td>Y</td>\n",
       "      <td>9</td>\n",
       "      <td>26</td>\n",
       "      <td>20</td>\n",
       "      <td>9</td>\n",
       "      <td>70</td>\n",
       "      <td>N</td>\n",
       "    </tr>\n",
       "    <tr>\n",
       "      <th>3</th>\n",
       "      <td>11462</td>\n",
       "      <td>Univ.Alaska-Anchorage</td>\n",
       "      <td>AK</td>\n",
       "      <td>IIA</td>\n",
       "      <td>612</td>\n",
       "      <td>507</td>\n",
       "      <td>414</td>\n",
       "      <td>498</td>\n",
       "      <td>Y</td>\n",
       "      <td>825</td>\n",
       "      <td>681</td>\n",
       "      <td>557</td>\n",
       "      <td>670</td>\n",
       "      <td>Y</td>\n",
       "      <td>115</td>\n",
       "      <td>124</td>\n",
       "      <td>101</td>\n",
       "      <td>21</td>\n",
       "      <td>392</td>\n",
       "      <td>Y</td>\n",
       "    </tr>\n",
       "    <tr>\n",
       "      <th>4</th>\n",
       "      <td>1002</td>\n",
       "      <td>Alabama Agri.&amp;Mech. Univ.</td>\n",
       "      <td>AL</td>\n",
       "      <td>IIA</td>\n",
       "      <td>442</td>\n",
       "      <td>369</td>\n",
       "      <td>310</td>\n",
       "      <td>350</td>\n",
       "      <td>N</td>\n",
       "      <td>530</td>\n",
       "      <td>444</td>\n",
       "      <td>376</td>\n",
       "      <td>423</td>\n",
       "      <td>N</td>\n",
       "      <td>59</td>\n",
       "      <td>77</td>\n",
       "      <td>102</td>\n",
       "      <td>24</td>\n",
       "      <td>262</td>\n",
       "      <td>N</td>\n",
       "    </tr>\n",
       "    <tr>\n",
       "      <th>5</th>\n",
       "      <td>1004</td>\n",
       "      <td>University of Montevallo</td>\n",
       "      <td>AL</td>\n",
       "      <td>IIA</td>\n",
       "      <td>441</td>\n",
       "      <td>385</td>\n",
       "      <td>310</td>\n",
       "      <td>388</td>\n",
       "      <td>N</td>\n",
       "      <td>542</td>\n",
       "      <td>473</td>\n",
       "      <td>383</td>\n",
       "      <td>477</td>\n",
       "      <td>N</td>\n",
       "      <td>57</td>\n",
       "      <td>33</td>\n",
       "      <td>35</td>\n",
       "      <td>2</td>\n",
       "      <td>127</td>\n",
       "      <td>N</td>\n",
       "    </tr>\n",
       "    <tr>\n",
       "      <th>6</th>\n",
       "      <td>1008</td>\n",
       "      <td>Athens State College</td>\n",
       "      <td>AL</td>\n",
       "      <td>IIB</td>\n",
       "      <td>466</td>\n",
       "      <td>394</td>\n",
       "      <td>351</td>\n",
       "      <td>396</td>\n",
       "      <td>N</td>\n",
       "      <td>558</td>\n",
       "      <td>476</td>\n",
       "      <td>427</td>\n",
       "      <td>478</td>\n",
       "      <td>N</td>\n",
       "      <td>20</td>\n",
       "      <td>18</td>\n",
       "      <td>30</td>\n",
       "      <td>0</td>\n",
       "      <td>68</td>\n",
       "      <td>N</td>\n",
       "    </tr>\n",
       "    <tr>\n",
       "      <th>7</th>\n",
       "      <td>1009</td>\n",
       "      <td>Auburn University- Main</td>\n",
       "      <td>AL</td>\n",
       "      <td>I</td>\n",
       "      <td>580</td>\n",
       "      <td>437</td>\n",
       "      <td>374</td>\n",
       "      <td>455</td>\n",
       "      <td>Y</td>\n",
       "      <td>692</td>\n",
       "      <td>527</td>\n",
       "      <td>451</td>\n",
       "      <td>546</td>\n",
       "      <td>Y</td>\n",
       "      <td>366</td>\n",
       "      <td>354</td>\n",
       "      <td>301</td>\n",
       "      <td>66</td>\n",
       "      <td>1109</td>\n",
       "      <td>Y</td>\n",
       "    </tr>\n",
       "    <tr>\n",
       "      <th>8</th>\n",
       "      <td>1012</td>\n",
       "      <td>Birmingham Southern College</td>\n",
       "      <td>AL</td>\n",
       "      <td>IIB</td>\n",
       "      <td>498</td>\n",
       "      <td>379</td>\n",
       "      <td>322</td>\n",
       "      <td>401</td>\n",
       "      <td>N</td>\n",
       "      <td>655</td>\n",
       "      <td>501</td>\n",
       "      <td>404</td>\n",
       "      <td>523</td>\n",
       "      <td>N</td>\n",
       "      <td>34</td>\n",
       "      <td>25</td>\n",
       "      <td>27</td>\n",
       "      <td>3</td>\n",
       "      <td>89</td>\n",
       "      <td>N</td>\n",
       "    </tr>\n",
       "    <tr>\n",
       "      <th>9</th>\n",
       "      <td>1016</td>\n",
       "      <td>Univ. of North Alabama</td>\n",
       "      <td>AL</td>\n",
       "      <td>IIB</td>\n",
       "      <td>506</td>\n",
       "      <td>412</td>\n",
       "      <td>359</td>\n",
       "      <td>411</td>\n",
       "      <td>N</td>\n",
       "      <td>607</td>\n",
       "      <td>508</td>\n",
       "      <td>445</td>\n",
       "      <td>503</td>\n",
       "      <td>N</td>\n",
       "      <td>67</td>\n",
       "      <td>40</td>\n",
       "      <td>66</td>\n",
       "      <td>27</td>\n",
       "      <td>200</td>\n",
       "      <td>N</td>\n",
       "    </tr>\n",
       "    <tr>\n",
       "      <th>10</th>\n",
       "      <td>1019</td>\n",
       "      <td>Huntingdon College</td>\n",
       "      <td>AL</td>\n",
       "      <td>IIB</td>\n",
       "      <td>339</td>\n",
       "      <td>303</td>\n",
       "      <td>287</td>\n",
       "      <td>301</td>\n",
       "      <td>N</td>\n",
       "      <td>421</td>\n",
       "      <td>371</td>\n",
       "      <td>347</td>\n",
       "      <td>366</td>\n",
       "      <td>N</td>\n",
       "      <td>8</td>\n",
       "      <td>15</td>\n",
       "      <td>19</td>\n",
       "      <td>2</td>\n",
       "      <td>44</td>\n",
       "      <td>N</td>\n",
       "    </tr>\n",
       "    <tr>\n",
       "      <th>11</th>\n",
       "      <td>1020</td>\n",
       "      <td>Jacksonville State Univ.</td>\n",
       "      <td>AL</td>\n",
       "      <td>IIA</td>\n",
       "      <td>461</td>\n",
       "      <td>389</td>\n",
       "      <td>338</td>\n",
       "      <td>386</td>\n",
       "      <td>N</td>\n",
       "      <td>585</td>\n",
       "      <td>496</td>\n",
       "      <td>436</td>\n",
       "      <td>493</td>\n",
       "      <td>N</td>\n",
       "      <td>106</td>\n",
       "      <td>42</td>\n",
       "      <td>66</td>\n",
       "      <td>58</td>\n",
       "      <td>272</td>\n",
       "      <td>N</td>\n",
       "    </tr>\n",
       "  </tbody>\n",
       "</table>\n",
       "</div>"
      ],
      "text/plain": [
       "       A1                           A2  A3   A4   A5   A6   A7   A8 A9  A10  \\\n",
       "0    1061    Alaska Pacific University  AK  IIB  454  382  362  382  N  567   \n",
       "1    1063        Univ.Alaska-Fairbanks  AK    I  686  560  432  508  Y  914   \n",
       "2    1065        Univ.Alaska-Southeast  AK  IIA  533  494  329  415  N  716   \n",
       "3   11462        Univ.Alaska-Anchorage  AK  IIA  612  507  414  498  Y  825   \n",
       "4    1002    Alabama Agri.&Mech. Univ.  AL  IIA  442  369  310  350  N  530   \n",
       "5    1004     University of Montevallo  AL  IIA  441  385  310  388  N  542   \n",
       "6    1008         Athens State College  AL  IIB  466  394  351  396  N  558   \n",
       "7    1009      Auburn University- Main  AL    I  580  437  374  455  Y  692   \n",
       "8    1012  Birmingham Southern College  AL  IIB  498  379  322  401  N  655   \n",
       "9    1016       Univ. of North Alabama  AL  IIB  506  412  359  411  N  607   \n",
       "10   1019           Huntingdon College  AL  IIB  339  303  287  301  N  421   \n",
       "11   1020     Jacksonville State Univ.  AL  IIA  461  389  338  386  N  585   \n",
       "\n",
       "    A11  A12  A13 A14  A15  A16  A17  A18   A19 A20  \n",
       "0   485  471  487   N    6   11    9    4    32   N  \n",
       "1   753  572  677   Y   74  125  118   40   404   Y  \n",
       "2   663  442  559   Y    9   26   20    9    70   N  \n",
       "3   681  557  670   Y  115  124  101   21   392   Y  \n",
       "4   444  376  423   N   59   77  102   24   262   N  \n",
       "5   473  383  477   N   57   33   35    2   127   N  \n",
       "6   476  427  478   N   20   18   30    0    68   N  \n",
       "7   527  451  546   Y  366  354  301   66  1109   Y  \n",
       "8   501  404  523   N   34   25   27    3    89   N  \n",
       "9   508  445  503   N   67   40   66   27   200   N  \n",
       "10  371  347  366   N    8   15   19    2    44   N  \n",
       "11  496  436  493   N  106   42   66   58   272   N  "
      ]
     },
     "execution_count": 3,
     "metadata": {},
     "output_type": "execute_result"
    }
   ],
   "source": [
    "DF.head(12)"
   ]
  },
  {
   "cell_type": "code",
   "execution_count": 4,
   "metadata": {
    "scrolled": true
   },
   "outputs": [
    {
     "data": {
      "text/html": [
       "<div>\n",
       "<style scoped>\n",
       "    .dataframe tbody tr th:only-of-type {\n",
       "        vertical-align: middle;\n",
       "    }\n",
       "\n",
       "    .dataframe tbody tr th {\n",
       "        vertical-align: top;\n",
       "    }\n",
       "\n",
       "    .dataframe thead th {\n",
       "        text-align: right;\n",
       "    }\n",
       "</style>\n",
       "<table border=\"1\" class=\"dataframe\">\n",
       "  <thead>\n",
       "    <tr style=\"text-align: right;\">\n",
       "      <th></th>\n",
       "      <th>№ задания\n",
       "Вариант</th>\n",
       "      <th>1.1</th>\n",
       "      <th>1.2</th>\n",
       "      <th>2.1, 3.1</th>\n",
       "      <th>2.2, 3.2</th>\n",
       "      <th>2.3, 3.3</th>\n",
       "      <th>2.4, 3.4</th>\n",
       "      <th>4</th>\n",
       "      <th>5</th>\n",
       "      <th>6</th>\n",
       "      <th>7</th>\n",
       "      <th>8.1</th>\n",
       "      <th>8.2</th>\n",
       "      <th>9.1</th>\n",
       "      <th>9.2</th>\n",
       "      <th>9.3</th>\n",
       "    </tr>\n",
       "  </thead>\n",
       "  <tbody>\n",
       "    <tr>\n",
       "      <th>0</th>\n",
       "      <td>1</td>\n",
       "      <td>A5 A6 A7</td>\n",
       "      <td>A5</td>\n",
       "      <td>A5</td>\n",
       "      <td>A5</td>\n",
       "      <td>A5 A6</td>\n",
       "      <td>A5 A6</td>\n",
       "      <td>A5</td>\n",
       "      <td>A5 A6</td>\n",
       "      <td>A4 A9</td>\n",
       "      <td>A4 A5</td>\n",
       "      <td>A5 A6</td>\n",
       "      <td>A5 A6 A7</td>\n",
       "      <td>A15 A10</td>\n",
       "      <td>A15 A10</td>\n",
       "      <td>A15 A5 A10</td>\n",
       "    </tr>\n",
       "    <tr>\n",
       "      <th>1</th>\n",
       "      <td>2</td>\n",
       "      <td>B7 B8 B9</td>\n",
       "      <td>B7</td>\n",
       "      <td>B7</td>\n",
       "      <td>B7</td>\n",
       "      <td>B11 B12</td>\n",
       "      <td>B11 B12</td>\n",
       "      <td>B7</td>\n",
       "      <td>B11 B12</td>\n",
       "      <td>B3 B5</td>\n",
       "      <td>B6 B1</td>\n",
       "      <td>B11 B12</td>\n",
       "      <td>B7 B8 B9</td>\n",
       "      <td>B1 B2</td>\n",
       "      <td>B1 B2</td>\n",
       "      <td>B1 B4 B2</td>\n",
       "    </tr>\n",
       "    <tr>\n",
       "      <th>2</th>\n",
       "      <td>3</td>\n",
       "      <td>C6 C7 C8</td>\n",
       "      <td>C6</td>\n",
       "      <td>C6</td>\n",
       "      <td>C6</td>\n",
       "      <td>C13 C14</td>\n",
       "      <td>C13 C14</td>\n",
       "      <td>C6</td>\n",
       "      <td>C13 C14</td>\n",
       "      <td>С2 С3</td>\n",
       "      <td>С3 С4</td>\n",
       "      <td>C13 C14</td>\n",
       "      <td>C6 C7 C8</td>\n",
       "      <td>С6 С13</td>\n",
       "      <td>С6 С13</td>\n",
       "      <td>С6 С4 С13</td>\n",
       "    </tr>\n",
       "    <tr>\n",
       "      <th>3</th>\n",
       "      <td>4</td>\n",
       "      <td>D1 D5 D6</td>\n",
       "      <td>D1</td>\n",
       "      <td>D1</td>\n",
       "      <td>D1</td>\n",
       "      <td>D1 D2</td>\n",
       "      <td>D1 D2</td>\n",
       "      <td>D1</td>\n",
       "      <td>D1 D2</td>\n",
       "      <td>D7 D8</td>\n",
       "      <td>D7 D1</td>\n",
       "      <td>D1 D2</td>\n",
       "      <td>D1 D2 D3</td>\n",
       "      <td>D4 D1</td>\n",
       "      <td>D4 D1</td>\n",
       "      <td>D4 D6 D1</td>\n",
       "    </tr>\n",
       "    <tr>\n",
       "      <th>4</th>\n",
       "      <td>5</td>\n",
       "      <td>A6 A7 A8</td>\n",
       "      <td>A6</td>\n",
       "      <td>A6</td>\n",
       "      <td>A6</td>\n",
       "      <td>A6 A7</td>\n",
       "      <td>A6 A7</td>\n",
       "      <td>A6</td>\n",
       "      <td>A6 A7</td>\n",
       "      <td>A4 A14</td>\n",
       "      <td>A4 A6</td>\n",
       "      <td>A6 A7</td>\n",
       "      <td>A6 A7 A8</td>\n",
       "      <td>A16 A11</td>\n",
       "      <td>A16 A11</td>\n",
       "      <td>A16 A6 A11</td>\n",
       "    </tr>\n",
       "    <tr>\n",
       "      <th>5</th>\n",
       "      <td>6</td>\n",
       "      <td>B10 B11 B12</td>\n",
       "      <td>B10</td>\n",
       "      <td>B10</td>\n",
       "      <td>B10</td>\n",
       "      <td>B10 B11</td>\n",
       "      <td>B10 B11</td>\n",
       "      <td>B10</td>\n",
       "      <td>B10 B11</td>\n",
       "      <td>B3 B6</td>\n",
       "      <td>B6 B2</td>\n",
       "      <td>B10 B11</td>\n",
       "      <td>B10 B11 B12</td>\n",
       "      <td>B7 B2</td>\n",
       "      <td>B7 B2</td>\n",
       "      <td>B7 B4 B2</td>\n",
       "    </tr>\n",
       "    <tr>\n",
       "      <th>6</th>\n",
       "      <td>7</td>\n",
       "      <td>C9 C10 C11</td>\n",
       "      <td>C9</td>\n",
       "      <td>C9</td>\n",
       "      <td>C9</td>\n",
       "      <td>C11 C12</td>\n",
       "      <td>C11 C12</td>\n",
       "      <td>C9</td>\n",
       "      <td>C11 C12</td>\n",
       "      <td>С2 С5</td>\n",
       "      <td>С5 С4</td>\n",
       "      <td>C11 C12</td>\n",
       "      <td>C9 C10 C11</td>\n",
       "      <td>С11 С13</td>\n",
       "      <td>С11 С13</td>\n",
       "      <td>С11 С4 С13</td>\n",
       "    </tr>\n",
       "    <tr>\n",
       "      <th>7</th>\n",
       "      <td>8</td>\n",
       "      <td>D2 D9 D10</td>\n",
       "      <td>D2</td>\n",
       "      <td>D2</td>\n",
       "      <td>D2</td>\n",
       "      <td>D1 D3</td>\n",
       "      <td>D1 D3</td>\n",
       "      <td>D2</td>\n",
       "      <td>D1 D3</td>\n",
       "      <td>D7 D12</td>\n",
       "      <td>D7 D2</td>\n",
       "      <td>D1 D5</td>\n",
       "      <td>D1 D5 D6</td>\n",
       "      <td>D5 D1</td>\n",
       "      <td>D5 D1</td>\n",
       "      <td>D5 D6 D1</td>\n",
       "    </tr>\n",
       "    <tr>\n",
       "      <th>8</th>\n",
       "      <td>9</td>\n",
       "      <td>A5 A7 A8</td>\n",
       "      <td>A7</td>\n",
       "      <td>A7</td>\n",
       "      <td>A7</td>\n",
       "      <td>A7 A8</td>\n",
       "      <td>A7 A8</td>\n",
       "      <td>A7</td>\n",
       "      <td>A7 A8</td>\n",
       "      <td>A4 A20</td>\n",
       "      <td>A4 A7</td>\n",
       "      <td>A7 A8</td>\n",
       "      <td>A5 A7 A8</td>\n",
       "      <td>A17 A12</td>\n",
       "      <td>A17 A12</td>\n",
       "      <td>A17 A7 A12</td>\n",
       "    </tr>\n",
       "    <tr>\n",
       "      <th>9</th>\n",
       "      <td>10</td>\n",
       "      <td>B13 B14 B15</td>\n",
       "      <td>B13</td>\n",
       "      <td>B13</td>\n",
       "      <td>B13</td>\n",
       "      <td>B13 B14</td>\n",
       "      <td>B13 B14</td>\n",
       "      <td>B13</td>\n",
       "      <td>B13 B14</td>\n",
       "      <td>B5 B6</td>\n",
       "      <td>B3 B13</td>\n",
       "      <td>B13 B14</td>\n",
       "      <td>B13 B14 B15</td>\n",
       "      <td>B8 B2</td>\n",
       "      <td>B8 B2</td>\n",
       "      <td>B8 B4 B2</td>\n",
       "    </tr>\n",
       "    <tr>\n",
       "      <th>10</th>\n",
       "      <td>11</td>\n",
       "      <td>C12 C13 C14</td>\n",
       "      <td>C12</td>\n",
       "      <td>C12</td>\n",
       "      <td>C12</td>\n",
       "      <td>C7 C8</td>\n",
       "      <td>C7 C8</td>\n",
       "      <td>C12</td>\n",
       "      <td>C7 C8</td>\n",
       "      <td>С3 С5</td>\n",
       "      <td>С3 С13</td>\n",
       "      <td>C7 C8</td>\n",
       "      <td>C12 C13 C14</td>\n",
       "      <td>С12 С14</td>\n",
       "      <td>С12 С14</td>\n",
       "      <td>С12 С4 С14</td>\n",
       "    </tr>\n",
       "    <tr>\n",
       "      <th>11</th>\n",
       "      <td>12</td>\n",
       "      <td>D3 D9 D10</td>\n",
       "      <td>D3</td>\n",
       "      <td>D3</td>\n",
       "      <td>D3</td>\n",
       "      <td>D2 D3</td>\n",
       "      <td>D2 D3</td>\n",
       "      <td>D3</td>\n",
       "      <td>D2 D3</td>\n",
       "      <td>D8 D12</td>\n",
       "      <td>D7 D3</td>\n",
       "      <td>D2 D4</td>\n",
       "      <td>D2 D4 D6</td>\n",
       "      <td>D6 D1</td>\n",
       "      <td>D6 D1</td>\n",
       "      <td>D6 D9 D1</td>\n",
       "    </tr>\n",
       "    <tr>\n",
       "      <th>12</th>\n",
       "      <td>13</td>\n",
       "      <td>A5 A6 A8</td>\n",
       "      <td>A8</td>\n",
       "      <td>A8</td>\n",
       "      <td>A8</td>\n",
       "      <td>A5 A8</td>\n",
       "      <td>A5 A8</td>\n",
       "      <td>A8</td>\n",
       "      <td>A5 A8</td>\n",
       "      <td>A9 A14</td>\n",
       "      <td>A4 A8</td>\n",
       "      <td>A5 A8</td>\n",
       "      <td>A5 A6 A8</td>\n",
       "      <td>A15 A13</td>\n",
       "      <td>A15 A13</td>\n",
       "      <td>A15 A5 A13</td>\n",
       "    </tr>\n",
       "    <tr>\n",
       "      <th>13</th>\n",
       "      <td>14</td>\n",
       "      <td>B16 B17 B18</td>\n",
       "      <td>B16</td>\n",
       "      <td>B16</td>\n",
       "      <td>B16</td>\n",
       "      <td>B16 B17</td>\n",
       "      <td>B16 B17</td>\n",
       "      <td>B16</td>\n",
       "      <td>B16 B17</td>\n",
       "      <td>B3 B5</td>\n",
       "      <td>B3 B16</td>\n",
       "      <td>B16 B17</td>\n",
       "      <td>B16 B17 B18</td>\n",
       "      <td>B16 B2</td>\n",
       "      <td>B16 B2</td>\n",
       "      <td>B16 B7 B2</td>\n",
       "    </tr>\n",
       "    <tr>\n",
       "      <th>14</th>\n",
       "      <td>15</td>\n",
       "      <td>C7 C9 C12</td>\n",
       "      <td>С7</td>\n",
       "      <td>С7</td>\n",
       "      <td>С7</td>\n",
       "      <td>C13 C14</td>\n",
       "      <td>C13 C14</td>\n",
       "      <td>С7</td>\n",
       "      <td>C13 C14</td>\n",
       "      <td>С2 С3</td>\n",
       "      <td>С5 С13</td>\n",
       "      <td>C13 C14</td>\n",
       "      <td>C7 C9 C12</td>\n",
       "      <td>С6 С13</td>\n",
       "      <td>С6 С13</td>\n",
       "      <td>С6 С11 С13</td>\n",
       "    </tr>\n",
       "    <tr>\n",
       "      <th>15</th>\n",
       "      <td>16</td>\n",
       "      <td>D2 D3 D4</td>\n",
       "      <td>D4</td>\n",
       "      <td>D4</td>\n",
       "      <td>D4</td>\n",
       "      <td>D1 D2</td>\n",
       "      <td>D1 D2</td>\n",
       "      <td>D4</td>\n",
       "      <td>D1 D2</td>\n",
       "      <td>D7 D8</td>\n",
       "      <td>D7 D9</td>\n",
       "      <td>D2 D9</td>\n",
       "      <td>D2 D9 D6</td>\n",
       "      <td>D9 D1</td>\n",
       "      <td>D9 D1</td>\n",
       "      <td>D9 D10 D1</td>\n",
       "    </tr>\n",
       "    <tr>\n",
       "      <th>16</th>\n",
       "      <td>17</td>\n",
       "      <td>A10 A11 A12</td>\n",
       "      <td>A10</td>\n",
       "      <td>A10</td>\n",
       "      <td>A10</td>\n",
       "      <td>A10 A11</td>\n",
       "      <td>A10 A11</td>\n",
       "      <td>A10</td>\n",
       "      <td>A10 A11</td>\n",
       "      <td>A9 A20</td>\n",
       "      <td>A4 A10</td>\n",
       "      <td>A10 A11</td>\n",
       "      <td>A10 A11 A12</td>\n",
       "      <td>A5 A10</td>\n",
       "      <td>A5 A10</td>\n",
       "      <td>A5 A19 A10</td>\n",
       "    </tr>\n",
       "    <tr>\n",
       "      <th>17</th>\n",
       "      <td>18</td>\n",
       "      <td>B8 B10 B13</td>\n",
       "      <td>B8</td>\n",
       "      <td>B8</td>\n",
       "      <td>B8</td>\n",
       "      <td>B16 B18</td>\n",
       "      <td>B16 B18</td>\n",
       "      <td>B8</td>\n",
       "      <td>B16 B18</td>\n",
       "      <td>B3 B6</td>\n",
       "      <td>B3 B8</td>\n",
       "      <td>B16 B18</td>\n",
       "      <td>B8 B10 B13</td>\n",
       "      <td>B10 B2</td>\n",
       "      <td>B10 B2</td>\n",
       "      <td>B10 B7 B2</td>\n",
       "    </tr>\n",
       "    <tr>\n",
       "      <th>18</th>\n",
       "      <td>19</td>\n",
       "      <td>C8 C10 C13</td>\n",
       "      <td>С8</td>\n",
       "      <td>С8</td>\n",
       "      <td>С8</td>\n",
       "      <td>C11 C12</td>\n",
       "      <td>C11 C12</td>\n",
       "      <td>С8</td>\n",
       "      <td>C11 C12</td>\n",
       "      <td>С2 С5</td>\n",
       "      <td>С3 С14</td>\n",
       "      <td>C11 C12</td>\n",
       "      <td>C8 C10 C13</td>\n",
       "      <td>С6 С14</td>\n",
       "      <td>С6 С14</td>\n",
       "      <td>С6 С12 С14</td>\n",
       "    </tr>\n",
       "    <tr>\n",
       "      <th>19</th>\n",
       "      <td>20</td>\n",
       "      <td>D3 D4 D5</td>\n",
       "      <td>D5</td>\n",
       "      <td>D5</td>\n",
       "      <td>D5</td>\n",
       "      <td>D2 D3</td>\n",
       "      <td>D2 D3</td>\n",
       "      <td>D5</td>\n",
       "      <td>D2 D3</td>\n",
       "      <td>D7 D12</td>\n",
       "      <td>D7 D14</td>\n",
       "      <td>D3 D4</td>\n",
       "      <td>D3 D4 D6</td>\n",
       "      <td>D10 D1</td>\n",
       "      <td>D10 D1</td>\n",
       "      <td>D10 D5 D1</td>\n",
       "    </tr>\n",
       "    <tr>\n",
       "      <th>20</th>\n",
       "      <td>21</td>\n",
       "      <td>A10 A11 A13</td>\n",
       "      <td>A11</td>\n",
       "      <td>A11</td>\n",
       "      <td>A11</td>\n",
       "      <td>A10 A13</td>\n",
       "      <td>A10 A13</td>\n",
       "      <td>A11</td>\n",
       "      <td>A10 A13</td>\n",
       "      <td>A14 A20</td>\n",
       "      <td>A4 A11</td>\n",
       "      <td>A10 A13</td>\n",
       "      <td>A10 A11 A13</td>\n",
       "      <td>A6 A11</td>\n",
       "      <td>A6 A11</td>\n",
       "      <td>A6 A19 A11</td>\n",
       "    </tr>\n",
       "    <tr>\n",
       "      <th>21</th>\n",
       "      <td>22</td>\n",
       "      <td>B9 B14 B17</td>\n",
       "      <td>B9</td>\n",
       "      <td>B9</td>\n",
       "      <td>B9</td>\n",
       "      <td>B9 B14</td>\n",
       "      <td>B9 B14</td>\n",
       "      <td>B9</td>\n",
       "      <td>B9 B14</td>\n",
       "      <td>B5 B6</td>\n",
       "      <td>B6 B9</td>\n",
       "      <td>B9 B14</td>\n",
       "      <td>B9 B14 B17</td>\n",
       "      <td>B9 B2</td>\n",
       "      <td>B9 B2</td>\n",
       "      <td>B9 B7 B2</td>\n",
       "    </tr>\n",
       "    <tr>\n",
       "      <th>22</th>\n",
       "      <td>23</td>\n",
       "      <td>C6 C10 C12</td>\n",
       "      <td>С10</td>\n",
       "      <td>С10</td>\n",
       "      <td>С10</td>\n",
       "      <td>C7 C8</td>\n",
       "      <td>C7 C8</td>\n",
       "      <td>С10</td>\n",
       "      <td>C7 C8</td>\n",
       "      <td>С3 С5</td>\n",
       "      <td>С5 С14</td>\n",
       "      <td>C7 C8</td>\n",
       "      <td>C6 C10 C12</td>\n",
       "      <td>С9 С13</td>\n",
       "      <td>С9 С13</td>\n",
       "      <td>С9 С4 С13</td>\n",
       "    </tr>\n",
       "    <tr>\n",
       "      <th>23</th>\n",
       "      <td>24</td>\n",
       "      <td>D2 D5 D10</td>\n",
       "      <td>D10</td>\n",
       "      <td>D10</td>\n",
       "      <td>D10</td>\n",
       "      <td>D1 D3</td>\n",
       "      <td>D1 D3</td>\n",
       "      <td>D10</td>\n",
       "      <td>D1 D3</td>\n",
       "      <td>D8 D12</td>\n",
       "      <td>D7 D13</td>\n",
       "      <td>D1 D10</td>\n",
       "      <td>D1 D10 D6</td>\n",
       "      <td>D13 D1</td>\n",
       "      <td>D13 D1</td>\n",
       "      <td>D13 D6 D1</td>\n",
       "    </tr>\n",
       "    <tr>\n",
       "      <th>24</th>\n",
       "      <td>25</td>\n",
       "      <td>A11 A12 A13</td>\n",
       "      <td>A12</td>\n",
       "      <td>A12</td>\n",
       "      <td>A12</td>\n",
       "      <td>A11 A12</td>\n",
       "      <td>A11 A12</td>\n",
       "      <td>A12</td>\n",
       "      <td>A11 A12</td>\n",
       "      <td>A4 A9</td>\n",
       "      <td>A4 A12</td>\n",
       "      <td>A11 A12</td>\n",
       "      <td>A11 A12 A13</td>\n",
       "      <td>A7 A12</td>\n",
       "      <td>A7 A12</td>\n",
       "      <td>A7 A19 A12</td>\n",
       "    </tr>\n",
       "    <tr>\n",
       "      <th>25</th>\n",
       "      <td>26</td>\n",
       "      <td>B11 B15 B18</td>\n",
       "      <td>B11</td>\n",
       "      <td>B11</td>\n",
       "      <td>B11</td>\n",
       "      <td>B11 B15</td>\n",
       "      <td>B11 B15</td>\n",
       "      <td>B11</td>\n",
       "      <td>B11 B15</td>\n",
       "      <td>B3 B5</td>\n",
       "      <td>B6 B11</td>\n",
       "      <td>B11 B15</td>\n",
       "      <td>B11 B15 B18</td>\n",
       "      <td>B11 B2</td>\n",
       "      <td>B11 B2</td>\n",
       "      <td>B11 B7 B2</td>\n",
       "    </tr>\n",
       "    <tr>\n",
       "      <th>26</th>\n",
       "      <td>27</td>\n",
       "      <td>C7 C11 C14</td>\n",
       "      <td>С11</td>\n",
       "      <td>С11</td>\n",
       "      <td>С11</td>\n",
       "      <td>C13 C14</td>\n",
       "      <td>C13 C14</td>\n",
       "      <td>С11</td>\n",
       "      <td>C13 C14</td>\n",
       "      <td>С2 С3</td>\n",
       "      <td>С3 С9</td>\n",
       "      <td>C13 C14</td>\n",
       "      <td>C7 C11 C14</td>\n",
       "      <td>С9 С14</td>\n",
       "      <td>С9 С14</td>\n",
       "      <td>С9 С4 С14</td>\n",
       "    </tr>\n",
       "    <tr>\n",
       "      <th>27</th>\n",
       "      <td>28</td>\n",
       "      <td>D1 D6 D9</td>\n",
       "      <td>D9</td>\n",
       "      <td>D9</td>\n",
       "      <td>D9</td>\n",
       "      <td>D1 D2</td>\n",
       "      <td>D1 D2</td>\n",
       "      <td>D9</td>\n",
       "      <td>D1 D2</td>\n",
       "      <td>D7 D8</td>\n",
       "      <td>D7 D11</td>\n",
       "      <td>D1 D9</td>\n",
       "      <td>D1 D9 D10</td>\n",
       "      <td>D4 D2</td>\n",
       "      <td>D4 D2</td>\n",
       "      <td>D4 D6 D2</td>\n",
       "    </tr>\n",
       "  </tbody>\n",
       "</table>\n",
       "</div>"
      ],
      "text/plain": [
       "                   № задания\\nВариант          1.1  1.2 2.1, 3.1 2.2, 3.2  \\\n",
       "0                                   1     A5 A6 A7   A5       A5       A5   \n",
       "1                                   2     B7 B8 B9   B7       B7       B7   \n",
       "2                                   3     C6 C7 C8   C6       C6       C6   \n",
       "3                                   4     D1 D5 D6   D1       D1       D1   \n",
       "4                                   5     A6 A7 A8   A6       A6       A6   \n",
       "5                                   6  B10 B11 B12  B10      B10      B10   \n",
       "6                                   7   C9 C10 C11   C9       C9       C9   \n",
       "7                                   8    D2 D9 D10   D2       D2       D2   \n",
       "8                                   9     A5 A7 A8   A7       A7       A7   \n",
       "9                                  10  B13 B14 B15  B13      B13      B13   \n",
       "10                                 11  C12 C13 C14  C12      C12      C12   \n",
       "11                                 12    D3 D9 D10   D3       D3       D3   \n",
       "12                                 13     A5 A6 A8   A8       A8       A8   \n",
       "13                                 14  B16 B17 B18  B16      B16      B16   \n",
       "14                                 15    C7 C9 C12   С7       С7       С7   \n",
       "15                                 16     D2 D3 D4   D4       D4       D4   \n",
       "16                                 17  A10 A11 A12  A10      A10      A10   \n",
       "17                                 18   B8 B10 B13   B8       B8       B8   \n",
       "18                                 19   C8 C10 C13   С8       С8       С8   \n",
       "19                                 20     D3 D4 D5   D5       D5       D5   \n",
       "20                                 21  A10 A11 A13  A11      A11      A11   \n",
       "21                                 22   B9 B14 B17   B9       B9       B9   \n",
       "22                                 23   C6 C10 C12  С10      С10      С10   \n",
       "23                                 24    D2 D5 D10  D10      D10      D10   \n",
       "24                                 25  A11 A12 A13  A12      A12      A12   \n",
       "25                                 26  B11 B15 B18  B11      B11      B11   \n",
       "26                                 27   C7 C11 C14  С11      С11      С11   \n",
       "27                                 28     D1 D6 D9   D9       D9       D9   \n",
       "\n",
       "   2.3, 3.3 2.4, 3.4    4        5        6       7      8.1          8.2  \\\n",
       "0     A5 A6    A5 A6   A5    A5 A6    A4 A9   A4 A5    A5 A6     A5 A6 A7   \n",
       "1   B11 B12  B11 B12   B7  B11 B12    B3 B5   B6 B1  B11 B12     B7 B8 B9   \n",
       "2   C13 C14  C13 C14   C6  C13 C14    С2 С3   С3 С4  C13 C14     C6 C7 C8   \n",
       "3     D1 D2    D1 D2   D1    D1 D2    D7 D8   D7 D1    D1 D2     D1 D2 D3   \n",
       "4     A6 A7    A6 A7   A6    A6 A7   A4 A14   A4 A6    A6 A7     A6 A7 A8   \n",
       "5   B10 B11  B10 B11  B10  B10 B11    B3 B6   B6 B2  B10 B11  B10 B11 B12   \n",
       "6   C11 C12  C11 C12   C9  C11 C12    С2 С5   С5 С4  C11 C12   C9 C10 C11   \n",
       "7     D1 D3    D1 D3   D2    D1 D3   D7 D12   D7 D2    D1 D5     D1 D5 D6   \n",
       "8     A7 A8    A7 A8   A7    A7 A8   A4 A20   A4 A7    A7 A8     A5 A7 A8   \n",
       "9   B13 B14  B13 B14  B13  B13 B14    B5 B6  B3 B13  B13 B14  B13 B14 B15   \n",
       "10    C7 C8    C7 C8  C12    C7 C8    С3 С5  С3 С13    C7 C8  C12 C13 C14   \n",
       "11    D2 D3    D2 D3   D3    D2 D3   D8 D12   D7 D3    D2 D4     D2 D4 D6   \n",
       "12    A5 A8    A5 A8   A8    A5 A8   A9 A14   A4 A8    A5 A8     A5 A6 A8   \n",
       "13  B16 B17  B16 B17  B16  B16 B17    B3 B5  B3 B16  B16 B17  B16 B17 B18   \n",
       "14  C13 C14  C13 C14   С7  C13 C14    С2 С3  С5 С13  C13 C14    C7 C9 C12   \n",
       "15    D1 D2    D1 D2   D4    D1 D2    D7 D8   D7 D9    D2 D9     D2 D9 D6   \n",
       "16  A10 A11  A10 A11  A10  A10 A11   A9 A20  A4 A10  A10 A11  A10 A11 A12   \n",
       "17  B16 B18  B16 B18   B8  B16 B18    B3 B6   B3 B8  B16 B18   B8 B10 B13   \n",
       "18  C11 C12  C11 C12   С8  C11 C12    С2 С5  С3 С14  C11 C12   C8 C10 C13   \n",
       "19    D2 D3    D2 D3   D5    D2 D3   D7 D12  D7 D14    D3 D4     D3 D4 D6   \n",
       "20  A10 A13  A10 A13  A11  A10 A13  A14 A20  A4 A11  A10 A13  A10 A11 A13   \n",
       "21   B9 B14   B9 B14   B9   B9 B14    B5 B6   B6 B9   B9 B14   B9 B14 B17   \n",
       "22    C7 C8    C7 C8  С10    C7 C8    С3 С5  С5 С14    C7 C8   C6 C10 C12   \n",
       "23    D1 D3    D1 D3  D10    D1 D3   D8 D12  D7 D13   D1 D10    D1 D10 D6   \n",
       "24  A11 A12  A11 A12  A12  A11 A12    A4 A9  A4 A12  A11 A12  A11 A12 A13   \n",
       "25  B11 B15  B11 B15  B11  B11 B15    B3 B5  B6 B11  B11 B15  B11 B15 B18   \n",
       "26  C13 C14  C13 C14  С11  C13 C14    С2 С3   С3 С9  C13 C14   C7 C11 C14   \n",
       "27    D1 D2    D1 D2   D9    D1 D2    D7 D8  D7 D11    D1 D9    D1 D9 D10   \n",
       "\n",
       "        9.1      9.2         9.3  \n",
       "0   A15 A10  A15 A10  A15 A5 A10  \n",
       "1     B1 B2    B1 B2    B1 B4 B2  \n",
       "2    С6 С13   С6 С13   С6 С4 С13  \n",
       "3     D4 D1    D4 D1    D4 D6 D1  \n",
       "4   A16 A11  A16 A11  A16 A6 A11  \n",
       "5     B7 B2    B7 B2    B7 B4 B2  \n",
       "6   С11 С13  С11 С13  С11 С4 С13  \n",
       "7     D5 D1    D5 D1    D5 D6 D1  \n",
       "8   A17 A12  A17 A12  A17 A7 A12  \n",
       "9     B8 B2    B8 B2    B8 B4 B2  \n",
       "10  С12 С14  С12 С14  С12 С4 С14  \n",
       "11    D6 D1    D6 D1    D6 D9 D1  \n",
       "12  A15 A13  A15 A13  A15 A5 A13  \n",
       "13   B16 B2   B16 B2   B16 B7 B2  \n",
       "14   С6 С13   С6 С13  С6 С11 С13  \n",
       "15    D9 D1    D9 D1   D9 D10 D1  \n",
       "16   A5 A10   A5 A10  A5 A19 A10  \n",
       "17   B10 B2   B10 B2   B10 B7 B2  \n",
       "18   С6 С14   С6 С14  С6 С12 С14  \n",
       "19   D10 D1   D10 D1   D10 D5 D1  \n",
       "20   A6 A11   A6 A11  A6 A19 A11  \n",
       "21    B9 B2    B9 B2    B9 B7 B2  \n",
       "22   С9 С13   С9 С13   С9 С4 С13  \n",
       "23   D13 D1   D13 D1   D13 D6 D1  \n",
       "24   A7 A12   A7 A12  A7 A19 A12  \n",
       "25   B11 B2   B11 B2   B11 B7 B2  \n",
       "26   С9 С14   С9 С14   С9 С4 С14  \n",
       "27    D4 D2    D4 D2    D4 D6 D2  "
      ]
     },
     "execution_count": 4,
     "metadata": {},
     "output_type": "execute_result"
    }
   ],
   "source": [
    "tasks =  pd.read_excel(r'C:\\Users\\Админ\\Python\\бдз\\Задание к бдз\\var_matstat_K5.xls')\n",
    "tasks"
   ]
  },
  {
   "cell_type": "code",
   "execution_count": 5,
   "metadata": {},
   "outputs": [
    {
     "data": {
      "text/html": [
       "<div>\n",
       "<style scoped>\n",
       "    .dataframe tbody tr th:only-of-type {\n",
       "        vertical-align: middle;\n",
       "    }\n",
       "\n",
       "    .dataframe tbody tr th {\n",
       "        vertical-align: top;\n",
       "    }\n",
       "\n",
       "    .dataframe thead th {\n",
       "        text-align: right;\n",
       "    }\n",
       "</style>\n",
       "<table border=\"1\" class=\"dataframe\">\n",
       "  <thead>\n",
       "    <tr style=\"text-align: right;\">\n",
       "      <th></th>\n",
       "      <th>№ задания\n",
       "Вариант</th>\n",
       "      <th>1.1</th>\n",
       "      <th>1.2</th>\n",
       "      <th>2.1, 3.1</th>\n",
       "      <th>2.2, 3.2</th>\n",
       "      <th>2.3, 3.3</th>\n",
       "      <th>2.4, 3.4</th>\n",
       "      <th>4</th>\n",
       "      <th>5</th>\n",
       "      <th>6</th>\n",
       "      <th>7</th>\n",
       "      <th>8.1</th>\n",
       "      <th>8.2</th>\n",
       "      <th>9.1</th>\n",
       "      <th>9.2</th>\n",
       "      <th>9.3</th>\n",
       "    </tr>\n",
       "  </thead>\n",
       "  <tbody>\n",
       "    <tr>\n",
       "      <th>8</th>\n",
       "      <td>9</td>\n",
       "      <td>A5 A7 A8</td>\n",
       "      <td>A7</td>\n",
       "      <td>A7</td>\n",
       "      <td>A7</td>\n",
       "      <td>A7 A8</td>\n",
       "      <td>A7 A8</td>\n",
       "      <td>A7</td>\n",
       "      <td>A7 A8</td>\n",
       "      <td>A4 A20</td>\n",
       "      <td>A4 A7</td>\n",
       "      <td>A7 A8</td>\n",
       "      <td>A5 A7 A8</td>\n",
       "      <td>A17 A12</td>\n",
       "      <td>A17 A12</td>\n",
       "      <td>A17 A7 A12</td>\n",
       "    </tr>\n",
       "  </tbody>\n",
       "</table>\n",
       "</div>"
      ],
      "text/plain": [
       "                  № задания\\nВариант       1.1 1.2 2.1, 3.1 2.2, 3.2 2.3, 3.3  \\\n",
       "8                                  9  A5 A7 A8  A7       A7       A7    A7 A8   \n",
       "\n",
       "  2.4, 3.4   4      5       6      7    8.1       8.2      9.1      9.2  \\\n",
       "8    A7 A8  A7  A7 A8  A4 A20  A4 A7  A7 A8  A5 A7 A8  A17 A12  A17 A12   \n",
       "\n",
       "          9.3  \n",
       "8  A17 A7 A12  "
      ]
     },
     "execution_count": 5,
     "metadata": {},
     "output_type": "execute_result"
    }
   ],
   "source": [
    "task = tasks.loc[[8]]\n",
    "task"
   ]
  },
  {
   "cell_type": "code",
   "execution_count": 6,
   "metadata": {},
   "outputs": [],
   "source": [
    "x = DF['A5']\n",
    "y = DF['A7']\n",
    "z = DF['A8']"
   ]
  },
  {
   "cell_type": "markdown",
   "metadata": {},
   "source": [
    "1.1 Объём выборки\t\n",
    "Среднее\t\n",
    "Выборочная дисперсия\t\n",
    "Выборочное среднеквадратическое отклонение\t\n",
    "Выборочный коэффициент асимметрии\t\n",
    "Выборочный эксцесс\t"
   ]
  },
  {
   "cell_type": "code",
   "execution_count": 7,
   "metadata": {},
   "outputs": [
    {
     "data": {
      "text/plain": [
       "(DescribeResult(nobs=1073, minmax=(270, 1009), mean=526.4836905871389, variance=13868.856310247458, skewness=0.6786486256734204, kurtosis=0.5304432832288937),\n",
       " 117.7661084958124)"
      ]
     },
     "execution_count": 7,
     "metadata": {},
     "output_type": "execute_result"
    }
   ],
   "source": [
    "sts.describe(x), sts.describe(x)[3]**(1/2)"
   ]
  },
  {
   "cell_type": "code",
   "execution_count": 8,
   "metadata": {},
   "outputs": [
    {
     "data": {
      "text/plain": [
       "(DescribeResult(nobs=1073, minmax=(199, 576), mean=355.08853681267476, variance=2904.289728547384, skewness=0.44737126211025235, kurtosis=0.4319131904766307),\n",
       " 53.89146248291453)"
      ]
     },
     "execution_count": 8,
     "metadata": {},
     "output_type": "execute_result"
    }
   ],
   "source": [
    "sts.describe(y), sts.describe(y)[3]**(1/2)"
   ]
  },
  {
   "cell_type": "code",
   "execution_count": 9,
   "metadata": {},
   "outputs": [
    {
     "data": {
      "text/plain": [
       "(DescribeResult(nobs=1073, minmax=(232, 866), mean=428.0326188257223, variance=8217.62113651222, skewness=0.8191411695756438, kurtosis=0.9757478446505425),\n",
       " 90.6510956167228)"
      ]
     },
     "execution_count": 9,
     "metadata": {},
     "output_type": "execute_result"
    }
   ],
   "source": [
    "sts.describe(z), sts.describe(z)[3]**(1/2)"
   ]
  },
  {
   "cell_type": "markdown",
   "metadata": {},
   "source": [
    "1.2. Группировка и гистограммы частот"
   ]
  },
  {
   "cell_type": "code",
   "execution_count": 10,
   "metadata": {},
   "outputs": [],
   "source": [
    "x = DF['A7']"
   ]
  },
  {
   "cell_type": "code",
   "execution_count": 11,
   "metadata": {},
   "outputs": [
    {
     "data": {
      "text/plain": [
       "DescribeResult(nobs=1073, minmax=(199, 576), mean=355.08853681267476, variance=2904.289728547384, skewness=0.44737126211025235, kurtosis=0.4319131904766307)"
      ]
     },
     "execution_count": 11,
     "metadata": {},
     "output_type": "execute_result"
    }
   ],
   "source": [
    "sts.describe(x)"
   ]
  },
  {
   "cell_type": "code",
   "execution_count": 12,
   "metadata": {},
   "outputs": [
    {
     "data": {
      "text/plain": [
       "11"
      ]
     },
     "execution_count": 12,
     "metadata": {},
     "output_type": "execute_result"
    }
   ],
   "source": [
    "bins = int(np.floor(1 + np.log2(len(x))))\n",
    "bins"
   ]
  },
  {
   "cell_type": "code",
   "execution_count": 13,
   "metadata": {},
   "outputs": [
    {
     "name": "stdout",
     "output_type": "stream",
     "text": [
      "ширина интервалов 34.27272727272727\n"
     ]
    }
   ],
   "source": [
    "h = (max(x) - min(x)) / bins\n",
    "print('ширина интервалов', h)"
   ]
  },
  {
   "cell_type": "markdown",
   "metadata": {},
   "source": [
    "Анализируемый признак –\n",
    "Объём выборки –\n",
    "\n",
    "а) Выбрать число групп\n",
    "б) Построить таблицу частот\n",
    "в) Построить гистограммы частот и полигоны частот\n",
    "г) Построить график эмпирической функции распределения"
   ]
  },
  {
   "cell_type": "code",
   "execution_count": 14,
   "metadata": {},
   "outputs": [
    {
     "name": "stdout",
     "output_type": "stream",
     "text": [
      "частоты  [  3.  35. 132. 235. 279. 199. 126.  35.  19.   8.   2.]\n",
      "относительные частоты [0.0027959  0.03261883 0.12301957 0.21901212 0.26001864 0.18546132\n",
      " 0.11742777 0.03261883 0.01770736 0.00745573 0.00186393]\n",
      "накопленные частоты  [   3.   38.  170.  405.  684.  883. 1009. 1044. 1063. 1071. 1073.]\n",
      "относительные накопленные частоты [0.0027959  0.03541473 0.1584343  0.37744641 0.63746505 0.82292637\n",
      " 0.94035415 0.97297297 0.99068034 0.99813607 1.        ]\n"
     ]
    },
    {
     "data": {
      "image/png": "[encoded data removed]",
      "text/plain": [
       "<Figure size 432x288 with 1 Axes>"
      ]
     },
     "metadata": {
      "needs_background": "light"
     },
     "output_type": "display_data"
    }
   ],
   "source": [
    "print('частоты ',plt.hist(x, bins = bins)[0])\n",
    "print('относительные частоты',plt.hist(x, bins = bins, density=True)[0]*h)\n",
    "print('накопленные частоты ',plt.hist(x, bins = bins, cumulative=True)[0])\n",
    "print('относительные накопленные частоты',plt.hist(x, bins = bins, cumulative=True,density=True)[0])"
   ]
  },
  {
   "cell_type": "code",
   "execution_count": 15,
   "metadata": {},
   "outputs": [
    {
     "data": {
      "text/plain": [
       "Text(0.5,1,'Гистограмма и полигон частот')"
      ]
     },
     "execution_count": 15,
     "metadata": {},
     "output_type": "execute_result"
    },
    {
     "data": {
      "image/png": "[encoded data removed]",
      "text/plain": [
       "<Figure size 432x288 with 1 Axes>"
      ]
     },
     "metadata": {
      "needs_background": "light"
     },
     "output_type": "display_data"
    }
   ],
   "source": [
    "intervals = np.linspace(min(x),max(x), bins+1)\n",
    "intervals += (intervals[1]-intervals[0])/2\n",
    "y_axis = plt.hist(x, bins = bins)[0]\n",
    "plt.plot(intervals[:-1], y_axis)\n",
    "plt.title('Гистограмма и полигон частот')\n",
    "#plt.legend()"
   ]
  },
  {
   "cell_type": "code",
   "execution_count": 16,
   "metadata": {},
   "outputs": [
    {
     "data": {
      "text/plain": [
       "Text(0.5,1,'Гистограмма и полигон относительных частот')"
      ]
     },
     "execution_count": 16,
     "metadata": {},
     "output_type": "execute_result"
    },
    {
     "data": {
      "image/png": "[encoded data removed]",
      "text/plain": [
       "<Figure size 432x288 with 1 Axes>"
      ]
     },
     "metadata": {
      "needs_background": "light"
     },
     "output_type": "display_data"
    }
   ],
   "source": [
    "intervals = np.linspace(min(x),max(x), bins+1)\n",
    "intervals += (intervals[1]-intervals[0])/2\n",
    "y_axis = plt.hist(x, bins = bins, weights=np.zeros_like(x)+1/(len(x)))[0]\n",
    "plt.plot(intervals[:-1], y_axis)\n",
    "plt.title('Гистограмма и полигон относительных частот')\n",
    "#plt.legend()"
   ]
  },
  {
   "cell_type": "code",
   "execution_count": 17,
   "metadata": {},
   "outputs": [
    {
     "name": "stdout",
     "output_type": "stream",
     "text": [
      "[199.         233.27272727 267.54545455 301.81818182 336.09090909\n",
      " 370.36363636 404.63636364 438.90909091 473.18181818 507.45454545\n",
      " 541.72727273 576.        ]\n"
     ]
    },
    {
     "data": {
      "text/plain": [
       "Text(0.5,1,'Гистограмма и полигон накопленных частот')"
      ]
     },
     "execution_count": 17,
     "metadata": {},
     "output_type": "execute_result"
    },
    {
     "data": {
      "image/png": "[encoded data removed]",
      "text/plain": [
       "<Figure size 432x288 with 1 Axes>"
      ]
     },
     "metadata": {
      "needs_background": "light"
     },
     "output_type": "display_data"
    }
   ],
   "source": [
    "intervals = np.linspace(min(x),max(x), bins+1)\n",
    "print(intervals)\n",
    "y_axis = np.zeros(1)\n",
    "y_axis = np.hstack((y_axis, plt.hist(x, bins = bins, cumulative=True)[0]))\n",
    "plt.plot(intervals, y_axis)\n",
    "plt.title('Гистограмма и полигон накопленных частот')\n",
    "#plt.legend(loc=4)"
   ]
  },
  {
   "cell_type": "code",
   "execution_count": 18,
   "metadata": {},
   "outputs": [
    {
     "name": "stdout",
     "output_type": "stream",
     "text": [
      "[199.         233.27272727 267.54545455 301.81818182 336.09090909\n",
      " 370.36363636 404.63636364 438.90909091 473.18181818 507.45454545\n",
      " 541.72727273 576.        ]\n"
     ]
    },
    {
     "data": {
      "text/plain": [
       "Text(0.5,1,'Гистограмма и полигон относительных накопленных частот')"
      ]
     },
     "execution_count": 18,
     "metadata": {},
     "output_type": "execute_result"
    },
    {
     "data": {
      "image/png": "[encoded data removed]",
      "text/plain": [
       "<Figure size 432x288 with 1 Axes>"
      ]
     },
     "metadata": {
      "needs_background": "light"
     },
     "output_type": "display_data"
    }
   ],
   "source": [
    "intervals = np.linspace(min(x),max(x), bins+1)\n",
    "print(intervals)\n",
    "y_axis = np.zeros(1)\n",
    "y_axis = np.hstack((y_axis, plt.hist(x, bins = bins, label='гистограмма относительных накопленных частот', \n",
    "         cumulative=True,density=True)[0]))\n",
    "plt.plot(intervals, y_axis, label='полигон относительных накопленных частот')\n",
    "plt.title('Гистограмма и полигон относительных накопленных частот')\n",
    "#plt.legend(loc=4)"
   ]
  },
  {
   "cell_type": "markdown",
   "metadata": {},
   "source": [
    "Построить ЭФР"
   ]
  },
  {
   "cell_type": "code",
   "execution_count": 19,
   "metadata": {},
   "outputs": [
    {
     "data": {
      "text/plain": [
       "Text(0.5,1,'Эмпирическая функция распределения')"
      ]
     },
     "execution_count": 19,
     "metadata": {},
     "output_type": "execute_result"
    },
    {
     "data": {
      "image/png": "[encoded data removed]",
      "text/plain": [
       "<Figure size 432x288 with 1 Axes>"
      ]
     },
     "metadata": {
      "needs_background": "light"
     },
     "output_type": "display_data"
    }
   ],
   "source": [
    "ecdf = distr.ECDF(x)\n",
    "x_axis = np.linspace(min(x),max(x),1000)\n",
    "plt.plot(x_axis,ecdf(x_axis))\n",
    "plt.fill_between(x_axis, ecdf(x_axis), alpha=0.5)\n",
    "plt.title('Эмпирическая функция распределения')"
   ]
  },
  {
   "cell_type": "markdown",
   "metadata": {},
   "source": [
    "Интервальные оценки\n",
    "\n",
    "2.1. Доверительные интервалы для мат. ожидания\n",
    "\n",
    "Анализируемый признак \n",
    "\n",
    "Объём выборки\n",
    "\n",
    "Оцениваемый параметр\n"
   ]
  },
  {
   "cell_type": "code",
   "execution_count": 20,
   "metadata": {
    "scrolled": true
   },
   "outputs": [
    {
     "data": {
      "text/html": [
       "<div>\n",
       "<style scoped>\n",
       "    .dataframe tbody tr th:only-of-type {\n",
       "        vertical-align: middle;\n",
       "    }\n",
       "\n",
       "    .dataframe tbody tr th {\n",
       "        vertical-align: top;\n",
       "    }\n",
       "\n",
       "    .dataframe thead th {\n",
       "        text-align: right;\n",
       "    }\n",
       "</style>\n",
       "<table border=\"1\" class=\"dataframe\">\n",
       "  <thead>\n",
       "    <tr style=\"text-align: right;\">\n",
       "      <th></th>\n",
       "      <th>№ задания\n",
       "Вариант</th>\n",
       "      <th>1.1</th>\n",
       "      <th>1.2</th>\n",
       "      <th>2.1, 3.1</th>\n",
       "      <th>2.2, 3.2</th>\n",
       "      <th>2.3, 3.3</th>\n",
       "      <th>2.4, 3.4</th>\n",
       "      <th>4</th>\n",
       "      <th>5</th>\n",
       "      <th>6</th>\n",
       "      <th>7</th>\n",
       "      <th>8.1</th>\n",
       "      <th>8.2</th>\n",
       "      <th>9.1</th>\n",
       "      <th>9.2</th>\n",
       "      <th>9.3</th>\n",
       "    </tr>\n",
       "  </thead>\n",
       "  <tbody>\n",
       "    <tr>\n",
       "      <th>8</th>\n",
       "      <td>9</td>\n",
       "      <td>A5 A7 A8</td>\n",
       "      <td>A7</td>\n",
       "      <td>A7</td>\n",
       "      <td>A7</td>\n",
       "      <td>A7 A8</td>\n",
       "      <td>A7 A8</td>\n",
       "      <td>A7</td>\n",
       "      <td>A7 A8</td>\n",
       "      <td>A4 A20</td>\n",
       "      <td>A4 A7</td>\n",
       "      <td>A7 A8</td>\n",
       "      <td>A5 A7 A8</td>\n",
       "      <td>A17 A12</td>\n",
       "      <td>A17 A12</td>\n",
       "      <td>A17 A7 A12</td>\n",
       "    </tr>\n",
       "  </tbody>\n",
       "</table>\n",
       "</div>"
      ],
      "text/plain": [
       "                  № задания\\nВариант       1.1 1.2 2.1, 3.1 2.2, 3.2 2.3, 3.3  \\\n",
       "8                                  9  A5 A7 A8  A7       A7       A7    A7 A8   \n",
       "\n",
       "  2.4, 3.4   4      5       6      7    8.1       8.2      9.1      9.2  \\\n",
       "8    A7 A8  A7  A7 A8  A4 A20  A4 A7  A7 A8  A5 A7 A8  A17 A12  A17 A12   \n",
       "\n",
       "          9.3  \n",
       "8  A17 A7 A12  "
      ]
     },
     "execution_count": 20,
     "metadata": {},
     "output_type": "execute_result"
    }
   ],
   "source": [
    "task"
   ]
  },
  {
   "cell_type": "code",
   "execution_count": 21,
   "metadata": {},
   "outputs": [],
   "source": [
    "x = DF['A7']"
   ]
  },
  {
   "cell_type": "code",
   "execution_count": 22,
   "metadata": {},
   "outputs": [
    {
     "data": {
      "text/plain": [
       "DescribeResult(nobs=1073, minmax=(199, 576), mean=355.08853681267476, variance=2904.289728547384, skewness=0.44737126211025235, kurtosis=0.4319131904766307)"
      ]
     },
     "execution_count": 22,
     "metadata": {},
     "output_type": "execute_result"
    }
   ],
   "source": [
    "sts.describe(x)"
   ]
  },
  {
   "cell_type": "markdown",
   "metadata": {},
   "source": [
    "Доверительный интервал для матожидания"
   ]
  },
  {
   "cell_type": "code",
   "execution_count": 23,
   "metadata": {},
   "outputs": [
    {
     "name": "stdout",
     "output_type": "stream",
     "text": [
      "0.01 : 350.8432105853719 355.08853681267476 359.33386303997764\n",
      "0.05 : 351.8603488297963 355.08853681267476 358.3167247955532\n",
      "0.1 : 352.38007428170084 355.08853681267476 357.7969993436487\n"
     ]
    }
   ],
   "source": [
    "for alpha in [0.01,0.05,0.1]:\n",
    "    n=sts.describe(x)[0]\n",
    "    low = x.mean() - sts.describe(x)[3]**(1/2) / (n**(1/2)) * sts.t.ppf(1-alpha/2,df=n-1)\n",
    "    high = x.mean() + sts.describe(x)[3]**(1/2) / (n**(1/2)) * sts.t.ppf(1-alpha/2,df=n-1)\n",
    "    print(alpha,':',low,x.mean(),high)"
   ]
  },
  {
   "cell_type": "markdown",
   "metadata": {},
   "source": [
    "Доверительный интервал для дисперсии"
   ]
  },
  {
   "cell_type": "code",
   "execution_count": 24,
   "metadata": {},
   "outputs": [
    {
     "name": "stdout",
     "output_type": "stream",
     "text": [
      "0.01 : 2605.304041812386 2904.289728547384 3255.029587363955\n",
      "0.05 : 2673.2893595823484 2904.289728547384 3166.7391186083833\n",
      "0.1 : 2708.9940154792675 2904.289728547384 3122.7930963054937\n"
     ]
    }
   ],
   "source": [
    "for alpha in [0.01,0.05,0.1]:\n",
    "    n=sts.describe(x)[0]\n",
    "    low = (n-1) * sts.describe(x)[3] / (sts.chi2.ppf(1-alpha/2,df=n-1))\n",
    "    high = (n-1) * sts.describe(x)[3] / (sts.chi2.ppf(alpha/2,df=n-1))\n",
    "    print(alpha,':',low,sts.describe(x)[3],high)"
   ]
  },
  {
   "cell_type": "markdown",
   "metadata": {},
   "source": [
    "2.3\n",
    "Доверительный интервал для разности мат ожиданий"
   ]
  },
  {
   "cell_type": "code",
   "execution_count": 25,
   "metadata": {},
   "outputs": [
    {
     "data": {
      "text/html": [
       "<div>\n",
       "<style scoped>\n",
       "    .dataframe tbody tr th:only-of-type {\n",
       "        vertical-align: middle;\n",
       "    }\n",
       "\n",
       "    .dataframe tbody tr th {\n",
       "        vertical-align: top;\n",
       "    }\n",
       "\n",
       "    .dataframe thead th {\n",
       "        text-align: right;\n",
       "    }\n",
       "</style>\n",
       "<table border=\"1\" class=\"dataframe\">\n",
       "  <thead>\n",
       "    <tr style=\"text-align: right;\">\n",
       "      <th></th>\n",
       "      <th>№ задания\n",
       "Вариант</th>\n",
       "      <th>1.1</th>\n",
       "      <th>1.2</th>\n",
       "      <th>2.1, 3.1</th>\n",
       "      <th>2.2, 3.2</th>\n",
       "      <th>2.3, 3.3</th>\n",
       "      <th>2.4, 3.4</th>\n",
       "      <th>4</th>\n",
       "      <th>5</th>\n",
       "      <th>6</th>\n",
       "      <th>7</th>\n",
       "      <th>8.1</th>\n",
       "      <th>8.2</th>\n",
       "      <th>9.1</th>\n",
       "      <th>9.2</th>\n",
       "      <th>9.3</th>\n",
       "    </tr>\n",
       "  </thead>\n",
       "  <tbody>\n",
       "    <tr>\n",
       "      <th>8</th>\n",
       "      <td>9</td>\n",
       "      <td>A5 A7 A8</td>\n",
       "      <td>A7</td>\n",
       "      <td>A7</td>\n",
       "      <td>A7</td>\n",
       "      <td>A7 A8</td>\n",
       "      <td>A7 A8</td>\n",
       "      <td>A7</td>\n",
       "      <td>A7 A8</td>\n",
       "      <td>A4 A20</td>\n",
       "      <td>A4 A7</td>\n",
       "      <td>A7 A8</td>\n",
       "      <td>A5 A7 A8</td>\n",
       "      <td>A17 A12</td>\n",
       "      <td>A17 A12</td>\n",
       "      <td>A17 A7 A12</td>\n",
       "    </tr>\n",
       "  </tbody>\n",
       "</table>\n",
       "</div>"
      ],
      "text/plain": [
       "                  № задания\\nВариант       1.1 1.2 2.1, 3.1 2.2, 3.2 2.3, 3.3  \\\n",
       "8                                  9  A5 A7 A8  A7       A7       A7    A7 A8   \n",
       "\n",
       "  2.4, 3.4   4      5       6      7    8.1       8.2      9.1      9.2  \\\n",
       "8    A7 A8  A7  A7 A8  A4 A20  A4 A7  A7 A8  A5 A7 A8  A17 A12  A17 A12   \n",
       "\n",
       "          9.3  \n",
       "8  A17 A7 A12  "
      ]
     },
     "execution_count": 25,
     "metadata": {},
     "output_type": "execute_result"
    }
   ],
   "source": [
    "task"
   ]
  },
  {
   "cell_type": "code",
   "execution_count": 26,
   "metadata": {},
   "outputs": [],
   "source": [
    "x = DF['A7']\n",
    "y = DF['A8']"
   ]
  },
  {
   "cell_type": "code",
   "execution_count": 27,
   "metadata": {},
   "outputs": [
    {
     "name": "stdout",
     "output_type": "stream",
     "text": [
      "0.01 : -81.24438053239058 -72.94408201304753 -64.64378349370449\n",
      "0.05 : -79.25777088462658 -72.94408201304753 -66.63039314146849\n",
      "0.1 : -78.24199465864763 -72.94408201304753 -67.64616936744744\n"
     ]
    }
   ],
   "source": [
    "for alpha in [0.01,0.05,0.1]:\n",
    "    n1=sts.describe(x)[0]\n",
    "    n2=sts.describe(y)[0]\n",
    "    s = abs((sts.describe(x)[3]+sts.describe(y)[3])/2)**(1/2)\n",
    "    low = x.mean()-y.mean()-sts.t.ppf(1-alpha/2, df=n1+n2-2) * s * ((1/n1+1/n2)**(1/2))\n",
    "    high = x.mean()-y.mean()+sts.t.ppf(1-alpha/2, df=n1+n2-2) * s * ((1/n1+1/n2)**(1/2))\n",
    "    print(alpha,':',low,x.mean()-y.mean(),high)"
   ]
  },
  {
   "cell_type": "markdown",
   "metadata": {},
   "source": [
    "2.4\n",
    "Доверительный интервал для отношений дисперсий"
   ]
  },
  {
   "cell_type": "code",
   "execution_count": 28,
   "metadata": {},
   "outputs": [
    {
     "name": "stdout",
     "output_type": "stream",
     "text": [
      "0.01 : 0.30193194744336693 0.594493228308792 0.41369338837369324\n",
      "0.05 : 0.313523971324196 0.594493228308792 0.3983977680193245\n",
      "0.1 : 0.3196233807857684 0.594493228308792 0.3907950979338242\n"
     ]
    }
   ],
   "source": [
    "for alpha in [0.01,0.05,0.1]:\n",
    "    n1=sts.describe(x)[0]\n",
    "    n2=sts.describe(y)[0]\n",
    "    s1 = sts.describe(x)[3]\n",
    "    s2 = sts.describe(y)[3]\n",
    "    low = s1/s2 * sts.f.ppf(alpha/2,dfd=n2-1,dfn=n1-1)\n",
    "    high = s1/s2 * sts.f.ppf(1-alpha/2,dfd=n2-1,dfn=n1-1)\n",
    "    print(alpha,':',low,(s1/s2)**(1/2),high)"
   ]
  },
  {
   "cell_type": "markdown",
   "metadata": {},
   "source": [
    "3. Проверка статистических гипотез о математических ожиданиях и дисперсиях\n",
    "3.1. Проверка статистических гипотез о математических ожиданиях"
   ]
  },
  {
   "cell_type": "code",
   "execution_count": 29,
   "metadata": {},
   "outputs": [
    {
     "data": {
      "text/html": [
       "<div>\n",
       "<style scoped>\n",
       "    .dataframe tbody tr th:only-of-type {\n",
       "        vertical-align: middle;\n",
       "    }\n",
       "\n",
       "    .dataframe tbody tr th {\n",
       "        vertical-align: top;\n",
       "    }\n",
       "\n",
       "    .dataframe thead th {\n",
       "        text-align: right;\n",
       "    }\n",
       "</style>\n",
       "<table border=\"1\" class=\"dataframe\">\n",
       "  <thead>\n",
       "    <tr style=\"text-align: right;\">\n",
       "      <th></th>\n",
       "      <th>№ задания\n",
       "Вариант</th>\n",
       "      <th>1.1</th>\n",
       "      <th>1.2</th>\n",
       "      <th>2.1, 3.1</th>\n",
       "      <th>2.2, 3.2</th>\n",
       "      <th>2.3, 3.3</th>\n",
       "      <th>2.4, 3.4</th>\n",
       "      <th>4</th>\n",
       "      <th>5</th>\n",
       "      <th>6</th>\n",
       "      <th>7</th>\n",
       "      <th>8.1</th>\n",
       "      <th>8.2</th>\n",
       "      <th>9.1</th>\n",
       "      <th>9.2</th>\n",
       "      <th>9.3</th>\n",
       "    </tr>\n",
       "  </thead>\n",
       "  <tbody>\n",
       "    <tr>\n",
       "      <th>8</th>\n",
       "      <td>9</td>\n",
       "      <td>A5 A7 A8</td>\n",
       "      <td>A7</td>\n",
       "      <td>A7</td>\n",
       "      <td>A7</td>\n",
       "      <td>A7 A8</td>\n",
       "      <td>A7 A8</td>\n",
       "      <td>A7</td>\n",
       "      <td>A7 A8</td>\n",
       "      <td>A4 A20</td>\n",
       "      <td>A4 A7</td>\n",
       "      <td>A7 A8</td>\n",
       "      <td>A5 A7 A8</td>\n",
       "      <td>A17 A12</td>\n",
       "      <td>A17 A12</td>\n",
       "      <td>A17 A7 A12</td>\n",
       "    </tr>\n",
       "  </tbody>\n",
       "</table>\n",
       "</div>"
      ],
      "text/plain": [
       "                  № задания\\nВариант       1.1 1.2 2.1, 3.1 2.2, 3.2 2.3, 3.3  \\\n",
       "8                                  9  A5 A7 A8  A7       A7       A7    A7 A8   \n",
       "\n",
       "  2.4, 3.4   4      5       6      7    8.1       8.2      9.1      9.2  \\\n",
       "8    A7 A8  A7  A7 A8  A4 A20  A4 A7  A7 A8  A5 A7 A8  A17 A12  A17 A12   \n",
       "\n",
       "          9.3  \n",
       "8  A17 A7 A12  "
      ]
     },
     "execution_count": 29,
     "metadata": {},
     "output_type": "execute_result"
    }
   ],
   "source": [
    "x=DF['A7']\n",
    "task"
   ]
  },
  {
   "cell_type": "code",
   "execution_count": 30,
   "metadata": {},
   "outputs": [
    {
     "data": {
      "text/plain": [
       "DescribeResult(nobs=1073, minmax=(199, 576), mean=355.08853681267476, variance=2904.289728547384, skewness=0.44737126211025235, kurtosis=0.4319131904766307)"
      ]
     },
     "execution_count": 30,
     "metadata": {},
     "output_type": "execute_result"
    }
   ],
   "source": [
    "sts.describe(x)"
   ]
  },
  {
   "cell_type": "code",
   "execution_count": 31,
   "metadata": {},
   "outputs": [
    {
     "name": "stdout",
     "output_type": "stream",
     "text": [
      "m = 350 z-val 3.0929493798963463  p-val 0.0020330371101863094\n",
      "m = 355 z-val 0.053815053313225  p-val 0.9570925429578643\n",
      "m = 360 z-val -2.9853192732698965  p-val 0.002897119928807866\n"
     ]
    }
   ],
   "source": [
    "m0_arr = [350,355,360]\n",
    "for m in m0_arr:\n",
    "    print('m =',m, 'z-val',sts.ttest_1samp(x,m)[0],' p-val',sts.ttest_1samp(x,m)[1])"
   ]
  },
  {
   "cell_type": "code",
   "execution_count": 32,
   "metadata": {},
   "outputs": [
    {
     "data": {
      "text/plain": [
       "DescribeResult(nobs=1073, minmax=(199, 576), mean=355.08853681267476, variance=2904.289728547384, skewness=0.44737126211025235, kurtosis=0.4319131904766307)"
      ]
     },
     "execution_count": 32,
     "metadata": {},
     "output_type": "execute_result"
    }
   ],
   "source": [
    "sts.describe(x)"
   ]
  },
  {
   "cell_type": "markdown",
   "metadata": {},
   "source": [
    "3.2 Проверка статистических гипотез о дисперсиях"
   ]
  },
  {
   "cell_type": "code",
   "execution_count": 33,
   "metadata": {},
   "outputs": [
    {
     "name": "stdout",
     "output_type": "stream",
     "text": [
      "53.86634411171412\n",
      "s = 50 z-val 1245.3594356011179  p-val 0.00035221827608911127\n",
      "s = 55 z-val 1029.2226740505107  p-val 0.35653622640036914\n",
      "s = 60 z-val 864.8329413896652  p-val 1.7072437107294812e-06\n"
     ]
    }
   ],
   "source": [
    "def chisquaretest(X1,sigma, mu = None):\n",
    "    n = X1.size\n",
    "    if mu is None:\n",
    "        z = (n-1) * X1.var() / (sigma ** 2)\n",
    "        p = 2 * min(sts.chi2.cdf(z, n-1),1-sts.chi2.cdf(z, n-1))\n",
    "    else:\n",
    "        z = n * (sigma0(X1,mu)**2) / (sigma ** 2)\n",
    "        p = 2 * min(sts.chi2.cdf(z, n - 1), 1 - sts.chi2.cdf(z, n - 1))\n",
    "    return z, p\n",
    "\n",
    "s_arr = [50,55,60]\n",
    "print(np.var(x)**(1/2))\n",
    "for s in s_arr:\n",
    "    print('s =',s, 'z-val',chisquaretest(x,s)[0],' p-val',chisquaretest(x,s)[1])"
   ]
  },
  {
   "cell_type": "markdown",
   "metadata": {},
   "source": [
    "3.3. Проверка статистических гипотез о равенстве математических ожиданий"
   ]
  },
  {
   "cell_type": "code",
   "execution_count": 34,
   "metadata": {},
   "outputs": [
    {
     "data": {
      "text/html": [
       "<div>\n",
       "<style scoped>\n",
       "    .dataframe tbody tr th:only-of-type {\n",
       "        vertical-align: middle;\n",
       "    }\n",
       "\n",
       "    .dataframe tbody tr th {\n",
       "        vertical-align: top;\n",
       "    }\n",
       "\n",
       "    .dataframe thead th {\n",
       "        text-align: right;\n",
       "    }\n",
       "</style>\n",
       "<table border=\"1\" class=\"dataframe\">\n",
       "  <thead>\n",
       "    <tr style=\"text-align: right;\">\n",
       "      <th></th>\n",
       "      <th>№ задания\n",
       "Вариант</th>\n",
       "      <th>1.1</th>\n",
       "      <th>1.2</th>\n",
       "      <th>2.1, 3.1</th>\n",
       "      <th>2.2, 3.2</th>\n",
       "      <th>2.3, 3.3</th>\n",
       "      <th>2.4, 3.4</th>\n",
       "      <th>4</th>\n",
       "      <th>5</th>\n",
       "      <th>6</th>\n",
       "      <th>7</th>\n",
       "      <th>8.1</th>\n",
       "      <th>8.2</th>\n",
       "      <th>9.1</th>\n",
       "      <th>9.2</th>\n",
       "      <th>9.3</th>\n",
       "    </tr>\n",
       "  </thead>\n",
       "  <tbody>\n",
       "    <tr>\n",
       "      <th>8</th>\n",
       "      <td>9</td>\n",
       "      <td>A5 A7 A8</td>\n",
       "      <td>A7</td>\n",
       "      <td>A7</td>\n",
       "      <td>A7</td>\n",
       "      <td>A7 A8</td>\n",
       "      <td>A7 A8</td>\n",
       "      <td>A7</td>\n",
       "      <td>A7 A8</td>\n",
       "      <td>A4 A20</td>\n",
       "      <td>A4 A7</td>\n",
       "      <td>A7 A8</td>\n",
       "      <td>A5 A7 A8</td>\n",
       "      <td>A17 A12</td>\n",
       "      <td>A17 A12</td>\n",
       "      <td>A17 A7 A12</td>\n",
       "    </tr>\n",
       "  </tbody>\n",
       "</table>\n",
       "</div>"
      ],
      "text/plain": [
       "                  № задания\\nВариант       1.1 1.2 2.1, 3.1 2.2, 3.2 2.3, 3.3  \\\n",
       "8                                  9  A5 A7 A8  A7       A7       A7    A7 A8   \n",
       "\n",
       "  2.4, 3.4   4      5       6      7    8.1       8.2      9.1      9.2  \\\n",
       "8    A7 A8  A7  A7 A8  A4 A20  A4 A7  A7 A8  A5 A7 A8  A17 A12  A17 A12   \n",
       "\n",
       "          9.3  \n",
       "8  A17 A7 A12  "
      ]
     },
     "execution_count": 34,
     "metadata": {},
     "output_type": "execute_result"
    }
   ],
   "source": [
    "task"
   ]
  },
  {
   "cell_type": "code",
   "execution_count": 35,
   "metadata": {},
   "outputs": [
    {
     "data": {
      "text/plain": [
       "DescribeResult(nobs=1073, minmax=(232, 866), mean=428.0326188257223, variance=8217.62113651222, skewness=0.8191411695756438, kurtosis=0.9757478446505425)"
      ]
     },
     "execution_count": 35,
     "metadata": {},
     "output_type": "execute_result"
    }
   ],
   "source": [
    "y = DF['A8']\n",
    "sts.describe(y)"
   ]
  },
  {
   "cell_type": "code",
   "execution_count": 36,
   "metadata": {},
   "outputs": [
    {
     "data": {
      "text/plain": [
       "Ttest_indResult(statistic=-22.656885977733754, pvalue=4.561134457406226e-102)"
      ]
     },
     "execution_count": 36,
     "metadata": {},
     "output_type": "execute_result"
    }
   ],
   "source": [
    "sts.ttest_ind(x,y)"
   ]
  },
  {
   "cell_type": "code",
   "execution_count": 37,
   "metadata": {},
   "outputs": [
    {
     "data": {
      "text/plain": [
       "(-22.656885977733754, 2.280567228703113e-102)"
      ]
     },
     "execution_count": 37,
     "metadata": {},
     "output_type": "execute_result"
    }
   ],
   "source": [
    "def ttest(x, y):\n",
    "    z = (np.mean(x) - np.mean(y))/np.sqrt(sts.describe(x)[3]/len(x)+sts.describe(y)[3]/len(y))\n",
    "    p = sts.t.cdf(z, df=len(x)+len(y)-2)\n",
    "    return z, p\n",
    "ttest(x,y)\n"
   ]
  },
  {
   "cell_type": "markdown",
   "metadata": {},
   "source": [
    "3.4. Проверка статистических гипотез о равенстве дисперсий"
   ]
  },
  {
   "cell_type": "code",
   "execution_count": 38,
   "metadata": {},
   "outputs": [
    {
     "name": "stdout",
     "output_type": "stream",
     "text": [
      "z-st: 0.35342219850500955 p-val: 2.5081268589817645e-62\n"
     ]
    }
   ],
   "source": [
    "def ftest(X1, X2):    \n",
    "    f = sts.describe(X1)[3]/sts.describe(X2)[3]\n",
    "    df1 = X1.size - 1\n",
    "    df2 = X2.size - 1\n",
    "    p = 2 * min(1 - sts.f.cdf(f, df1, df2),sts.f.cdf(f, df1, df2))\n",
    "    return f, p\n",
    "print('z-st:',ftest(x,y)[0],'p-val:',ftest(x,y)[1])"
   ]
  },
  {
   "cell_type": "markdown",
   "metadata": {},
   "source": [
    "4. Критерии согласия"
   ]
  },
  {
   "cell_type": "code",
   "execution_count": 39,
   "metadata": {},
   "outputs": [
    {
     "data": {
      "text/html": [
       "<div>\n",
       "<style scoped>\n",
       "    .dataframe tbody tr th:only-of-type {\n",
       "        vertical-align: middle;\n",
       "    }\n",
       "\n",
       "    .dataframe tbody tr th {\n",
       "        vertical-align: top;\n",
       "    }\n",
       "\n",
       "    .dataframe thead th {\n",
       "        text-align: right;\n",
       "    }\n",
       "</style>\n",
       "<table border=\"1\" class=\"dataframe\">\n",
       "  <thead>\n",
       "    <tr style=\"text-align: right;\">\n",
       "      <th></th>\n",
       "      <th>№ задания\n",
       "Вариант</th>\n",
       "      <th>1.1</th>\n",
       "      <th>1.2</th>\n",
       "      <th>2.1, 3.1</th>\n",
       "      <th>2.2, 3.2</th>\n",
       "      <th>2.3, 3.3</th>\n",
       "      <th>2.4, 3.4</th>\n",
       "      <th>4</th>\n",
       "      <th>5</th>\n",
       "      <th>6</th>\n",
       "      <th>7</th>\n",
       "      <th>8.1</th>\n",
       "      <th>8.2</th>\n",
       "      <th>9.1</th>\n",
       "      <th>9.2</th>\n",
       "      <th>9.3</th>\n",
       "    </tr>\n",
       "  </thead>\n",
       "  <tbody>\n",
       "    <tr>\n",
       "      <th>8</th>\n",
       "      <td>9</td>\n",
       "      <td>A5 A7 A8</td>\n",
       "      <td>A7</td>\n",
       "      <td>A7</td>\n",
       "      <td>A7</td>\n",
       "      <td>A7 A8</td>\n",
       "      <td>A7 A8</td>\n",
       "      <td>A7</td>\n",
       "      <td>A7 A8</td>\n",
       "      <td>A4 A20</td>\n",
       "      <td>A4 A7</td>\n",
       "      <td>A7 A8</td>\n",
       "      <td>A5 A7 A8</td>\n",
       "      <td>A17 A12</td>\n",
       "      <td>A17 A12</td>\n",
       "      <td>A17 A7 A12</td>\n",
       "    </tr>\n",
       "  </tbody>\n",
       "</table>\n",
       "</div>"
      ],
      "text/plain": [
       "                  № задания\\nВариант       1.1 1.2 2.1, 3.1 2.2, 3.2 2.3, 3.3  \\\n",
       "8                                  9  A5 A7 A8  A7       A7       A7    A7 A8   \n",
       "\n",
       "  2.4, 3.4   4      5       6      7    8.1       8.2      9.1      9.2  \\\n",
       "8    A7 A8  A7  A7 A8  A4 A20  A4 A7  A7 A8  A5 A7 A8  A17 A12  A17 A12   \n",
       "\n",
       "          9.3  \n",
       "8  A17 A7 A12  "
      ]
     },
     "execution_count": 39,
     "metadata": {},
     "output_type": "execute_result"
    }
   ],
   "source": [
    "task"
   ]
  },
  {
   "cell_type": "code",
   "execution_count": 40,
   "metadata": {},
   "outputs": [],
   "source": [
    "x = DF['A7']"
   ]
  },
  {
   "cell_type": "code",
   "execution_count": 41,
   "metadata": {},
   "outputs": [
    {
     "name": "stdout",
     "output_type": "stream",
     "text": [
      "manual 47.63953246578543\n",
      "x_exp [1.00108230e-02 4.02432119e-02 1.09318384e-01 2.00765413e-01\n",
      " 2.49355464e-01 2.09475933e-01 1.19012782e-01 4.57159062e-02\n",
      " 1.18671316e-02 2.08043421e-03 2.46132449e-04]\n",
      "x_obs [0.0027959  0.03261883 0.12301957 0.21901212 0.26001864 0.18546132\n",
      " 0.11742777 0.03261883 0.01770736 0.00745573 0.00186393]\n",
      "intervals [(199, 233.27272727272728), (233.27272727272728, 267.54545454545456), (267.54545454545456, 301.8181818181818), (301.8181818181818, 336.09090909090907), (336.09090909090907, 370.3636363636363), (370.3636363636363, 404.63636363636357), (404.63636363636357, 438.9090909090908), (438.9090909090908, 473.1818181818181), (473.1818181818181, 507.4545454545453), (507.4545454545453, 541.7272727272726), (541.7272727272726, 575.9999999999999)]\n",
      "==============================================================================\n",
      "H0: X~N (47.63953246578543, 1.157751016167552e-07)\n",
      "H0: X~N Power_divergenceResult(statistic=47.639532465785436, pvalue=7.221562667384955e-07)\n"
     ]
    }
   ],
   "source": [
    "bins = 1 + np.floor(np.log2(len(x)))\n",
    "bins = int(bins)\n",
    "def zstat(x_obs, x_exp, n):\n",
    "    z = sum(((x_obs-x_exp)**2)/x_exp)*n\n",
    "    p = 1 - sts.chi2.cdf(z, df=len(x_exp)-3)\n",
    "    return z, p\n",
    "\n",
    "def chi2(x,bins=5):\n",
    "    a = min(x)\n",
    "    b = max(x)\n",
    "    h = (b-a)/bins\n",
    "    arr = np.zeros(bins)\n",
    "    intervals = [0]*(bins)\n",
    "    c = a\n",
    "    for i in range(bins):\n",
    "        intervals[i] = (c, c+h)\n",
    "        c = c + h\n",
    "    for i in range(len(x)):\n",
    "        index = (x[i] - a) // h\n",
    "        if index == bins:\n",
    "            arr[int(index)-1] += 1\n",
    "        else:\n",
    "            arr[int(index)] += 1\n",
    "    arr /= len(x)\n",
    "    return arr, intervals\n",
    "\n",
    "def z(x, mu, sigma):\n",
    "    return (x-mu) / sigma\n",
    "\n",
    "#H0: X~N\n",
    "mu1=x.mean()\n",
    "sigma1=sts.describe(x)[3]**(1/2)\n",
    "x_obs, intervals = chi2(x,bins=bins)\n",
    "x_exp = np.ones(bins)\n",
    "for i in range(bins):\n",
    "    x_exp[i] = sts.norm.cdf(z(intervals[i][1],mu1,sigma1)) - sts.norm.cdf(z(intervals[i][0],mu1,sigma1))\n",
    "print('manual', sum((x_obs-x_exp)**2/x_exp)*len(x))\n",
    "print('x_exp', x_exp)\n",
    "print('x_obs',chi2(x, bins)[0])\n",
    "print('intervals',chi2(x, bins)[1])\n",
    "print('='*78)\n",
    "print('H0: X~N', zstat(x_obs, x_exp,len(x)))\n",
    "print('H0: X~N', sts.chisquare(x_obs*len(x), x_exp*len(x)))"
   ]
  },
  {
   "cell_type": "code",
   "execution_count": 42,
   "metadata": {},
   "outputs": [
    {
     "data": {
      "text/plain": [
       "<matplotlib.legend.Legend at 0x27e45f83ba8>"
      ]
     },
     "execution_count": 42,
     "metadata": {},
     "output_type": "execute_result"
    },
    {
     "data": {
      "image/png": "[encoded data removed]",
      "text/plain": [
       "<Figure size 432x288 with 1 Axes>"
      ]
     },
     "metadata": {
      "needs_background": "light"
     },
     "output_type": "display_data"
    }
   ],
   "source": [
    "plt.hist(x,bins=bins, density=True,label='Гистограмма относительных частот')\n",
    "x_axis = np.arange(min(x),max(x))\n",
    "plt.plot(x_axis,sts.norm.pdf(x_axis,loc=np.mean(x), scale=np.var(x)**(1/2)), \n",
    "         label='Функция плотности теоретического распределения')\n",
    "plt.legend(loc=4)"
   ]
  },
  {
   "cell_type": "code",
   "execution_count": 43,
   "metadata": {},
   "outputs": [
    {
     "data": {
      "text/plain": [
       "([(199, 233.27272727272728),\n",
       "  (233.27272727272728, 267.54545454545456),\n",
       "  (267.54545454545456, 301.8181818181818),\n",
       "  (301.8181818181818, 336.09090909090907),\n",
       "  (336.09090909090907, 370.3636363636363),\n",
       "  (370.3636363636363, 404.63636363636357),\n",
       "  (404.63636363636357, 438.9090909090908),\n",
       "  (438.9090909090908, 473.1818181818181),\n",
       "  (473.1818181818181, 507.4545454545453),\n",
       "  (507.4545454545453, 541.7272727272726),\n",
       "  (541.7272727272726, 575.9999999999999)],\n",
       " array([0.0027959 , 0.03261883, 0.12301957, 0.21901212, 0.26001864,\n",
       "        0.18546132, 0.11742777, 0.03261883, 0.01770736, 0.00745573,\n",
       "        0.00186393]),\n",
       " array([  3.,  35., 132., 235., 279., 199., 126.,  35.,  19.,   8.,   2.]))"
      ]
     },
     "execution_count": 43,
     "metadata": {},
     "output_type": "execute_result"
    }
   ],
   "source": [
    "intervals, x_obs, x_obs*len(x)"
   ]
  },
  {
   "cell_type": "markdown",
   "metadata": {},
   "source": [
    "Построить гистограмму относительных частот и функцию плотности теоретического распределения на одном графике"
   ]
  },
  {
   "cell_type": "code",
   "execution_count": 44,
   "metadata": {},
   "outputs": [
    {
     "data": {
      "text/plain": [
       "[]"
      ]
     },
     "execution_count": 44,
     "metadata": {},
     "output_type": "execute_result"
    },
    {
     "data": {
      "image/png": "[encoded data removed]",
      "text/plain": [
       "<Figure size 432x288 with 1 Axes>"
      ]
     },
     "metadata": {
      "needs_background": "light"
     },
     "output_type": "display_data"
    }
   ],
   "source": [
    "x_axis=np.linspace(min(x),max(x),100)\n",
    "plt.hist(x,bins=bins, density=True,label='наблюдаемые частоты')\n",
    "plt.plot(x_axis, sts.norm.pdf(x_axis,loc=x.mean(),scale=sts.describe(x)[3]**(1/2)), label='Функция плотности теоретического распределения')\n",
    "plt.legend()\n",
    "plt.plot()"
   ]
  },
  {
   "cell_type": "markdown",
   "metadata": {},
   "source": [
    "4.2. Проверка гипотезы о нормальности на основе коэффициента асимметрии и эксцесса "
   ]
  },
  {
   "cell_type": "code",
   "execution_count": 45,
   "metadata": {},
   "outputs": [
    {
     "data": {
      "text/plain": [
       "(44.13218548064099, 2.611064697788379e-10)"
      ]
     },
     "execution_count": 45,
     "metadata": {},
     "output_type": "execute_result"
    }
   ],
   "source": [
    "sts.jarque_bera(x)"
   ]
  },
  {
   "cell_type": "code",
   "execution_count": 46,
   "metadata": {},
   "outputs": [
    {
     "data": {
      "text/plain": [
       "(44.132185480641, 2.611064697788379e-10)"
      ]
     },
     "execution_count": 46,
     "metadata": {},
     "output_type": "execute_result"
    }
   ],
   "source": [
    "assim, excess = sts.describe(x)[4], sts.describe(x)[5]\n",
    "jarque_bera = len(x) * (assim**2/6 + excess**2/24)\n",
    "p = 1 - sts.chi2.cdf(jarque_bera, 2)\n",
    "jarque_bera, p"
   ]
  },
  {
   "cell_type": "code",
   "execution_count": 47,
   "metadata": {},
   "outputs": [
    {
     "data": {
      "text/html": [
       "<div>\n",
       "<style scoped>\n",
       "    .dataframe tbody tr th:only-of-type {\n",
       "        vertical-align: middle;\n",
       "    }\n",
       "\n",
       "    .dataframe tbody tr th {\n",
       "        vertical-align: top;\n",
       "    }\n",
       "\n",
       "    .dataframe thead th {\n",
       "        text-align: right;\n",
       "    }\n",
       "</style>\n",
       "<table border=\"1\" class=\"dataframe\">\n",
       "  <thead>\n",
       "    <tr style=\"text-align: right;\">\n",
       "      <th></th>\n",
       "      <th>№ задания\n",
       "Вариант</th>\n",
       "      <th>1.1</th>\n",
       "      <th>1.2</th>\n",
       "      <th>2.1, 3.1</th>\n",
       "      <th>2.2, 3.2</th>\n",
       "      <th>2.3, 3.3</th>\n",
       "      <th>2.4, 3.4</th>\n",
       "      <th>4</th>\n",
       "      <th>5</th>\n",
       "      <th>6</th>\n",
       "      <th>7</th>\n",
       "      <th>8.1</th>\n",
       "      <th>8.2</th>\n",
       "      <th>9.1</th>\n",
       "      <th>9.2</th>\n",
       "      <th>9.3</th>\n",
       "    </tr>\n",
       "  </thead>\n",
       "  <tbody>\n",
       "    <tr>\n",
       "      <th>8</th>\n",
       "      <td>9</td>\n",
       "      <td>A5 A7 A8</td>\n",
       "      <td>A7</td>\n",
       "      <td>A7</td>\n",
       "      <td>A7</td>\n",
       "      <td>A7 A8</td>\n",
       "      <td>A7 A8</td>\n",
       "      <td>A7</td>\n",
       "      <td>A7 A8</td>\n",
       "      <td>A4 A20</td>\n",
       "      <td>A4 A7</td>\n",
       "      <td>A7 A8</td>\n",
       "      <td>A5 A7 A8</td>\n",
       "      <td>A17 A12</td>\n",
       "      <td>A17 A12</td>\n",
       "      <td>A17 A7 A12</td>\n",
       "    </tr>\n",
       "  </tbody>\n",
       "</table>\n",
       "</div>"
      ],
      "text/plain": [
       "                  № задания\\nВариант       1.1 1.2 2.1, 3.1 2.2, 3.2 2.3, 3.3  \\\n",
       "8                                  9  A5 A7 A8  A7       A7       A7    A7 A8   \n",
       "\n",
       "  2.4, 3.4   4      5       6      7    8.1       8.2      9.1      9.2  \\\n",
       "8    A7 A8  A7  A7 A8  A4 A20  A4 A7  A7 A8  A5 A7 A8  A17 A12  A17 A12   \n",
       "\n",
       "          9.3  \n",
       "8  A17 A7 A12  "
      ]
     },
     "execution_count": 47,
     "metadata": {},
     "output_type": "execute_result"
    }
   ],
   "source": [
    "task"
   ]
  },
  {
   "cell_type": "markdown",
   "metadata": {},
   "source": [
    "5.1 Критерий знаков\n"
   ]
  },
  {
   "cell_type": "code",
   "execution_count": 48,
   "metadata": {},
   "outputs": [],
   "source": [
    "x = DF['A7']\n",
    "y = DF['A8']"
   ]
  },
  {
   "cell_type": "code",
   "execution_count": 49,
   "metadata": {},
   "outputs": [
    {
     "name": "stdout",
     "output_type": "stream",
     "text": [
      "Sign test: Zstat = -32.5735099550566  p-val = 4.865517545960753e-233\n"
     ]
    }
   ],
   "source": [
    "K = 0\n",
    "for i in range(len(x)):\n",
    "    if x[i]-y[i] > 0:\n",
    "        K+=1\n",
    "Z = 2 * np.sqrt(len(x)) * (K/len(x) - (1/2))\n",
    "p = sts.norm.cdf(Z)\n",
    "print('Sign test: Zstat =',Z,' p-val =', p)"
   ]
  },
  {
   "cell_type": "markdown",
   "metadata": {},
   "source": [
    "5.2. Критерий хи-квадрат"
   ]
  },
  {
   "cell_type": "code",
   "execution_count": 50,
   "metadata": {},
   "outputs": [],
   "source": [
    "def chisquaretwosample(x, y, k):\n",
    "    nx = x.size\n",
    "    ny = y.size\n",
    "    a = min(min(x), min(y))\n",
    "    b = max(max(x), max(y))\n",
    "    h = (b - a) / k\n",
    "    intervals = [] \n",
    "    for i in range(k):\n",
    "        intervals.append((a+h*i,a+h+h*i))\n",
    "    fx = np.zeros(k)\n",
    "    fy = np.zeros(k)\n",
    "    c = a\n",
    "    for item in x:\n",
    "        index = (item - a) // h\n",
    "        if index == bins:\n",
    "            fx[int(index) - 1] += 1\n",
    "        else:\n",
    "            fx[int(index)] += 1\n",
    "    for item in y:\n",
    "        index = (item - a) // h\n",
    "        if index == bins:\n",
    "            fy[int(index) - 1] += 1\n",
    "        else:\n",
    "            fy[int(index)] += 1\n",
    "    z = 0\n",
    "    for i in range(k):\n",
    "        z += ((fx[i]/nx - fy[i]/ny)**2) / (fx[i] + fy[i])\n",
    "    z = z * nx * ny\n",
    "    p = 1 - sts.chi2.cdf(z ,df=k-1)\n",
    "    return z, p, intervals, fx, fy, fx/len(x), fy/len(x)"
   ]
  },
  {
   "cell_type": "code",
   "execution_count": 51,
   "metadata": {},
   "outputs": [
    {
     "data": {
      "text/plain": [
       "(428.68924840099226,\n",
       " 0.0,\n",
       " [(199.0, 259.6363636363636),\n",
       "  (259.6363636363636, 320.27272727272725),\n",
       "  (320.27272727272725, 380.9090909090909),\n",
       "  (380.9090909090909, 441.5454545454545),\n",
       "  (441.5454545454545, 502.18181818181813),\n",
       "  (502.1818181818182, 562.8181818181818),\n",
       "  (562.8181818181818, 623.4545454545455),\n",
       "  (623.4545454545455, 684.090909090909),\n",
       "  (684.090909090909, 744.7272727272727),\n",
       "  (744.7272727272727, 805.3636363636364),\n",
       "  (805.3636363636364, 866.0)],\n",
       " array([ 27., 262., 467., 256.,  50.,  10.,   1.,   0.,   0.,   0.,   0.]),\n",
       " array([  2.,  98., 260., 306., 187., 134.,  59.,  15.,   7.,   3.,   2.]),\n",
       " array([0.02516309, 0.24417521, 0.43522833, 0.23858341, 0.04659832,\n",
       "        0.00931966, 0.00093197, 0.        , 0.        , 0.        ,\n",
       "        0.        ]),\n",
       " array([0.00186393, 0.09133271, 0.24231128, 0.28518173, 0.17427773,\n",
       "        0.1248835 , 0.05498602, 0.0139795 , 0.00652377, 0.0027959 ,\n",
       "        0.00186393]))"
      ]
     },
     "execution_count": 51,
     "metadata": {},
     "output_type": "execute_result"
    }
   ],
   "source": [
    "chisquaretwosample(x, y, bins)"
   ]
  },
  {
   "cell_type": "code",
   "execution_count": 52,
   "metadata": {},
   "outputs": [],
   "source": [
    "intervals = chisquaretwosample(x, y, bins)[2]\n",
    "for i in range(bins):\n",
    "    intervals[i] = intervals[i][0]\n",
    "intervals.append(intervals[-1]+(intervals[1]-intervals[0]))\n"
   ]
  },
  {
   "cell_type": "code",
   "execution_count": 53,
   "metadata": {
    "scrolled": true
   },
   "outputs": [
    {
     "data": {
      "text/plain": [
       "<matplotlib.legend.Legend at 0x27e4603cbe0>"
      ]
     },
     "execution_count": 53,
     "metadata": {},
     "output_type": "execute_result"
    },
    {
     "data": {
      "image/png": "[encoded data removed]",
      "text/plain": [
       "<Figure size 432x288 with 1 Axes>"
      ]
     },
     "metadata": {
      "needs_background": "light"
     },
     "output_type": "display_data"
    }
   ],
   "source": [
    "plt.hist(x, bins=intervals, label='A7', density=True, alpha=0.5)\n",
    "plt.hist(y, bins=intervals, label='A8', density=True, alpha=0.5)\n",
    "plt.title('Гистограммы относительных частот')\n",
    "plt.legend()"
   ]
  },
  {
   "cell_type": "markdown",
   "metadata": {},
   "source": [
    "6. Таблицы сопряжённости"
   ]
  },
  {
   "cell_type": "code",
   "execution_count": 54,
   "metadata": {},
   "outputs": [
    {
     "data": {
      "text/html": [
       "<div>\n",
       "<style scoped>\n",
       "    .dataframe tbody tr th:only-of-type {\n",
       "        vertical-align: middle;\n",
       "    }\n",
       "\n",
       "    .dataframe tbody tr th {\n",
       "        vertical-align: top;\n",
       "    }\n",
       "\n",
       "    .dataframe thead th {\n",
       "        text-align: right;\n",
       "    }\n",
       "</style>\n",
       "<table border=\"1\" class=\"dataframe\">\n",
       "  <thead>\n",
       "    <tr style=\"text-align: right;\">\n",
       "      <th></th>\n",
       "      <th>№ задания\n",
       "Вариант</th>\n",
       "      <th>1.1</th>\n",
       "      <th>1.2</th>\n",
       "      <th>2.1, 3.1</th>\n",
       "      <th>2.2, 3.2</th>\n",
       "      <th>2.3, 3.3</th>\n",
       "      <th>2.4, 3.4</th>\n",
       "      <th>4</th>\n",
       "      <th>5</th>\n",
       "      <th>6</th>\n",
       "      <th>7</th>\n",
       "      <th>8.1</th>\n",
       "      <th>8.2</th>\n",
       "      <th>9.1</th>\n",
       "      <th>9.2</th>\n",
       "      <th>9.3</th>\n",
       "    </tr>\n",
       "  </thead>\n",
       "  <tbody>\n",
       "    <tr>\n",
       "      <th>8</th>\n",
       "      <td>9</td>\n",
       "      <td>A5 A7 A8</td>\n",
       "      <td>A7</td>\n",
       "      <td>A7</td>\n",
       "      <td>A7</td>\n",
       "      <td>A7 A8</td>\n",
       "      <td>A7 A8</td>\n",
       "      <td>A7</td>\n",
       "      <td>A7 A8</td>\n",
       "      <td>A4 A20</td>\n",
       "      <td>A4 A7</td>\n",
       "      <td>A7 A8</td>\n",
       "      <td>A5 A7 A8</td>\n",
       "      <td>A17 A12</td>\n",
       "      <td>A17 A12</td>\n",
       "      <td>A17 A7 A12</td>\n",
       "    </tr>\n",
       "  </tbody>\n",
       "</table>\n",
       "</div>"
      ],
      "text/plain": [
       "                  № задания\\nВариант       1.1 1.2 2.1, 3.1 2.2, 3.2 2.3, 3.3  \\\n",
       "8                                  9  A5 A7 A8  A7       A7       A7    A7 A8   \n",
       "\n",
       "  2.4, 3.4   4      5       6      7    8.1       8.2      9.1      9.2  \\\n",
       "8    A7 A8  A7  A7 A8  A4 A20  A4 A7  A7 A8  A5 A7 A8  A17 A12  A17 A12   \n",
       "\n",
       "          9.3  \n",
       "8  A17 A7 A12  "
      ]
     },
     "execution_count": 54,
     "metadata": {},
     "output_type": "execute_result"
    }
   ],
   "source": [
    "task"
   ]
  },
  {
   "cell_type": "code",
   "execution_count": 55,
   "metadata": {},
   "outputs": [],
   "source": [
    "#x и y категориальные признаки\n",
    "x = DF['A4']\n",
    "y = DF['A20']"
   ]
  },
  {
   "cell_type": "code",
   "execution_count": 56,
   "metadata": {},
   "outputs": [
    {
     "data": {
      "text/plain": [
       "(array(['IIB', 'I', 'IIA', ..., 'IIB', 'IIB', 'I'], dtype=object),\n",
       " array(['N', 'Y', 'N', ..., 'N', 'N', 'Y'], dtype=object))"
      ]
     },
     "execution_count": 56,
     "metadata": {},
     "output_type": "execute_result"
    }
   ],
   "source": [
    "x.values, y.values"
   ]
  },
  {
   "cell_type": "code",
   "execution_count": 57,
   "metadata": {},
   "outputs": [
    {
     "data": {
      "text/html": [
       "<div>\n",
       "<style scoped>\n",
       "    .dataframe tbody tr th:only-of-type {\n",
       "        vertical-align: middle;\n",
       "    }\n",
       "\n",
       "    .dataframe tbody tr th {\n",
       "        vertical-align: top;\n",
       "    }\n",
       "\n",
       "    .dataframe thead th {\n",
       "        text-align: right;\n",
       "    }\n",
       "</style>\n",
       "<table border=\"1\" class=\"dataframe\">\n",
       "  <thead>\n",
       "    <tr style=\"text-align: right;\">\n",
       "      <th>A20</th>\n",
       "      <th>N</th>\n",
       "      <th>Y</th>\n",
       "    </tr>\n",
       "    <tr>\n",
       "      <th>A4</th>\n",
       "      <th></th>\n",
       "      <th></th>\n",
       "    </tr>\n",
       "  </thead>\n",
       "  <tbody>\n",
       "    <tr>\n",
       "      <th>I</th>\n",
       "      <td>6</td>\n",
       "      <td>174</td>\n",
       "    </tr>\n",
       "    <tr>\n",
       "      <th>IIA</th>\n",
       "      <td>207</td>\n",
       "      <td>152</td>\n",
       "    </tr>\n",
       "    <tr>\n",
       "      <th>IIB</th>\n",
       "      <td>525</td>\n",
       "      <td>9</td>\n",
       "    </tr>\n",
       "  </tbody>\n",
       "</table>\n",
       "</div>"
      ],
      "text/plain": [
       "A20    N    Y\n",
       "A4           \n",
       "I      6  174\n",
       "IIA  207  152\n",
       "IIB  525    9"
      ]
     },
     "execution_count": 57,
     "metadata": {},
     "output_type": "execute_result"
    }
   ],
   "source": [
    "crossTab=pd.crosstab(x,y)\n",
    "crossTab"
   ]
  },
  {
   "cell_type": "code",
   "execution_count": 58,
   "metadata": {},
   "outputs": [
    {
     "data": {
      "text/plain": [
       "(596.6359677097043,\n",
       " 2.7678704512712918e-130,\n",
       " 2,\n",
       " array([[123.80242311,  56.19757689],\n",
       "        [246.91705499, 112.08294501],\n",
       "        [367.2805219 , 166.7194781 ]]))"
      ]
     },
     "execution_count": 58,
     "metadata": {},
     "output_type": "execute_result"
    }
   ],
   "source": [
    "sts.chi2_contingency(crossTab, correction=False)"
   ]
  },
  {
   "cell_type": "markdown",
   "metadata": {},
   "source": [
    "7. Дисперсионный анализ"
   ]
  },
  {
   "cell_type": "code",
   "execution_count": 59,
   "metadata": {},
   "outputs": [],
   "source": [
    "x = DF['A4']#факторный признак\n",
    "y = DF['A7']#результативный "
   ]
  },
  {
   "cell_type": "code",
   "execution_count": 60,
   "metadata": {},
   "outputs": [
    {
     "data": {
      "text/html": [
       "<div>\n",
       "<style scoped>\n",
       "    .dataframe tbody tr th:only-of-type {\n",
       "        vertical-align: middle;\n",
       "    }\n",
       "\n",
       "    .dataframe tbody tr th {\n",
       "        vertical-align: top;\n",
       "    }\n",
       "\n",
       "    .dataframe thead th {\n",
       "        text-align: right;\n",
       "    }\n",
       "</style>\n",
       "<table border=\"1\" class=\"dataframe\">\n",
       "  <thead>\n",
       "    <tr style=\"text-align: right;\">\n",
       "      <th></th>\n",
       "      <th>№ задания\n",
       "Вариант</th>\n",
       "      <th>1.1</th>\n",
       "      <th>1.2</th>\n",
       "      <th>2.1, 3.1</th>\n",
       "      <th>2.2, 3.2</th>\n",
       "      <th>2.3, 3.3</th>\n",
       "      <th>2.4, 3.4</th>\n",
       "      <th>4</th>\n",
       "      <th>5</th>\n",
       "      <th>6</th>\n",
       "      <th>7</th>\n",
       "      <th>8.1</th>\n",
       "      <th>8.2</th>\n",
       "      <th>9.1</th>\n",
       "      <th>9.2</th>\n",
       "      <th>9.3</th>\n",
       "    </tr>\n",
       "  </thead>\n",
       "  <tbody>\n",
       "    <tr>\n",
       "      <th>8</th>\n",
       "      <td>9</td>\n",
       "      <td>A5 A7 A8</td>\n",
       "      <td>A7</td>\n",
       "      <td>A7</td>\n",
       "      <td>A7</td>\n",
       "      <td>A7 A8</td>\n",
       "      <td>A7 A8</td>\n",
       "      <td>A7</td>\n",
       "      <td>A7 A8</td>\n",
       "      <td>A4 A20</td>\n",
       "      <td>A4 A7</td>\n",
       "      <td>A7 A8</td>\n",
       "      <td>A5 A7 A8</td>\n",
       "      <td>A17 A12</td>\n",
       "      <td>A17 A12</td>\n",
       "      <td>A17 A7 A12</td>\n",
       "    </tr>\n",
       "  </tbody>\n",
       "</table>\n",
       "</div>"
      ],
      "text/plain": [
       "                  № задания\\nВариант       1.1 1.2 2.1, 3.1 2.2, 3.2 2.3, 3.3  \\\n",
       "8                                  9  A5 A7 A8  A7       A7       A7    A7 A8   \n",
       "\n",
       "  2.4, 3.4   4      5       6      7    8.1       8.2      9.1      9.2  \\\n",
       "8    A7 A8  A7  A7 A8  A4 A20  A4 A7  A7 A8  A5 A7 A8  A17 A12  A17 A12   \n",
       "\n",
       "          9.3  \n",
       "8  A17 A7 A12  "
      ]
     },
     "execution_count": 60,
     "metadata": {},
     "output_type": "execute_result"
    }
   ],
   "source": [
    "task"
   ]
  },
  {
   "cell_type": "code",
   "execution_count": 61,
   "metadata": {},
   "outputs": [
    {
     "data": {
      "text/plain": [
       "DescribeResult(nobs=1073, minmax=(199, 576), mean=355.08853681267476, variance=2904.289728547384, skewness=0.44737126211025235, kurtosis=0.4319131904766307)"
      ]
     },
     "execution_count": 61,
     "metadata": {},
     "output_type": "execute_result"
    }
   ],
   "source": [
    "sts.describe(y)"
   ]
  },
  {
   "cell_type": "code",
   "execution_count": 62,
   "metadata": {},
   "outputs": [
    {
     "data": {
      "text/plain": [
       "A4\n",
       "I      180\n",
       "IIA    359\n",
       "IIB    534\n",
       "Name: A7, dtype: int64"
      ]
     },
     "execution_count": 62,
     "metadata": {},
     "output_type": "execute_result"
    }
   ],
   "source": [
    "y.groupby(x).size()"
   ]
  },
  {
   "cell_type": "code",
   "execution_count": 63,
   "metadata": {},
   "outputs": [
    {
     "data": {
      "text/plain": [
       "A4\n",
       "I      1825.402110\n",
       "IIA    1787.997479\n",
       "IIB    1943.135882\n",
       "Name: A7, dtype: float64"
      ]
     },
     "execution_count": 63,
     "metadata": {},
     "output_type": "execute_result"
    }
   ],
   "source": [
    "y.groupby(x).var()"
   ]
  },
  {
   "cell_type": "code",
   "execution_count": 64,
   "metadata": {},
   "outputs": [
    {
     "data": {
      "text/plain": [
       "A4\n",
       "I      412.711111\n",
       "IIA    369.050139\n",
       "IIB    326.279026\n",
       "Name: A7, dtype: float64"
      ]
     },
     "execution_count": 64,
     "metadata": {},
     "output_type": "execute_result"
    }
   ],
   "source": [
    "y.groupby(x).mean()"
   ]
  },
  {
   "cell_type": "code",
   "execution_count": 65,
   "metadata": {
    "scrolled": true
   },
   "outputs": [
    {
     "name": "stdout",
     "output_type": "stream",
     "text": [
      "DescribeResult(nobs=180, minmax=(323, 576), mean=412.7111111111111, variance=1825.4021104903786, skewness=0.7415284194066023, kurtosis=0.8022828568685099)\n",
      "DescribeResult(nobs=359, minmax=(278, 526), mean=369.050139275766, variance=1787.9974790308274, skewness=0.7330904733340218, kurtosis=0.999550220152901)\n",
      "DescribeResult(nobs=534, minmax=(199, 557), mean=326.2790262172285, variance=1943.1358819767977, skewness=0.6239919695567546, kurtosis=1.5776722129191976)\n"
     ]
    }
   ],
   "source": [
    "for item in y.groupby(x): \n",
    "    print(sts.describe(item[1]))"
   ]
  },
  {
   "cell_type": "code",
   "execution_count": 66,
   "metadata": {
    "scrolled": true
   },
   "outputs": [
    {
     "name": "stdout",
     "output_type": "stream",
     "text": [
      "Внутригрупповая дисперсия 1866.3014914859712\n"
     ]
    }
   ],
   "source": [
    "Dw = 0\n",
    "for item in y.groupby(x): \n",
    "    Dw += sts.describe(item[1])[3]*(sts.describe(item[1])[0]-1)\n",
    "Dw/=len(y)\n",
    "print('Внутригрупповая дисперсия',Dw)"
   ]
  },
  {
   "cell_type": "code",
   "execution_count": 67,
   "metadata": {},
   "outputs": [
    {
     "name": "stdout",
     "output_type": "stream",
     "text": [
      "Межгрупповая дисперсия 1035.2815364756277\n"
     ]
    }
   ],
   "source": [
    "Db = 0\n",
    "for item in y.groupby(x): \n",
    "    Db += sts.describe(item[1])[0]*(sts.describe(item[1])[2]-sts.describe(y)[2])**2\n",
    "Db/=len(y)\n",
    "print('Межгрупповая дисперсия',Db)\n"
   ]
  },
  {
   "cell_type": "code",
   "execution_count": 68,
   "metadata": {},
   "outputs": [
    {
     "name": "stdout",
     "output_type": "stream",
     "text": [
      "Общая дисперсия 2901.5830279615984\n",
      "Dw+Db = 2901.583027961599\n"
     ]
    }
   ],
   "source": [
    "print('Общая дисперсия', np.var(y))\n",
    "print('Dw+Db =', Dw+Db)"
   ]
  },
  {
   "cell_type": "code",
   "execution_count": 69,
   "metadata": {
    "scrolled": true
   },
   "outputs": [
    {
     "name": "stdout",
     "output_type": "stream",
     "text": [
      "ЭКД = 0.3567988668595594\n",
      "ЭКО = 0.5973264324132654\n"
     ]
    }
   ],
   "source": [
    "nusquare = Db / (Db + Dw)\n",
    "print('ЭКД =', nusquare)\n",
    "print('ЭКО =', np.sqrt(nusquare))"
   ]
  },
  {
   "cell_type": "code",
   "execution_count": 70,
   "metadata": {},
   "outputs": [
    {
     "name": "stdout",
     "output_type": "stream",
     "text": [
      "Дисперсионный анализ: Z-val 296.77714160398517  p-val 1.1102230246251565e-16\n"
     ]
    }
   ],
   "source": [
    "zstatFtest = Db / (len(y.groupby(x))-1) / Dw * (len(y)-len(y.groupby(x)))\n",
    "pvalFtest = 1 - sts.f.cdf(zstatFtest, len(y.groupby(x))-1, len(y)-len(y.groupby(x)))\n",
    "print('Дисперсионный анализ: Z-val',zstatFtest,' p-val', pvalFtest)"
   ]
  },
  {
   "cell_type": "code",
   "execution_count": 71,
   "metadata": {
    "scrolled": true
   },
   "outputs": [
    {
     "name": "stdout",
     "output_type": "stream",
     "text": [
      "F_onewayResult(statistic=296.7771416039853, pvalue=2.921046380968241e-103)\n"
     ]
    }
   ],
   "source": [
    "xarrr = []#чисто для проверки\n",
    "for item in y.groupby(x): \n",
    "    xarrr.append(item[1])\n",
    "print(sts.f_oneway(xarrr[0],xarrr[1],xarrr[2]))\n"
   ]
  },
  {
   "cell_type": "markdown",
   "metadata": {},
   "source": [
    "8. Корреляционный анализ\n"
   ]
  },
  {
   "cell_type": "code",
   "execution_count": 72,
   "metadata": {},
   "outputs": [
    {
     "data": {
      "text/html": [
       "<div>\n",
       "<style scoped>\n",
       "    .dataframe tbody tr th:only-of-type {\n",
       "        vertical-align: middle;\n",
       "    }\n",
       "\n",
       "    .dataframe tbody tr th {\n",
       "        vertical-align: top;\n",
       "    }\n",
       "\n",
       "    .dataframe thead th {\n",
       "        text-align: right;\n",
       "    }\n",
       "</style>\n",
       "<table border=\"1\" class=\"dataframe\">\n",
       "  <thead>\n",
       "    <tr style=\"text-align: right;\">\n",
       "      <th></th>\n",
       "      <th>№ задания\n",
       "Вариант</th>\n",
       "      <th>1.1</th>\n",
       "      <th>1.2</th>\n",
       "      <th>2.1, 3.1</th>\n",
       "      <th>2.2, 3.2</th>\n",
       "      <th>2.3, 3.3</th>\n",
       "      <th>2.4, 3.4</th>\n",
       "      <th>4</th>\n",
       "      <th>5</th>\n",
       "      <th>6</th>\n",
       "      <th>7</th>\n",
       "      <th>8.1</th>\n",
       "      <th>8.2</th>\n",
       "      <th>9.1</th>\n",
       "      <th>9.2</th>\n",
       "      <th>9.3</th>\n",
       "    </tr>\n",
       "  </thead>\n",
       "  <tbody>\n",
       "    <tr>\n",
       "      <th>8</th>\n",
       "      <td>9</td>\n",
       "      <td>A5 A7 A8</td>\n",
       "      <td>A7</td>\n",
       "      <td>A7</td>\n",
       "      <td>A7</td>\n",
       "      <td>A7 A8</td>\n",
       "      <td>A7 A8</td>\n",
       "      <td>A7</td>\n",
       "      <td>A7 A8</td>\n",
       "      <td>A4 A20</td>\n",
       "      <td>A4 A7</td>\n",
       "      <td>A7 A8</td>\n",
       "      <td>A5 A7 A8</td>\n",
       "      <td>A17 A12</td>\n",
       "      <td>A17 A12</td>\n",
       "      <td>A17 A7 A12</td>\n",
       "    </tr>\n",
       "  </tbody>\n",
       "</table>\n",
       "</div>"
      ],
      "text/plain": [
       "                  № задания\\nВариант       1.1 1.2 2.1, 3.1 2.2, 3.2 2.3, 3.3  \\\n",
       "8                                  9  A5 A7 A8  A7       A7       A7    A7 A8   \n",
       "\n",
       "  2.4, 3.4   4      5       6      7    8.1       8.2      9.1      9.2  \\\n",
       "8    A7 A8  A7  A7 A8  A4 A20  A4 A7  A7 A8  A5 A7 A8  A17 A12  A17 A12   \n",
       "\n",
       "          9.3  \n",
       "8  A17 A7 A12  "
      ]
     },
     "execution_count": 72,
     "metadata": {},
     "output_type": "execute_result"
    }
   ],
   "source": [
    "task"
   ]
  },
  {
   "cell_type": "code",
   "execution_count": 73,
   "metadata": {},
   "outputs": [],
   "source": [
    "x=DF['A7']\n",
    "y=DF['A8']"
   ]
  },
  {
   "cell_type": "code",
   "execution_count": 74,
   "metadata": {},
   "outputs": [
    {
     "data": {
      "text/plain": [
       "(0.9282016936226041, 0.0)"
      ]
     },
     "execution_count": 74,
     "metadata": {},
     "output_type": "execute_result"
    }
   ],
   "source": [
    "sts.pearsonr(x,y)"
   ]
  },
  {
   "cell_type": "code",
   "execution_count": 75,
   "metadata": {},
   "outputs": [
    {
     "data": {
      "text/plain": [
       "SpearmanrResult(correlation=0.9376540833607301, pvalue=0.0)"
      ]
     },
     "execution_count": 75,
     "metadata": {},
     "output_type": "execute_result"
    }
   ],
   "source": [
    "sts.spearmanr(x,y)"
   ]
  },
  {
   "cell_type": "code",
   "execution_count": 76,
   "metadata": {},
   "outputs": [
    {
     "data": {
      "text/plain": [
       "KendalltauResult(correlation=0.7868780458733714, pvalue=0.0)"
      ]
     },
     "execution_count": 76,
     "metadata": {},
     "output_type": "execute_result"
    }
   ],
   "source": [
    "sts.kendalltau(x,y)"
   ]
  },
  {
   "cell_type": "code",
   "execution_count": 77,
   "metadata": {},
   "outputs": [],
   "source": [
    "#доверительный интервал для линейного коэффициента корреляции\n",
    "def proveinterval(r, n, alpha):\n",
    "    u = sts.norm.ppf(1-alpha/2)\n",
    "    high = r + r * (1-r**2)/(2*n) + u * (1 - r**2)/np.sqrt(n)\n",
    "    low = r + r * (1-r**2)/(2*n) - u * (1 - r**2)/np.sqrt(n)\n",
    "    return high, low"
   ]
  },
  {
   "cell_type": "code",
   "execution_count": 78,
   "metadata": {},
   "outputs": [
    {
     "name": "stdout",
     "output_type": "stream",
     "text": [
      "0.01   low 0.917375183532674 high 0.939147963025114\n",
      "0.05   low 0.9199780539498531 high 0.936545092607935\n",
      "0.1   low 0.9213098247162831 high 0.935213321841505\n"
     ]
    }
   ],
   "source": [
    "for alpha in [0.01,0.05,0.1]:\n",
    "    print(alpha,'  low',proveinterval(sts.pearsonr(x,y)[0], len(x), alpha)[1],\n",
    "                'high',proveinterval(sts.pearsonr(x,y)[0], len(x), alpha)[0])"
   ]
  },
  {
   "cell_type": "code",
   "execution_count": 79,
   "metadata": {},
   "outputs": [],
   "source": [
    "#проверка значимости коэффициентов корреляции\n",
    "def zstat(r, n):\n",
    "    z = r/((1-r**2)**(1/2)) * (n-2)**(1/2)\n",
    "    p = min(sts.t.cdf(z, df = n-2), 1-sts.t.cdf(z, df = n-2))*2\n",
    "    return z, p"
   ]
  },
  {
   "cell_type": "code",
   "execution_count": 80,
   "metadata": {
    "scrolled": true
   },
   "outputs": [
    {
     "data": {
      "text/plain": [
       "(81.64014397824117, 0.0)"
      ]
     },
     "execution_count": 80,
     "metadata": {},
     "output_type": "execute_result"
    }
   ],
   "source": [
    "zstat(sts.pearsonr(x,y)[0], len(x))"
   ]
  },
  {
   "cell_type": "code",
   "execution_count": 81,
   "metadata": {},
   "outputs": [
    {
     "data": {
      "text/plain": [
       "(88.28669379903945, 0.0)"
      ]
     },
     "execution_count": 81,
     "metadata": {},
     "output_type": "execute_result"
    }
   ],
   "source": [
    "zstat(sts.spearmanr(x,y)[0], len(x))"
   ]
  },
  {
   "cell_type": "code",
   "execution_count": 82,
   "metadata": {},
   "outputs": [],
   "source": [
    "def zstattau(t, n):\n",
    "    z = t * np.sqrt(9*n*(n+1)/(2*(2*n+5)))\n",
    "    p = min(sts.norm.cdf(z), 1-sts.norm.cdf(z))*2\n",
    "    return z, p"
   ]
  },
  {
   "cell_type": "code",
   "execution_count": 83,
   "metadata": {},
   "outputs": [
    {
     "data": {
      "text/plain": [
       "(38.63629575753953, 0.0)"
      ]
     },
     "execution_count": 83,
     "metadata": {},
     "output_type": "execute_result"
    }
   ],
   "source": [
    "zstattau(sts.kendalltau(x,y)[0], len(x))"
   ]
  },
  {
   "cell_type": "markdown",
   "metadata": {},
   "source": [
    "8.2 Расчёт множественных коэффициентов корреляции"
   ]
  },
  {
   "cell_type": "code",
   "execution_count": 84,
   "metadata": {
    "scrolled": true
   },
   "outputs": [
    {
     "data": {
      "text/html": [
       "<div>\n",
       "<style scoped>\n",
       "    .dataframe tbody tr th:only-of-type {\n",
       "        vertical-align: middle;\n",
       "    }\n",
       "\n",
       "    .dataframe tbody tr th {\n",
       "        vertical-align: top;\n",
       "    }\n",
       "\n",
       "    .dataframe thead th {\n",
       "        text-align: right;\n",
       "    }\n",
       "</style>\n",
       "<table border=\"1\" class=\"dataframe\">\n",
       "  <thead>\n",
       "    <tr style=\"text-align: right;\">\n",
       "      <th></th>\n",
       "      <th>№ задания\n",
       "Вариант</th>\n",
       "      <th>1.1</th>\n",
       "      <th>1.2</th>\n",
       "      <th>2.1, 3.1</th>\n",
       "      <th>2.2, 3.2</th>\n",
       "      <th>2.3, 3.3</th>\n",
       "      <th>2.4, 3.4</th>\n",
       "      <th>4</th>\n",
       "      <th>5</th>\n",
       "      <th>6</th>\n",
       "      <th>7</th>\n",
       "      <th>8.1</th>\n",
       "      <th>8.2</th>\n",
       "      <th>9.1</th>\n",
       "      <th>9.2</th>\n",
       "      <th>9.3</th>\n",
       "    </tr>\n",
       "  </thead>\n",
       "  <tbody>\n",
       "    <tr>\n",
       "      <th>8</th>\n",
       "      <td>9</td>\n",
       "      <td>A5 A7 A8</td>\n",
       "      <td>A7</td>\n",
       "      <td>A7</td>\n",
       "      <td>A7</td>\n",
       "      <td>A7 A8</td>\n",
       "      <td>A7 A8</td>\n",
       "      <td>A7</td>\n",
       "      <td>A7 A8</td>\n",
       "      <td>A4 A20</td>\n",
       "      <td>A4 A7</td>\n",
       "      <td>A7 A8</td>\n",
       "      <td>A5 A7 A8</td>\n",
       "      <td>A17 A12</td>\n",
       "      <td>A17 A12</td>\n",
       "      <td>A17 A7 A12</td>\n",
       "    </tr>\n",
       "  </tbody>\n",
       "</table>\n",
       "</div>"
      ],
      "text/plain": [
       "                  № задания\\nВариант       1.1 1.2 2.1, 3.1 2.2, 3.2 2.3, 3.3  \\\n",
       "8                                  9  A5 A7 A8  A7       A7       A7    A7 A8   \n",
       "\n",
       "  2.4, 3.4   4      5       6      7    8.1       8.2      9.1      9.2  \\\n",
       "8    A7 A8  A7  A7 A8  A4 A20  A4 A7  A7 A8  A5 A7 A8  A17 A12  A17 A12   \n",
       "\n",
       "          9.3  \n",
       "8  A17 A7 A12  "
      ]
     },
     "execution_count": 84,
     "metadata": {},
     "output_type": "execute_result"
    }
   ],
   "source": [
    "task"
   ]
  },
  {
   "cell_type": "code",
   "execution_count": 85,
   "metadata": {},
   "outputs": [],
   "source": [
    "x = DF['A5']\n",
    "y = DF['A7']\n",
    "z = DF['A8']"
   ]
  },
  {
   "cell_type": "code",
   "execution_count": 86,
   "metadata": {},
   "outputs": [
    {
     "name": "stdout",
     "output_type": "stream",
     "text": [
      "0 0 KendalltauResult(correlation=0.9999999999999999, pvalue=0.0)\n",
      "0 1 KendalltauResult(correlation=0.7653615796866247, pvalue=3.5607194803596525e-306)\n",
      "0 2 KendalltauResult(correlation=0.8405274510615323, pvalue=0.0)\n",
      "1 0 KendalltauResult(correlation=0.7653615796866247, pvalue=3.5607194803596525e-306)\n",
      "1 1 KendalltauResult(correlation=0.9999999999999999, pvalue=0.0)\n",
      "1 2 KendalltauResult(correlation=0.7868780458733714, pvalue=0.0)\n",
      "2 0 KendalltauResult(correlation=0.8405274510615321, pvalue=0.0)\n",
      "2 1 KendalltauResult(correlation=0.7868780458733714, pvalue=0.0)\n",
      "2 2 KendalltauResult(correlation=1.0, pvalue=0.0)\n"
     ]
    }
   ],
   "source": [
    "for num1, i in enumerate((x,y,z)):\n",
    "    for num2, j in enumerate((x,y,z)):\n",
    "        print(num1,num2,sts.kendalltau(i,j))"
   ]
  },
  {
   "cell_type": "code",
   "execution_count": 87,
   "metadata": {},
   "outputs": [
    {
     "data": {
      "text/plain": [
       "KendalltauResult(correlation=0.8405274510615323, pvalue=0.0)"
      ]
     },
     "execution_count": 87,
     "metadata": {},
     "output_type": "execute_result"
    }
   ],
   "source": [
    "sts.kendalltau(x,z)"
   ]
  },
  {
   "cell_type": "markdown",
   "metadata": {},
   "source": [
    "Рассчитать точечную оценку коэффициента конкордации"
   ]
  },
  {
   "cell_type": "code",
   "execution_count": 88,
   "metadata": {},
   "outputs": [
    {
     "data": {
      "text/plain": [
       "0.9617379161924835"
      ]
     },
     "execution_count": 88,
     "metadata": {},
     "output_type": "execute_result"
    }
   ],
   "source": [
    "w = 2/9 * sum((sts.spearmanr(x, y)[0], sts.spearmanr(x, z)[0], sts.spearmanr(y, z)[0])) + 1/3\n",
    "w"
   ]
  },
  {
   "cell_type": "code",
   "execution_count": 89,
   "metadata": {},
   "outputs": [
    {
     "data": {
      "text/plain": [
       "0.9617120846079477"
      ]
     },
     "execution_count": 89,
     "metadata": {},
     "output_type": "execute_result"
    }
   ],
   "source": [
    "k = 3\n",
    "n = len(x)\n",
    "w = 0\n",
    "for i in range(n):\n",
    "    w += (sts.rankdata(x)[i] +  sts.rankdata(y)[i] + sts.rankdata(z)[i] - k * (n+1)/2)**2\n",
    "w = w * 12 / ((n**3 - n )* k**2)\n",
    "w"
   ]
  },
  {
   "cell_type": "code",
   "execution_count": 90,
   "metadata": {},
   "outputs": [
    {
     "name": "stdout",
     "output_type": "stream",
     "text": [
      "значимость конкордации 2063.8341335686555 p-val 0.0\n"
     ]
    }
   ],
   "source": [
    "zw = w * (k-1) * n\n",
    "p = 1 - sts.chi2.cdf(zw, df=n-1)\n",
    "print('значимость конкордации',zw,'p-val',p)"
   ]
  },
  {
   "cell_type": "code",
   "execution_count": 91,
   "metadata": {},
   "outputs": [
    {
     "data": {
      "text/plain": [
       "(996.9916331268273, 49.84958165634137)"
      ]
     },
     "execution_count": 91,
     "metadata": {},
     "output_type": "execute_result"
    }
   ],
   "source": [
    "crit = sts.chi2.ppf(0.05, df=n-1) \n",
    "pw = crit*0.05\n",
    "crit, pw"
   ]
  },
  {
   "cell_type": "markdown",
   "metadata": {},
   "source": [
    "9. Регрессионный анализ\n",
    "9.1 Простейшая линейная регрессионная модель"
   ]
  },
  {
   "cell_type": "code",
   "execution_count": 92,
   "metadata": {},
   "outputs": [
    {
     "data": {
      "text/html": [
       "<div>\n",
       "<style scoped>\n",
       "    .dataframe tbody tr th:only-of-type {\n",
       "        vertical-align: middle;\n",
       "    }\n",
       "\n",
       "    .dataframe tbody tr th {\n",
       "        vertical-align: top;\n",
       "    }\n",
       "\n",
       "    .dataframe thead th {\n",
       "        text-align: right;\n",
       "    }\n",
       "</style>\n",
       "<table border=\"1\" class=\"dataframe\">\n",
       "  <thead>\n",
       "    <tr style=\"text-align: right;\">\n",
       "      <th></th>\n",
       "      <th>№ задания\n",
       "Вариант</th>\n",
       "      <th>1.1</th>\n",
       "      <th>1.2</th>\n",
       "      <th>2.1, 3.1</th>\n",
       "      <th>2.2, 3.2</th>\n",
       "      <th>2.3, 3.3</th>\n",
       "      <th>2.4, 3.4</th>\n",
       "      <th>4</th>\n",
       "      <th>5</th>\n",
       "      <th>6</th>\n",
       "      <th>7</th>\n",
       "      <th>8.1</th>\n",
       "      <th>8.2</th>\n",
       "      <th>9.1</th>\n",
       "      <th>9.2</th>\n",
       "      <th>9.3</th>\n",
       "    </tr>\n",
       "  </thead>\n",
       "  <tbody>\n",
       "    <tr>\n",
       "      <th>8</th>\n",
       "      <td>9</td>\n",
       "      <td>A5 A7 A8</td>\n",
       "      <td>A7</td>\n",
       "      <td>A7</td>\n",
       "      <td>A7</td>\n",
       "      <td>A7 A8</td>\n",
       "      <td>A7 A8</td>\n",
       "      <td>A7</td>\n",
       "      <td>A7 A8</td>\n",
       "      <td>A4 A20</td>\n",
       "      <td>A4 A7</td>\n",
       "      <td>A7 A8</td>\n",
       "      <td>A5 A7 A8</td>\n",
       "      <td>A17 A12</td>\n",
       "      <td>A17 A12</td>\n",
       "      <td>A17 A7 A12</td>\n",
       "    </tr>\n",
       "  </tbody>\n",
       "</table>\n",
       "</div>"
      ],
      "text/plain": [
       "                  № задания\\nВариант       1.1 1.2 2.1, 3.1 2.2, 3.2 2.3, 3.3  \\\n",
       "8                                  9  A5 A7 A8  A7       A7       A7    A7 A8   \n",
       "\n",
       "  2.4, 3.4   4      5       6      7    8.1       8.2      9.1      9.2  \\\n",
       "8    A7 A8  A7  A7 A8  A4 A20  A4 A7  A7 A8  A5 A7 A8  A17 A12  A17 A12   \n",
       "\n",
       "          9.3  \n",
       "8  A17 A7 A12  "
      ]
     },
     "execution_count": 92,
     "metadata": {},
     "output_type": "execute_result"
    }
   ],
   "source": [
    "task"
   ]
  },
  {
   "cell_type": "code",
   "execution_count": 93,
   "metadata": {},
   "outputs": [],
   "source": [
    "x = DF['A17']\n",
    "y = DF['A12']"
   ]
  },
  {
   "cell_type": "code",
   "execution_count": 94,
   "metadata": {},
   "outputs": [
    {
     "data": {
      "text/plain": [
       "DescribeResult(nobs=1073, minmax=(6, 510), mean=73.21155638397018, variance=5450.900164832872, skewness=2.11568092104278, kurtosis=5.5625964387790106)"
      ]
     },
     "execution_count": 94,
     "metadata": {},
     "output_type": "execute_result"
    }
   ],
   "source": [
    "sts.describe(x)"
   ]
  },
  {
   "cell_type": "code",
   "execution_count": 95,
   "metadata": {},
   "outputs": [
    {
     "data": {
      "text/plain": [
       "DescribeResult(nobs=1073, minmax=(246, 717), mean=446.4818266542404, variance=5511.615574272162, skewness=0.43724282451140445, kurtosis=0.23166068004916518)"
      ]
     },
     "execution_count": 95,
     "metadata": {},
     "output_type": "execute_result"
    }
   ],
   "source": [
    "sts.describe(y)"
   ]
  },
  {
   "cell_type": "code",
   "execution_count": 96,
   "metadata": {},
   "outputs": [],
   "source": [
    "class Regression():\n",
    "    '''\n",
    "    Одномерная регрессия, по умолчанию линейная\n",
    "    '''\n",
    "    c = []\n",
    "    n = 0\n",
    "    k = 0\n",
    "    x = []\n",
    "    y = []\n",
    "    f = [] \n",
    "    Dres = 0\n",
    "    Dregr = 0\n",
    "    \n",
    "    def __init__(self, n=1):\n",
    "        self.n = n+1\n",
    "        \n",
    "    def p(self, x, i):\n",
    "        return x**i\n",
    "    \n",
    "    def fit(self, x, y):\n",
    "        self.x = x\n",
    "        self.y = y\n",
    "        self.k = len(x)\n",
    "        self.f = np.zeros((len(x), self.n))\n",
    "        for i in range(len(x)):\n",
    "            for j in range(self.n):\n",
    "                self.f[i,j] = self.p(x[i], j)\n",
    "        self.c = np.linalg.inv(self.f.transpose() @ self.f) @ \\\n",
    "                self.f.transpose() @ y #находим вектор коэффицентов\n",
    "        self.Dregr = sum((np.mean(y)-myRegr.predict(x[i]))**2 for i in range(len(x)))\n",
    "        self.Dres = 1/(self.k) * sum((self.predict(self.x[i])-self.y[i])**2 for i in range(self.k)) \n",
    "        \n",
    "    def predict(self, x):\n",
    "        res = 0\n",
    "        for i in range(self.n):\n",
    "            res+=self.p(x, i)*self.c[i]  \n",
    "        return res\n",
    "    \n",
    "    def proveIntervals(self, x, alpha):\n",
    "        Dres = 1/(self.k - self.n) * sum((self.predict(self.x[i])-self.y[i])**2 for i in range(self.k))\n",
    "        res = self.predict(x)\n",
    "        phi = np.array([self.p(x, i) for i in range(self.n)])\n",
    "        high = res + sts.t.ppf(1-alpha/2, df=self.k-self.n)*np.sqrt(Dres)* np.sqrt(np.dot(np.dot(phi.transpose(),\n",
    "                    np.linalg.inv(self.f.transpose() @ self.f)), phi))\n",
    "        low = res - sts.t.ppf(1-alpha/2, df=self.k-self.n)*np.sqrt(Dres)* np.sqrt(np.dot(np.dot(phi.transpose(),\n",
    "                    np.linalg.inv(self.f.transpose() @ self.f)), phi))\n",
    "        return high, low\n",
    "    \n",
    "    def proveIntervalsForCoefs(self, alpha):\n",
    "        Dres = 1/(self.k - self.n) * sum((self.predict(self.x[i])-self.y[i])**2 for i in range(self.k))\n",
    "        interv = []\n",
    "        for j in range(self.n):\n",
    "            high = self.c[j] + sts.t.ppf(1-alpha/2, df=self.k-self.n)*np.sqrt(Dres) * \\\n",
    "                   np.linalg.inv(self.f.transpose() @ self.f)[j,j]\n",
    "            low =  self.c[j]- sts.t.ppf(1-alpha/2, df=self.k-self.n)*np.sqrt(Dres) *  \\\n",
    "                   np.linalg.inv(self.f.transpose() @ self.f)[j,j]\n",
    "            interv.append((low, high))\n",
    "        return interv\n",
    "    \n",
    "    def significal(self):\n",
    "        r2 = 1 - self.Dres/np.var(self.y)\n",
    "        z = r2 / (1 - r2) * (self.k-self.n)/(self.n-1)\n",
    "        p = 1 - sts.f.cdf(z,dfn=self.n-1,dfd=self.k-self.n)\n",
    "        return z, p\n",
    "    "
   ]
  },
  {
   "cell_type": "code",
   "execution_count": 97,
   "metadata": {},
   "outputs": [
    {
     "data": {
      "text/plain": [
       "array([411.46178042,   0.47834041])"
      ]
     },
     "execution_count": 97,
     "metadata": {},
     "output_type": "execute_result"
    }
   ],
   "source": [
    "myRegr = Regression()\n",
    "myRegr.fit(x.values,y.values)\n",
    "myRegr.c"
   ]
  },
  {
   "cell_type": "code",
   "execution_count": 98,
   "metadata": {},
   "outputs": [
    {
     "data": {
      "text/plain": [
       "(array([0.47834041]), 411.4617804233374)"
      ]
     },
     "execution_count": 98,
     "metadata": {},
     "output_type": "execute_result"
    }
   ],
   "source": [
    "from sklearn.linear_model import LinearRegression as lr\n",
    "mylr = lr().fit(x.values.reshape((len(x.values),1)), y.values)\n",
    "mylr.coef_, mylr.intercept_"
   ]
  },
  {
   "cell_type": "code",
   "execution_count": 99,
   "metadata": {},
   "outputs": [
    {
     "name": "stdout",
     "output_type": "stream",
     "text": [
      "D regr 1246.0556604276062 несмещ 1337017.7236388214\n"
     ]
    }
   ],
   "source": [
    "Dregr = sum((np.mean(y)-myRegr.predict(x[i]))**2 for i in range(len(x)))\n",
    "Dregr /= len(x)\n",
    "print('D regr', Dregr,'несмещ',Dregr*len(x))"
   ]
  },
  {
   "cell_type": "code",
   "execution_count": 100,
   "metadata": {},
   "outputs": [
    {
     "name": "stdout",
     "output_type": "stream",
     "text": [
      "D остаточная 4260.423273048398  несмещ 4268.379245547088\n"
     ]
    }
   ],
   "source": [
    "Dres = myRegr.Dres\n",
    "print('D остаточная', Dres,' несмещ', Dres*len(x)/(len(x)-2))"
   ]
  },
  {
   "cell_type": "code",
   "execution_count": 101,
   "metadata": {},
   "outputs": [
    {
     "name": "stdout",
     "output_type": "stream",
     "text": [
      "Dres+Dregr 5506.478933476004\n"
     ]
    }
   ],
   "source": [
    "print('Dres+Dregr',Dres+Dregr)"
   ]
  },
  {
   "cell_type": "code",
   "execution_count": 102,
   "metadata": {},
   "outputs": [
    {
     "data": {
      "text/plain": [
       "(5506.478933476012, 5511.615574272162)"
      ]
     },
     "execution_count": 102,
     "metadata": {},
     "output_type": "execute_result"
    }
   ],
   "source": [
    "np.var(y), sts.describe(y)[3]"
   ]
  },
  {
   "cell_type": "code",
   "execution_count": 103,
   "metadata": {},
   "outputs": [
    {
     "name": "stdout",
     "output_type": "stream",
     "text": [
      "КД = 0.2262890089077349\n",
      "КО = 0.4756984432471215\n"
     ]
    }
   ],
   "source": [
    "#КО и КД\n",
    "nusquare = Dregr / (Dregr + Dres)\n",
    "print('КД =', nusquare)\n",
    "print('КО =', np.sqrt(nusquare))"
   ]
  },
  {
   "cell_type": "code",
   "execution_count": 104,
   "metadata": {},
   "outputs": [
    {
     "name": "stdout",
     "output_type": "stream",
     "text": [
      "b0 0.01  : 404.2120947609312 418.7114660857435\n",
      "b0 0.05  : 405.9490512213435 416.9745096253312\n",
      "b0 0.1  : 406.8365798877863 416.08698095888843\n"
     ]
    }
   ],
   "source": [
    "b0, b1 =myRegr.c\n",
    "b0\n",
    "for alpha in [0.01, 0.05, 0.1]:\n",
    "    low = b0 - sts.t.ppf(1-alpha/2, df=len(x)-2) * np.sqrt(sum(x**2)*Dres/(len(x)-2)/len(x)/np.var(x))\n",
    "    high = b0 + sts.t.ppf(1-alpha/2, df=len(x)-2) * np.sqrt(sum(x**2)*Dres/(len(x)-2)/len(x)/np.var(x))\n",
    "    print('b0',alpha,' :',low, high)"
   ]
  },
  {
   "cell_type": "code",
   "execution_count": 105,
   "metadata": {},
   "outputs": [
    {
     "name": "stdout",
     "output_type": "stream",
     "text": [
      "b1 0.01  : 0.4085988515031706 0.5480819776062276\n",
      "b1 0.05  : 0.4253082736964358 0.5313725554129625\n",
      "b1 0.1  : 0.433846248904345 0.5228345802050532\n"
     ]
    }
   ],
   "source": [
    "b0, b1 =myRegr.c\n",
    "b1\n",
    "for alpha in [0.01, 0.05, 0.1]:\n",
    "    low = b1 - sts.t.ppf(1-alpha/2, df=len(x)-2) * np.sqrt(Dres/(len(x)-2)/np.var(x))\n",
    "    high = b1 + sts.t.ppf(1-alpha/2, df=len(x)-2) * np.sqrt(Dres/(len(x)-2)/np.var(x))\n",
    "    print('b1',alpha,' :',low, high)"
   ]
  },
  {
   "cell_type": "code",
   "execution_count": 106,
   "metadata": {},
   "outputs": [
    {
     "name": "stdout",
     "output_type": "stream",
     "text": [
      "0.01 [(411.15002417264554, 411.7735366740292), (0.47831156360125365, 0.47836926550814457)]\n",
      "0.05 [(411.2247180364804, 411.6988428101943), (0.4783184760181928, 0.47836235309120545)]\n",
      "0.1 [(411.26288418909945, 411.66067665757527), (0.47832200804005265, 0.4783588210693456)]\n"
     ]
    }
   ],
   "source": [
    "for alpha in [0.01, 0.05, 0.1]:\n",
    "    print(alpha, myRegr.proveIntervalsForCoefs(alpha=alpha))"
   ]
  },
  {
   "cell_type": "code",
   "execution_count": 107,
   "metadata": {},
   "outputs": [
    {
     "data": {
      "text/plain": [
       "510"
      ]
     },
     "execution_count": 107,
     "metadata": {},
     "output_type": "execute_result"
    }
   ],
   "source": [
    "sorted(x)[-1]"
   ]
  },
  {
   "cell_type": "code",
   "execution_count": 108,
   "metadata": {},
   "outputs": [
    {
     "data": {
      "text/plain": [
       "<matplotlib.collections.PathCollection at 0x27e467d1d68>"
      ]
     },
     "execution_count": 108,
     "metadata": {},
     "output_type": "execute_result"
    },
    {
     "data": {
      "image/png": "[encoded data removed]",
      "text/plain": [
       "<Figure size 432x288 with 1 Axes>"
      ]
     },
     "metadata": {
      "needs_background": "light"
     },
     "output_type": "display_data"
    }
   ],
   "source": [
    "\n",
    "plt.plot(x, myRegr.predict(x), color='y', label='Функция регрессии')\n",
    "x_axis = np.arange(6,511)\n",
    "high = []\n",
    "low = []\n",
    "for x1 in x_axis:\n",
    "    high.append(myRegr.proveIntervals(x1, 0.1)[0])\n",
    "    low.append(myRegr.proveIntervals(x1, 0.1)[1])\n",
    "plt.plot(x_axis, high, color='r', label='Границы функции регрессии', linestyle='--')\n",
    "plt.plot(x_axis, low, color='r', linestyle='--')\n",
    "plt.legend()\n",
    "plt.scatter(x,y)"
   ]
  },
  {
   "cell_type": "code",
   "execution_count": 109,
   "metadata": {
    "scrolled": true
   },
   "outputs": [
    {
     "data": {
      "text/plain": [
       "Text(0.5,1,'График остатков')"
      ]
     },
     "execution_count": 109,
     "metadata": {},
     "output_type": "execute_result"
    },
    {
     "data": {
      "image/png": "[encoded data removed]",
      "text/plain": [
       "<Figure size 432x288 with 1 Axes>"
      ]
     },
     "metadata": {
      "needs_background": "light"
     },
     "output_type": "display_data"
    }
   ],
   "source": [
    "x_axis = np.arange(6,511)\n",
    "plt.scatter(x, y-myRegr.predict(x))\n",
    "plt.title('График остатков')"
   ]
  },
  {
   "cell_type": "markdown",
   "metadata": {},
   "source": [
    "Проверка значимости линейной регрессионной модели"
   ]
  },
  {
   "cell_type": "code",
   "execution_count": 110,
   "metadata": {},
   "outputs": [
    {
     "data": {
      "text/plain": [
       "(313.23779981210583, 1.1102230246251565e-16)"
      ]
     },
     "execution_count": 110,
     "metadata": {},
     "output_type": "execute_result"
    }
   ],
   "source": [
    "myRegr.significal()"
   ]
  },
  {
   "cell_type": "markdown",
   "metadata": {},
   "source": [
    "9.2 Линейная регрессионная модель общего вида"
   ]
  },
  {
   "cell_type": "code",
   "execution_count": 111,
   "metadata": {},
   "outputs": [
    {
     "data": {
      "text/html": [
       "<div>\n",
       "<style scoped>\n",
       "    .dataframe tbody tr th:only-of-type {\n",
       "        vertical-align: middle;\n",
       "    }\n",
       "\n",
       "    .dataframe tbody tr th {\n",
       "        vertical-align: top;\n",
       "    }\n",
       "\n",
       "    .dataframe thead th {\n",
       "        text-align: right;\n",
       "    }\n",
       "</style>\n",
       "<table border=\"1\" class=\"dataframe\">\n",
       "  <thead>\n",
       "    <tr style=\"text-align: right;\">\n",
       "      <th></th>\n",
       "      <th>№ задания\n",
       "Вариант</th>\n",
       "      <th>1.1</th>\n",
       "      <th>1.2</th>\n",
       "      <th>2.1, 3.1</th>\n",
       "      <th>2.2, 3.2</th>\n",
       "      <th>2.3, 3.3</th>\n",
       "      <th>2.4, 3.4</th>\n",
       "      <th>4</th>\n",
       "      <th>5</th>\n",
       "      <th>6</th>\n",
       "      <th>7</th>\n",
       "      <th>8.1</th>\n",
       "      <th>8.2</th>\n",
       "      <th>9.1</th>\n",
       "      <th>9.2</th>\n",
       "      <th>9.3</th>\n",
       "    </tr>\n",
       "  </thead>\n",
       "  <tbody>\n",
       "    <tr>\n",
       "      <th>8</th>\n",
       "      <td>9</td>\n",
       "      <td>A5 A7 A8</td>\n",
       "      <td>A7</td>\n",
       "      <td>A7</td>\n",
       "      <td>A7</td>\n",
       "      <td>A7 A8</td>\n",
       "      <td>A7 A8</td>\n",
       "      <td>A7</td>\n",
       "      <td>A7 A8</td>\n",
       "      <td>A4 A20</td>\n",
       "      <td>A4 A7</td>\n",
       "      <td>A7 A8</td>\n",
       "      <td>A5 A7 A8</td>\n",
       "      <td>A17 A12</td>\n",
       "      <td>A17 A12</td>\n",
       "      <td>A17 A7 A12</td>\n",
       "    </tr>\n",
       "  </tbody>\n",
       "</table>\n",
       "</div>"
      ],
      "text/plain": [
       "                  № задания\\nВариант       1.1 1.2 2.1, 3.1 2.2, 3.2 2.3, 3.3  \\\n",
       "8                                  9  A5 A7 A8  A7       A7       A7    A7 A8   \n",
       "\n",
       "  2.4, 3.4   4      5       6      7    8.1       8.2      9.1      9.2  \\\n",
       "8    A7 A8  A7  A7 A8  A4 A20  A4 A7  A7 A8  A5 A7 A8  A17 A12  A17 A12   \n",
       "\n",
       "          9.3  \n",
       "8  A17 A7 A12  "
      ]
     },
     "execution_count": 111,
     "metadata": {},
     "output_type": "execute_result"
    }
   ],
   "source": [
    "task"
   ]
  },
  {
   "cell_type": "code",
   "execution_count": 112,
   "metadata": {},
   "outputs": [
    {
     "data": {
      "text/plain": [
       "array([ 3.89183259e+02,  1.07249549e+00, -1.96381480e-03])"
      ]
     },
     "execution_count": 112,
     "metadata": {},
     "output_type": "execute_result"
    }
   ],
   "source": [
    "myRegr2 = Regression(2)\n",
    "myRegr2.fit(x.values,y.values)\n",
    "myRegr2.c"
   ]
  },
  {
   "cell_type": "code",
   "execution_count": 113,
   "metadata": {},
   "outputs": [
    {
     "data": {
      "text/plain": [
       "array([ 3.89183259e+02,  1.07249549e+00, -1.96381480e-03])"
      ]
     },
     "execution_count": 113,
     "metadata": {},
     "output_type": "execute_result"
    }
   ],
   "source": [
    "mylr2 = np.polynomial.polynomial.polyfit(x.values, y.values, deg=2)\n",
    "mylr2"
   ]
  },
  {
   "cell_type": "code",
   "execution_count": 114,
   "metadata": {},
   "outputs": [
    {
     "name": "stdout",
     "output_type": "stream",
     "text": [
      "D regr2 1599.0702136745454 несмещ 857901.1696363935\n"
     ]
    }
   ],
   "source": [
    "Dregr2 = sum((np.mean(y)-myRegr2.predict(x[i]))**2 for i in range(len(x)))\n",
    "Dregr2 /= len(x)\n",
    "print('D regr2', Dregr2,'несмещ',Dregr2*len(x)/2)"
   ]
  },
  {
   "cell_type": "code",
   "execution_count": 115,
   "metadata": {},
   "outputs": [
    {
     "name": "stdout",
     "output_type": "stream",
     "text": [
      "D остаточная 3907.408719801455 несмещ 3918.3640713523005\n"
     ]
    }
   ],
   "source": [
    "Dres2 = myRegr2.Dres\n",
    "print('D остаточная',Dres2,'несмещ', Dres2*len(x)/(len(x)-3))"
   ]
  },
  {
   "cell_type": "code",
   "execution_count": 116,
   "metadata": {},
   "outputs": [
    {
     "name": "stdout",
     "output_type": "stream",
     "text": [
      "Dregr2 + Dres2 = 5506.478933476001\n"
     ]
    }
   ],
   "source": [
    "print('Dregr2 + Dres2 =',Dregr2+Dres2)"
   ]
  },
  {
   "cell_type": "code",
   "execution_count": 117,
   "metadata": {},
   "outputs": [
    {
     "data": {
      "text/plain": [
       "(5506.478933476012, 5511.615574272162)"
      ]
     },
     "execution_count": 117,
     "metadata": {},
     "output_type": "execute_result"
    }
   ],
   "source": [
    "np.var(y), sts.describe(y)[3]"
   ]
  },
  {
   "cell_type": "code",
   "execution_count": 118,
   "metadata": {},
   "outputs": [
    {
     "name": "stdout",
     "output_type": "stream",
     "text": [
      "КД = 0.2903979535730507\n",
      "КО = 0.5388858446582641\n"
     ]
    }
   ],
   "source": [
    "#КО и КД\n",
    "nusquare2 = Dregr2 / (Dregr2 + Dres2)\n",
    "print('КД =', nusquare2)\n",
    "print('КО =', np.sqrt(nusquare2))"
   ]
  },
  {
   "cell_type": "code",
   "execution_count": 119,
   "metadata": {
    "scrolled": true
   },
   "outputs": [
    {
     "data": {
      "text/plain": [
       "<matplotlib.collections.PathCollection at 0x27e45ff4048>"
      ]
     },
     "execution_count": 119,
     "metadata": {},
     "output_type": "execute_result"
    },
    {
     "data": {
      "image/png": "[encoded data removed]",
      "text/plain": [
       "<Figure size 432x288 with 1 Axes>"
      ]
     },
     "metadata": {
      "needs_background": "light"
     },
     "output_type": "display_data"
    }
   ],
   "source": [
    "x_axis = np.arange(6,511)\n",
    "plt.plot(x_axis, myRegr2.predict(x_axis), color = 'g', label='Функция регрессии')\n",
    "high = []\n",
    "low = []\n",
    "for x1 in x_axis:\n",
    "    high.append(myRegr2.proveIntervals(x1, 0.1)[0])\n",
    "    low.append(myRegr2.proveIntervals(x1, 0.1)[1])\n",
    "plt.plot(x_axis, high, color='r', label='Границы функции регрессии', linestyle='--')\n",
    "plt.plot(x_axis, low, color='r',linestyle='--')\n",
    "plt.legend()\n",
    "plt.scatter(x,y)"
   ]
  },
  {
   "cell_type": "code",
   "execution_count": 136,
   "metadata": {},
   "outputs": [
    {
     "data": {
      "text/plain": [
       "Text(0.5,1,'График остатков')"
      ]
     },
     "execution_count": 136,
     "metadata": {},
     "output_type": "execute_result"
    },
    {
     "data": {
      "image/png": "[encoded data removed]",
      "text/plain": [
       "<Figure size 432x288 with 1 Axes>"
      ]
     },
     "metadata": {
      "needs_background": "light"
     },
     "output_type": "display_data"
    }
   ],
   "source": [
    "plt.scatter(x, y-myRegr2.predict(x))\n",
    "plt.title('График остатков')"
   ]
  },
  {
   "cell_type": "code",
   "execution_count": 121,
   "metadata": {},
   "outputs": [
    {
     "data": {
      "text/plain": [
       "(218.9437106951424, 1.1102230246251565e-16)"
      ]
     },
     "execution_count": 121,
     "metadata": {},
     "output_type": "execute_result"
    }
   ],
   "source": [
    "myRegr2.significal()"
   ]
  },
  {
   "cell_type": "markdown",
   "metadata": {},
   "source": [
    "9.3 Множественная линейная регрессионная модель"
   ]
  },
  {
   "cell_type": "code",
   "execution_count": 122,
   "metadata": {},
   "outputs": [
    {
     "data": {
      "text/html": [
       "<div>\n",
       "<style scoped>\n",
       "    .dataframe tbody tr th:only-of-type {\n",
       "        vertical-align: middle;\n",
       "    }\n",
       "\n",
       "    .dataframe tbody tr th {\n",
       "        vertical-align: top;\n",
       "    }\n",
       "\n",
       "    .dataframe thead th {\n",
       "        text-align: right;\n",
       "    }\n",
       "</style>\n",
       "<table border=\"1\" class=\"dataframe\">\n",
       "  <thead>\n",
       "    <tr style=\"text-align: right;\">\n",
       "      <th></th>\n",
       "      <th>№ задания\n",
       "Вариант</th>\n",
       "      <th>1.1</th>\n",
       "      <th>1.2</th>\n",
       "      <th>2.1, 3.1</th>\n",
       "      <th>2.2, 3.2</th>\n",
       "      <th>2.3, 3.3</th>\n",
       "      <th>2.4, 3.4</th>\n",
       "      <th>4</th>\n",
       "      <th>5</th>\n",
       "      <th>6</th>\n",
       "      <th>7</th>\n",
       "      <th>8.1</th>\n",
       "      <th>8.2</th>\n",
       "      <th>9.1</th>\n",
       "      <th>9.2</th>\n",
       "      <th>9.3</th>\n",
       "    </tr>\n",
       "  </thead>\n",
       "  <tbody>\n",
       "    <tr>\n",
       "      <th>8</th>\n",
       "      <td>9</td>\n",
       "      <td>A5 A7 A8</td>\n",
       "      <td>A7</td>\n",
       "      <td>A7</td>\n",
       "      <td>A7</td>\n",
       "      <td>A7 A8</td>\n",
       "      <td>A7 A8</td>\n",
       "      <td>A7</td>\n",
       "      <td>A7 A8</td>\n",
       "      <td>A4 A20</td>\n",
       "      <td>A4 A7</td>\n",
       "      <td>A7 A8</td>\n",
       "      <td>A5 A7 A8</td>\n",
       "      <td>A17 A12</td>\n",
       "      <td>A17 A12</td>\n",
       "      <td>A17 A7 A12</td>\n",
       "    </tr>\n",
       "  </tbody>\n",
       "</table>\n",
       "</div>"
      ],
      "text/plain": [
       "                  № задания\\nВариант       1.1 1.2 2.1, 3.1 2.2, 3.2 2.3, 3.3  \\\n",
       "8                                  9  A5 A7 A8  A7       A7       A7    A7 A8   \n",
       "\n",
       "  2.4, 3.4   4      5       6      7    8.1       8.2      9.1      9.2  \\\n",
       "8    A7 A8  A7  A7 A8  A4 A20  A4 A7  A7 A8  A5 A7 A8  A17 A12  A17 A12   \n",
       "\n",
       "          9.3  \n",
       "8  A17 A7 A12  "
      ]
     },
     "execution_count": 122,
     "metadata": {},
     "output_type": "execute_result"
    }
   ],
   "source": [
    "task"
   ]
  },
  {
   "cell_type": "code",
   "execution_count": 123,
   "metadata": {},
   "outputs": [],
   "source": [
    "x = DF['A17']\n",
    "y = DF['A7']\n",
    "z = DF['A12']"
   ]
  },
  {
   "cell_type": "code",
   "execution_count": 124,
   "metadata": {},
   "outputs": [
    {
     "data": {
      "text/plain": [
       "(array([-0.00987467,  1.34588459]), -30.70342314734586)"
      ]
     },
     "execution_count": 124,
     "metadata": {},
     "output_type": "execute_result"
    }
   ],
   "source": [
    "mylr3 = lr().fit(np.array((x.values, y.values)).transpose(),z.values)\n",
    "mylr3.coef_, mylr3.intercept_"
   ]
  },
  {
   "cell_type": "code",
   "execution_count": 125,
   "metadata": {},
   "outputs": [],
   "source": [
    "from mpl_toolkits.mplot3d import Axes3D"
   ]
  },
  {
   "cell_type": "code",
   "execution_count": 126,
   "metadata": {
    "scrolled": true
   },
   "outputs": [
    {
     "data": {
      "text/plain": [
       "DescribeResult(nobs=1073, minmax=(199, 576), mean=355.08853681267476, variance=2904.289728547384, skewness=0.44737126211025235, kurtosis=0.4319131904766307)"
      ]
     },
     "execution_count": 126,
     "metadata": {},
     "output_type": "execute_result"
    }
   ],
   "source": [
    "sts.describe(y)"
   ]
  },
  {
   "cell_type": "code",
   "execution_count": 127,
   "metadata": {},
   "outputs": [
    {
     "data": {
      "text/plain": [
       "<mpl_toolkits.mplot3d.art3d.Path3DCollection at 0x27e478e3da0>"
      ]
     },
     "execution_count": 127,
     "metadata": {},
     "output_type": "execute_result"
    },
    {
     "data": {
      "image/png": "[encoded data removed]",
      "text/plain": [
       "<Figure size 432x288 with 1 Axes>"
      ]
     },
     "metadata": {
      "needs_background": "light"
     },
     "output_type": "display_data"
    }
   ],
   "source": [
    "fig = plt.figure()\n",
    "ax = plt.axes(projection=\"3d\")\n",
    "ax.scatter3D(x.values, y.values, z.values)\n",
    "ax.scatter3D(x.values, y.values, mylr3.predict(np.array((x.values, y.values)).transpose()), color='r')"
   ]
  },
  {
   "cell_type": "code",
   "execution_count": 128,
   "metadata": {},
   "outputs": [
    {
     "name": "stdout",
     "output_type": "stream",
     "text": [
      "D regr3 5203.965772591322 несмещ 2791927.6369952443\n"
     ]
    }
   ],
   "source": [
    "Dregr3 = sum((np.mean(z)-mylr3.predict(np.array((x.values, y.values)).transpose()))**2)\n",
    "Dregr3 /= len(x)\n",
    "print('D regr3', Dregr3,'несмещ', Dregr3*len(x)/2)"
   ]
  },
  {
   "cell_type": "code",
   "execution_count": 129,
   "metadata": {},
   "outputs": [
    {
     "name": "stdout",
     "output_type": "stream",
     "text": [
      "D остаточная 302.5131608846922 несмещ 303.3613286254904\n"
     ]
    }
   ],
   "source": [
    "Dres3 = sum((mylr3.predict(np.array((x.values, y.values)).transpose())-z)**2)\n",
    "Dres3 /= len(x)\n",
    "print('D остаточная', Dres3,'несмещ', Dres3*len(x)/(len(x)-3))"
   ]
  },
  {
   "cell_type": "code",
   "execution_count": 130,
   "metadata": {},
   "outputs": [
    {
     "name": "stdout",
     "output_type": "stream",
     "text": [
      "Dregr3 + Dres3 = 5506.478933476014\n"
     ]
    }
   ],
   "source": [
    "print('Dregr3 + Dres3 =',Dregr3+Dres3)"
   ]
  },
  {
   "cell_type": "code",
   "execution_count": 131,
   "metadata": {},
   "outputs": [
    {
     "data": {
      "text/plain": [
       "(5506.478933476012, 5511.615574272162)"
      ]
     },
     "execution_count": 131,
     "metadata": {},
     "output_type": "execute_result"
    }
   ],
   "source": [
    "np.var(z), sts.describe(z)[3]"
   ]
  },
  {
   "cell_type": "code",
   "execution_count": 132,
   "metadata": {},
   "outputs": [
    {
     "name": "stdout",
     "output_type": "stream",
     "text": [
      "МКД = 0.9450623230308577\n",
      "МКО = 0.972143159740816\n"
     ]
    }
   ],
   "source": [
    "#КО и КД\n",
    "nusquare3 = Dregr3 / (Dregr3 + Dres3)\n",
    "print('МКД =', nusquare3)\n",
    "print('МКО =', np.sqrt(nusquare3))"
   ]
  },
  {
   "cell_type": "code",
   "execution_count": 133,
   "metadata": {},
   "outputs": [
    {
     "data": {
      "text/plain": [
       "302.5131608846922"
      ]
     },
     "execution_count": 133,
     "metadata": {},
     "output_type": "execute_result"
    }
   ],
   "source": [
    "sum((mylr3.predict(np.array((x.values, y.values)).transpose())-z)**2)/len(x) #SSE"
   ]
  },
  {
   "cell_type": "code",
   "execution_count": 134,
   "metadata": {},
   "outputs": [
    {
     "name": "stdout",
     "output_type": "stream",
     "text": [
      "456.4179265989582 471\n",
      "549.5535085515392 572\n",
      "411.89511370189894 442\n",
      "525.4954553666207 557\n",
      "385.5135832683439 376\n",
      "386.17518638033187 383\n",
      "441.4058279625088 427\n",
      "469.6851370789841 451\n",
      "402.40479885433365 404\n",
      "451.81741644822887 445\n"
     ]
    }
   ],
   "source": [
    "for i in range(10):\n",
    "    print(mylr3.predict(np.array((x.values, y.values)).transpose())[i], z[i])"
   ]
  },
  {
   "cell_type": "code",
   "execution_count": null,
   "metadata": {},
   "outputs": [],
   "source": []
  }
 ],
 "metadata": {
  "kernelspec": {
   "display_name": "Python 3",
   "language": "python",
   "name": "python3"
  },
  "language_info": {
   "codemirror_mode": {
    "name": "ipython",
    "version": 3
   },
   "file_extension": ".py",
   "mimetype": "text/x-python",
   "name": "python",
   "nbconvert_exporter": "python",
   "pygments_lexer": "ipython3",
   "version": "3.7.0"
  }
 },
 "nbformat": 4,
 "nbformat_minor": 2
}
