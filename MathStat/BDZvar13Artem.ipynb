{
 "cells": [
  {
   "cell_type": "code",
   "execution_count": 169,
   "metadata": {},
   "outputs": [],
   "source": [
    "import pandas as pd\n",
    "import numpy as np\n",
    "import scipy.stats as sts\n",
    "import matplotlib.pyplot as plt\n",
    "import statsmodels.distributions.empirical_distribution as distr\n",
    "import seaborn as sns\n",
    "from statsmodels.stats.descriptivestats import sign_test\n",
    "plt.style.use('ggplot')"
   ]
  },
  {
   "cell_type": "code",
   "execution_count": 170,
   "metadata": {},
   "outputs": [],
   "source": [
    "DF = pd.read_excel(r'C:\\Users\\Админ\\Python\\бдз\\Задание к бдз\\data_matstat_K5.xls', sheet_name=1)"
   ]
  },
  {
   "cell_type": "code",
   "execution_count": 171,
   "metadata": {
    "scrolled": true
   },
   "outputs": [
    {
     "data": {
      "text/html": [
       "<div>\n",
       "<style scoped>\n",
       "    .dataframe tbody tr th:only-of-type {\n",
       "        vertical-align: middle;\n",
       "    }\n",
       "\n",
       "    .dataframe tbody tr th {\n",
       "        vertical-align: top;\n",
       "    }\n",
       "\n",
       "    .dataframe thead th {\n",
       "        text-align: right;\n",
       "    }\n",
       "</style>\n",
       "<table border=\"1\" class=\"dataframe\">\n",
       "  <thead>\n",
       "    <tr style=\"text-align: right;\">\n",
       "      <th></th>\n",
       "      <th>A1</th>\n",
       "      <th>A2</th>\n",
       "      <th>A3</th>\n",
       "      <th>A4</th>\n",
       "      <th>A5</th>\n",
       "      <th>A6</th>\n",
       "      <th>A7</th>\n",
       "      <th>A8</th>\n",
       "      <th>A9</th>\n",
       "      <th>A10</th>\n",
       "      <th>A11</th>\n",
       "      <th>A12</th>\n",
       "      <th>A13</th>\n",
       "      <th>A14</th>\n",
       "      <th>A15</th>\n",
       "      <th>A16</th>\n",
       "      <th>A17</th>\n",
       "      <th>A18</th>\n",
       "      <th>A19</th>\n",
       "      <th>A20</th>\n",
       "    </tr>\n",
       "  </thead>\n",
       "  <tbody>\n",
       "    <tr>\n",
       "      <th>0</th>\n",
       "      <td>1061</td>\n",
       "      <td>Alaska Pacific University</td>\n",
       "      <td>AK</td>\n",
       "      <td>IIB</td>\n",
       "      <td>454</td>\n",
       "      <td>382</td>\n",
       "      <td>362</td>\n",
       "      <td>382</td>\n",
       "      <td>N</td>\n",
       "      <td>567</td>\n",
       "      <td>485</td>\n",
       "      <td>471</td>\n",
       "      <td>487</td>\n",
       "      <td>N</td>\n",
       "      <td>6</td>\n",
       "      <td>11</td>\n",
       "      <td>9</td>\n",
       "      <td>4</td>\n",
       "      <td>32</td>\n",
       "      <td>N</td>\n",
       "    </tr>\n",
       "    <tr>\n",
       "      <th>1</th>\n",
       "      <td>1063</td>\n",
       "      <td>Univ.Alaska-Fairbanks</td>\n",
       "      <td>AK</td>\n",
       "      <td>I</td>\n",
       "      <td>686</td>\n",
       "      <td>560</td>\n",
       "      <td>432</td>\n",
       "      <td>508</td>\n",
       "      <td>Y</td>\n",
       "      <td>914</td>\n",
       "      <td>753</td>\n",
       "      <td>572</td>\n",
       "      <td>677</td>\n",
       "      <td>Y</td>\n",
       "      <td>74</td>\n",
       "      <td>125</td>\n",
       "      <td>118</td>\n",
       "      <td>40</td>\n",
       "      <td>404</td>\n",
       "      <td>Y</td>\n",
       "    </tr>\n",
       "    <tr>\n",
       "      <th>2</th>\n",
       "      <td>1065</td>\n",
       "      <td>Univ.Alaska-Southeast</td>\n",
       "      <td>AK</td>\n",
       "      <td>IIA</td>\n",
       "      <td>533</td>\n",
       "      <td>494</td>\n",
       "      <td>329</td>\n",
       "      <td>415</td>\n",
       "      <td>N</td>\n",
       "      <td>716</td>\n",
       "      <td>663</td>\n",
       "      <td>442</td>\n",
       "      <td>559</td>\n",
       "      <td>Y</td>\n",
       "      <td>9</td>\n",
       "      <td>26</td>\n",
       "      <td>20</td>\n",
       "      <td>9</td>\n",
       "      <td>70</td>\n",
       "      <td>N</td>\n",
       "    </tr>\n",
       "    <tr>\n",
       "      <th>3</th>\n",
       "      <td>11462</td>\n",
       "      <td>Univ.Alaska-Anchorage</td>\n",
       "      <td>AK</td>\n",
       "      <td>IIA</td>\n",
       "      <td>612</td>\n",
       "      <td>507</td>\n",
       "      <td>414</td>\n",
       "      <td>498</td>\n",
       "      <td>Y</td>\n",
       "      <td>825</td>\n",
       "      <td>681</td>\n",
       "      <td>557</td>\n",
       "      <td>670</td>\n",
       "      <td>Y</td>\n",
       "      <td>115</td>\n",
       "      <td>124</td>\n",
       "      <td>101</td>\n",
       "      <td>21</td>\n",
       "      <td>392</td>\n",
       "      <td>Y</td>\n",
       "    </tr>\n",
       "    <tr>\n",
       "      <th>4</th>\n",
       "      <td>1002</td>\n",
       "      <td>Alabama Agri.&amp;Mech. Univ.</td>\n",
       "      <td>AL</td>\n",
       "      <td>IIA</td>\n",
       "      <td>442</td>\n",
       "      <td>369</td>\n",
       "      <td>310</td>\n",
       "      <td>350</td>\n",
       "      <td>N</td>\n",
       "      <td>530</td>\n",
       "      <td>444</td>\n",
       "      <td>376</td>\n",
       "      <td>423</td>\n",
       "      <td>N</td>\n",
       "      <td>59</td>\n",
       "      <td>77</td>\n",
       "      <td>102</td>\n",
       "      <td>24</td>\n",
       "      <td>262</td>\n",
       "      <td>N</td>\n",
       "    </tr>\n",
       "  </tbody>\n",
       "</table>\n",
       "</div>"
      ],
      "text/plain": [
       "      A1                         A2  A3   A4   A5   A6   A7   A8 A9  A10  A11  \\\n",
       "0   1061  Alaska Pacific University  AK  IIB  454  382  362  382  N  567  485   \n",
       "1   1063      Univ.Alaska-Fairbanks  AK    I  686  560  432  508  Y  914  753   \n",
       "2   1065      Univ.Alaska-Southeast  AK  IIA  533  494  329  415  N  716  663   \n",
       "3  11462      Univ.Alaska-Anchorage  AK  IIA  612  507  414  498  Y  825  681   \n",
       "4   1002  Alabama Agri.&Mech. Univ.  AL  IIA  442  369  310  350  N  530  444   \n",
       "\n",
       "   A12  A13 A14  A15  A16  A17  A18  A19 A20  \n",
       "0  471  487   N    6   11    9    4   32   N  \n",
       "1  572  677   Y   74  125  118   40  404   Y  \n",
       "2  442  559   Y    9   26   20    9   70   N  \n",
       "3  557  670   Y  115  124  101   21  392   Y  \n",
       "4  376  423   N   59   77  102   24  262   N  "
      ]
     },
     "execution_count": 171,
     "metadata": {},
     "output_type": "execute_result"
    }
   ],
   "source": [
    "DF.head()"
   ]
  },
  {
   "cell_type": "code",
   "execution_count": 172,
   "metadata": {
    "scrolled": true
   },
   "outputs": [
    {
     "data": {
      "text/html": [
       "<div>\n",
       "<style scoped>\n",
       "    .dataframe tbody tr th:only-of-type {\n",
       "        vertical-align: middle;\n",
       "    }\n",
       "\n",
       "    .dataframe tbody tr th {\n",
       "        vertical-align: top;\n",
       "    }\n",
       "\n",
       "    .dataframe thead th {\n",
       "        text-align: right;\n",
       "    }\n",
       "</style>\n",
       "<table border=\"1\" class=\"dataframe\">\n",
       "  <thead>\n",
       "    <tr style=\"text-align: right;\">\n",
       "      <th></th>\n",
       "      <th>№ задания\n",
       "Вариант</th>\n",
       "      <th>1.1</th>\n",
       "      <th>1.2</th>\n",
       "      <th>2.1, 3.1</th>\n",
       "      <th>2.2, 3.2</th>\n",
       "      <th>2.3, 3.3</th>\n",
       "      <th>2.4, 3.4</th>\n",
       "      <th>4</th>\n",
       "      <th>5</th>\n",
       "      <th>6</th>\n",
       "      <th>7</th>\n",
       "      <th>8.1</th>\n",
       "      <th>8.2</th>\n",
       "      <th>9.1</th>\n",
       "      <th>9.2</th>\n",
       "      <th>9.3</th>\n",
       "    </tr>\n",
       "  </thead>\n",
       "  <tbody>\n",
       "    <tr>\n",
       "      <th>0</th>\n",
       "      <td>1</td>\n",
       "      <td>A5 A6 A7</td>\n",
       "      <td>A5</td>\n",
       "      <td>A5</td>\n",
       "      <td>A5</td>\n",
       "      <td>A5 A6</td>\n",
       "      <td>A5 A6</td>\n",
       "      <td>A5</td>\n",
       "      <td>A5 A6</td>\n",
       "      <td>A4 A9</td>\n",
       "      <td>A4 A5</td>\n",
       "      <td>A5 A6</td>\n",
       "      <td>A5 A6 A7</td>\n",
       "      <td>A15 A10</td>\n",
       "      <td>A15 A10</td>\n",
       "      <td>A15 A5 A10</td>\n",
       "    </tr>\n",
       "    <tr>\n",
       "      <th>1</th>\n",
       "      <td>2</td>\n",
       "      <td>B7 B8 B9</td>\n",
       "      <td>B7</td>\n",
       "      <td>B7</td>\n",
       "      <td>B7</td>\n",
       "      <td>B11 B12</td>\n",
       "      <td>B11 B12</td>\n",
       "      <td>B7</td>\n",
       "      <td>B11 B12</td>\n",
       "      <td>B3 B5</td>\n",
       "      <td>B6 B1</td>\n",
       "      <td>B11 B12</td>\n",
       "      <td>B7 B8 B9</td>\n",
       "      <td>B1 B2</td>\n",
       "      <td>B1 B2</td>\n",
       "      <td>B1 B4 B2</td>\n",
       "    </tr>\n",
       "    <tr>\n",
       "      <th>2</th>\n",
       "      <td>3</td>\n",
       "      <td>C6 C7 C8</td>\n",
       "      <td>C6</td>\n",
       "      <td>C6</td>\n",
       "      <td>C6</td>\n",
       "      <td>C13 C14</td>\n",
       "      <td>C13 C14</td>\n",
       "      <td>C6</td>\n",
       "      <td>C13 C14</td>\n",
       "      <td>С2 С3</td>\n",
       "      <td>С3 С4</td>\n",
       "      <td>C13 C14</td>\n",
       "      <td>C6 C7 C8</td>\n",
       "      <td>С6 С13</td>\n",
       "      <td>С6 С13</td>\n",
       "      <td>С6 С4 С13</td>\n",
       "    </tr>\n",
       "    <tr>\n",
       "      <th>3</th>\n",
       "      <td>4</td>\n",
       "      <td>D1 D5 D6</td>\n",
       "      <td>D1</td>\n",
       "      <td>D1</td>\n",
       "      <td>D1</td>\n",
       "      <td>D1 D2</td>\n",
       "      <td>D1 D2</td>\n",
       "      <td>D1</td>\n",
       "      <td>D1 D2</td>\n",
       "      <td>D7 D8</td>\n",
       "      <td>D7 D1</td>\n",
       "      <td>D1 D2</td>\n",
       "      <td>D1 D2 D3</td>\n",
       "      <td>D4 D1</td>\n",
       "      <td>D4 D1</td>\n",
       "      <td>D4 D6 D1</td>\n",
       "    </tr>\n",
       "    <tr>\n",
       "      <th>4</th>\n",
       "      <td>5</td>\n",
       "      <td>A6 A7 A8</td>\n",
       "      <td>A6</td>\n",
       "      <td>A6</td>\n",
       "      <td>A6</td>\n",
       "      <td>A6 A7</td>\n",
       "      <td>A6 A7</td>\n",
       "      <td>A6</td>\n",
       "      <td>A6 A7</td>\n",
       "      <td>A4 A14</td>\n",
       "      <td>A4 A6</td>\n",
       "      <td>A6 A7</td>\n",
       "      <td>A6 A7 A8</td>\n",
       "      <td>A16 A11</td>\n",
       "      <td>A16 A11</td>\n",
       "      <td>A16 A6 A11</td>\n",
       "    </tr>\n",
       "    <tr>\n",
       "      <th>5</th>\n",
       "      <td>6</td>\n",
       "      <td>B10 B11 B12</td>\n",
       "      <td>B10</td>\n",
       "      <td>B10</td>\n",
       "      <td>B10</td>\n",
       "      <td>B10 B11</td>\n",
       "      <td>B10 B11</td>\n",
       "      <td>B10</td>\n",
       "      <td>B10 B11</td>\n",
       "      <td>B3 B6</td>\n",
       "      <td>B6 B2</td>\n",
       "      <td>B10 B11</td>\n",
       "      <td>B10 B11 B12</td>\n",
       "      <td>B7 B2</td>\n",
       "      <td>B7 B2</td>\n",
       "      <td>B7 B4 B2</td>\n",
       "    </tr>\n",
       "    <tr>\n",
       "      <th>6</th>\n",
       "      <td>7</td>\n",
       "      <td>C9 C10 C11</td>\n",
       "      <td>C9</td>\n",
       "      <td>C9</td>\n",
       "      <td>C9</td>\n",
       "      <td>C11 C12</td>\n",
       "      <td>C11 C12</td>\n",
       "      <td>C9</td>\n",
       "      <td>C11 C12</td>\n",
       "      <td>С2 С5</td>\n",
       "      <td>С5 С4</td>\n",
       "      <td>C11 C12</td>\n",
       "      <td>C9 C10 C11</td>\n",
       "      <td>С11 С13</td>\n",
       "      <td>С11 С13</td>\n",
       "      <td>С11 С4 С13</td>\n",
       "    </tr>\n",
       "    <tr>\n",
       "      <th>7</th>\n",
       "      <td>8</td>\n",
       "      <td>D2 D9 D10</td>\n",
       "      <td>D2</td>\n",
       "      <td>D2</td>\n",
       "      <td>D2</td>\n",
       "      <td>D1 D3</td>\n",
       "      <td>D1 D3</td>\n",
       "      <td>D2</td>\n",
       "      <td>D1 D3</td>\n",
       "      <td>D7 D12</td>\n",
       "      <td>D7 D2</td>\n",
       "      <td>D1 D5</td>\n",
       "      <td>D1 D5 D6</td>\n",
       "      <td>D5 D1</td>\n",
       "      <td>D5 D1</td>\n",
       "      <td>D5 D6 D1</td>\n",
       "    </tr>\n",
       "    <tr>\n",
       "      <th>8</th>\n",
       "      <td>9</td>\n",
       "      <td>A5 A7 A8</td>\n",
       "      <td>A7</td>\n",
       "      <td>A7</td>\n",
       "      <td>A7</td>\n",
       "      <td>A7 A8</td>\n",
       "      <td>A7 A8</td>\n",
       "      <td>A7</td>\n",
       "      <td>A7 A8</td>\n",
       "      <td>A4 A20</td>\n",
       "      <td>A4 A7</td>\n",
       "      <td>A7 A8</td>\n",
       "      <td>A5 A7 A8</td>\n",
       "      <td>A17 A12</td>\n",
       "      <td>A17 A12</td>\n",
       "      <td>A17 A7 A12</td>\n",
       "    </tr>\n",
       "    <tr>\n",
       "      <th>9</th>\n",
       "      <td>10</td>\n",
       "      <td>B13 B14 B15</td>\n",
       "      <td>B13</td>\n",
       "      <td>B13</td>\n",
       "      <td>B13</td>\n",
       "      <td>B13 B14</td>\n",
       "      <td>B13 B14</td>\n",
       "      <td>B13</td>\n",
       "      <td>B13 B14</td>\n",
       "      <td>B5 B6</td>\n",
       "      <td>B3 B13</td>\n",
       "      <td>B13 B14</td>\n",
       "      <td>B13 B14 B15</td>\n",
       "      <td>B8 B2</td>\n",
       "      <td>B8 B2</td>\n",
       "      <td>B8 B4 B2</td>\n",
       "    </tr>\n",
       "    <tr>\n",
       "      <th>10</th>\n",
       "      <td>11</td>\n",
       "      <td>C12 C13 C14</td>\n",
       "      <td>C12</td>\n",
       "      <td>C12</td>\n",
       "      <td>C12</td>\n",
       "      <td>C7 C8</td>\n",
       "      <td>C7 C8</td>\n",
       "      <td>C12</td>\n",
       "      <td>C7 C8</td>\n",
       "      <td>С3 С5</td>\n",
       "      <td>С3 С13</td>\n",
       "      <td>C7 C8</td>\n",
       "      <td>C12 C13 C14</td>\n",
       "      <td>С12 С14</td>\n",
       "      <td>С12 С14</td>\n",
       "      <td>С12 С4 С14</td>\n",
       "    </tr>\n",
       "    <tr>\n",
       "      <th>11</th>\n",
       "      <td>12</td>\n",
       "      <td>D3 D9 D10</td>\n",
       "      <td>D3</td>\n",
       "      <td>D3</td>\n",
       "      <td>D3</td>\n",
       "      <td>D2 D3</td>\n",
       "      <td>D2 D3</td>\n",
       "      <td>D3</td>\n",
       "      <td>D2 D3</td>\n",
       "      <td>D8 D12</td>\n",
       "      <td>D7 D3</td>\n",
       "      <td>D2 D4</td>\n",
       "      <td>D2 D4 D6</td>\n",
       "      <td>D6 D1</td>\n",
       "      <td>D6 D1</td>\n",
       "      <td>D6 D9 D1</td>\n",
       "    </tr>\n",
       "    <tr>\n",
       "      <th>12</th>\n",
       "      <td>13</td>\n",
       "      <td>A5 A6 A8</td>\n",
       "      <td>A8</td>\n",
       "      <td>A8</td>\n",
       "      <td>A8</td>\n",
       "      <td>A5 A8</td>\n",
       "      <td>A5 A8</td>\n",
       "      <td>A8</td>\n",
       "      <td>A5 A8</td>\n",
       "      <td>A9 A14</td>\n",
       "      <td>A4 A8</td>\n",
       "      <td>A5 A8</td>\n",
       "      <td>A5 A6 A8</td>\n",
       "      <td>A15 A13</td>\n",
       "      <td>A15 A13</td>\n",
       "      <td>A15 A5 A13</td>\n",
       "    </tr>\n",
       "    <tr>\n",
       "      <th>13</th>\n",
       "      <td>14</td>\n",
       "      <td>B16 B17 B18</td>\n",
       "      <td>B16</td>\n",
       "      <td>B16</td>\n",
       "      <td>B16</td>\n",
       "      <td>B16 B17</td>\n",
       "      <td>B16 B17</td>\n",
       "      <td>B16</td>\n",
       "      <td>B16 B17</td>\n",
       "      <td>B3 B5</td>\n",
       "      <td>B3 B16</td>\n",
       "      <td>B16 B17</td>\n",
       "      <td>B16 B17 B18</td>\n",
       "      <td>B16 B2</td>\n",
       "      <td>B16 B2</td>\n",
       "      <td>B16 B7 B2</td>\n",
       "    </tr>\n",
       "    <tr>\n",
       "      <th>14</th>\n",
       "      <td>15</td>\n",
       "      <td>C7 C9 C12</td>\n",
       "      <td>С7</td>\n",
       "      <td>С7</td>\n",
       "      <td>С7</td>\n",
       "      <td>C13 C14</td>\n",
       "      <td>C13 C14</td>\n",
       "      <td>С7</td>\n",
       "      <td>C13 C14</td>\n",
       "      <td>С2 С3</td>\n",
       "      <td>С5 С13</td>\n",
       "      <td>C13 C14</td>\n",
       "      <td>C7 C9 C12</td>\n",
       "      <td>С6 С13</td>\n",
       "      <td>С6 С13</td>\n",
       "      <td>С6 С11 С13</td>\n",
       "    </tr>\n",
       "    <tr>\n",
       "      <th>15</th>\n",
       "      <td>16</td>\n",
       "      <td>D2 D3 D4</td>\n",
       "      <td>D4</td>\n",
       "      <td>D4</td>\n",
       "      <td>D4</td>\n",
       "      <td>D1 D2</td>\n",
       "      <td>D1 D2</td>\n",
       "      <td>D4</td>\n",
       "      <td>D1 D2</td>\n",
       "      <td>D7 D8</td>\n",
       "      <td>D7 D9</td>\n",
       "      <td>D2 D9</td>\n",
       "      <td>D2 D9 D6</td>\n",
       "      <td>D9 D1</td>\n",
       "      <td>D9 D1</td>\n",
       "      <td>D9 D10 D1</td>\n",
       "    </tr>\n",
       "    <tr>\n",
       "      <th>16</th>\n",
       "      <td>17</td>\n",
       "      <td>A10 A11 A12</td>\n",
       "      <td>A10</td>\n",
       "      <td>A10</td>\n",
       "      <td>A10</td>\n",
       "      <td>A10 A11</td>\n",
       "      <td>A10 A11</td>\n",
       "      <td>A10</td>\n",
       "      <td>A10 A11</td>\n",
       "      <td>A9 A20</td>\n",
       "      <td>A4 A10</td>\n",
       "      <td>A10 A11</td>\n",
       "      <td>A10 A11 A12</td>\n",
       "      <td>A5 A10</td>\n",
       "      <td>A5 A10</td>\n",
       "      <td>A5 A19 A10</td>\n",
       "    </tr>\n",
       "    <tr>\n",
       "      <th>17</th>\n",
       "      <td>18</td>\n",
       "      <td>B8 B10 B13</td>\n",
       "      <td>B8</td>\n",
       "      <td>B8</td>\n",
       "      <td>B8</td>\n",
       "      <td>B16 B18</td>\n",
       "      <td>B16 B18</td>\n",
       "      <td>B8</td>\n",
       "      <td>B16 B18</td>\n",
       "      <td>B3 B6</td>\n",
       "      <td>B3 B8</td>\n",
       "      <td>B16 B18</td>\n",
       "      <td>B8 B10 B13</td>\n",
       "      <td>B10 B2</td>\n",
       "      <td>B10 B2</td>\n",
       "      <td>B10 B7 B2</td>\n",
       "    </tr>\n",
       "    <tr>\n",
       "      <th>18</th>\n",
       "      <td>19</td>\n",
       "      <td>C8 C10 C13</td>\n",
       "      <td>С8</td>\n",
       "      <td>С8</td>\n",
       "      <td>С8</td>\n",
       "      <td>C11 C12</td>\n",
       "      <td>C11 C12</td>\n",
       "      <td>С8</td>\n",
       "      <td>C11 C12</td>\n",
       "      <td>С2 С5</td>\n",
       "      <td>С3 С14</td>\n",
       "      <td>C11 C12</td>\n",
       "      <td>C8 C10 C13</td>\n",
       "      <td>С6 С14</td>\n",
       "      <td>С6 С14</td>\n",
       "      <td>С6 С12 С14</td>\n",
       "    </tr>\n",
       "    <tr>\n",
       "      <th>19</th>\n",
       "      <td>20</td>\n",
       "      <td>D3 D4 D5</td>\n",
       "      <td>D5</td>\n",
       "      <td>D5</td>\n",
       "      <td>D5</td>\n",
       "      <td>D2 D3</td>\n",
       "      <td>D2 D3</td>\n",
       "      <td>D5</td>\n",
       "      <td>D2 D3</td>\n",
       "      <td>D7 D12</td>\n",
       "      <td>D7 D14</td>\n",
       "      <td>D3 D4</td>\n",
       "      <td>D3 D4 D6</td>\n",
       "      <td>D10 D1</td>\n",
       "      <td>D10 D1</td>\n",
       "      <td>D10 D5 D1</td>\n",
       "    </tr>\n",
       "    <tr>\n",
       "      <th>20</th>\n",
       "      <td>21</td>\n",
       "      <td>A10 A11 A13</td>\n",
       "      <td>A11</td>\n",
       "      <td>A11</td>\n",
       "      <td>A11</td>\n",
       "      <td>A10 A13</td>\n",
       "      <td>A10 A13</td>\n",
       "      <td>A11</td>\n",
       "      <td>A10 A13</td>\n",
       "      <td>A14 A20</td>\n",
       "      <td>A4 A11</td>\n",
       "      <td>A10 A13</td>\n",
       "      <td>A10 A11 A13</td>\n",
       "      <td>A6 A11</td>\n",
       "      <td>A6 A11</td>\n",
       "      <td>A6 A19 A11</td>\n",
       "    </tr>\n",
       "    <tr>\n",
       "      <th>21</th>\n",
       "      <td>22</td>\n",
       "      <td>B9 B14 B17</td>\n",
       "      <td>B9</td>\n",
       "      <td>B9</td>\n",
       "      <td>B9</td>\n",
       "      <td>B9 B14</td>\n",
       "      <td>B9 B14</td>\n",
       "      <td>B9</td>\n",
       "      <td>B9 B14</td>\n",
       "      <td>B5 B6</td>\n",
       "      <td>B6 B9</td>\n",
       "      <td>B9 B14</td>\n",
       "      <td>B9 B14 B17</td>\n",
       "      <td>B9 B2</td>\n",
       "      <td>B9 B2</td>\n",
       "      <td>B9 B7 B2</td>\n",
       "    </tr>\n",
       "    <tr>\n",
       "      <th>22</th>\n",
       "      <td>23</td>\n",
       "      <td>C6 C10 C12</td>\n",
       "      <td>С10</td>\n",
       "      <td>С10</td>\n",
       "      <td>С10</td>\n",
       "      <td>C7 C8</td>\n",
       "      <td>C7 C8</td>\n",
       "      <td>С10</td>\n",
       "      <td>C7 C8</td>\n",
       "      <td>С3 С5</td>\n",
       "      <td>С5 С14</td>\n",
       "      <td>C7 C8</td>\n",
       "      <td>C6 C10 C12</td>\n",
       "      <td>С9 С13</td>\n",
       "      <td>С9 С13</td>\n",
       "      <td>С9 С4 С13</td>\n",
       "    </tr>\n",
       "    <tr>\n",
       "      <th>23</th>\n",
       "      <td>24</td>\n",
       "      <td>D2 D5 D10</td>\n",
       "      <td>D10</td>\n",
       "      <td>D10</td>\n",
       "      <td>D10</td>\n",
       "      <td>D1 D3</td>\n",
       "      <td>D1 D3</td>\n",
       "      <td>D10</td>\n",
       "      <td>D1 D3</td>\n",
       "      <td>D8 D12</td>\n",
       "      <td>D7 D13</td>\n",
       "      <td>D1 D10</td>\n",
       "      <td>D1 D10 D6</td>\n",
       "      <td>D13 D1</td>\n",
       "      <td>D13 D1</td>\n",
       "      <td>D13 D6 D1</td>\n",
       "    </tr>\n",
       "    <tr>\n",
       "      <th>24</th>\n",
       "      <td>25</td>\n",
       "      <td>A11 A12 A13</td>\n",
       "      <td>A12</td>\n",
       "      <td>A12</td>\n",
       "      <td>A12</td>\n",
       "      <td>A11 A12</td>\n",
       "      <td>A11 A12</td>\n",
       "      <td>A12</td>\n",
       "      <td>A11 A12</td>\n",
       "      <td>A4 A9</td>\n",
       "      <td>A4 A12</td>\n",
       "      <td>A11 A12</td>\n",
       "      <td>A11 A12 A13</td>\n",
       "      <td>A7 A12</td>\n",
       "      <td>A7 A12</td>\n",
       "      <td>A7 A19 A12</td>\n",
       "    </tr>\n",
       "    <tr>\n",
       "      <th>25</th>\n",
       "      <td>26</td>\n",
       "      <td>B11 B15 B18</td>\n",
       "      <td>B11</td>\n",
       "      <td>B11</td>\n",
       "      <td>B11</td>\n",
       "      <td>B11 B15</td>\n",
       "      <td>B11 B15</td>\n",
       "      <td>B11</td>\n",
       "      <td>B11 B15</td>\n",
       "      <td>B3 B5</td>\n",
       "      <td>B6 B11</td>\n",
       "      <td>B11 B15</td>\n",
       "      <td>B11 B15 B18</td>\n",
       "      <td>B11 B2</td>\n",
       "      <td>B11 B2</td>\n",
       "      <td>B11 B7 B2</td>\n",
       "    </tr>\n",
       "    <tr>\n",
       "      <th>26</th>\n",
       "      <td>27</td>\n",
       "      <td>C7 C11 C14</td>\n",
       "      <td>С11</td>\n",
       "      <td>С11</td>\n",
       "      <td>С11</td>\n",
       "      <td>C13 C14</td>\n",
       "      <td>C13 C14</td>\n",
       "      <td>С11</td>\n",
       "      <td>C13 C14</td>\n",
       "      <td>С2 С3</td>\n",
       "      <td>С3 С9</td>\n",
       "      <td>C13 C14</td>\n",
       "      <td>C7 C11 C14</td>\n",
       "      <td>С9 С14</td>\n",
       "      <td>С9 С14</td>\n",
       "      <td>С9 С4 С14</td>\n",
       "    </tr>\n",
       "    <tr>\n",
       "      <th>27</th>\n",
       "      <td>28</td>\n",
       "      <td>D1 D6 D9</td>\n",
       "      <td>D9</td>\n",
       "      <td>D9</td>\n",
       "      <td>D9</td>\n",
       "      <td>D1 D2</td>\n",
       "      <td>D1 D2</td>\n",
       "      <td>D9</td>\n",
       "      <td>D1 D2</td>\n",
       "      <td>D7 D8</td>\n",
       "      <td>D7 D11</td>\n",
       "      <td>D1 D9</td>\n",
       "      <td>D1 D9 D10</td>\n",
       "      <td>D4 D2</td>\n",
       "      <td>D4 D2</td>\n",
       "      <td>D4 D6 D2</td>\n",
       "    </tr>\n",
       "  </tbody>\n",
       "</table>\n",
       "</div>"
      ],
      "text/plain": [
       "                   № задания\\nВариант          1.1  1.2 2.1, 3.1 2.2, 3.2  \\\n",
       "0                                   1     A5 A6 A7   A5       A5       A5   \n",
       "1                                   2     B7 B8 B9   B7       B7       B7   \n",
       "2                                   3     C6 C7 C8   C6       C6       C6   \n",
       "3                                   4     D1 D5 D6   D1       D1       D1   \n",
       "4                                   5     A6 A7 A8   A6       A6       A6   \n",
       "5                                   6  B10 B11 B12  B10      B10      B10   \n",
       "6                                   7   C9 C10 C11   C9       C9       C9   \n",
       "7                                   8    D2 D9 D10   D2       D2       D2   \n",
       "8                                   9     A5 A7 A8   A7       A7       A7   \n",
       "9                                  10  B13 B14 B15  B13      B13      B13   \n",
       "10                                 11  C12 C13 C14  C12      C12      C12   \n",
       "11                                 12    D3 D9 D10   D3       D3       D3   \n",
       "12                                 13     A5 A6 A8   A8       A8       A8   \n",
       "13                                 14  B16 B17 B18  B16      B16      B16   \n",
       "14                                 15    C7 C9 C12   С7       С7       С7   \n",
       "15                                 16     D2 D3 D4   D4       D4       D4   \n",
       "16                                 17  A10 A11 A12  A10      A10      A10   \n",
       "17                                 18   B8 B10 B13   B8       B8       B8   \n",
       "18                                 19   C8 C10 C13   С8       С8       С8   \n",
       "19                                 20     D3 D4 D5   D5       D5       D5   \n",
       "20                                 21  A10 A11 A13  A11      A11      A11   \n",
       "21                                 22   B9 B14 B17   B9       B9       B9   \n",
       "22                                 23   C6 C10 C12  С10      С10      С10   \n",
       "23                                 24    D2 D5 D10  D10      D10      D10   \n",
       "24                                 25  A11 A12 A13  A12      A12      A12   \n",
       "25                                 26  B11 B15 B18  B11      B11      B11   \n",
       "26                                 27   C7 C11 C14  С11      С11      С11   \n",
       "27                                 28     D1 D6 D9   D9       D9       D9   \n",
       "\n",
       "   2.3, 3.3 2.4, 3.4    4        5        6       7      8.1          8.2  \\\n",
       "0     A5 A6    A5 A6   A5    A5 A6    A4 A9   A4 A5    A5 A6     A5 A6 A7   \n",
       "1   B11 B12  B11 B12   B7  B11 B12    B3 B5   B6 B1  B11 B12     B7 B8 B9   \n",
       "2   C13 C14  C13 C14   C6  C13 C14    С2 С3   С3 С4  C13 C14     C6 C7 C8   \n",
       "3     D1 D2    D1 D2   D1    D1 D2    D7 D8   D7 D1    D1 D2     D1 D2 D3   \n",
       "4     A6 A7    A6 A7   A6    A6 A7   A4 A14   A4 A6    A6 A7     A6 A7 A8   \n",
       "5   B10 B11  B10 B11  B10  B10 B11    B3 B6   B6 B2  B10 B11  B10 B11 B12   \n",
       "6   C11 C12  C11 C12   C9  C11 C12    С2 С5   С5 С4  C11 C12   C9 C10 C11   \n",
       "7     D1 D3    D1 D3   D2    D1 D3   D7 D12   D7 D2    D1 D5     D1 D5 D6   \n",
       "8     A7 A8    A7 A8   A7    A7 A8   A4 A20   A4 A7    A7 A8     A5 A7 A8   \n",
       "9   B13 B14  B13 B14  B13  B13 B14    B5 B6  B3 B13  B13 B14  B13 B14 B15   \n",
       "10    C7 C8    C7 C8  C12    C7 C8    С3 С5  С3 С13    C7 C8  C12 C13 C14   \n",
       "11    D2 D3    D2 D3   D3    D2 D3   D8 D12   D7 D3    D2 D4     D2 D4 D6   \n",
       "12    A5 A8    A5 A8   A8    A5 A8   A9 A14   A4 A8    A5 A8     A5 A6 A8   \n",
       "13  B16 B17  B16 B17  B16  B16 B17    B3 B5  B3 B16  B16 B17  B16 B17 B18   \n",
       "14  C13 C14  C13 C14   С7  C13 C14    С2 С3  С5 С13  C13 C14    C7 C9 C12   \n",
       "15    D1 D2    D1 D2   D4    D1 D2    D7 D8   D7 D9    D2 D9     D2 D9 D6   \n",
       "16  A10 A11  A10 A11  A10  A10 A11   A9 A20  A4 A10  A10 A11  A10 A11 A12   \n",
       "17  B16 B18  B16 B18   B8  B16 B18    B3 B6   B3 B8  B16 B18   B8 B10 B13   \n",
       "18  C11 C12  C11 C12   С8  C11 C12    С2 С5  С3 С14  C11 C12   C8 C10 C13   \n",
       "19    D2 D3    D2 D3   D5    D2 D3   D7 D12  D7 D14    D3 D4     D3 D4 D6   \n",
       "20  A10 A13  A10 A13  A11  A10 A13  A14 A20  A4 A11  A10 A13  A10 A11 A13   \n",
       "21   B9 B14   B9 B14   B9   B9 B14    B5 B6   B6 B9   B9 B14   B9 B14 B17   \n",
       "22    C7 C8    C7 C8  С10    C7 C8    С3 С5  С5 С14    C7 C8   C6 C10 C12   \n",
       "23    D1 D3    D1 D3  D10    D1 D3   D8 D12  D7 D13   D1 D10    D1 D10 D6   \n",
       "24  A11 A12  A11 A12  A12  A11 A12    A4 A9  A4 A12  A11 A12  A11 A12 A13   \n",
       "25  B11 B15  B11 B15  B11  B11 B15    B3 B5  B6 B11  B11 B15  B11 B15 B18   \n",
       "26  C13 C14  C13 C14  С11  C13 C14    С2 С3   С3 С9  C13 C14   C7 C11 C14   \n",
       "27    D1 D2    D1 D2   D9    D1 D2    D7 D8  D7 D11    D1 D9    D1 D9 D10   \n",
       "\n",
       "        9.1      9.2         9.3  \n",
       "0   A15 A10  A15 A10  A15 A5 A10  \n",
       "1     B1 B2    B1 B2    B1 B4 B2  \n",
       "2    С6 С13   С6 С13   С6 С4 С13  \n",
       "3     D4 D1    D4 D1    D4 D6 D1  \n",
       "4   A16 A11  A16 A11  A16 A6 A11  \n",
       "5     B7 B2    B7 B2    B7 B4 B2  \n",
       "6   С11 С13  С11 С13  С11 С4 С13  \n",
       "7     D5 D1    D5 D1    D5 D6 D1  \n",
       "8   A17 A12  A17 A12  A17 A7 A12  \n",
       "9     B8 B2    B8 B2    B8 B4 B2  \n",
       "10  С12 С14  С12 С14  С12 С4 С14  \n",
       "11    D6 D1    D6 D1    D6 D9 D1  \n",
       "12  A15 A13  A15 A13  A15 A5 A13  \n",
       "13   B16 B2   B16 B2   B16 B7 B2  \n",
       "14   С6 С13   С6 С13  С6 С11 С13  \n",
       "15    D9 D1    D9 D1   D9 D10 D1  \n",
       "16   A5 A10   A5 A10  A5 A19 A10  \n",
       "17   B10 B2   B10 B2   B10 B7 B2  \n",
       "18   С6 С14   С6 С14  С6 С12 С14  \n",
       "19   D10 D1   D10 D1   D10 D5 D1  \n",
       "20   A6 A11   A6 A11  A6 A19 A11  \n",
       "21    B9 B2    B9 B2    B9 B7 B2  \n",
       "22   С9 С13   С9 С13   С9 С4 С13  \n",
       "23   D13 D1   D13 D1   D13 D6 D1  \n",
       "24   A7 A12   A7 A12  A7 A19 A12  \n",
       "25   B11 B2   B11 B2   B11 B7 B2  \n",
       "26   С9 С14   С9 С14   С9 С4 С14  \n",
       "27    D4 D2    D4 D2    D4 D6 D2  "
      ]
     },
     "execution_count": 172,
     "metadata": {},
     "output_type": "execute_result"
    }
   ],
   "source": [
    "tasks =  pd.read_excel(r'C:\\Users\\Админ\\Python\\бдз\\Задание к бдз\\var_matstat_K5.xls')\n",
    "tasks"
   ]
  },
  {
   "cell_type": "code",
   "execution_count": 173,
   "metadata": {},
   "outputs": [
    {
     "data": {
      "text/html": [
       "<div>\n",
       "<style scoped>\n",
       "    .dataframe tbody tr th:only-of-type {\n",
       "        vertical-align: middle;\n",
       "    }\n",
       "\n",
       "    .dataframe tbody tr th {\n",
       "        vertical-align: top;\n",
       "    }\n",
       "\n",
       "    .dataframe thead th {\n",
       "        text-align: right;\n",
       "    }\n",
       "</style>\n",
       "<table border=\"1\" class=\"dataframe\">\n",
       "  <thead>\n",
       "    <tr style=\"text-align: right;\">\n",
       "      <th></th>\n",
       "      <th>№ задания\n",
       "Вариант</th>\n",
       "      <th>1.1</th>\n",
       "      <th>1.2</th>\n",
       "      <th>2.1, 3.1</th>\n",
       "      <th>2.2, 3.2</th>\n",
       "      <th>2.3, 3.3</th>\n",
       "      <th>2.4, 3.4</th>\n",
       "      <th>4</th>\n",
       "      <th>5</th>\n",
       "      <th>6</th>\n",
       "      <th>7</th>\n",
       "      <th>8.1</th>\n",
       "      <th>8.2</th>\n",
       "      <th>9.1</th>\n",
       "      <th>9.2</th>\n",
       "      <th>9.3</th>\n",
       "    </tr>\n",
       "  </thead>\n",
       "  <tbody>\n",
       "    <tr>\n",
       "      <th>12</th>\n",
       "      <td>13</td>\n",
       "      <td>A5 A6 A8</td>\n",
       "      <td>A8</td>\n",
       "      <td>A8</td>\n",
       "      <td>A8</td>\n",
       "      <td>A5 A8</td>\n",
       "      <td>A5 A8</td>\n",
       "      <td>A8</td>\n",
       "      <td>A5 A8</td>\n",
       "      <td>A9 A14</td>\n",
       "      <td>A4 A8</td>\n",
       "      <td>A5 A8</td>\n",
       "      <td>A5 A6 A8</td>\n",
       "      <td>A15 A13</td>\n",
       "      <td>A15 A13</td>\n",
       "      <td>A15 A5 A13</td>\n",
       "    </tr>\n",
       "  </tbody>\n",
       "</table>\n",
       "</div>"
      ],
      "text/plain": [
       "                   № задания\\nВариант       1.1 1.2 2.1, 3.1 2.2, 3.2  \\\n",
       "12                                 13  A5 A6 A8  A8       A8       A8   \n",
       "\n",
       "   2.3, 3.3 2.4, 3.4   4      5       6      7    8.1       8.2      9.1  \\\n",
       "12    A5 A8    A5 A8  A8  A5 A8  A9 A14  A4 A8  A5 A8  A5 A6 A8  A15 A13   \n",
       "\n",
       "        9.2         9.3  \n",
       "12  A15 A13  A15 A5 A13  "
      ]
     },
     "execution_count": 173,
     "metadata": {},
     "output_type": "execute_result"
    }
   ],
   "source": [
    "task = tasks.loc[[12]]\n",
    "task"
   ]
  },
  {
   "cell_type": "code",
   "execution_count": 174,
   "metadata": {},
   "outputs": [],
   "source": [
    "x = DF['A5']\n",
    "y = DF['A6']\n",
    "z = DF['A8']"
   ]
  },
  {
   "cell_type": "markdown",
   "metadata": {},
   "source": [
    "1.1 Объём выборки\t\n",
    "Среднее\t\n",
    "Выборочная дисперсия\t\n",
    "Выборочное среднеквадратическое отклонение\t\n",
    "Выборочный коэффициент асимметрии\t\n",
    "Выборочный эксцесс\t"
   ]
  },
  {
   "cell_type": "code",
   "execution_count": 175,
   "metadata": {},
   "outputs": [
    {
     "data": {
      "text/plain": [
       "(DescribeResult(nobs=1073, minmax=(270, 1009), mean=526.4836905871389, variance=13868.856310247458, skewness=0.6786486256734204, kurtosis=0.5304432832288937),\n",
       " 117.7661084958124)"
      ]
     },
     "execution_count": 175,
     "metadata": {},
     "output_type": "execute_result"
    }
   ],
   "source": [
    "sts.describe(x), sts.describe(x)[3]**(1/2)"
   ]
  },
  {
   "cell_type": "code",
   "execution_count": 176,
   "metadata": {},
   "outputs": [
    {
     "data": {
      "text/plain": [
       "(DescribeResult(nobs=1073, minmax=(234, 733), mean=420.04193849021436, variance=4957.764097731288, skewness=0.3481481718850067, kurtosis=0.17581685259992685),\n",
       " 70.4113918178819)"
      ]
     },
     "execution_count": 176,
     "metadata": {},
     "output_type": "execute_result"
    }
   ],
   "source": [
    "sts.describe(y), sts.describe(y)[3]**(1/2)"
   ]
  },
  {
   "cell_type": "code",
   "execution_count": 177,
   "metadata": {},
   "outputs": [
    {
     "data": {
      "text/plain": [
       "(DescribeResult(nobs=1073, minmax=(232, 866), mean=428.0326188257223, variance=8217.62113651222, skewness=0.8191411695756438, kurtosis=0.9757478446505425),\n",
       " 90.6510956167228)"
      ]
     },
     "execution_count": 177,
     "metadata": {},
     "output_type": "execute_result"
    }
   ],
   "source": [
    "sts.describe(z), sts.describe(z)[3]**(1/2)"
   ]
  },
  {
   "cell_type": "markdown",
   "metadata": {},
   "source": [
    "1.2. Группировка и гистограммы частот"
   ]
  },
  {
   "cell_type": "code",
   "execution_count": 178,
   "metadata": {},
   "outputs": [],
   "source": [
    "x = DF['A8']"
   ]
  },
  {
   "cell_type": "code",
   "execution_count": 179,
   "metadata": {},
   "outputs": [
    {
     "data": {
      "text/plain": [
       "DescribeResult(nobs=1073, minmax=(232, 866), mean=428.0326188257223, variance=8217.62113651222, skewness=0.8191411695756438, kurtosis=0.9757478446505425)"
      ]
     },
     "execution_count": 179,
     "metadata": {},
     "output_type": "execute_result"
    }
   ],
   "source": [
    "sts.describe(x)"
   ]
  },
  {
   "cell_type": "code",
   "execution_count": 180,
   "metadata": {},
   "outputs": [
    {
     "data": {
      "text/plain": [
       "11"
      ]
     },
     "execution_count": 180,
     "metadata": {},
     "output_type": "execute_result"
    }
   ],
   "source": [
    "bins = int(np.floor(1 + np.log2(len(x))))\n",
    "bins"
   ]
  },
  {
   "cell_type": "code",
   "execution_count": 181,
   "metadata": {},
   "outputs": [
    {
     "name": "stdout",
     "output_type": "stream",
     "text": [
      "ширина интервалов 57.63636363636363\n"
     ]
    }
   ],
   "source": [
    "h = (max(x) - min(x)) / bins\n",
    "print('ширина интервалов', h)"
   ]
  },
  {
   "cell_type": "markdown",
   "metadata": {},
   "source": [
    "Анализируемый признак –\n",
    "Объём выборки –\n",
    "\n",
    "а) Выбрать число групп\n",
    "б) Построить таблицу частот\n",
    "в) Построить гистограммы частот и полигоны частот\n",
    "г) Построить график эмпирической функции распределения"
   ]
  },
  {
   "cell_type": "code",
   "execution_count": 182,
   "metadata": {},
   "outputs": [
    {
     "name": "stdout",
     "output_type": "stream",
     "text": [
      "частоты  [ 30. 172. 290. 255. 145. 118.  40.  13.   6.   2.   2.]\n",
      "относительные частоты [0.02795899 0.16029823 0.27027027 0.23765144 0.13513514 0.10997204\n",
      " 0.03727866 0.01211556 0.0055918  0.00186393 0.00186393]\n",
      "накопленные частоты  [  30.  202.  492.  747.  892. 1010. 1050. 1063. 1069. 1071. 1073.]\n",
      "относительные накопленные частоты [0.02795899 0.18825722 0.45852749 0.69617894 0.83131407 0.94128611\n",
      " 0.97856477 0.99068034 0.99627213 0.99813607 1.        ]\n"
     ]
    },
    {
     "data": {
      "image/png": "[encoded data removed]",
      "text/plain": [
       "<Figure size 432x288 with 1 Axes>"
      ]
     },
     "metadata": {},
     "output_type": "display_data"
    }
   ],
   "source": [
    "print('частоты ',plt.hist(x, bins = bins)[0])\n",
    "print('относительные частоты',plt.hist(x, bins = bins, density=True)[0]*h)\n",
    "print('накопленные частоты ',plt.hist(x, bins = bins, cumulative=True)[0])\n",
    "print('относительные накопленные частоты',plt.hist(x, bins = bins, cumulative=True,density=True)[0])"
   ]
  },
  {
   "cell_type": "code",
   "execution_count": 183,
   "metadata": {},
   "outputs": [
    {
     "name": "stdout",
     "output_type": "stream",
     "text": [
      "[232.         289.63636364 347.27272727 404.90909091 462.54545455\n",
      " 520.18181818 577.81818182 635.45454545 693.09090909 750.72727273\n",
      " 808.36363636 866.        ]\n"
     ]
    },
    {
     "data": {
      "text/plain": [
       "<matplotlib.legend.Legend at 0x117797d8278>"
      ]
     },
     "execution_count": 183,
     "metadata": {},
     "output_type": "execute_result"
    },
    {
     "data": {
      "image/png": "[encoded data removed]",
      "text/plain": [
       "<Figure size 432x288 with 1 Axes>"
      ]
     },
     "metadata": {},
     "output_type": "display_data"
    }
   ],
   "source": [
    "intervals = np.linspace(min(x),max(x), bins+1)\n",
    "print(intervals)\n",
    "intervals += (intervals[1]-intervals[0])/2\n",
    "plt.plot(intervals[:-1],plt.hist(x, bins = bins, label='гистограмма')[0], label='полигон')\n",
    "plt.legend()"
   ]
  },
  {
   "cell_type": "code",
   "execution_count": 186,
   "metadata": {},
   "outputs": [
    {
     "name": "stdout",
     "output_type": "stream",
     "text": [
      "[232.         289.63636364 347.27272727 404.90909091 462.54545455\n",
      " 520.18181818 577.81818182 635.45454545 693.09090909 750.72727273\n",
      " 808.36363636 866.        ]\n"
     ]
    },
    {
     "data": {
      "text/plain": [
       "<matplotlib.legend.Legend at 0x117797d84e0>"
      ]
     },
     "execution_count": 186,
     "metadata": {},
     "output_type": "execute_result"
    },
    {
     "data": {
      "image/png": "[encoded data removed]",
      "text/plain": [
       "<Figure size 432x288 with 1 Axes>"
      ]
     },
     "metadata": {},
     "output_type": "display_data"
    }
   ],
   "source": [
    "intervals = np.linspace(min(x),max(x), bins+1)\n",
    "print(intervals)\n",
    "intervals += (intervals[1]-intervals[0])/2\n",
    "plt.plot(intervals[:-1],plt.hist(x, bins = bins, label='гистограмма относительных частот', density=True)[0], \n",
    "         label='полигон относительных частот')\n",
    "plt.legend()"
   ]
  },
  {
   "cell_type": "code",
   "execution_count": 199,
   "metadata": {},
   "outputs": [
    {
     "name": "stdout",
     "output_type": "stream",
     "text": [
      "[232.         289.63636364 347.27272727 404.90909091 462.54545455\n",
      " 520.18181818 577.81818182 635.45454545 693.09090909 750.72727273\n",
      " 808.36363636 866.        ]\n"
     ]
    },
    {
     "data": {
      "text/plain": [
       "<matplotlib.legend.Legend at 0x1177aeb8978>"
      ]
     },
     "execution_count": 199,
     "metadata": {},
     "output_type": "execute_result"
    },
    {
     "data": {
      "image/png": "[encoded data removed]",
      "text/plain": [
       "<Figure size 432x288 with 1 Axes>"
      ]
     },
     "metadata": {},
     "output_type": "display_data"
    }
   ],
   "source": [
    "intervals = np.linspace(min(x),max(x), bins+1)\n",
    "print(intervals)\n",
    "y_axis = np.zeros(1)\n",
    "y_axis = np.hstack((y_axis,plt.hist(x, bins = bins, label='гистограмма накопленных частот', cumulative=True)[0]))\n",
    "plt.plot(intervals,y_axis, \n",
    "         label='полигон накопленных частот')\n",
    "plt.legend(loc=4)"
   ]
  },
  {
   "cell_type": "code",
   "execution_count": 201,
   "metadata": {},
   "outputs": [
    {
     "name": "stdout",
     "output_type": "stream",
     "text": [
      "[232.         289.63636364 347.27272727 404.90909091 462.54545455\n",
      " 520.18181818 577.81818182 635.45454545 693.09090909 750.72727273\n",
      " 808.36363636 866.        ]\n"
     ]
    },
    {
     "data": {
      "text/plain": [
       "<matplotlib.legend.Legend at 0x1177afafef0>"
      ]
     },
     "execution_count": 201,
     "metadata": {},
     "output_type": "execute_result"
    },
    {
     "data": {
      "image/png": "[encoded data removed]",
      "text/plain": [
       "<Figure size 432x288 with 1 Axes>"
      ]
     },
     "metadata": {},
     "output_type": "display_data"
    }
   ],
   "source": [
    "intervals = np.linspace(min(x),max(x), bins+1)\n",
    "print(intervals)\n",
    "y_axis = np.zeros(1)\n",
    "y_axis = np.hstack((y_axis,plt.hist(x, bins = bins, label='гистограмма накопленных частот', cumulative=True, density=True)[0]))\n",
    "plt.plot(intervals,y_axis, \n",
    "         label='полигон накопленных частот')\n",
    "plt.legend(loc=4)"
   ]
  },
  {
   "cell_type": "markdown",
   "metadata": {},
   "source": [
    "Построить ЭФР"
   ]
  },
  {
   "cell_type": "code",
   "execution_count": 203,
   "metadata": {},
   "outputs": [
    {
     "data": {
      "text/plain": [
       "[<matplotlib.lines.Line2D at 0x1177b08f8d0>]"
      ]
     },
     "execution_count": 203,
     "metadata": {},
     "output_type": "execute_result"
    },
    {
     "data": {
      "image/png": "[encoded data removed]",
      "text/plain": [
       "<Figure size 432x288 with 1 Axes>"
      ]
     },
     "metadata": {},
     "output_type": "display_data"
    }
   ],
   "source": [
    "ecdf = distr.ECDF(x)\n",
    "x_axis = np.linspace(min(x),max(x),1000)\n",
    "plt.plot(x_axis,ecdf(x_axis))"
   ]
  },
  {
   "cell_type": "markdown",
   "metadata": {},
   "source": [
    "Интервальные оценки\n",
    "\n",
    "2.1. Доверительные интервалы для мат. ожидания\n",
    "\n",
    "Анализируемый признак \n",
    "\n",
    "Объём выборки\n",
    "\n",
    "Оцениваемый параметр\n"
   ]
  },
  {
   "cell_type": "code",
   "execution_count": 204,
   "metadata": {
    "scrolled": true
   },
   "outputs": [
    {
     "data": {
      "text/html": [
       "<div>\n",
       "<style scoped>\n",
       "    .dataframe tbody tr th:only-of-type {\n",
       "        vertical-align: middle;\n",
       "    }\n",
       "\n",
       "    .dataframe tbody tr th {\n",
       "        vertical-align: top;\n",
       "    }\n",
       "\n",
       "    .dataframe thead th {\n",
       "        text-align: right;\n",
       "    }\n",
       "</style>\n",
       "<table border=\"1\" class=\"dataframe\">\n",
       "  <thead>\n",
       "    <tr style=\"text-align: right;\">\n",
       "      <th></th>\n",
       "      <th>№ задания\n",
       "Вариант</th>\n",
       "      <th>1.1</th>\n",
       "      <th>1.2</th>\n",
       "      <th>2.1, 3.1</th>\n",
       "      <th>2.2, 3.2</th>\n",
       "      <th>2.3, 3.3</th>\n",
       "      <th>2.4, 3.4</th>\n",
       "      <th>4</th>\n",
       "      <th>5</th>\n",
       "      <th>6</th>\n",
       "      <th>7</th>\n",
       "      <th>8.1</th>\n",
       "      <th>8.2</th>\n",
       "      <th>9.1</th>\n",
       "      <th>9.2</th>\n",
       "      <th>9.3</th>\n",
       "    </tr>\n",
       "  </thead>\n",
       "  <tbody>\n",
       "    <tr>\n",
       "      <th>12</th>\n",
       "      <td>13</td>\n",
       "      <td>A5 A6 A8</td>\n",
       "      <td>A8</td>\n",
       "      <td>A8</td>\n",
       "      <td>A8</td>\n",
       "      <td>A5 A8</td>\n",
       "      <td>A5 A8</td>\n",
       "      <td>A8</td>\n",
       "      <td>A5 A8</td>\n",
       "      <td>A9 A14</td>\n",
       "      <td>A4 A8</td>\n",
       "      <td>A5 A8</td>\n",
       "      <td>A5 A6 A8</td>\n",
       "      <td>A15 A13</td>\n",
       "      <td>A15 A13</td>\n",
       "      <td>A15 A5 A13</td>\n",
       "    </tr>\n",
       "  </tbody>\n",
       "</table>\n",
       "</div>"
      ],
      "text/plain": [
       "                   № задания\\nВариант       1.1 1.2 2.1, 3.1 2.2, 3.2  \\\n",
       "12                                 13  A5 A6 A8  A8       A8       A8   \n",
       "\n",
       "   2.3, 3.3 2.4, 3.4   4      5       6      7    8.1       8.2      9.1  \\\n",
       "12    A5 A8    A5 A8  A8  A5 A8  A9 A14  A4 A8  A5 A8  A5 A6 A8  A15 A13   \n",
       "\n",
       "        9.2         9.3  \n",
       "12  A15 A13  A15 A5 A13  "
      ]
     },
     "execution_count": 204,
     "metadata": {},
     "output_type": "execute_result"
    }
   ],
   "source": [
    "task"
   ]
  },
  {
   "cell_type": "code",
   "execution_count": 205,
   "metadata": {},
   "outputs": [],
   "source": [
    "x = DF['A8']"
   ]
  },
  {
   "cell_type": "code",
   "execution_count": 206,
   "metadata": {},
   "outputs": [
    {
     "data": {
      "text/plain": [
       "DescribeResult(nobs=1073, minmax=(232, 866), mean=428.0326188257223, variance=8217.62113651222, skewness=0.8191411695756438, kurtosis=0.9757478446505425)"
      ]
     },
     "execution_count": 206,
     "metadata": {},
     "output_type": "execute_result"
    }
   ],
   "source": [
    "sts.describe(x)"
   ]
  },
  {
   "cell_type": "markdown",
   "metadata": {},
   "source": [
    "Доверительный интервал для матожидания"
   ]
  },
  {
   "cell_type": "code",
   "execution_count": 207,
   "metadata": {},
   "outputs": [
    {
     "name": "stdout",
     "output_type": "stream",
     "text": [
      "0.01 : 420.89153457926255 428.0326188257223 435.17370307218204\n",
      "0.05 : 422.60246785148496 428.0326188257223 433.46276979995963\n",
      "0.1 : 423.47670060495653 428.0326188257223 432.58853704648806\n"
     ]
    }
   ],
   "source": [
    "for alpha in [0.01,0.05,0.1]:\n",
    "    n=sts.describe(x)[0]\n",
    "    low = x.mean() - sts.describe(x)[3]**(1/2) / (n**(1/2)) * sts.t.ppf(1-alpha/2,df=n-1)\n",
    "    high = x.mean() + sts.describe(x)[3]**(1/2) / (n**(1/2)) * sts.t.ppf(1-alpha/2,df=n-1)\n",
    "    print(alpha,':',low,x.mean(),high)"
   ]
  },
  {
   "cell_type": "markdown",
   "metadata": {},
   "source": [
    "Доверительный интервал для дисперсии"
   ]
  },
  {
   "cell_type": "code",
   "execution_count": 209,
   "metadata": {},
   "outputs": [
    {
     "name": "stdout",
     "output_type": "stream",
     "text": [
      "0.01 : 7371.64799730444 8217.62113651222 9210.031517920674\n",
      "0.05 : 7564.010893742589 8217.62113651222 8960.215662750725\n",
      "0.1 : 7665.036398218402 8217.62113651222 8835.871401159964\n"
     ]
    }
   ],
   "source": [
    "for alpha in [0.01,0.05,0.1]:\n",
    "    n=sts.describe(x)[0]\n",
    "    low = (n-1) * sts.describe(x)[3] / (sts.chi2.ppf(1-alpha/2,df=n-1))\n",
    "    high = (n-1) * sts.describe(x)[3] / (sts.chi2.ppf(alpha/2,df=n-1))\n",
    "    print(alpha,':',low,sts.describe(x)[3],high)"
   ]
  },
  {
   "cell_type": "markdown",
   "metadata": {},
   "source": [
    "2.3\n",
    "Доверительный интервал для разности мат ожиданий"
   ]
  },
  {
   "cell_type": "code",
   "execution_count": 210,
   "metadata": {},
   "outputs": [
    {
     "data": {
      "text/html": [
       "<div>\n",
       "<style scoped>\n",
       "    .dataframe tbody tr th:only-of-type {\n",
       "        vertical-align: middle;\n",
       "    }\n",
       "\n",
       "    .dataframe tbody tr th {\n",
       "        vertical-align: top;\n",
       "    }\n",
       "\n",
       "    .dataframe thead th {\n",
       "        text-align: right;\n",
       "    }\n",
       "</style>\n",
       "<table border=\"1\" class=\"dataframe\">\n",
       "  <thead>\n",
       "    <tr style=\"text-align: right;\">\n",
       "      <th></th>\n",
       "      <th>№ задания\n",
       "Вариант</th>\n",
       "      <th>1.1</th>\n",
       "      <th>1.2</th>\n",
       "      <th>2.1, 3.1</th>\n",
       "      <th>2.2, 3.2</th>\n",
       "      <th>2.3, 3.3</th>\n",
       "      <th>2.4, 3.4</th>\n",
       "      <th>4</th>\n",
       "      <th>5</th>\n",
       "      <th>6</th>\n",
       "      <th>7</th>\n",
       "      <th>8.1</th>\n",
       "      <th>8.2</th>\n",
       "      <th>9.1</th>\n",
       "      <th>9.2</th>\n",
       "      <th>9.3</th>\n",
       "    </tr>\n",
       "  </thead>\n",
       "  <tbody>\n",
       "    <tr>\n",
       "      <th>12</th>\n",
       "      <td>13</td>\n",
       "      <td>A5 A6 A8</td>\n",
       "      <td>A8</td>\n",
       "      <td>A8</td>\n",
       "      <td>A8</td>\n",
       "      <td>A5 A8</td>\n",
       "      <td>A5 A8</td>\n",
       "      <td>A8</td>\n",
       "      <td>A5 A8</td>\n",
       "      <td>A9 A14</td>\n",
       "      <td>A4 A8</td>\n",
       "      <td>A5 A8</td>\n",
       "      <td>A5 A6 A8</td>\n",
       "      <td>A15 A13</td>\n",
       "      <td>A15 A13</td>\n",
       "      <td>A15 A5 A13</td>\n",
       "    </tr>\n",
       "  </tbody>\n",
       "</table>\n",
       "</div>"
      ],
      "text/plain": [
       "                   № задания\\nВариант       1.1 1.2 2.1, 3.1 2.2, 3.2  \\\n",
       "12                                 13  A5 A6 A8  A8       A8       A8   \n",
       "\n",
       "   2.3, 3.3 2.4, 3.4   4      5       6      7    8.1       8.2      9.1  \\\n",
       "12    A5 A8    A5 A8  A8  A5 A8  A9 A14  A4 A8  A5 A8  A5 A6 A8  A15 A13   \n",
       "\n",
       "        9.2         9.3  \n",
       "12  A15 A13  A15 A5 A13  "
      ]
     },
     "execution_count": 210,
     "metadata": {},
     "output_type": "execute_result"
    }
   ],
   "source": [
    "task"
   ]
  },
  {
   "cell_type": "code",
   "execution_count": 211,
   "metadata": {},
   "outputs": [],
   "source": [
    "x = DF['A5']\n",
    "y = DF['A8']"
   ]
  },
  {
   "cell_type": "code",
   "execution_count": 212,
   "metadata": {},
   "outputs": [
    {
     "name": "stdout",
     "output_type": "stream",
     "text": [
      "0.01 : 86.75426715866607 98.45107176141659 110.1478763641671\n",
      "0.05 : 89.55380320157862 98.45107176141659 107.34834032125455\n",
      "0.1 : 90.9852379876537 98.45107176141659 105.91690553517947\n"
     ]
    }
   ],
   "source": [
    "for alpha in [0.01,0.05,0.1]:\n",
    "    n1=sts.describe(x)[0]\n",
    "    n2=sts.describe(y)[0]\n",
    "    s = abs((sts.describe(x)[3]+sts.describe(y)[3])/2)**(1/2)\n",
    "    low = x.mean()-y.mean()-sts.t.ppf(1-alpha/2, df=n1+n2-2) * s * ((1/n1+1/n2)**(1/2))\n",
    "    high = x.mean()-y.mean()+sts.t.ppf(1-alpha/2, df=n1+n2-2) * s * ((1/n1+1/n2)**(1/2))\n",
    "    print(alpha,':',low,x.mean()-y.mean(),high)"
   ]
  },
  {
   "cell_type": "markdown",
   "metadata": {},
   "source": [
    "2.4\n",
    "Доверительный интервал для отношений дисперсий"
   ]
  },
  {
   "cell_type": "code",
   "execution_count": 215,
   "metadata": {},
   "outputs": [
    {
     "name": "stdout",
     "output_type": "stream",
     "text": [
      "0.01 : 1.4418157917941776 1.6876972155148267 1.9755102610660702\n",
      "0.05 : 1.4971711896967779 1.6876972155148267 1.9024690769219053\n",
      "0.1 : 1.526297702994823 1.6876972155148267 1.866164042354036\n"
     ]
    }
   ],
   "source": [
    "for alpha in [0.01,0.05,0.1]:\n",
    "    n1=sts.describe(x)[0]\n",
    "    n2=sts.describe(y)[0]\n",
    "    s1 = sts.describe(x)[3]\n",
    "    s2 = sts.describe(y)[3]\n",
    "    low = s1/s2 * sts.f.ppf(alpha/2,dfd=n2-1,dfn=n1-1)\n",
    "    high = s1/s2 * sts.f.ppf(1-alpha/2,dfd=n2-1,dfn=n1-1)\n",
    "    print(alpha,':',low,(s1/s2),high)"
   ]
  },
  {
   "cell_type": "markdown",
   "metadata": {},
   "source": [
    "3. Проверка статистических гипотез о математических ожиданиях и дисперсиях\n",
    "3.1. Проверка статистических гипотез о математических ожиданиях"
   ]
  },
  {
   "cell_type": "code",
   "execution_count": 216,
   "metadata": {},
   "outputs": [
    {
     "data": {
      "text/html": [
       "<div>\n",
       "<style scoped>\n",
       "    .dataframe tbody tr th:only-of-type {\n",
       "        vertical-align: middle;\n",
       "    }\n",
       "\n",
       "    .dataframe tbody tr th {\n",
       "        vertical-align: top;\n",
       "    }\n",
       "\n",
       "    .dataframe thead th {\n",
       "        text-align: right;\n",
       "    }\n",
       "</style>\n",
       "<table border=\"1\" class=\"dataframe\">\n",
       "  <thead>\n",
       "    <tr style=\"text-align: right;\">\n",
       "      <th></th>\n",
       "      <th>№ задания\n",
       "Вариант</th>\n",
       "      <th>1.1</th>\n",
       "      <th>1.2</th>\n",
       "      <th>2.1, 3.1</th>\n",
       "      <th>2.2, 3.2</th>\n",
       "      <th>2.3, 3.3</th>\n",
       "      <th>2.4, 3.4</th>\n",
       "      <th>4</th>\n",
       "      <th>5</th>\n",
       "      <th>6</th>\n",
       "      <th>7</th>\n",
       "      <th>8.1</th>\n",
       "      <th>8.2</th>\n",
       "      <th>9.1</th>\n",
       "      <th>9.2</th>\n",
       "      <th>9.3</th>\n",
       "    </tr>\n",
       "  </thead>\n",
       "  <tbody>\n",
       "    <tr>\n",
       "      <th>12</th>\n",
       "      <td>13</td>\n",
       "      <td>A5 A6 A8</td>\n",
       "      <td>A8</td>\n",
       "      <td>A8</td>\n",
       "      <td>A8</td>\n",
       "      <td>A5 A8</td>\n",
       "      <td>A5 A8</td>\n",
       "      <td>A8</td>\n",
       "      <td>A5 A8</td>\n",
       "      <td>A9 A14</td>\n",
       "      <td>A4 A8</td>\n",
       "      <td>A5 A8</td>\n",
       "      <td>A5 A6 A8</td>\n",
       "      <td>A15 A13</td>\n",
       "      <td>A15 A13</td>\n",
       "      <td>A15 A5 A13</td>\n",
       "    </tr>\n",
       "  </tbody>\n",
       "</table>\n",
       "</div>"
      ],
      "text/plain": [
       "                   № задания\\nВариант       1.1 1.2 2.1, 3.1 2.2, 3.2  \\\n",
       "12                                 13  A5 A6 A8  A8       A8       A8   \n",
       "\n",
       "   2.3, 3.3 2.4, 3.4   4      5       6      7    8.1       8.2      9.1  \\\n",
       "12    A5 A8    A5 A8  A8  A5 A8  A9 A14  A4 A8  A5 A8  A5 A6 A8  A15 A13   \n",
       "\n",
       "        9.2         9.3  \n",
       "12  A15 A13  A15 A5 A13  "
      ]
     },
     "execution_count": 216,
     "metadata": {},
     "output_type": "execute_result"
    }
   ],
   "source": [
    "x=DF['A8']\n",
    "task"
   ]
  },
  {
   "cell_type": "code",
   "execution_count": 217,
   "metadata": {},
   "outputs": [
    {
     "data": {
      "text/plain": [
       "DescribeResult(nobs=1073, minmax=(232, 866), mean=428.0326188257223, variance=8217.62113651222, skewness=0.8191411695756438, kurtosis=0.9757478446505425)"
      ]
     },
     "execution_count": 217,
     "metadata": {},
     "output_type": "execute_result"
    }
   ],
   "source": [
    "sts.describe(x)"
   ]
  },
  {
   "cell_type": "code",
   "execution_count": 220,
   "metadata": {},
   "outputs": [
    {
     "name": "stdout",
     "output_type": "stream",
     "text": [
      "m = 420 z-val 2.902578421920758  p-val 0.0037768199394208057\n",
      "m = 425 z-val 1.0958336448462918  p-val 0.2733977049316345\n",
      "m = 430 z-val -0.7109111322281747  p-val 0.47729394939688297\n"
     ]
    }
   ],
   "source": [
    "def ztest(x, m, sigma=None):\n",
    "    if sigma is None:\n",
    "        sigma = sts.describe(x)[3]**(1/2)\n",
    "    z = (x.mean()-m)/(sigma/np.sqrt(x.size))\n",
    "    p = min(sts.t.cdf(z,df=len(x)-1),1 - sts.t.cdf(z,df=len(x)-1))*2\n",
    "    return z, p\n",
    "\n",
    "m0_arr = [420,425,430]\n",
    "for m in m0_arr:\n",
    "    print('m =',m, 'z-val',ztest(x,m)[0],' p-val',ztest(x,m)[1])"
   ]
  },
  {
   "cell_type": "code",
   "execution_count": 221,
   "metadata": {},
   "outputs": [
    {
     "name": "stdout",
     "output_type": "stream",
     "text": [
      "m = 420 z-val 2.9025784219207584  p-val 0.0037768199394206765\n",
      "m = 425 z-val 1.095833644846292  p-val 0.27339770493163434\n",
      "m = 430 z-val -0.7109111322281748  p-val 0.47729394939688297\n"
     ]
    }
   ],
   "source": [
    "for m in m0_arr:\n",
    "    print('m =',m, 'z-val',sts.ttest_1samp(x,m)[0],' p-val',sts.ttest_1samp(x,m)[1])"
   ]
  },
  {
   "cell_type": "code",
   "execution_count": 222,
   "metadata": {},
   "outputs": [
    {
     "data": {
      "text/plain": [
       "DescribeResult(nobs=1073, minmax=(232, 866), mean=428.0326188257223, variance=8217.62113651222, skewness=0.8191411695756438, kurtosis=0.9757478446505425)"
      ]
     },
     "execution_count": 222,
     "metadata": {},
     "output_type": "execute_result"
    }
   ],
   "source": [
    "sts.describe(x)"
   ]
  },
  {
   "cell_type": "markdown",
   "metadata": {},
   "source": [
    "3.2 Проверка статистических гипотез о дисперсиях"
   ]
  },
  {
   "cell_type": "code",
   "execution_count": 226,
   "metadata": {},
   "outputs": [
    {
     "name": "stdout",
     "output_type": "stream",
     "text": [
      "90.60884388027851\n",
      "s = 86 z-val 1191.0884070228628  p-val 0.012536155623787293\n",
      "s = 90 z-val 1087.566649177913  p-val 0.7271224188779171\n",
      "s = 93 z-val 1018.5327619772337  p-val 0.24603516014479926\n"
     ]
    }
   ],
   "source": [
    "def chisquaretest(X1,sigma, mu = None):\n",
    "    n = X1.size\n",
    "    if mu is None:\n",
    "        z = (n-1) * X1.var() / (sigma ** 2)\n",
    "        p = 2 * min(sts.chi2.cdf(z, n-1),1-sts.chi2.cdf(z, n-1))\n",
    "    else:\n",
    "        z = n * (sigma0(X1,mu)**2) / (sigma ** 2)\n",
    "        p = 2 * min(sts.chi2.cdf(z, n), 1 - sts.chi2.cdf(z, n))\n",
    "    return z, p\n",
    "\n",
    "s_arr = [86,90,93]\n",
    "print(np.var(x)**(1/2))\n",
    "for s in s_arr:\n",
    "    print('s =',s, 'z-val',chisquaretest(x,s)[0],' p-val',chisquaretest(x,s)[1])"
   ]
  },
  {
   "cell_type": "markdown",
   "metadata": {},
   "source": [
    "3.3. Проверка статистических гипотез о равенстве математических ожиданий"
   ]
  },
  {
   "cell_type": "code",
   "execution_count": 229,
   "metadata": {},
   "outputs": [
    {
     "data": {
      "text/html": [
       "<div>\n",
       "<style scoped>\n",
       "    .dataframe tbody tr th:only-of-type {\n",
       "        vertical-align: middle;\n",
       "    }\n",
       "\n",
       "    .dataframe tbody tr th {\n",
       "        vertical-align: top;\n",
       "    }\n",
       "\n",
       "    .dataframe thead th {\n",
       "        text-align: right;\n",
       "    }\n",
       "</style>\n",
       "<table border=\"1\" class=\"dataframe\">\n",
       "  <thead>\n",
       "    <tr style=\"text-align: right;\">\n",
       "      <th></th>\n",
       "      <th>№ задания\n",
       "Вариант</th>\n",
       "      <th>1.1</th>\n",
       "      <th>1.2</th>\n",
       "      <th>2.1, 3.1</th>\n",
       "      <th>2.2, 3.2</th>\n",
       "      <th>2.3, 3.3</th>\n",
       "      <th>2.4, 3.4</th>\n",
       "      <th>4</th>\n",
       "      <th>5</th>\n",
       "      <th>6</th>\n",
       "      <th>7</th>\n",
       "      <th>8.1</th>\n",
       "      <th>8.2</th>\n",
       "      <th>9.1</th>\n",
       "      <th>9.2</th>\n",
       "      <th>9.3</th>\n",
       "    </tr>\n",
       "  </thead>\n",
       "  <tbody>\n",
       "    <tr>\n",
       "      <th>12</th>\n",
       "      <td>13</td>\n",
       "      <td>A5 A6 A8</td>\n",
       "      <td>A8</td>\n",
       "      <td>A8</td>\n",
       "      <td>A8</td>\n",
       "      <td>A5 A8</td>\n",
       "      <td>A5 A8</td>\n",
       "      <td>A8</td>\n",
       "      <td>A5 A8</td>\n",
       "      <td>A9 A14</td>\n",
       "      <td>A4 A8</td>\n",
       "      <td>A5 A8</td>\n",
       "      <td>A5 A6 A8</td>\n",
       "      <td>A15 A13</td>\n",
       "      <td>A15 A13</td>\n",
       "      <td>A15 A5 A13</td>\n",
       "    </tr>\n",
       "  </tbody>\n",
       "</table>\n",
       "</div>"
      ],
      "text/plain": [
       "                   № задания\\nВариант       1.1 1.2 2.1, 3.1 2.2, 3.2  \\\n",
       "12                                 13  A5 A6 A8  A8       A8       A8   \n",
       "\n",
       "   2.3, 3.3 2.4, 3.4   4      5       6      7    8.1       8.2      9.1  \\\n",
       "12    A5 A8    A5 A8  A8  A5 A8  A9 A14  A4 A8  A5 A8  A5 A6 A8  A15 A13   \n",
       "\n",
       "        9.2         9.3  \n",
       "12  A15 A13  A15 A5 A13  "
      ]
     },
     "execution_count": 229,
     "metadata": {},
     "output_type": "execute_result"
    }
   ],
   "source": [
    "task"
   ]
  },
  {
   "cell_type": "code",
   "execution_count": 230,
   "metadata": {},
   "outputs": [
    {
     "data": {
      "text/plain": [
       "DescribeResult(nobs=1073, minmax=(232, 866), mean=428.0326188257223, variance=8217.62113651222, skewness=0.8191411695756438, kurtosis=0.9757478446505425)"
      ]
     },
     "execution_count": 230,
     "metadata": {},
     "output_type": "execute_result"
    }
   ],
   "source": [
    "x = DF['A5']\n",
    "y = DF['A8']\n",
    "sts.describe(y)"
   ]
  },
  {
   "cell_type": "code",
   "execution_count": 231,
   "metadata": {},
   "outputs": [
    {
     "data": {
      "text/plain": [
       "Ttest_indResult(statistic=21.699867460073605, pvalue=1.484390672999057e-94)"
      ]
     },
     "execution_count": 231,
     "metadata": {},
     "output_type": "execute_result"
    }
   ],
   "source": [
    "sts.ttest_ind(x,y)"
   ]
  },
  {
   "cell_type": "code",
   "execution_count": 232,
   "metadata": {},
   "outputs": [
    {
     "data": {
      "text/plain": [
       "(21.699867460073605, 0.0)"
      ]
     },
     "execution_count": 232,
     "metadata": {},
     "output_type": "execute_result"
    }
   ],
   "source": [
    "def ttest(x, y):\n",
    "    z = (np.mean(x) - np.mean(y))/np.sqrt(sts.describe(x)[3]/len(x)+sts.describe(y)[3]/len(y))\n",
    "    p = 2*min(sts.t.cdf(z, df=len(x)+len(y)-2),1-sts.t.cdf(z, df=len(x)+len(y)-2))\n",
    "    return z, p\n",
    "ttest(x,y)\n"
   ]
  },
  {
   "cell_type": "markdown",
   "metadata": {},
   "source": [
    "3.4. Проверка статистических гипотез о равенстве дисперсий"
   ]
  },
  {
   "cell_type": "code",
   "execution_count": 233,
   "metadata": {},
   "outputs": [
    {
     "name": "stdout",
     "output_type": "stream",
     "text": [
      "z-st: 1.6876972155148267 p-val: 2.220446049250313e-16\n"
     ]
    }
   ],
   "source": [
    "def ftest(X1, X2):    \n",
    "    f = sts.describe(X1)[3]/sts.describe(X2)[3]\n",
    "    df1 = X1.size - 1\n",
    "    df2 = X2.size - 1\n",
    "    p = 2 * min(1 - sts.f.cdf(f, df1, df2),sts.f.cdf(f, df1, df2))\n",
    "    return f, p\n",
    "print('z-st:',ftest(x,y)[0],'p-val:',ftest(x,y)[1])"
   ]
  },
  {
   "cell_type": "markdown",
   "metadata": {},
   "source": [
    "4. Критерии согласия"
   ]
  },
  {
   "cell_type": "code",
   "execution_count": 235,
   "metadata": {},
   "outputs": [
    {
     "data": {
      "text/html": [
       "<div>\n",
       "<style scoped>\n",
       "    .dataframe tbody tr th:only-of-type {\n",
       "        vertical-align: middle;\n",
       "    }\n",
       "\n",
       "    .dataframe tbody tr th {\n",
       "        vertical-align: top;\n",
       "    }\n",
       "\n",
       "    .dataframe thead th {\n",
       "        text-align: right;\n",
       "    }\n",
       "</style>\n",
       "<table border=\"1\" class=\"dataframe\">\n",
       "  <thead>\n",
       "    <tr style=\"text-align: right;\">\n",
       "      <th></th>\n",
       "      <th>№ задания\n",
       "Вариант</th>\n",
       "      <th>1.1</th>\n",
       "      <th>1.2</th>\n",
       "      <th>2.1, 3.1</th>\n",
       "      <th>2.2, 3.2</th>\n",
       "      <th>2.3, 3.3</th>\n",
       "      <th>2.4, 3.4</th>\n",
       "      <th>4</th>\n",
       "      <th>5</th>\n",
       "      <th>6</th>\n",
       "      <th>7</th>\n",
       "      <th>8.1</th>\n",
       "      <th>8.2</th>\n",
       "      <th>9.1</th>\n",
       "      <th>9.2</th>\n",
       "      <th>9.3</th>\n",
       "    </tr>\n",
       "  </thead>\n",
       "  <tbody>\n",
       "    <tr>\n",
       "      <th>12</th>\n",
       "      <td>13</td>\n",
       "      <td>A5 A6 A8</td>\n",
       "      <td>A8</td>\n",
       "      <td>A8</td>\n",
       "      <td>A8</td>\n",
       "      <td>A5 A8</td>\n",
       "      <td>A5 A8</td>\n",
       "      <td>A8</td>\n",
       "      <td>A5 A8</td>\n",
       "      <td>A9 A14</td>\n",
       "      <td>A4 A8</td>\n",
       "      <td>A5 A8</td>\n",
       "      <td>A5 A6 A8</td>\n",
       "      <td>A15 A13</td>\n",
       "      <td>A15 A13</td>\n",
       "      <td>A15 A5 A13</td>\n",
       "    </tr>\n",
       "  </tbody>\n",
       "</table>\n",
       "</div>"
      ],
      "text/plain": [
       "                   № задания\\nВариант       1.1 1.2 2.1, 3.1 2.2, 3.2  \\\n",
       "12                                 13  A5 A6 A8  A8       A8       A8   \n",
       "\n",
       "   2.3, 3.3 2.4, 3.4   4      5       6      7    8.1       8.2      9.1  \\\n",
       "12    A5 A8    A5 A8  A8  A5 A8  A9 A14  A4 A8  A5 A8  A5 A6 A8  A15 A13   \n",
       "\n",
       "        9.2         9.3  \n",
       "12  A15 A13  A15 A5 A13  "
      ]
     },
     "execution_count": 235,
     "metadata": {},
     "output_type": "execute_result"
    }
   ],
   "source": [
    "task"
   ]
  },
  {
   "cell_type": "code",
   "execution_count": 236,
   "metadata": {},
   "outputs": [],
   "source": [
    "x = DF['A8']"
   ]
  },
  {
   "cell_type": "code",
   "execution_count": 246,
   "metadata": {},
   "outputs": [
    {
     "name": "stdout",
     "output_type": "stream",
     "text": [
      "manual 373.83479871680646\n",
      "x_exp [4.81288857e-02 1.23075997e-01 2.12834734e-01 2.48965497e-01\n",
      " 1.97015420e-01 1.05455871e-01 3.81687694e-02 9.33667472e-03\n",
      " 1.54255280e-03 1.71997919e-04 1.29325910e-05]\n",
      "x_obs [0.02795899 0.16029823 0.27027027 0.23765144 0.13513514 0.10997204\n",
      " 0.03727866 0.01211556 0.0055918  0.00186393 0.00186393]\n",
      "intervals [(232, 289.6363636363636), (289.6363636363636, 347.27272727272725), (347.27272727272725, 404.9090909090909), (404.9090909090909, 462.5454545454545), (462.5454545454545, 520.1818181818181), (520.1818181818181, 577.8181818181818), (577.8181818181818, 635.4545454545454), (635.4545454545454, 693.090909090909), (693.090909090909, 750.7272727272726), (750.7272727272726, 808.3636363636363), (808.3636363636363, 865.9999999999999)]\n",
      "==============================================================================\n",
      "H0: X~N (373.83479871680646, 0.0)\n",
      "H0: X~N Power_divergenceResult(statistic=373.8347987168064, pvalue=3.4556991821593925e-74)\n"
     ]
    }
   ],
   "source": [
    "bins = 1 + np.floor(np.log2(len(x)))\n",
    "bins = int(bins)\n",
    "def zstat(x_obs, x_exp, n):\n",
    "    z = sum(((x_obs-x_exp)**2)/x_exp)*n\n",
    "    p = 1 - sts.chi2.cdf(z, df=len(x_exp)-3)\n",
    "    return z, p\n",
    "\n",
    "def chi2(x,bins=5):\n",
    "    a = min(x)\n",
    "    b = max(x)\n",
    "    h = (b-a)/bins\n",
    "    arr = np.zeros(bins)\n",
    "    intervals = [0]*(bins)\n",
    "    c = a\n",
    "    for i in range(bins):\n",
    "        intervals[i] = (c, c+h)\n",
    "        c = c + h\n",
    "    for i in range(len(x)):\n",
    "        index = (x[i] - a) // h\n",
    "        if index == bins:\n",
    "            arr[int(index)-1] += 1\n",
    "        else:\n",
    "            arr[int(index)] += 1\n",
    "    arr /= len(x)\n",
    "    return arr, intervals\n",
    "\n",
    "def z(x, mu, sigma):\n",
    "    return (x-mu) / sigma\n",
    "\n",
    "#H0: X~N\n",
    "mu1=x.mean()\n",
    "sigma1=sts.describe(x)[3]**(1/2)\n",
    "x_obs, intervals = chi2(x,bins=bins)\n",
    "x_exp = np.ones(bins)\n",
    "for i in range(bins):\n",
    "    x_exp[i] = sts.norm.cdf(z(intervals[i][1],mu1,sigma1)) - sts.norm.cdf(z(intervals[i][0],mu1,sigma1))\n",
    "print('manual', sum((x_obs-x_exp)**2/x_exp)*len(x))\n",
    "print('x_exp', x_exp)\n",
    "print('x_obs',chi2(x, bins)[0])\n",
    "print('intervals',chi2(x, bins)[1])\n",
    "print('='*78)\n",
    "print('H0: X~N', zstat(x_obs, x_exp,len(x)))\n",
    "print('H0: X~N', sts.chisquare(x_obs*len(x), x_exp*len(x)))"
   ]
  },
  {
   "cell_type": "code",
   "execution_count": 247,
   "metadata": {},
   "outputs": [
    {
     "data": {
      "text/plain": [
       "[<matplotlib.lines.Line2D at 0x1177b3ae588>]"
      ]
     },
     "execution_count": 247,
     "metadata": {},
     "output_type": "execute_result"
    },
    {
     "data": {
      "image/png": "[encoded data removed]",
      "text/plain": [
       "<Figure size 432x288 with 1 Axes>"
      ]
     },
     "metadata": {},
     "output_type": "display_data"
    }
   ],
   "source": [
    "plt.hist(x,bins=bins, density=True)\n",
    "plt.plot(np.arange(min(x),max(x)),sts.norm.pdf(np.arange(min(x),max(x)),loc=np.mean(x), scale=np.var(x)**(1/2)))"
   ]
  },
  {
   "cell_type": "code",
   "execution_count": 248,
   "metadata": {},
   "outputs": [
    {
     "data": {
      "text/plain": [
       "([(232, 289.6363636363636),\n",
       "  (289.6363636363636, 347.27272727272725),\n",
       "  (347.27272727272725, 404.9090909090909),\n",
       "  (404.9090909090909, 462.5454545454545),\n",
       "  (462.5454545454545, 520.1818181818181),\n",
       "  (520.1818181818181, 577.8181818181818),\n",
       "  (577.8181818181818, 635.4545454545454),\n",
       "  (635.4545454545454, 693.090909090909),\n",
       "  (693.090909090909, 750.7272727272726),\n",
       "  (750.7272727272726, 808.3636363636363),\n",
       "  (808.3636363636363, 865.9999999999999)],\n",
       " array([0.02795899, 0.16029823, 0.27027027, 0.23765144, 0.13513514,\n",
       "        0.10997204, 0.03727866, 0.01211556, 0.0055918 , 0.00186393,\n",
       "        0.00186393]),\n",
       " array([ 30., 172., 290., 255., 145., 118.,  40.,  13.,   6.,   2.,   2.]))"
      ]
     },
     "execution_count": 248,
     "metadata": {},
     "output_type": "execute_result"
    }
   ],
   "source": [
    "intervals, x_obs, x_obs*len(x)"
   ]
  },
  {
   "cell_type": "markdown",
   "metadata": {},
   "source": [
    "Построить гистограмму относительных частот и функцию плотности теоретического распределения на одном графике"
   ]
  },
  {
   "cell_type": "code",
   "execution_count": 249,
   "metadata": {},
   "outputs": [
    {
     "data": {
      "text/plain": [
       "[]"
      ]
     },
     "execution_count": 249,
     "metadata": {},
     "output_type": "execute_result"
    },
    {
     "data": {
      "image/png": "[encoded data removed]",
      "text/plain": [
       "<Figure size 432x288 with 1 Axes>"
      ]
     },
     "metadata": {},
     "output_type": "display_data"
    }
   ],
   "source": [
    "x_axis=np.linspace(min(x),max(x),100)\n",
    "plt.hist(x,bins=bins, density=True,label='гистограмма относительных частот')\n",
    "plt.plot(x_axis, sts.norm.pdf(x_axis,loc=x.mean(),scale=sts.describe(x)[3]**(1/2)), label='функция плотности теоретического распределения')\n",
    "plt.legend(loc=4)\n",
    "plt.plot()"
   ]
  },
  {
   "cell_type": "markdown",
   "metadata": {},
   "source": [
    "4.2. Проверка гипотезы о нормальности на основе коэффициента асимметрии и эксцесса "
   ]
  },
  {
   "cell_type": "code",
   "execution_count": 250,
   "metadata": {},
   "outputs": [
    {
     "data": {
      "text/plain": [
       "(162.56186413710836, 0.0)"
      ]
     },
     "execution_count": 250,
     "metadata": {},
     "output_type": "execute_result"
    }
   ],
   "source": [
    "sts.jarque_bera(x)"
   ]
  },
  {
   "cell_type": "code",
   "execution_count": 251,
   "metadata": {},
   "outputs": [
    {
     "data": {
      "text/plain": [
       "(162.56186413710842, 0.0)"
      ]
     },
     "execution_count": 251,
     "metadata": {},
     "output_type": "execute_result"
    }
   ],
   "source": [
    "assim, excess = sts.describe(x)[4], sts.describe(x)[5]\n",
    "jarque_bera = len(x) * (assim**2/6 + excess**2/24)\n",
    "p = 1 - sts.chi2.cdf(jarque_bera, 2)\n",
    "jarque_bera, p"
   ]
  },
  {
   "cell_type": "code",
   "execution_count": 253,
   "metadata": {},
   "outputs": [
    {
     "data": {
      "text/html": [
       "<div>\n",
       "<style scoped>\n",
       "    .dataframe tbody tr th:only-of-type {\n",
       "        vertical-align: middle;\n",
       "    }\n",
       "\n",
       "    .dataframe tbody tr th {\n",
       "        vertical-align: top;\n",
       "    }\n",
       "\n",
       "    .dataframe thead th {\n",
       "        text-align: right;\n",
       "    }\n",
       "</style>\n",
       "<table border=\"1\" class=\"dataframe\">\n",
       "  <thead>\n",
       "    <tr style=\"text-align: right;\">\n",
       "      <th></th>\n",
       "      <th>№ задания\n",
       "Вариант</th>\n",
       "      <th>1.1</th>\n",
       "      <th>1.2</th>\n",
       "      <th>2.1, 3.1</th>\n",
       "      <th>2.2, 3.2</th>\n",
       "      <th>2.3, 3.3</th>\n",
       "      <th>2.4, 3.4</th>\n",
       "      <th>4</th>\n",
       "      <th>5</th>\n",
       "      <th>6</th>\n",
       "      <th>7</th>\n",
       "      <th>8.1</th>\n",
       "      <th>8.2</th>\n",
       "      <th>9.1</th>\n",
       "      <th>9.2</th>\n",
       "      <th>9.3</th>\n",
       "    </tr>\n",
       "  </thead>\n",
       "  <tbody>\n",
       "    <tr>\n",
       "      <th>12</th>\n",
       "      <td>13</td>\n",
       "      <td>A5 A6 A8</td>\n",
       "      <td>A8</td>\n",
       "      <td>A8</td>\n",
       "      <td>A8</td>\n",
       "      <td>A5 A8</td>\n",
       "      <td>A5 A8</td>\n",
       "      <td>A8</td>\n",
       "      <td>A5 A8</td>\n",
       "      <td>A9 A14</td>\n",
       "      <td>A4 A8</td>\n",
       "      <td>A5 A8</td>\n",
       "      <td>A5 A6 A8</td>\n",
       "      <td>A15 A13</td>\n",
       "      <td>A15 A13</td>\n",
       "      <td>A15 A5 A13</td>\n",
       "    </tr>\n",
       "  </tbody>\n",
       "</table>\n",
       "</div>"
      ],
      "text/plain": [
       "                   № задания\\nВариант       1.1 1.2 2.1, 3.1 2.2, 3.2  \\\n",
       "12                                 13  A5 A6 A8  A8       A8       A8   \n",
       "\n",
       "   2.3, 3.3 2.4, 3.4   4      5       6      7    8.1       8.2      9.1  \\\n",
       "12    A5 A8    A5 A8  A8  A5 A8  A9 A14  A4 A8  A5 A8  A5 A6 A8  A15 A13   \n",
       "\n",
       "        9.2         9.3  \n",
       "12  A15 A13  A15 A5 A13  "
      ]
     },
     "execution_count": 253,
     "metadata": {},
     "output_type": "execute_result"
    }
   ],
   "source": [
    "task"
   ]
  },
  {
   "cell_type": "markdown",
   "metadata": {},
   "source": [
    "5.1 Критерий знаков\n"
   ]
  },
  {
   "cell_type": "code",
   "execution_count": 254,
   "metadata": {},
   "outputs": [],
   "source": [
    "x = DF['A5']\n",
    "y = DF['A8']"
   ]
  },
  {
   "cell_type": "code",
   "execution_count": 255,
   "metadata": {},
   "outputs": [
    {
     "data": {
      "text/plain": [
       "DescribeResult(nobs=1073, minmax=(270, 1009), mean=526.4836905871389, variance=13868.856310247458, skewness=0.6786486256734204, kurtosis=0.5304432832288937)"
      ]
     },
     "execution_count": 255,
     "metadata": {},
     "output_type": "execute_result"
    }
   ],
   "source": [
    "sts.describe(x)"
   ]
  },
  {
   "cell_type": "code",
   "execution_count": 256,
   "metadata": {},
   "outputs": [
    {
     "data": {
      "text/plain": [
       "DescribeResult(nobs=1073, minmax=(232, 866), mean=428.0326188257223, variance=8217.62113651222, skewness=0.8191411695756438, kurtosis=0.9757478446505425)"
      ]
     },
     "execution_count": 256,
     "metadata": {},
     "output_type": "execute_result"
    }
   ],
   "source": [
    "sts.describe(y)"
   ]
  },
  {
   "cell_type": "code",
   "execution_count": 257,
   "metadata": {},
   "outputs": [
    {
     "data": {
      "text/plain": [
       "(536.5, 2e-323)"
      ]
     },
     "execution_count": 257,
     "metadata": {},
     "output_type": "execute_result"
    }
   ],
   "source": [
    "sign_test(x-y)#по приколу тесты"
   ]
  },
  {
   "cell_type": "code",
   "execution_count": 258,
   "metadata": {},
   "outputs": [
    {
     "data": {
      "text/plain": [
       "WilcoxonResult(statistic=0.0, pvalue=4.110515034106515e-177)"
      ]
     },
     "execution_count": 258,
     "metadata": {},
     "output_type": "execute_result"
    }
   ],
   "source": [
    "sts.wilcoxon(x-y)#по приколу тесты"
   ]
  },
  {
   "cell_type": "code",
   "execution_count": 262,
   "metadata": {},
   "outputs": [
    {
     "name": "stdout",
     "output_type": "stream",
     "text": [
      "Sign test: Zstat = 32.7566787083184  p-val = 0.0\n"
     ]
    }
   ],
   "source": [
    "K = 0\n",
    "for i in range(len(x)):\n",
    "    if x[i]-y[i] > 0:\n",
    "        K+=1\n",
    "Z = 2 * np.sqrt(len(x)) * (K/len(x) - (1/2))\n",
    "p = min(sts.norm.cdf(Z), 1 -sts.norm.cdf(Z))*2\n",
    "print('Sign test: Zstat =',Z,' p-val =', p)"
   ]
  },
  {
   "cell_type": "markdown",
   "metadata": {},
   "source": [
    "5.2. Критерий хи-квадрат"
   ]
  },
  {
   "cell_type": "code",
   "execution_count": 263,
   "metadata": {},
   "outputs": [
    {
     "data": {
      "text/plain": [
       "Power_divergenceResult(statistic=26491.49167365555, pvalue=0.0)"
      ]
     },
     "execution_count": 263,
     "metadata": {},
     "output_type": "execute_result"
    }
   ],
   "source": [
    "sts.chisquare(x,y) #дичь, так не надо делать"
   ]
  },
  {
   "cell_type": "code",
   "execution_count": 264,
   "metadata": {},
   "outputs": [],
   "source": [
    "def chisquaretwosample(x, y, k):\n",
    "    nx = x.size\n",
    "    ny = y.size\n",
    "    a = min(min(x), min(y))\n",
    "    b = max(max(x), max(y))\n",
    "    h = (b - a) / k\n",
    "    intervals = [] \n",
    "    for i in range(k):\n",
    "        intervals.append((a+h*i,a+h+h*i))\n",
    "    fx = np.zeros(k)\n",
    "    fy = np.zeros(k)\n",
    "    c = a\n",
    "    for item in x:\n",
    "        index = (item - a) // h\n",
    "        if index == bins:\n",
    "            fx[int(index) - 1] += 1\n",
    "        else:\n",
    "            fx[int(index)] += 1\n",
    "    for item in y:\n",
    "        index = (item - a) // h\n",
    "        if index == bins:\n",
    "            fy[int(index) - 1] += 1\n",
    "        else:\n",
    "            fy[int(index)] += 1\n",
    "    z = 0\n",
    "    for i in range(k):\n",
    "        z += ((fx[i]/nx - fy[i]/ny)**2) / (fx[i] + fy[i])\n",
    "    z = z * nx * ny\n",
    "    p = 1 - sts.chi2.cdf(z ,df=k-1)\n",
    "    return z, p, intervals, fx, fy, fx/len(x), fy/len(x)"
   ]
  },
  {
   "cell_type": "code",
   "execution_count": 265,
   "metadata": {},
   "outputs": [
    {
     "data": {
      "text/plain": [
       "(402.6320676583203,\n",
       " 0.0,\n",
       " [(232.0, 302.6363636363636),\n",
       "  (302.6363636363636, 373.27272727272725),\n",
       "  (373.27272727272725, 443.9090909090909),\n",
       "  (443.90909090909093, 514.5454545454545),\n",
       "  (514.5454545454545, 585.1818181818182),\n",
       "  (585.1818181818182, 655.8181818181818),\n",
       "  (655.8181818181819, 726.4545454545455),\n",
       "  (726.4545454545455, 797.0909090909091),\n",
       "  (797.0909090909091, 867.7272727272727),\n",
       "  (867.7272727272727, 938.3636363636364),\n",
       "  (938.3636363636364, 1009.0)],\n",
       " array([  6.,  78., 186., 288., 207., 143., 102.,  41.,  11.,   7.,   4.]),\n",
       " array([ 53., 275., 345., 205., 138.,  41.,   9.,   5.,   2.,   0.,   0.]),\n",
       " array([0.0055918 , 0.07269338, 0.17334576, 0.26840634, 0.19291705,\n",
       "        0.1332712 , 0.09506058, 0.03821062, 0.01025163, 0.00652377,\n",
       "        0.00372787]),\n",
       " array([0.04939422, 0.25629077, 0.32152842, 0.19105312, 0.12861137,\n",
       "        0.03821062, 0.0083877 , 0.00465983, 0.00186393, 0.        ,\n",
       "        0.        ]))"
      ]
     },
     "execution_count": 265,
     "metadata": {},
     "output_type": "execute_result"
    }
   ],
   "source": [
    "chisquaretwosample(x, y, bins)"
   ]
  },
  {
   "cell_type": "code",
   "execution_count": 266,
   "metadata": {},
   "outputs": [
    {
     "data": {
      "text/plain": [
       "DescribeResult(nobs=1073, minmax=(270, 1009), mean=526.4836905871389, variance=13868.856310247458, skewness=0.6786486256734204, kurtosis=0.5304432832288937)"
      ]
     },
     "execution_count": 266,
     "metadata": {},
     "output_type": "execute_result"
    }
   ],
   "source": [
    "sts.describe(x)"
   ]
  },
  {
   "cell_type": "code",
   "execution_count": 267,
   "metadata": {},
   "outputs": [
    {
     "data": {
      "text/plain": [
       "DescribeResult(nobs=1073, minmax=(232, 866), mean=428.0326188257223, variance=8217.62113651222, skewness=0.8191411695756438, kurtosis=0.9757478446505425)"
      ]
     },
     "execution_count": 267,
     "metadata": {},
     "output_type": "execute_result"
    }
   ],
   "source": [
    "sts.describe(y)"
   ]
  },
  {
   "cell_type": "code",
   "execution_count": 268,
   "metadata": {},
   "outputs": [],
   "source": [
    "intervals = chisquaretwosample(x, y, bins)[2]\n",
    "for i in range(bins):\n",
    "    intervals[i] = intervals[i][0]\n",
    "intervals.append(intervals[-1]+(intervals[1]-intervals[0]))\n"
   ]
  },
  {
   "cell_type": "code",
   "execution_count": 273,
   "metadata": {
    "scrolled": true
   },
   "outputs": [
    {
     "data": {
      "text/plain": [
       "<matplotlib.legend.Legend at 0x1177b278240>"
      ]
     },
     "execution_count": 273,
     "metadata": {},
     "output_type": "execute_result"
    },
    {
     "data": {
      "image/png": "[encoded data removed]",
      "text/plain": [
       "<Figure size 432x288 with 1 Axes>"
      ]
     },
     "metadata": {},
     "output_type": "display_data"
    }
   ],
   "source": [
    "plt.hist(x, bins=intervals, label='A5', density=True, alpha=0.7)\n",
    "plt.hist(y, bins=intervals, label='A8', density=True, alpha=0.7)\n",
    "plt.legend()"
   ]
  },
  {
   "cell_type": "markdown",
   "metadata": {},
   "source": [
    "6. Таблицы сопряжённости"
   ]
  },
  {
   "cell_type": "code",
   "execution_count": 279,
   "metadata": {},
   "outputs": [
    {
     "data": {
      "text/html": [
       "<div>\n",
       "<style scoped>\n",
       "    .dataframe tbody tr th:only-of-type {\n",
       "        vertical-align: middle;\n",
       "    }\n",
       "\n",
       "    .dataframe tbody tr th {\n",
       "        vertical-align: top;\n",
       "    }\n",
       "\n",
       "    .dataframe thead th {\n",
       "        text-align: right;\n",
       "    }\n",
       "</style>\n",
       "<table border=\"1\" class=\"dataframe\">\n",
       "  <thead>\n",
       "    <tr style=\"text-align: right;\">\n",
       "      <th></th>\n",
       "      <th>№ задания\n",
       "Вариант</th>\n",
       "      <th>1.1</th>\n",
       "      <th>1.2</th>\n",
       "      <th>2.1, 3.1</th>\n",
       "      <th>2.2, 3.2</th>\n",
       "      <th>2.3, 3.3</th>\n",
       "      <th>2.4, 3.4</th>\n",
       "      <th>4</th>\n",
       "      <th>5</th>\n",
       "      <th>6</th>\n",
       "      <th>7</th>\n",
       "      <th>8.1</th>\n",
       "      <th>8.2</th>\n",
       "      <th>9.1</th>\n",
       "      <th>9.2</th>\n",
       "      <th>9.3</th>\n",
       "    </tr>\n",
       "  </thead>\n",
       "  <tbody>\n",
       "    <tr>\n",
       "      <th>12</th>\n",
       "      <td>13</td>\n",
       "      <td>A5 A6 A8</td>\n",
       "      <td>A8</td>\n",
       "      <td>A8</td>\n",
       "      <td>A8</td>\n",
       "      <td>A5 A8</td>\n",
       "      <td>A5 A8</td>\n",
       "      <td>A8</td>\n",
       "      <td>A5 A8</td>\n",
       "      <td>A9 A14</td>\n",
       "      <td>A4 A8</td>\n",
       "      <td>A5 A8</td>\n",
       "      <td>A5 A6 A8</td>\n",
       "      <td>A15 A13</td>\n",
       "      <td>A15 A13</td>\n",
       "      <td>A15 A5 A13</td>\n",
       "    </tr>\n",
       "  </tbody>\n",
       "</table>\n",
       "</div>"
      ],
      "text/plain": [
       "                   № задания\\nВариант       1.1 1.2 2.1, 3.1 2.2, 3.2  \\\n",
       "12                                 13  A5 A6 A8  A8       A8       A8   \n",
       "\n",
       "   2.3, 3.3 2.4, 3.4   4      5       6      7    8.1       8.2      9.1  \\\n",
       "12    A5 A8    A5 A8  A8  A5 A8  A9 A14  A4 A8  A5 A8  A5 A6 A8  A15 A13   \n",
       "\n",
       "        9.2         9.3  \n",
       "12  A15 A13  A15 A5 A13  "
      ]
     },
     "execution_count": 279,
     "metadata": {},
     "output_type": "execute_result"
    }
   ],
   "source": [
    "task"
   ]
  },
  {
   "cell_type": "code",
   "execution_count": 297,
   "metadata": {},
   "outputs": [],
   "source": [
    "#x и y категориальные признаки\n",
    "x = DF['A9']\n",
    "y = DF['A14']"
   ]
  },
  {
   "cell_type": "code",
   "execution_count": 301,
   "metadata": {},
   "outputs": [
    {
     "data": {
      "text/plain": [
       "(array(['N', 'Y', 'N', ..., 'N', 'N', 'Y'], dtype=object),\n",
       " array(['N', 'Y', 'Y', ..., 'N', 'N', 'Y'], dtype=object))"
      ]
     },
     "execution_count": 301,
     "metadata": {},
     "output_type": "execute_result"
    }
   ],
   "source": [
    "x.values, y.values"
   ]
  },
  {
   "cell_type": "code",
   "execution_count": 302,
   "metadata": {},
   "outputs": [
    {
     "data": {
      "text/html": [
       "<div>\n",
       "<style scoped>\n",
       "    .dataframe tbody tr th:only-of-type {\n",
       "        vertical-align: middle;\n",
       "    }\n",
       "\n",
       "    .dataframe tbody tr th {\n",
       "        vertical-align: top;\n",
       "    }\n",
       "\n",
       "    .dataframe thead th {\n",
       "        text-align: right;\n",
       "    }\n",
       "</style>\n",
       "<table border=\"1\" class=\"dataframe\">\n",
       "  <thead>\n",
       "    <tr style=\"text-align: right;\">\n",
       "      <th>A14</th>\n",
       "      <th>N</th>\n",
       "      <th>Y</th>\n",
       "    </tr>\n",
       "    <tr>\n",
       "      <th>A9</th>\n",
       "      <th></th>\n",
       "      <th></th>\n",
       "    </tr>\n",
       "  </thead>\n",
       "  <tbody>\n",
       "    <tr>\n",
       "      <th>N</th>\n",
       "      <td>570</td>\n",
       "      <td>31</td>\n",
       "    </tr>\n",
       "    <tr>\n",
       "      <th>Y</th>\n",
       "      <td>22</td>\n",
       "      <td>450</td>\n",
       "    </tr>\n",
       "  </tbody>\n",
       "</table>\n",
       "</div>"
      ],
      "text/plain": [
       "A14    N    Y\n",
       "A9           \n",
       "N    570   31\n",
       "Y     22  450"
      ]
     },
     "execution_count": 302,
     "metadata": {},
     "output_type": "execute_result"
    }
   ],
   "source": [
    "crossTab=pd.crosstab(x,y)\n",
    "crossTab"
   ]
  },
  {
   "cell_type": "code",
   "execution_count": 303,
   "metadata": {},
   "outputs": [
    {
     "data": {
      "text/plain": [
       "(869.3179892080127,\n",
       " 4.590391322035167e-191,\n",
       " 1,\n",
       " array([[331.5862069, 269.4137931],\n",
       "        [260.4137931, 211.5862069]]))"
      ]
     },
     "execution_count": 303,
     "metadata": {},
     "output_type": "execute_result"
    }
   ],
   "source": [
    "sts.chi2_contingency(crossTab, correction=False)"
   ]
  },
  {
   "cell_type": "markdown",
   "metadata": {},
   "source": [
    "7. Дисперсионный анализ"
   ]
  },
  {
   "cell_type": "code",
   "execution_count": 328,
   "metadata": {},
   "outputs": [],
   "source": [
    "x = DF['A4']#факторный признак\n",
    "y = DF['A8']#результативный "
   ]
  },
  {
   "cell_type": "code",
   "execution_count": 329,
   "metadata": {},
   "outputs": [
    {
     "data": {
      "text/html": [
       "<div>\n",
       "<style scoped>\n",
       "    .dataframe tbody tr th:only-of-type {\n",
       "        vertical-align: middle;\n",
       "    }\n",
       "\n",
       "    .dataframe tbody tr th {\n",
       "        vertical-align: top;\n",
       "    }\n",
       "\n",
       "    .dataframe thead th {\n",
       "        text-align: right;\n",
       "    }\n",
       "</style>\n",
       "<table border=\"1\" class=\"dataframe\">\n",
       "  <thead>\n",
       "    <tr style=\"text-align: right;\">\n",
       "      <th></th>\n",
       "      <th>№ задания\n",
       "Вариант</th>\n",
       "      <th>1.1</th>\n",
       "      <th>1.2</th>\n",
       "      <th>2.1, 3.1</th>\n",
       "      <th>2.2, 3.2</th>\n",
       "      <th>2.3, 3.3</th>\n",
       "      <th>2.4, 3.4</th>\n",
       "      <th>4</th>\n",
       "      <th>5</th>\n",
       "      <th>6</th>\n",
       "      <th>7</th>\n",
       "      <th>8.1</th>\n",
       "      <th>8.2</th>\n",
       "      <th>9.1</th>\n",
       "      <th>9.2</th>\n",
       "      <th>9.3</th>\n",
       "    </tr>\n",
       "  </thead>\n",
       "  <tbody>\n",
       "    <tr>\n",
       "      <th>12</th>\n",
       "      <td>13</td>\n",
       "      <td>A5 A6 A8</td>\n",
       "      <td>A8</td>\n",
       "      <td>A8</td>\n",
       "      <td>A8</td>\n",
       "      <td>A5 A8</td>\n",
       "      <td>A5 A8</td>\n",
       "      <td>A8</td>\n",
       "      <td>A5 A8</td>\n",
       "      <td>A9 A14</td>\n",
       "      <td>A4 A8</td>\n",
       "      <td>A5 A8</td>\n",
       "      <td>A5 A6 A8</td>\n",
       "      <td>A15 A13</td>\n",
       "      <td>A15 A13</td>\n",
       "      <td>A15 A5 A13</td>\n",
       "    </tr>\n",
       "  </tbody>\n",
       "</table>\n",
       "</div>"
      ],
      "text/plain": [
       "                   № задания\\nВариант       1.1 1.2 2.1, 3.1 2.2, 3.2  \\\n",
       "12                                 13  A5 A6 A8  A8       A8       A8   \n",
       "\n",
       "   2.3, 3.3 2.4, 3.4   4      5       6      7    8.1       8.2      9.1  \\\n",
       "12    A5 A8    A5 A8  A8  A5 A8  A9 A14  A4 A8  A5 A8  A5 A6 A8  A15 A13   \n",
       "\n",
       "        9.2         9.3  \n",
       "12  A15 A13  A15 A5 A13  "
      ]
     },
     "execution_count": 329,
     "metadata": {},
     "output_type": "execute_result"
    }
   ],
   "source": [
    "task"
   ]
  },
  {
   "cell_type": "code",
   "execution_count": 330,
   "metadata": {},
   "outputs": [
    {
     "data": {
      "text/plain": [
       "DescribeResult(nobs=1073, minmax=(232, 866), mean=428.0326188257223, variance=8217.62113651222, skewness=0.8191411695756438, kurtosis=0.9757478446505425)"
      ]
     },
     "execution_count": 330,
     "metadata": {},
     "output_type": "execute_result"
    }
   ],
   "source": [
    "sts.describe(y)"
   ]
  },
  {
   "cell_type": "code",
   "execution_count": 331,
   "metadata": {},
   "outputs": [
    {
     "data": {
      "text/plain": [
       "A4\n",
       "I      180\n",
       "IIA    359\n",
       "IIB    534\n",
       "Name: A8, dtype: int64"
      ]
     },
     "execution_count": 331,
     "metadata": {},
     "output_type": "execute_result"
    }
   ],
   "source": [
    "y.groupby(x).size()"
   ]
  },
  {
   "cell_type": "code",
   "execution_count": 332,
   "metadata": {},
   "outputs": [
    {
     "data": {
      "text/plain": [
       "A4\n",
       "I      7652.245810\n",
       "IIA    4684.098411\n",
       "IIB    4975.631318\n",
       "Name: A8, dtype: float64"
      ]
     },
     "execution_count": 332,
     "metadata": {},
     "output_type": "execute_result"
    }
   ],
   "source": [
    "y.groupby(x).var()"
   ]
  },
  {
   "cell_type": "code",
   "execution_count": 333,
   "metadata": {},
   "outputs": [
    {
     "data": {
      "text/plain": [
       "A4\n",
       "I      533.666667\n",
       "IIA    440.818942\n",
       "IIB    383.829588\n",
       "Name: A8, dtype: float64"
      ]
     },
     "execution_count": 333,
     "metadata": {},
     "output_type": "execute_result"
    }
   ],
   "source": [
    "y.groupby(x).mean()"
   ]
  },
  {
   "cell_type": "code",
   "execution_count": 334,
   "metadata": {
    "scrolled": true
   },
   "outputs": [
    {
     "name": "stdout",
     "output_type": "stream",
     "text": [
      "DescribeResult(nobs=180, minmax=(362, 866), mean=533.6666666666666, variance=7652.245810055866, skewness=0.9172702569156433, kurtosis=1.2945630920451272)\n",
      "DescribeResult(nobs=359, minmax=(308, 693), mean=440.81894150417827, variance=4684.0984111669595, skewness=0.6472828703761339, kurtosis=0.009055740676283008)\n",
      "DescribeResult(nobs=534, minmax=(232, 638), mean=383.82958801498125, variance=4975.631318028824, skewness=0.8375392420106582, kurtosis=0.6350116848917904)\n"
     ]
    }
   ],
   "source": [
    "for item in y.groupby(x): \n",
    "    print(sts.describe(item[1]))"
   ]
  },
  {
   "cell_type": "code",
   "execution_count": 335,
   "metadata": {
    "scrolled": true
   },
   "outputs": [
    {
     "name": "stdout",
     "output_type": "stream",
     "text": [
      "Внутригрупповая дисперсия 5310.969919577945 несмещ. 5325.86048944592\n"
     ]
    }
   ],
   "source": [
    "Dw = 0\n",
    "for item in y.groupby(x): \n",
    "    Dw += sts.describe(item[1])[3]*(sts.describe(item[1])[0]-1)\n",
    "Dw/=len(y)\n",
    "print('Внутригрупповая дисперсия',Dw,'несмещ.',Dw*len(x)/(len(x)-3))"
   ]
  },
  {
   "cell_type": "code",
   "execution_count": 336,
   "metadata": {},
   "outputs": [
    {
     "name": "stdout",
     "output_type": "stream",
     "text": [
      "Межгрупповая дисперсия 2898.9926697427436 несмещ. 1555309.567316982\n"
     ]
    }
   ],
   "source": [
    "Db = 0\n",
    "for item in y.groupby(x): \n",
    "    Db += sts.describe(item[1])[0]*(sts.describe(item[1])[2]-sts.describe(y)[2])**2\n",
    "Db/=len(y)\n",
    "print('Межгрупповая дисперсия',Db,'несмещ.', Db*len(x)/2)\n"
   ]
  },
  {
   "cell_type": "code",
   "execution_count": 337,
   "metadata": {},
   "outputs": [
    {
     "name": "stdout",
     "output_type": "stream",
     "text": [
      "Общая дисперсия 8209.962589320685\n",
      "Dw+Db = 8209.962589320688\n"
     ]
    }
   ],
   "source": [
    "print('Общая дисперсия', np.var(y))\n",
    "print('Dw+Db =', Dw+Db)"
   ]
  },
  {
   "cell_type": "code",
   "execution_count": 338,
   "metadata": {
    "scrolled": true
   },
   "outputs": [
    {
     "name": "stdout",
     "output_type": "stream",
     "text": [
      "ЭКД = 0.3531066844949671\n",
      "ЭКО = 0.5942278052186444\n"
     ]
    }
   ],
   "source": [
    "nusquare = Db / (Db + Dw)\n",
    "print('ЭКД =', nusquare)\n",
    "print('ЭКО =', np.sqrt(nusquare))"
   ]
  },
  {
   "cell_type": "code",
   "execution_count": 339,
   "metadata": {},
   "outputs": [
    {
     "name": "stdout",
     "output_type": "stream",
     "text": [
      "Дисперсионный анализ: Z-val 292.0297237224082  p-val 1.1102230246251565e-16\n"
     ]
    }
   ],
   "source": [
    "zstatFtest = Db / (len(y.groupby(x))-1) / Dw * (len(y)-len(y.groupby(x)))\n",
    "pvalFtest = 1 - sts.f.cdf(zstatFtest, len(y.groupby(x))-1, len(y)-len(y.groupby(x)))\n",
    "print('Дисперсионный анализ: Z-val',zstatFtest,' p-val', pvalFtest)"
   ]
  },
  {
   "cell_type": "code",
   "execution_count": 340,
   "metadata": {
    "scrolled": true
   },
   "outputs": [
    {
     "name": "stdout",
     "output_type": "stream",
     "text": [
      "F_onewayResult(statistic=292.02972372240845, pvalue=6.244173657733121e-102)\n"
     ]
    }
   ],
   "source": [
    "xarrr = []#чисто для проверки\n",
    "for item in y.groupby(x): \n",
    "    xarrr.append(item[1])\n",
    "print(sts.f_oneway(xarrr[0],xarrr[1],xarrr[2]))\n"
   ]
  },
  {
   "cell_type": "markdown",
   "metadata": {},
   "source": [
    "8. Корреляционный анализ\n"
   ]
  },
  {
   "cell_type": "code",
   "execution_count": 341,
   "metadata": {},
   "outputs": [
    {
     "data": {
      "text/html": [
       "<div>\n",
       "<style scoped>\n",
       "    .dataframe tbody tr th:only-of-type {\n",
       "        vertical-align: middle;\n",
       "    }\n",
       "\n",
       "    .dataframe tbody tr th {\n",
       "        vertical-align: top;\n",
       "    }\n",
       "\n",
       "    .dataframe thead th {\n",
       "        text-align: right;\n",
       "    }\n",
       "</style>\n",
       "<table border=\"1\" class=\"dataframe\">\n",
       "  <thead>\n",
       "    <tr style=\"text-align: right;\">\n",
       "      <th></th>\n",
       "      <th>№ задания\n",
       "Вариант</th>\n",
       "      <th>1.1</th>\n",
       "      <th>1.2</th>\n",
       "      <th>2.1, 3.1</th>\n",
       "      <th>2.2, 3.2</th>\n",
       "      <th>2.3, 3.3</th>\n",
       "      <th>2.4, 3.4</th>\n",
       "      <th>4</th>\n",
       "      <th>5</th>\n",
       "      <th>6</th>\n",
       "      <th>7</th>\n",
       "      <th>8.1</th>\n",
       "      <th>8.2</th>\n",
       "      <th>9.1</th>\n",
       "      <th>9.2</th>\n",
       "      <th>9.3</th>\n",
       "    </tr>\n",
       "  </thead>\n",
       "  <tbody>\n",
       "    <tr>\n",
       "      <th>12</th>\n",
       "      <td>13</td>\n",
       "      <td>A5 A6 A8</td>\n",
       "      <td>A8</td>\n",
       "      <td>A8</td>\n",
       "      <td>A8</td>\n",
       "      <td>A5 A8</td>\n",
       "      <td>A5 A8</td>\n",
       "      <td>A8</td>\n",
       "      <td>A5 A8</td>\n",
       "      <td>A9 A14</td>\n",
       "      <td>A4 A8</td>\n",
       "      <td>A5 A8</td>\n",
       "      <td>A5 A6 A8</td>\n",
       "      <td>A15 A13</td>\n",
       "      <td>A15 A13</td>\n",
       "      <td>A15 A5 A13</td>\n",
       "    </tr>\n",
       "  </tbody>\n",
       "</table>\n",
       "</div>"
      ],
      "text/plain": [
       "                   № задания\\nВариант       1.1 1.2 2.1, 3.1 2.2, 3.2  \\\n",
       "12                                 13  A5 A6 A8  A8       A8       A8   \n",
       "\n",
       "   2.3, 3.3 2.4, 3.4   4      5       6      7    8.1       8.2      9.1  \\\n",
       "12    A5 A8    A5 A8  A8  A5 A8  A9 A14  A4 A8  A5 A8  A5 A6 A8  A15 A13   \n",
       "\n",
       "        9.2         9.3  \n",
       "12  A15 A13  A15 A5 A13  "
      ]
     },
     "execution_count": 341,
     "metadata": {},
     "output_type": "execute_result"
    }
   ],
   "source": [
    "task"
   ]
  },
  {
   "cell_type": "code",
   "execution_count": 342,
   "metadata": {},
   "outputs": [],
   "source": [
    "x=DF['A5']\n",
    "y=DF['A8']"
   ]
  },
  {
   "cell_type": "code",
   "execution_count": 343,
   "metadata": {},
   "outputs": [
    {
     "data": {
      "text/plain": [
       "(0.9676495087428431, 0.0)"
      ]
     },
     "execution_count": 343,
     "metadata": {},
     "output_type": "execute_result"
    }
   ],
   "source": [
    "sts.pearsonr(x,y)"
   ]
  },
  {
   "cell_type": "code",
   "execution_count": 344,
   "metadata": {},
   "outputs": [
    {
     "data": {
      "text/plain": [
       "SpearmanrResult(correlation=0.964218164732936, pvalue=0.0)"
      ]
     },
     "execution_count": 344,
     "metadata": {},
     "output_type": "execute_result"
    }
   ],
   "source": [
    "sts.spearmanr(x,y)"
   ]
  },
  {
   "cell_type": "code",
   "execution_count": 345,
   "metadata": {},
   "outputs": [
    {
     "data": {
      "text/plain": [
       "KendalltauResult(correlation=0.8405274510615323, pvalue=0.0)"
      ]
     },
     "execution_count": 345,
     "metadata": {},
     "output_type": "execute_result"
    }
   ],
   "source": [
    "sts.kendalltau(x,y)"
   ]
  },
  {
   "cell_type": "code",
   "execution_count": 346,
   "metadata": {},
   "outputs": [],
   "source": [
    "#доверительный интервал для линейного коэффициента корреляции\n",
    "def proveinterval(r, n, alpha):\n",
    "    u = sts.norm.ppf(1-alpha/2)\n",
    "    high = r + r * (1-r**2)/(2*n) + u * (1 - r**2)/np.sqrt(n)\n",
    "    low = r + r * (1-r**2)/(2*n) - u * (1 - r**2)/np.sqrt(n)\n",
    "    return high, low"
   ]
  },
  {
   "cell_type": "code",
   "execution_count": 347,
   "metadata": {},
   "outputs": [
    {
     "name": "stdout",
     "output_type": "stream",
     "text": [
      "0.01   low 0.9626727297979937 high 0.9726836923253493\n",
      "0.05   low 0.9638695103109728 high 0.9714869118123702\n",
      "0.1   low 0.9644818486319661 high 0.970874573491377\n"
     ]
    }
   ],
   "source": [
    "for alpha in [0.01,0.05,0.1]:\n",
    "    print(alpha,'  low',proveinterval(sts.pearsonr(x,y)[0], len(x), alpha)[1],\n",
    "                'high',proveinterval(sts.pearsonr(x,y)[0], len(x), alpha)[0])"
   ]
  },
  {
   "cell_type": "code",
   "execution_count": 348,
   "metadata": {},
   "outputs": [],
   "source": [
    "#проверка значимости коэффициентов корреляции\n",
    "def zstat(r, n):\n",
    "    z = r/((1-r**2)**(1/2)) * (n-2)**(1/2)\n",
    "    p = min(sts.t.cdf(z, df = n-2), 1-sts.t.cdf(z, df = n-2))*2\n",
    "    return z, p"
   ]
  },
  {
   "cell_type": "code",
   "execution_count": 349,
   "metadata": {
    "scrolled": true
   },
   "outputs": [
    {
     "data": {
      "text/plain": [
       "(125.51583082232548, 0.0)"
      ]
     },
     "execution_count": 349,
     "metadata": {},
     "output_type": "execute_result"
    }
   ],
   "source": [
    "zstat(sts.pearsonr(x,y)[0], len(x))"
   ]
  },
  {
   "cell_type": "code",
   "execution_count": 350,
   "metadata": {},
   "outputs": [
    {
     "data": {
      "text/plain": [
       "(119.02655851028635, 0.0)"
      ]
     },
     "execution_count": 350,
     "metadata": {},
     "output_type": "execute_result"
    }
   ],
   "source": [
    "zstat(sts.spearmanr(x,y)[0], len(x))"
   ]
  },
  {
   "cell_type": "code",
   "execution_count": 351,
   "metadata": {},
   "outputs": [],
   "source": [
    "def zstattau(t, n):\n",
    "    z = t * np.sqrt(9*n*(n+1)/(2*(2*n+5)))\n",
    "    p = min(sts.norm.cdf(z), 1-sts.norm.cdf(z))*2\n",
    "    return z, p"
   ]
  },
  {
   "cell_type": "code",
   "execution_count": 352,
   "metadata": {},
   "outputs": [
    {
     "data": {
      "text/plain": [
       "(41.270521349340356, 0.0)"
      ]
     },
     "execution_count": 352,
     "metadata": {},
     "output_type": "execute_result"
    }
   ],
   "source": [
    "zstattau(sts.kendalltau(x,y)[0], len(x))"
   ]
  },
  {
   "cell_type": "markdown",
   "metadata": {},
   "source": [
    "8.2 Расчёт множественных коэффициентов корреляции"
   ]
  },
  {
   "cell_type": "code",
   "execution_count": 354,
   "metadata": {
    "scrolled": true
   },
   "outputs": [
    {
     "data": {
      "text/html": [
       "<div>\n",
       "<style scoped>\n",
       "    .dataframe tbody tr th:only-of-type {\n",
       "        vertical-align: middle;\n",
       "    }\n",
       "\n",
       "    .dataframe tbody tr th {\n",
       "        vertical-align: top;\n",
       "    }\n",
       "\n",
       "    .dataframe thead th {\n",
       "        text-align: right;\n",
       "    }\n",
       "</style>\n",
       "<table border=\"1\" class=\"dataframe\">\n",
       "  <thead>\n",
       "    <tr style=\"text-align: right;\">\n",
       "      <th></th>\n",
       "      <th>№ задания\n",
       "Вариант</th>\n",
       "      <th>1.1</th>\n",
       "      <th>1.2</th>\n",
       "      <th>2.1, 3.1</th>\n",
       "      <th>2.2, 3.2</th>\n",
       "      <th>2.3, 3.3</th>\n",
       "      <th>2.4, 3.4</th>\n",
       "      <th>4</th>\n",
       "      <th>5</th>\n",
       "      <th>6</th>\n",
       "      <th>7</th>\n",
       "      <th>8.1</th>\n",
       "      <th>8.2</th>\n",
       "      <th>9.1</th>\n",
       "      <th>9.2</th>\n",
       "      <th>9.3</th>\n",
       "    </tr>\n",
       "  </thead>\n",
       "  <tbody>\n",
       "    <tr>\n",
       "      <th>12</th>\n",
       "      <td>13</td>\n",
       "      <td>A5 A6 A8</td>\n",
       "      <td>A8</td>\n",
       "      <td>A8</td>\n",
       "      <td>A8</td>\n",
       "      <td>A5 A8</td>\n",
       "      <td>A5 A8</td>\n",
       "      <td>A8</td>\n",
       "      <td>A5 A8</td>\n",
       "      <td>A9 A14</td>\n",
       "      <td>A4 A8</td>\n",
       "      <td>A5 A8</td>\n",
       "      <td>A5 A6 A8</td>\n",
       "      <td>A15 A13</td>\n",
       "      <td>A15 A13</td>\n",
       "      <td>A15 A5 A13</td>\n",
       "    </tr>\n",
       "  </tbody>\n",
       "</table>\n",
       "</div>"
      ],
      "text/plain": [
       "                   № задания\\nВариант       1.1 1.2 2.1, 3.1 2.2, 3.2  \\\n",
       "12                                 13  A5 A6 A8  A8       A8       A8   \n",
       "\n",
       "   2.3, 3.3 2.4, 3.4   4      5       6      7    8.1       8.2      9.1  \\\n",
       "12    A5 A8    A5 A8  A8  A5 A8  A9 A14  A4 A8  A5 A8  A5 A6 A8  A15 A13   \n",
       "\n",
       "        9.2         9.3  \n",
       "12  A15 A13  A15 A5 A13  "
      ]
     },
     "execution_count": 354,
     "metadata": {},
     "output_type": "execute_result"
    }
   ],
   "source": [
    "task"
   ]
  },
  {
   "cell_type": "code",
   "execution_count": 355,
   "metadata": {},
   "outputs": [],
   "source": [
    "x = DF['A5']\n",
    "y = DF['A6']\n",
    "z = DF['A8']"
   ]
  },
  {
   "cell_type": "code",
   "execution_count": 356,
   "metadata": {},
   "outputs": [
    {
     "name": "stdout",
     "output_type": "stream",
     "text": [
      "0 0 KendalltauResult(correlation=0.9999999999999999, pvalue=0.0)\n",
      "0 1 KendalltauResult(correlation=0.8207843548296889, pvalue=0.0)\n",
      "0 2 KendalltauResult(correlation=0.8405274510615323, pvalue=0.0)\n",
      "1 0 KendalltauResult(correlation=0.8207843548296889, pvalue=0.0)\n",
      "1 1 KendalltauResult(correlation=1.0, pvalue=0.0)\n",
      "1 2 KendalltauResult(correlation=0.8129554569730247, pvalue=0.0)\n",
      "2 0 KendalltauResult(correlation=0.8405274510615321, pvalue=0.0)\n",
      "2 1 KendalltauResult(correlation=0.8129554569730247, pvalue=0.0)\n",
      "2 2 KendalltauResult(correlation=1.0, pvalue=0.0)\n"
     ]
    }
   ],
   "source": [
    "for num1, i in enumerate((x,y,z)):\n",
    "    for num2, j in enumerate((x,y,z)):\n",
    "        print(num1,num2,sts.kendalltau(i,j))"
   ]
  },
  {
   "cell_type": "code",
   "execution_count": 357,
   "metadata": {},
   "outputs": [
    {
     "data": {
      "text/plain": [
       "KendalltauResult(correlation=0.8405274510615323, pvalue=0.0)"
      ]
     },
     "execution_count": 357,
     "metadata": {},
     "output_type": "execute_result"
    }
   ],
   "source": [
    "sts.kendalltau(x,z)"
   ]
  },
  {
   "cell_type": "markdown",
   "metadata": {},
   "source": [
    "Рассчитать точечную оценку коэффициента конкордации"
   ]
  },
  {
   "cell_type": "code",
   "execution_count": 358,
   "metadata": {},
   "outputs": [
    {
     "data": {
      "text/plain": [
       "0.9707730897132811"
      ]
     },
     "execution_count": 358,
     "metadata": {},
     "output_type": "execute_result"
    }
   ],
   "source": [
    "w = 2/9 * sum((sts.spearmanr(x, y)[0], sts.spearmanr(x, z)[0], sts.spearmanr(y, z)[0])) + 1/3\n",
    "w"
   ]
  },
  {
   "cell_type": "code",
   "execution_count": 359,
   "metadata": {},
   "outputs": [
    {
     "data": {
      "text/plain": [
       "2.9372027444973017"
      ]
     },
     "execution_count": 359,
     "metadata": {},
     "output_type": "execute_result"
    }
   ],
   "source": [
    "w = 12/(3*(len(x)**3-len(x))) * sum((sts.rankdata(x)+sts.rankdata(y)+sts.rankdata(x)-3*(len(x)+1)/2)**2) \n",
    "w"
   ]
  },
  {
   "cell_type": "code",
   "execution_count": 360,
   "metadata": {},
   "outputs": [
    {
     "data": {
      "text/plain": [
       "0.9707516813616062"
      ]
     },
     "execution_count": 360,
     "metadata": {},
     "output_type": "execute_result"
    }
   ],
   "source": [
    "k = 3\n",
    "n = len(x)\n",
    "w = 0\n",
    "for i in range(n):\n",
    "    w += (sts.rankdata(x)[i] +  sts.rankdata(y)[i] + sts.rankdata(z)[i] - k * (n+1)/2)**2\n",
    "w = w * 12 / ((n**3 - n )* k**2)\n",
    "w"
   ]
  },
  {
   "cell_type": "code",
   "execution_count": 361,
   "metadata": {},
   "outputs": [
    {
     "name": "stdout",
     "output_type": "stream",
     "text": [
      "значимость конкордации 2083.233108202007 p-val 0.0\n"
     ]
    }
   ],
   "source": [
    "zw = w * (k-1) * n\n",
    "p = 1 - sts.chi2.cdf(zw, df=n-1)\n",
    "print('значимость конкордации',zw,'p-val',p)"
   ]
  },
  {
   "cell_type": "code",
   "execution_count": 362,
   "metadata": {},
   "outputs": [
    {
     "data": {
      "text/plain": [
       "(996.9916331268273, 49.84958165634137)"
      ]
     },
     "execution_count": 362,
     "metadata": {},
     "output_type": "execute_result"
    }
   ],
   "source": [
    "crit = sts.chi2.ppf(0.05, df=n-1) \n",
    "pw = crit*0.05\n",
    "crit, pw"
   ]
  },
  {
   "cell_type": "markdown",
   "metadata": {},
   "source": [
    "9. Регрессионный анализ\n",
    "9.1 Простейшая линейная регрессионная модель"
   ]
  },
  {
   "cell_type": "code",
   "execution_count": 363,
   "metadata": {},
   "outputs": [
    {
     "data": {
      "text/html": [
       "<div>\n",
       "<style scoped>\n",
       "    .dataframe tbody tr th:only-of-type {\n",
       "        vertical-align: middle;\n",
       "    }\n",
       "\n",
       "    .dataframe tbody tr th {\n",
       "        vertical-align: top;\n",
       "    }\n",
       "\n",
       "    .dataframe thead th {\n",
       "        text-align: right;\n",
       "    }\n",
       "</style>\n",
       "<table border=\"1\" class=\"dataframe\">\n",
       "  <thead>\n",
       "    <tr style=\"text-align: right;\">\n",
       "      <th></th>\n",
       "      <th>№ задания\n",
       "Вариант</th>\n",
       "      <th>1.1</th>\n",
       "      <th>1.2</th>\n",
       "      <th>2.1, 3.1</th>\n",
       "      <th>2.2, 3.2</th>\n",
       "      <th>2.3, 3.3</th>\n",
       "      <th>2.4, 3.4</th>\n",
       "      <th>4</th>\n",
       "      <th>5</th>\n",
       "      <th>6</th>\n",
       "      <th>7</th>\n",
       "      <th>8.1</th>\n",
       "      <th>8.2</th>\n",
       "      <th>9.1</th>\n",
       "      <th>9.2</th>\n",
       "      <th>9.3</th>\n",
       "    </tr>\n",
       "  </thead>\n",
       "  <tbody>\n",
       "    <tr>\n",
       "      <th>12</th>\n",
       "      <td>13</td>\n",
       "      <td>A5 A6 A8</td>\n",
       "      <td>A8</td>\n",
       "      <td>A8</td>\n",
       "      <td>A8</td>\n",
       "      <td>A5 A8</td>\n",
       "      <td>A5 A8</td>\n",
       "      <td>A8</td>\n",
       "      <td>A5 A8</td>\n",
       "      <td>A9 A14</td>\n",
       "      <td>A4 A8</td>\n",
       "      <td>A5 A8</td>\n",
       "      <td>A5 A6 A8</td>\n",
       "      <td>A15 A13</td>\n",
       "      <td>A15 A13</td>\n",
       "      <td>A15 A5 A13</td>\n",
       "    </tr>\n",
       "  </tbody>\n",
       "</table>\n",
       "</div>"
      ],
      "text/plain": [
       "                   № задания\\nВариант       1.1 1.2 2.1, 3.1 2.2, 3.2  \\\n",
       "12                                 13  A5 A6 A8  A8       A8       A8   \n",
       "\n",
       "   2.3, 3.3 2.4, 3.4   4      5       6      7    8.1       8.2      9.1  \\\n",
       "12    A5 A8    A5 A8  A8  A5 A8  A9 A14  A4 A8  A5 A8  A5 A6 A8  A15 A13   \n",
       "\n",
       "        9.2         9.3  \n",
       "12  A15 A13  A15 A5 A13  "
      ]
     },
     "execution_count": 363,
     "metadata": {},
     "output_type": "execute_result"
    }
   ],
   "source": [
    "task"
   ]
  },
  {
   "cell_type": "code",
   "execution_count": 384,
   "metadata": {},
   "outputs": [],
   "source": [
    "x = DF['A15']\n",
    "y = DF['A13']"
   ]
  },
  {
   "cell_type": "code",
   "execution_count": 385,
   "metadata": {},
   "outputs": [
    {
     "data": {
      "text/plain": [
       "DescribeResult(nobs=1073, minmax=(6, 997), mean=102.47250698974837, variance=21279.068506488995, skewness=2.8902238452354427, kurtosis=9.853418772063034)"
      ]
     },
     "execution_count": 385,
     "metadata": {},
     "output_type": "execute_result"
    }
   ],
   "source": [
    "sts.describe(x)"
   ]
  },
  {
   "cell_type": "code",
   "execution_count": 386,
   "metadata": {},
   "outputs": [
    {
     "data": {
      "text/plain": [
       "A15\n",
       "6      11\n",
       "7      10\n",
       "8      20\n",
       "9      22\n",
       "10     19\n",
       "11     19\n",
       "12     22\n",
       "13     15\n",
       "14     17\n",
       "15     18\n",
       "16     18\n",
       "17     16\n",
       "18     16\n",
       "19     15\n",
       "20     17\n",
       "21     11\n",
       "22     16\n",
       "23     15\n",
       "24     10\n",
       "25     16\n",
       "26     15\n",
       "27     14\n",
       "28     15\n",
       "29      9\n",
       "30     13\n",
       "31      8\n",
       "32     15\n",
       "33     11\n",
       "34     13\n",
       "35     11\n",
       "       ..\n",
       "510     1\n",
       "532     1\n",
       "533     1\n",
       "535     3\n",
       "541     1\n",
       "561     1\n",
       "572     1\n",
       "576     2\n",
       "577     1\n",
       "583     1\n",
       "598     1\n",
       "601     1\n",
       "603     1\n",
       "622     1\n",
       "624     1\n",
       "647     1\n",
       "650     2\n",
       "652     1\n",
       "654     1\n",
       "758     1\n",
       "785     1\n",
       "817     1\n",
       "834     1\n",
       "850     1\n",
       "893     1\n",
       "918     1\n",
       "927     1\n",
       "949     1\n",
       "981     1\n",
       "997     1\n",
       "Name: A13, Length: 292, dtype: int64"
      ]
     },
     "execution_count": 386,
     "metadata": {},
     "output_type": "execute_result"
    }
   ],
   "source": [
    "y.groupby(x).size()"
   ]
  },
  {
   "cell_type": "code",
   "execution_count": 387,
   "metadata": {},
   "outputs": [
    {
     "data": {
      "text/plain": [
       "DescribeResult(nobs=1073, minmax=(290, 1075), mean=536.6076421248835, variance=14043.580053483745, skewness=0.6934764532566606, kurtosis=0.528501788954733)"
      ]
     },
     "execution_count": 387,
     "metadata": {},
     "output_type": "execute_result"
    }
   ],
   "source": [
    "sts.describe(y)"
   ]
  },
  {
   "cell_type": "code",
   "execution_count": 394,
   "metadata": {},
   "outputs": [],
   "source": [
    "class Regression():\n",
    "    '''\n",
    "    Одномерная регрессия, по умолчанию линейная\n",
    "    '''\n",
    "    c = []\n",
    "    n = 0\n",
    "    k = 0\n",
    "    x = []\n",
    "    y = []\n",
    "    f = [] \n",
    "    Dres = 0\n",
    "    Dregr = 0\n",
    "    \n",
    "    def __init__(self, n=1):\n",
    "        self.n = n+1\n",
    "        \n",
    "    def p(self, x, i):\n",
    "        return x**i\n",
    "    \n",
    "    def fit(self, x, y):\n",
    "        self.x = x\n",
    "        self.y = y\n",
    "        self.k = len(x)\n",
    "        self.f = np.zeros((len(x), self.n))\n",
    "        for i in range(len(x)):\n",
    "            for j in range(self.n):\n",
    "                self.f[i,j] = self.p(x[i], j)\n",
    "        self.c = np.linalg.inv(self.f.transpose() @ self.f) @ \\\n",
    "                self.f.transpose() @ y #находим вектор коэффицентов\n",
    "        self.Dregr = sum((np.mean(y)-myRegr.predict(x[i]))**2 for i in range(len(x)))\n",
    "        self.Dres = 1/(self.k) * sum((self.predict(self.x[i])-self.y[i])**2 for i in range(self.k)) \n",
    "        \n",
    "    def predict(self, x):\n",
    "        res = 0\n",
    "        for i in range(self.n):\n",
    "            res+=self.p(x, i)*self.c[i]  \n",
    "        return res\n",
    "    \n",
    "    def proveIntervals(self, x, alpha):\n",
    "        Dres = 1/(self.k - self.n) * sum((self.predict(self.x[i])-self.y[i])**2 for i in range(self.k))\n",
    "        res = self.predict(x)\n",
    "        phi = np.array([self.p(x, i) for i in range(self.n)])\n",
    "        high = res + sts.t.ppf(1-alpha/2, df=self.k-self.n)*np.sqrt(Dres)* np.sqrt(np.dot(np.dot(phi.transpose(),\n",
    "                    np.linalg.inv(self.f.transpose() @ self.f)), phi))\n",
    "        low = res - sts.t.ppf(1-alpha/2, df=self.k-self.n)*np.sqrt(Dres)* np.sqrt(np.dot(np.dot(phi.transpose(),\n",
    "                    np.linalg.inv(self.f.transpose() @ self.f)), phi))\n",
    "        return high, low\n",
    "    \n",
    "    def proveIntervalsForCoefs(self, alpha):\n",
    "        Dres = 1/(self.k - self.n) * sum((self.predict(self.x[i])-self.y[i])**2 for i in range(self.k))\n",
    "        interv = []\n",
    "        for j in range(self.n):\n",
    "            high = self.c[j] + sts.t.ppf(1-alpha/2, df=self.k-self.n)*np.sqrt(Dres) * \\\n",
    "                   np.linalg.inv(self.f.transpose() @ self.f)[j,j]\n",
    "            low =  self.c[j]- sts.t.ppf(1-alpha/2, df=self.k-self.n)*np.sqrt(Dres) *  \\\n",
    "                   np.linalg.inv(self.f.transpose() @ self.f)[j,j]\n",
    "            interv.append((low, high))\n",
    "        return interv\n",
    "    \n",
    "    def significal(self):\n",
    "        r2 = 1 - self.Dres/np.var(self.y)\n",
    "        z = r2 / (1 - r2) * (self.k-self.n)/(self.n-1)\n",
    "        p = 1 - sts.f.cdf(z,dfn=self.n-1,dfd=self.k-self.n)\n",
    "        return z, p\n",
    "    "
   ]
  },
  {
   "cell_type": "code",
   "execution_count": 395,
   "metadata": {},
   "outputs": [
    {
     "data": {
      "text/plain": [
       "array([4.88993299e+02, 4.64654812e-01])"
      ]
     },
     "execution_count": 395,
     "metadata": {},
     "output_type": "execute_result"
    }
   ],
   "source": [
    "myRegr = Regression()\n",
    "myRegr.fit(x.values,y.values)\n",
    "myRegr.c"
   ]
  },
  {
   "cell_type": "code",
   "execution_count": 396,
   "metadata": {},
   "outputs": [
    {
     "data": {
      "text/plain": [
       "(array([0.46465481]), 488.9932986745056)"
      ]
     },
     "execution_count": 396,
     "metadata": {},
     "output_type": "execute_result"
    }
   ],
   "source": [
    "from sklearn.linear_model import LinearRegression as lr\n",
    "mylr = lr().fit(x.values.reshape((len(x.values),1)), y.values)\n",
    "mylr.coef_, mylr.intercept_"
   ]
  },
  {
   "cell_type": "code",
   "execution_count": 397,
   "metadata": {},
   "outputs": [
    {
     "name": "stdout",
     "output_type": "stream",
     "text": [
      "D regr 4589.9563341890325 несмещ 4925023.146584832\n"
     ]
    }
   ],
   "source": [
    "Dregr = sum((np.mean(y)-myRegr.predict(x[i]))**2 for i in range(len(x)))\n",
    "Dregr /= len(x)\n",
    "print('D regr', Dregr,'несмещ',Dregr*len(x))"
   ]
  },
  {
   "cell_type": "code",
   "execution_count": 398,
   "metadata": {},
   "outputs": [
    {
     "name": "stdout",
     "output_type": "stream",
     "text": [
      "D остаточная 9440.535573858071  несмещ 9458.164958683203\n"
     ]
    }
   ],
   "source": [
    "Dres = myRegr.Dres\n",
    "print('D остаточная', Dres,' несмещ', Dres*len(x)/(len(x)-2))"
   ]
  },
  {
   "cell_type": "code",
   "execution_count": 399,
   "metadata": {},
   "outputs": [
    {
     "name": "stdout",
     "output_type": "stream",
     "text": [
      "Dres+Dregr 14030.491908047105\n"
     ]
    }
   ],
   "source": [
    "print('Dres+Dregr',Dres+Dregr)"
   ]
  },
  {
   "cell_type": "code",
   "execution_count": 400,
   "metadata": {},
   "outputs": [
    {
     "data": {
      "text/plain": [
       "(14030.491908047135, 14043.580053483745)"
      ]
     },
     "execution_count": 400,
     "metadata": {},
     "output_type": "execute_result"
    }
   ],
   "source": [
    "np.var(y), sts.describe(y)[3]"
   ]
  },
  {
   "cell_type": "code",
   "execution_count": 401,
   "metadata": {},
   "outputs": [
    {
     "name": "stdout",
     "output_type": "stream",
     "text": [
      "КД = 0.32714151180661677\n",
      "КО = 0.5719628587649873\n"
     ]
    }
   ],
   "source": [
    "#КО и КД\n",
    "nusquare = Dregr / (Dregr + Dres)\n",
    "print('КД =', nusquare)\n",
    "print('КО =', np.sqrt(nusquare))"
   ]
  },
  {
   "cell_type": "code",
   "execution_count": 402,
   "metadata": {},
   "outputs": [
    {
     "name": "stdout",
     "output_type": "stream",
     "text": [
      "b0 0.01  : 479.6293147339802 498.35728261503084\n",
      "b0 0.05  : 481.87283716489543 496.1137601841156\n",
      "b0 0.1  : 483.01920468568636 494.9673926633247\n"
     ]
    }
   ],
   "source": [
    "b0, b1 =myRegr.c\n",
    "b0\n",
    "for alpha in [0.01, 0.05, 0.1]:\n",
    "    low = b0 - sts.t.ppf(1-alpha/2, df=len(x)-2) * np.sqrt(sum(x**2)*Dres/(len(x)-2)/len(x)/np.var(x))\n",
    "    high = b0 + sts.t.ppf(1-alpha/2, df=len(x)-2) * np.sqrt(sum(x**2)*Dres/(len(x)-2)/len(x)/np.var(x))\n",
    "    print('b0',alpha,' :',low, high)"
   ]
  },
  {
   "cell_type": "code",
   "execution_count": 403,
   "metadata": {},
   "outputs": [
    {
     "name": "stdout",
     "output_type": "stream",
     "text": [
      "b1 0.01  : 0.4121110180421038 0.5171986055653542\n",
      "b1 0.05  : 0.4247000165558044 0.5046096070516536\n",
      "b1 0.1  : 0.43113258830838747 0.4981770352990706\n"
     ]
    }
   ],
   "source": [
    "b0, b1 =myRegr.c\n",
    "b1\n",
    "for alpha in [0.01, 0.05, 0.1]:\n",
    "    low = b1 - sts.t.ppf(1-alpha/2, df=len(x)-2) * np.sqrt(Dres/(len(x)-2)/np.var(x))\n",
    "    high = b1 + sts.t.ppf(1-alpha/2, df=len(x)-2) * np.sqrt(Dres/(len(x)-2)/np.var(x))\n",
    "    print('b1',alpha,' :',low, high)"
   ]
  },
  {
   "cell_type": "code",
   "execution_count": 404,
   "metadata": {},
   "outputs": [
    {
     "name": "stdout",
     "output_type": "stream",
     "text": [
      "0.01 [(488.64389602421176, 489.3427013247993), (0.4646438104095064, 0.46466581319795164)]\n",
      "0.05 [(488.72760961111385, 489.2589877378972), (0.4646464462400318, 0.46466317736742624)]\n",
      "0.1 [(488.77038455098125, 489.2162127980298), (0.4646477930643216, 0.4646618305431365)]\n"
     ]
    }
   ],
   "source": [
    "for alpha in [0.01, 0.05, 0.1]:\n",
    "    print(alpha, myRegr.proveIntervalsForCoefs(alpha=alpha))"
   ]
  },
  {
   "cell_type": "code",
   "execution_count": 405,
   "metadata": {},
   "outputs": [
    {
     "data": {
      "text/plain": [
       "997"
      ]
     },
     "execution_count": 405,
     "metadata": {},
     "output_type": "execute_result"
    }
   ],
   "source": [
    "sorted(x)[-1]"
   ]
  },
  {
   "cell_type": "code",
   "execution_count": 407,
   "metadata": {},
   "outputs": [
    {
     "data": {
      "text/plain": [
       "<matplotlib.collections.PathCollection at 0x1177b656400>"
      ]
     },
     "execution_count": 407,
     "metadata": {},
     "output_type": "execute_result"
    },
    {
     "data": {
      "image/png": "[encoded data removed]",
      "text/plain": [
       "<Figure size 432x288 with 1 Axes>"
      ]
     },
     "metadata": {},
     "output_type": "display_data"
    }
   ],
   "source": [
    "plt.plot(x, myRegr.predict(x), color = 'y', label='функция регрессии')\n",
    "x_axis = np.arange(6,997)\n",
    "high = []\n",
    "low = []\n",
    "for x1 in x_axis:\n",
    "    high.append(myRegr.proveIntervals(x1, 0.1)[0])\n",
    "    low.append(myRegr.proveIntervals(x1, 0.1)[1])\n",
    "plt.plot(x_axis, high, color='g', label='доверительный интервал', linestyle='--')\n",
    "plt.plot(x_axis, low, color='g', linestyle='--')\n",
    "plt.xlabel(x.name)\n",
    "plt.ylabel(y.name)\n",
    "plt.legend()\n",
    "plt.scatter(x,y)"
   ]
  },
  {
   "cell_type": "code",
   "execution_count": 409,
   "metadata": {
    "scrolled": true
   },
   "outputs": [
    {
     "data": {
      "text/plain": [
       "<matplotlib.legend.Legend at 0x1177c6cd908>"
      ]
     },
     "execution_count": 409,
     "metadata": {},
     "output_type": "execute_result"
    },
    {
     "data": {
      "image/png": "[encoded data removed]",
      "text/plain": [
       "<Figure size 432x288 with 1 Axes>"
      ]
     },
     "metadata": {},
     "output_type": "display_data"
    }
   ],
   "source": [
    "x_axis = np.arange(6,997)\n",
    "plt.scatter(x, y-myRegr.predict(x),label='остатки')\n",
    "plt.xlabel(x.name)\n",
    "plt.ylabel(y.name)\n",
    "plt.legend()"
   ]
  },
  {
   "cell_type": "markdown",
   "metadata": {},
   "source": [
    "Проверка значимости линейной регрессионной модели"
   ]
  },
  {
   "cell_type": "code",
   "execution_count": 410,
   "metadata": {},
   "outputs": [
    {
     "data": {
      "text/plain": [
       "(520.7165626841155, 1.1102230246251565e-16)"
      ]
     },
     "execution_count": 410,
     "metadata": {},
     "output_type": "execute_result"
    }
   ],
   "source": [
    "myRegr.significal()"
   ]
  },
  {
   "cell_type": "markdown",
   "metadata": {},
   "source": [
    "9.2 Линейная регрессионная модель общего вида"
   ]
  },
  {
   "cell_type": "code",
   "execution_count": 412,
   "metadata": {},
   "outputs": [
    {
     "data": {
      "text/html": [
       "<div>\n",
       "<style scoped>\n",
       "    .dataframe tbody tr th:only-of-type {\n",
       "        vertical-align: middle;\n",
       "    }\n",
       "\n",
       "    .dataframe tbody tr th {\n",
       "        vertical-align: top;\n",
       "    }\n",
       "\n",
       "    .dataframe thead th {\n",
       "        text-align: right;\n",
       "    }\n",
       "</style>\n",
       "<table border=\"1\" class=\"dataframe\">\n",
       "  <thead>\n",
       "    <tr style=\"text-align: right;\">\n",
       "      <th></th>\n",
       "      <th>№ задания\n",
       "Вариант</th>\n",
       "      <th>1.1</th>\n",
       "      <th>1.2</th>\n",
       "      <th>2.1, 3.1</th>\n",
       "      <th>2.2, 3.2</th>\n",
       "      <th>2.3, 3.3</th>\n",
       "      <th>2.4, 3.4</th>\n",
       "      <th>4</th>\n",
       "      <th>5</th>\n",
       "      <th>6</th>\n",
       "      <th>7</th>\n",
       "      <th>8.1</th>\n",
       "      <th>8.2</th>\n",
       "      <th>9.1</th>\n",
       "      <th>9.2</th>\n",
       "      <th>9.3</th>\n",
       "    </tr>\n",
       "  </thead>\n",
       "  <tbody>\n",
       "    <tr>\n",
       "      <th>12</th>\n",
       "      <td>13</td>\n",
       "      <td>A5 A6 A8</td>\n",
       "      <td>A8</td>\n",
       "      <td>A8</td>\n",
       "      <td>A8</td>\n",
       "      <td>A5 A8</td>\n",
       "      <td>A5 A8</td>\n",
       "      <td>A8</td>\n",
       "      <td>A5 A8</td>\n",
       "      <td>A9 A14</td>\n",
       "      <td>A4 A8</td>\n",
       "      <td>A5 A8</td>\n",
       "      <td>A5 A6 A8</td>\n",
       "      <td>A15 A13</td>\n",
       "      <td>A15 A13</td>\n",
       "      <td>A15 A5 A13</td>\n",
       "    </tr>\n",
       "  </tbody>\n",
       "</table>\n",
       "</div>"
      ],
      "text/plain": [
       "                   № задания\\nВариант       1.1 1.2 2.1, 3.1 2.2, 3.2  \\\n",
       "12                                 13  A5 A6 A8  A8       A8       A8   \n",
       "\n",
       "   2.3, 3.3 2.4, 3.4   4      5       6      7    8.1       8.2      9.1  \\\n",
       "12    A5 A8    A5 A8  A8  A5 A8  A9 A14  A4 A8  A5 A8  A5 A6 A8  A15 A13   \n",
       "\n",
       "        9.2         9.3  \n",
       "12  A15 A13  A15 A5 A13  "
      ]
     },
     "execution_count": 412,
     "metadata": {},
     "output_type": "execute_result"
    }
   ],
   "source": [
    "task"
   ]
  },
  {
   "cell_type": "code",
   "execution_count": 413,
   "metadata": {},
   "outputs": [
    {
     "data": {
      "text/plain": [
       "array([ 4.60118242e+02,  1.02244678e+00, -8.90535777e-04])"
      ]
     },
     "execution_count": 413,
     "metadata": {},
     "output_type": "execute_result"
    }
   ],
   "source": [
    "myRegr2 = Regression(2)\n",
    "myRegr2.fit(x.values,y.values)\n",
    "myRegr2.c"
   ]
  },
  {
   "cell_type": "code",
   "execution_count": 414,
   "metadata": {},
   "outputs": [
    {
     "data": {
      "text/plain": [
       "array([ 4.60118242e+02,  1.02244678e+00, -8.90535777e-04])"
      ]
     },
     "execution_count": 414,
     "metadata": {},
     "output_type": "execute_result"
    }
   ],
   "source": [
    "mylr2 = np.polynomial.polynomial.polyfit(x.values, y.values, deg=2)\n",
    "mylr2"
   ]
  },
  {
   "cell_type": "code",
   "execution_count": 423,
   "metadata": {},
   "outputs": [
    {
     "name": "stdout",
     "output_type": "stream",
     "text": [
      "D regr2 5844.452186347221 несмещ 3135548.597975284\n"
     ]
    }
   ],
   "source": [
    "Dregr2 = sum((np.mean(y)-myRegr2.predict(x[i]))**2 for i in range(len(x)))\n",
    "Dregr2 /= len(x)\n",
    "print('D regr2', Dregr2,'несмещ',Dregr2*len(x)/2)"
   ]
  },
  {
   "cell_type": "code",
   "execution_count": 424,
   "metadata": {},
   "outputs": [
    {
     "name": "stdout",
     "output_type": "stream",
     "text": [
      "D остаточная 8186.039721699912 несмещ 8208.991234938323\n"
     ]
    }
   ],
   "source": [
    "Dres2 = myRegr2.Dres\n",
    "print('D остаточная',Dres2,'несмещ', Dres2*len(x)/(len(x)-3))"
   ]
  },
  {
   "cell_type": "code",
   "execution_count": 425,
   "metadata": {},
   "outputs": [
    {
     "name": "stdout",
     "output_type": "stream",
     "text": [
      "Dregr2 + Dres2 = 14030.491908047134\n"
     ]
    }
   ],
   "source": [
    "print('Dregr2 + Dres2 =',Dregr2+Dres2)"
   ]
  },
  {
   "cell_type": "code",
   "execution_count": 426,
   "metadata": {},
   "outputs": [
    {
     "data": {
      "text/plain": [
       "(14030.491908047135, 14043.580053483745)"
      ]
     },
     "execution_count": 426,
     "metadata": {},
     "output_type": "execute_result"
    }
   ],
   "source": [
    "np.var(y), sts.describe(y)[3]"
   ]
  },
  {
   "cell_type": "code",
   "execution_count": 427,
   "metadata": {},
   "outputs": [
    {
     "name": "stdout",
     "output_type": "stream",
     "text": [
      "КД = 0.41655361940625607\n",
      "КО = 0.645409652396256\n"
     ]
    }
   ],
   "source": [
    "#КО и КД\n",
    "nusquare2 = Dregr2 / (Dregr2 + Dres2)\n",
    "print('КД =', nusquare2)\n",
    "print('КО =', np.sqrt(nusquare2))"
   ]
  },
  {
   "cell_type": "code",
   "execution_count": 448,
   "metadata": {
    "scrolled": true
   },
   "outputs": [
    {
     "data": {
      "text/plain": [
       "<matplotlib.collections.PathCollection at 0x1177cc278d0>"
      ]
     },
     "execution_count": 448,
     "metadata": {},
     "output_type": "execute_result"
    },
    {
     "data": {
      "image/png": "[encoded data removed]",
      "text/plain": [
       "<Figure size 432x288 with 1 Axes>"
      ]
     },
     "metadata": {},
     "output_type": "display_data"
    }
   ],
   "source": [
    "x_axis = np.arange(6,997)\n",
    "plt.plot(x_axis, myRegr2.predict(x_axis), color = 'y', label='функция регрессии')\n",
    "high = []\n",
    "low = []\n",
    "for x1 in x_axis:\n",
    "    high.append(myRegr2.proveIntervals(x1, 0.1)[0])\n",
    "    low.append(myRegr2.proveIntervals(x1, 0.1)[1])\n",
    "plt.plot(x_axis, high, color='g', label='доверительный интервал', linestyle='--')\n",
    "plt.plot(x_axis, low, color='g',linestyle='--')\n",
    "plt.xlabel(x.name)\n",
    "plt.ylabel(y.name)\n",
    "plt.legend()\n",
    "plt.scatter(x,y)"
   ]
  },
  {
   "cell_type": "code",
   "execution_count": 434,
   "metadata": {},
   "outputs": [
    {
     "data": {
      "text/plain": [
       "<matplotlib.legend.Legend at 0x1177c8884e0>"
      ]
     },
     "execution_count": 434,
     "metadata": {},
     "output_type": "execute_result"
    },
    {
     "data": {
      "image/png": "[encoded data removed]",
      "text/plain": [
       "<Figure size 432x288 with 1 Axes>"
      ]
     },
     "metadata": {},
     "output_type": "display_data"
    }
   ],
   "source": [
    "plt.scatter(x, y-myRegr2.predict(x),label='остатки')\n",
    "plt.xlabel(x.name)\n",
    "plt.ylabel(y.name)\n",
    "plt.legend()"
   ]
  },
  {
   "cell_type": "code",
   "execution_count": 435,
   "metadata": {},
   "outputs": [
    {
     "data": {
      "text/plain": [
       "(381.9651536025601, 1.1102230246251565e-16)"
      ]
     },
     "execution_count": 435,
     "metadata": {},
     "output_type": "execute_result"
    }
   ],
   "source": [
    "myRegr2.significal()"
   ]
  },
  {
   "cell_type": "markdown",
   "metadata": {},
   "source": [
    "9.3 Множественная линейная регрессионная модель"
   ]
  },
  {
   "cell_type": "code",
   "execution_count": 436,
   "metadata": {},
   "outputs": [
    {
     "data": {
      "text/html": [
       "<div>\n",
       "<style scoped>\n",
       "    .dataframe tbody tr th:only-of-type {\n",
       "        vertical-align: middle;\n",
       "    }\n",
       "\n",
       "    .dataframe tbody tr th {\n",
       "        vertical-align: top;\n",
       "    }\n",
       "\n",
       "    .dataframe thead th {\n",
       "        text-align: right;\n",
       "    }\n",
       "</style>\n",
       "<table border=\"1\" class=\"dataframe\">\n",
       "  <thead>\n",
       "    <tr style=\"text-align: right;\">\n",
       "      <th></th>\n",
       "      <th>№ задания\n",
       "Вариант</th>\n",
       "      <th>1.1</th>\n",
       "      <th>1.2</th>\n",
       "      <th>2.1, 3.1</th>\n",
       "      <th>2.2, 3.2</th>\n",
       "      <th>2.3, 3.3</th>\n",
       "      <th>2.4, 3.4</th>\n",
       "      <th>4</th>\n",
       "      <th>5</th>\n",
       "      <th>6</th>\n",
       "      <th>7</th>\n",
       "      <th>8.1</th>\n",
       "      <th>8.2</th>\n",
       "      <th>9.1</th>\n",
       "      <th>9.2</th>\n",
       "      <th>9.3</th>\n",
       "    </tr>\n",
       "  </thead>\n",
       "  <tbody>\n",
       "    <tr>\n",
       "      <th>12</th>\n",
       "      <td>13</td>\n",
       "      <td>A5 A6 A8</td>\n",
       "      <td>A8</td>\n",
       "      <td>A8</td>\n",
       "      <td>A8</td>\n",
       "      <td>A5 A8</td>\n",
       "      <td>A5 A8</td>\n",
       "      <td>A8</td>\n",
       "      <td>A5 A8</td>\n",
       "      <td>A9 A14</td>\n",
       "      <td>A4 A8</td>\n",
       "      <td>A5 A8</td>\n",
       "      <td>A5 A6 A8</td>\n",
       "      <td>A15 A13</td>\n",
       "      <td>A15 A13</td>\n",
       "      <td>A15 A5 A13</td>\n",
       "    </tr>\n",
       "  </tbody>\n",
       "</table>\n",
       "</div>"
      ],
      "text/plain": [
       "                   № задания\\nВариант       1.1 1.2 2.1, 3.1 2.2, 3.2  \\\n",
       "12                                 13  A5 A6 A8  A8       A8       A8   \n",
       "\n",
       "   2.3, 3.3 2.4, 3.4   4      5       6      7    8.1       8.2      9.1  \\\n",
       "12    A5 A8    A5 A8  A8  A5 A8  A9 A14  A4 A8  A5 A8  A5 A6 A8  A15 A13   \n",
       "\n",
       "        9.2         9.3  \n",
       "12  A15 A13  A15 A5 A13  "
      ]
     },
     "execution_count": 436,
     "metadata": {},
     "output_type": "execute_result"
    }
   ],
   "source": [
    "task"
   ]
  },
  {
   "cell_type": "code",
   "execution_count": 437,
   "metadata": {},
   "outputs": [],
   "source": [
    "x = DF['A15']\n",
    "y = DF['A5']\n",
    "z = DF['A13']"
   ]
  },
  {
   "cell_type": "code",
   "execution_count": 438,
   "metadata": {},
   "outputs": [
    {
     "data": {
      "text/plain": [
       "(array([0.03709283, 0.93569174]), 40.18020659912963)"
      ]
     },
     "execution_count": 438,
     "metadata": {},
     "output_type": "execute_result"
    }
   ],
   "source": [
    "mylr3 = lr().fit(np.array((x.values, y.values)).transpose(),z.values)\n",
    "mylr3.coef_, mylr3.intercept_"
   ]
  },
  {
   "cell_type": "code",
   "execution_count": 439,
   "metadata": {},
   "outputs": [],
   "source": [
    "from mpl_toolkits.mplot3d import Axes3D"
   ]
  },
  {
   "cell_type": "code",
   "execution_count": 440,
   "metadata": {
    "scrolled": true
   },
   "outputs": [
    {
     "data": {
      "text/plain": [
       "DescribeResult(nobs=1073, minmax=(270, 1009), mean=526.4836905871389, variance=13868.856310247458, skewness=0.6786486256734204, kurtosis=0.5304432832288937)"
      ]
     },
     "execution_count": 440,
     "metadata": {},
     "output_type": "execute_result"
    }
   ],
   "source": [
    "sts.describe(y)"
   ]
  },
  {
   "cell_type": "code",
   "execution_count": 441,
   "metadata": {},
   "outputs": [
    {
     "data": {
      "text/plain": [
       "<mpl_toolkits.mplot3d.art3d.Path3DCollection at 0x1177caf2240>"
      ]
     },
     "execution_count": 441,
     "metadata": {},
     "output_type": "execute_result"
    },
    {
     "data": {
      "image/png": "[encoded data removed]",
      "text/plain": [
       "<Figure size 432x288 with 1 Axes>"
      ]
     },
     "metadata": {},
     "output_type": "display_data"
    }
   ],
   "source": [
    "fig = plt.figure()\n",
    "ax = plt.axes(projection=\"3d\")\n",
    "ax.scatter3D(x.values, y.values, z.values)\n",
    "ax.scatter3D(x.values, y.values, mylr3.predict(np.array((x.values, y.values)).transpose()), color='r')"
   ]
  },
  {
   "cell_type": "code",
   "execution_count": 442,
   "metadata": {},
   "outputs": [
    {
     "name": "stdout",
     "output_type": "stream",
     "text": [
      "D regr3 12834.702435338599 несмещ 6885817.856559158\n"
     ]
    }
   ],
   "source": [
    "Dregr3 = sum((np.mean(z)-mylr3.predict(np.array((x.values, y.values)).transpose()))**2)\n",
    "Dregr3 /= len(x)\n",
    "print('D regr3', Dregr3,'несмещ', Dregr3*len(x)/2)"
   ]
  },
  {
   "cell_type": "code",
   "execution_count": 443,
   "metadata": {},
   "outputs": [
    {
     "name": "stdout",
     "output_type": "stream",
     "text": [
      "D остаточная 1195.7894727085095 несмещ 1199.1421534731128\n"
     ]
    }
   ],
   "source": [
    "Dres3 = sum((mylr3.predict(np.array((x.values, y.values)).transpose())-z)**2)\n",
    "Dres3 /= len(x)\n",
    "print('D остаточная', Dres3,'несмещ', Dres3*len(x)/(len(x)-3))"
   ]
  },
  {
   "cell_type": "code",
   "execution_count": 444,
   "metadata": {},
   "outputs": [
    {
     "name": "stdout",
     "output_type": "stream",
     "text": [
      "Dregr3 + Dres3 = 14030.491908047108\n"
     ]
    }
   ],
   "source": [
    "print('Dregr3 + Dres3 =',Dregr3+Dres3)"
   ]
  },
  {
   "cell_type": "code",
   "execution_count": 445,
   "metadata": {},
   "outputs": [
    {
     "data": {
      "text/plain": [
       "(14030.491908047135, 14043.580053483745)"
      ]
     },
     "execution_count": 445,
     "metadata": {},
     "output_type": "execute_result"
    }
   ],
   "source": [
    "np.var(z), sts.describe(z)[3]"
   ]
  },
  {
   "cell_type": "code",
   "execution_count": 446,
   "metadata": {},
   "outputs": [
    {
     "name": "stdout",
     "output_type": "stream",
     "text": [
      "МКД = 0.91477209205882\n",
      "МКО = 0.9564371866771074\n"
     ]
    }
   ],
   "source": [
    "#КО и КД\n",
    "nusquare3 = Dregr3 / (Dregr3 + Dres3)\n",
    "print('МКД =', nusquare3)\n",
    "print('МКО =', np.sqrt(nusquare3))"
   ]
  },
  {
   "cell_type": "code",
   "execution_count": 447,
   "metadata": {},
   "outputs": [
    {
     "data": {
      "text/plain": [
       "1195.7894727085095"
      ]
     },
     "execution_count": 447,
     "metadata": {},
     "output_type": "execute_result"
    }
   ],
   "source": [
    "sum((mylr3.predict(np.array((x.values, y.values)).transpose())-z)**2)/len(x) #SSE"
   ]
  },
  {
   "cell_type": "code",
   "execution_count": 144,
   "metadata": {},
   "outputs": [
    {
     "name": "stdout",
     "output_type": "stream",
     "text": [
      "465.20681347368276 487\n",
      "684.8096094195836 677\n",
      "539.2377394080576 559\n",
      "617.0892266093216 670\n",
      "455.9444324702645 423\n",
      "454.93455507471225 477\n",
      "476.95441394197064 478\n",
      "596.4573907193211 546\n",
      "507.415849207948 523\n",
      "516.1254464455416 503\n"
     ]
    }
   ],
   "source": [
    "for i in range(10):\n",
    "    print(mylr3.predict(np.array((x.values, y.values)).transpose())[i], z[i])"
   ]
  },
  {
   "cell_type": "code",
   "execution_count": null,
   "metadata": {},
   "outputs": [],
   "source": []
  }
 ],
 "metadata": {
  "kernelspec": {
   "display_name": "Python 3",
   "language": "python",
   "name": "python3"
  },
  "language_info": {
   "codemirror_mode": {
    "name": "ipython",
    "version": 3
   },
   "file_extension": ".py",
   "mimetype": "text/x-python",
   "name": "python",
   "nbconvert_exporter": "python",
   "pygments_lexer": "ipython3",
   "version": "3.7.4"
  }
 },
 "nbformat": 4,
 "nbformat_minor": 2
}
