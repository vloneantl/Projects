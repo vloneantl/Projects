{
 "cells": [
  {
   "cell_type": "code",
   "execution_count": 1,
   "metadata": {},
   "outputs": [],
   "source": [
    "import pandas as pd\n",
    "import numpy as np"
   ]
  },
  {
   "cell_type": "code",
   "execution_count": 2,
   "metadata": {},
   "outputs": [],
   "source": [
    "picture_size = [8, 8]\n",
    "train_size = 9\n",
    "test_size = 1"
   ]
  },
  {
   "cell_type": "code",
   "execution_count": 3,
   "metadata": {},
   "outputs": [],
   "source": [
    "standards = pd.read_excel('data2.xlsx', usecols=\"B:I\", names=range(picture_size[0]), nrows=picture_size[0]*train_size)\n",
    "test = pd.read_excel('data2.xlsx', usecols=\"B:I\", names=range(picture_size[0]), skiprows=picture_size[0]*train_size)"
   ]
  },
  {
   "cell_type": "code",
   "execution_count": 4,
   "metadata": {},
   "outputs": [],
   "source": [
    "standarts = []\n",
    "for i in range(train_size):\n",
    "    standarts.append(standards.iloc[i*picture_size[0]:(i+1)*picture_size[0]])"
   ]
  },
  {
   "cell_type": "code",
   "execution_count": 5,
   "metadata": {
    "scrolled": true
   },
   "outputs": [],
   "source": [
    "def to_vec(matrix):\n",
    "    matrix = matrix.values\n",
    "    vector=[]\n",
    "    for i in range(len(matrix)):\n",
    "        vector+=list(matrix[i])\n",
    "    return vector"
   ]
  },
  {
   "cell_type": "code",
   "execution_count": 6,
   "metadata": {},
   "outputs": [],
   "source": [
    "standart_vec = []\n",
    "for standart in standarts:\n",
    "    standart_vec.append(to_vec(standart))\n",
    "    \n",
    "test_vec = to_vec(test)"
   ]
  },
  {
   "cell_type": "code",
   "execution_count": 7,
   "metadata": {},
   "outputs": [],
   "source": [
    "weights = np.zeros((picture_size[0]*picture_size[1], picture_size[0]*picture_size[1]))\n",
    "\n",
    "for i in range(weights.shape[0]):\n",
    "    for j in range(weights.shape[1]):\n",
    "        if i != j:\n",
    "            weights[i][j] = 0\n",
    "            for row in standart_vec:\n",
    "                weights[i][j] += row[i] * row[j]\n",
    "            "
   ]
  },
  {
   "cell_type": "code",
   "execution_count": 8,
   "metadata": {},
   "outputs": [],
   "source": [
    "def output(previous_y, weights):\n",
    "    func = []\n",
    "    s = weights.dot(previous_y)\n",
    "    for i in range(len(s)):\n",
    "        if s[i] > 0:\n",
    "            func.append(1)\n",
    "        else:\n",
    "            func.append(-1)\n",
    "    return func"
   ]
  },
  {
   "cell_type": "code",
   "execution_count": 9,
   "metadata": {},
   "outputs": [],
   "source": [
    "def comparison(previous_y, new_y):\n",
    "    for i in range(len(previous_y)):\n",
    "        if previous_y[i] != new_y[i]:\n",
    "            return True\n",
    "    return False"
   ]
  },
  {
   "cell_type": "code",
   "execution_count": 10,
   "metadata": {},
   "outputs": [],
   "source": [
    "def to_matrix(previous_y):\n",
    "    return np.array(previous_y).reshape((-1,8))\n"
   ]
  },
  {
   "cell_type": "code",
   "execution_count": 11,
   "metadata": {},
   "outputs": [
    {
     "name": "stdout",
     "output_type": "stream",
     "text": [
      "Количество итераций: 1\n",
      "Количество итераций: 2\n",
      "Количество итераций: 3\n"
     ]
    }
   ],
   "source": [
    "previous_y = test_vec\n",
    "flag = True\n",
    "count = 0\n",
    "\n",
    "while flag:\n",
    "    new_y = output(previous_y, weights)\n",
    "    flag = comparison(previous_y, new_y)\n",
    "    previous_y = new_y\n",
    "    count += 1\n",
    "    print(f'Количество итераций: {count}')\n",
    "    if count > 100000:\n",
    "        break"
   ]
  },
  {
   "cell_type": "code",
   "execution_count": 12,
   "metadata": {},
   "outputs": [
    {
     "data": {
      "text/plain": [
       "array([[-1, -1,  1,  1,  1,  1, -1, -1],\n",
       "       [-1, -1,  1, -1, -1,  1, -1, -1],\n",
       "       [-1, -1,  1, -1, -1,  1, -1, -1],\n",
       "       [-1, -1,  1, -1, -1,  1, -1, -1],\n",
       "       [-1, -1, -1, -1,  1,  1, -1, -1],\n",
       "       [-1, -1, -1, -1, -1,  1, -1, -1],\n",
       "       [-1, -1, -1, -1, -1,  1, -1, -1],\n",
       "       [-1, -1,  1,  1,  1,  1, -1, -1]])"
      ]
     },
     "execution_count": 12,
     "metadata": {},
     "output_type": "execute_result"
    }
   ],
   "source": [
    "previous_y = to_matrix(previous_y)\n",
    "previous_y"
   ]
  },
  {
   "cell_type": "code",
   "execution_count": null,
   "metadata": {},
   "outputs": [],
   "source": []
  }
 ],
 "metadata": {
  "kernelspec": {
   "display_name": "Python 3",
   "language": "python",
   "name": "python3"
  },
  "language_info": {
   "codemirror_mode": {
    "name": "ipython",
    "version": 3
   },
   "file_extension": ".py",
   "mimetype": "text/x-python",
   "name": "python",
   "nbconvert_exporter": "python",
   "pygments_lexer": "ipython3",
   "version": "3.7.4"
  }
 },
 "nbformat": 4,
 "nbformat_minor": 5
}
