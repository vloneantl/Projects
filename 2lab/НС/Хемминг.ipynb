{
 "cells": [
  {
   "cell_type": "code",
   "execution_count": 1,
   "metadata": {},
   "outputs": [],
   "source": [
    "import math\n",
    "import pandas as pd\n",
    "import numpy as np\n",
    "import matplotlib.pyplot as plt\n",
    "plt.style.use('grayscale')"
   ]
  },
  {
   "cell_type": "code",
   "execution_count": 2,
   "metadata": {},
   "outputs": [],
   "source": [
    "picture_size = [8, 8]\n",
    "standards_count = 9"
   ]
  },
  {
   "cell_type": "code",
   "execution_count": 3,
   "metadata": {},
   "outputs": [],
   "source": [
    "standards = pd.read_excel('data2.xlsx', usecols=\"B:I\", names=range(picture_size[1]), nrows=picture_size[0]*standards_count)\n",
    "test = pd.read_excel('data2.xlsx', usecols=\"B:I\", names=range(picture_size[1]), skiprows=picture_size[0]*standards_count)"
   ]
  },
  {
   "cell_type": "code",
   "execution_count": 4,
   "metadata": {},
   "outputs": [],
   "source": [
    "standarts = [0] * standards_count\n",
    "for i in range(standards_count):\n",
    "    standarts[i] = standards.iloc[i*picture_size[0]:(i+1)*picture_size[0]]"
   ]
  },
  {
   "cell_type": "code",
   "execution_count": 5,
   "metadata": {},
   "outputs": [
    {
     "data": {
      "text/plain": [
       "array([[-1, -1,  1,  1,  1, -1, -1, -1],\n",
       "       [-1, -1, -1, -1,  1, -1, -1, -1],\n",
       "       [-1, -1, -1, -1,  1, -1, -1, -1],\n",
       "       [-1, -1, -1, -1,  1, -1, -1, -1],\n",
       "       [-1, -1, -1, -1,  1, -1, -1, -1],\n",
       "       [-1, -1, -1, -1,  1, -1, -1, -1],\n",
       "       [-1, -1, -1, -1,  1, -1, -1, -1],\n",
       "       [-1, -1,  1,  1,  1,  1, -1, -1]])"
      ]
     },
     "execution_count": 5,
     "metadata": {},
     "output_type": "execute_result"
    }
   ],
   "source": [
    "test_plot = np.array(test)\n",
    "test_plot"
   ]
  },
  {
   "cell_type": "code",
   "execution_count": 6,
   "metadata": {},
   "outputs": [
    {
     "data": {
      "image/png": "[encoded data removed]",
      "text/plain": [
       "<Figure size 1440x1440 with 9 Axes>"
      ]
     },
     "metadata": {
      "needs_background": "light"
     },
     "output_type": "display_data"
    }
   ],
   "source": [
    "fig, ax = plt.subplots(1, standards_count, figsize=(20,20))\n",
    "i = 0\n",
    "for standart in standarts:\n",
    "    ax[i].imshow(standart)\n",
    "    i += 1\n",
    "plt.show()"
   ]
  },
  {
   "cell_type": "code",
   "execution_count": 7,
   "metadata": {},
   "outputs": [
    {
     "data": {
      "text/plain": [
       "<matplotlib.image.AxesImage at 0x7fa979b459d0>"
      ]
     },
     "execution_count": 7,
     "metadata": {},
     "output_type": "execute_result"
    },
    {
     "data": {
      "image/png": "[encoded data removed]",
      "text/plain": [
       "<Figure size 432x288 with 1 Axes>"
      ]
     },
     "metadata": {
      "needs_background": "light"
     },
     "output_type": "display_data"
    }
   ],
   "source": [
    "plt.imshow(test_plot)"
   ]
  },
  {
   "cell_type": "code",
   "execution_count": 8,
   "metadata": {},
   "outputs": [],
   "source": [
    "def comparison(previous_y, new_y, eps):\n",
    "    dif = 0\n",
    "    for i in range(len(previous_y)):\n",
    "        dif += math.pow(previous_y[i] - new_y[i], 2)\n",
    "    if math.pow(dif, 1 / 2) < eps:\n",
    "        return False\n",
    "    else:\n",
    "        return True"
   ]
  },
  {
   "cell_type": "code",
   "execution_count": 9,
   "metadata": {},
   "outputs": [],
   "source": [
    "def to_vec(matrix):\n",
    "    matrix = matrix.values\n",
    "    vector=[]\n",
    "    for i in range(len(matrix)):\n",
    "        vector+=list(matrix[i])\n",
    "    return vector"
   ]
  },
  {
   "cell_type": "code",
   "execution_count": 10,
   "metadata": {},
   "outputs": [],
   "source": [
    "def to_matrix(previous_y):\n",
    "    return np.array(previous_y).reshape((-1,8))"
   ]
  },
  {
   "cell_type": "code",
   "execution_count": 11,
   "metadata": {},
   "outputs": [],
   "source": [
    "def first_layer(weights, input_vector):\n",
    "    s_without_t = weights.T.dot(input_vector)\n",
    "    t = [picture_size[0]*picture_size[1]//2] * standards_count\n",
    "    s_with_t = s_without_t + t\n",
    "    return s_with_t"
   ]
  },
  {
   "cell_type": "code",
   "execution_count": 12,
   "metadata": {},
   "outputs": [],
   "source": [
    "def second_layer(previous_y, eps=0.1):\n",
    "    output = []\n",
    "    for j in range(standards_count):\n",
    "        value = previous_y[j]\n",
    "        other_y = 0\n",
    "        for i in range(standards_count):\n",
    "            if i != j:\n",
    "                other_y += previous_y[i]\n",
    "        value = value - eps * other_y\n",
    "        if value >= 0:\n",
    "            output.append(value)\n",
    "        else:\n",
    "            output.append(0)\n",
    "    return output"
   ]
  },
  {
   "cell_type": "code",
   "execution_count": 13,
   "metadata": {},
   "outputs": [],
   "source": [
    "weights = np.zeros((picture_size[0]*picture_size[1], standards_count))\n",
    "for i in range(picture_size[0]*picture_size[1]):\n",
    "    for j in range(standards_count):\n",
    "        weights[i][j] = standards.at[(i // 8) + j*8, i % 8] / 2"
   ]
  },
  {
   "cell_type": "code",
   "execution_count": 14,
   "metadata": {},
   "outputs": [
    {
     "name": "stdout",
     "output_type": "stream",
     "text": [
      "Количество итераций: 1\n",
      "Количество итераций: 2\n",
      "Количество итераций: 3\n",
      "Количество итераций: 4\n",
      "Количество итераций: 5\n",
      "Количество итераций: 6\n",
      "Количество итераций: 7\n",
      "Количество итераций: 8\n",
      "Количество итераций: 9\n",
      "Количество итераций: 10\n",
      "Количество итераций: 11\n",
      "Количество итераций: 12\n",
      "Количество итераций: 13\n",
      "Количество итераций: 14\n",
      "Количество итераций: 15\n",
      "Количество итераций: 16\n",
      "Количество итераций: 17\n",
      "Количество итераций: 18\n",
      "Количество итераций: 19\n",
      "Количество итераций: 20\n",
      "Количество итераций: 21\n",
      "Количество итераций: 22\n",
      "Количество итераций: 23\n",
      "Количество итераций: 24\n",
      "Количество итераций: 25\n",
      "Количество итераций: 26\n",
      "Количество итераций: 27\n",
      "Количество итераций: 28\n",
      "Количество итераций: 29\n",
      "Количество итераций: 30\n",
      "Количество итераций: 31\n",
      "Количество итераций: 32\n",
      "Количество итераций: 33\n",
      "Количество итераций: 34\n",
      "Количество итераций: 35\n",
      "Количество итераций: 36\n",
      "Количество итераций: 37\n",
      "Количество итераций: 38\n",
      "Количество итераций: 39\n",
      "Количество итераций: 40\n",
      "Количество итераций: 41\n",
      "Количество итераций: 42\n",
      "Количество итераций: 43\n",
      "Количество итераций: 44\n",
      "Количество итераций: 45\n",
      "Количество итераций: 46\n",
      "Количество итераций: 47\n",
      "Количество итераций: 48\n",
      "Количество итераций: 49\n",
      "Количество итераций: 50\n",
      "Количество итераций: 51\n",
      "Количество итераций: 52\n",
      "Количество итераций: 53\n",
      "Количество итераций: 54\n",
      "Количество итераций: 55\n",
      "Количество итераций: 56\n",
      "Количество итераций: 57\n",
      "Количество итераций: 58\n",
      "Количество итераций: 59\n",
      "Количество итераций: 60\n",
      "Количество итераций: 61\n",
      "Количество итераций: 62\n",
      "Количество итераций: 63\n",
      "Количество итераций: 64\n",
      "Количество итераций: 65\n",
      "Количество итераций: 66\n",
      "Количество итераций: 67\n",
      "Количество итераций: 68\n",
      "Количество итераций: 69\n",
      "Количество итераций: 70\n",
      "Количество итераций: 71\n",
      "[16.146983026162925, 0, 0, 0, 0, 0, 0, 0, 0]\n"
     ]
    }
   ],
   "source": [
    "test_vec = to_vec(test)\n",
    "previous_y = first_layer(weights, test_vec)\n",
    "flag = True\n",
    "count = 0\n",
    "while flag:\n",
    "    new_y = second_layer(previous_y, eps=0.01)\n",
    "    flag = comparison(previous_y, new_y, eps=0.1)\n",
    "    previous_y = new_y\n",
    "    count += 1\n",
    "    print(f\"Количество итераций: {count}\")\n",
    "    if count > 10000:\n",
    "        break\n",
    "print(previous_y)"
   ]
  },
  {
   "cell_type": "code",
   "execution_count": 15,
   "metadata": {},
   "outputs": [
    {
     "data": {
      "text/plain": [
       "<matplotlib.image.AxesImage at 0x7fa97635d110>"
      ]
     },
     "execution_count": 15,
     "metadata": {},
     "output_type": "execute_result"
    },
    {
     "data": {
      "image/png": "[encoded data removed]",
      "text/plain": [
       "<Figure size 1440x1440 with 2 Axes>"
      ]
     },
     "metadata": {
      "needs_background": "light"
     },
     "output_type": "display_data"
    }
   ],
   "source": [
    "fig, ax = plt.subplots(1, 2, figsize=(20,20))\n",
    "ax[0].set_title('Искаженное изображеное')\n",
    "ax[0].imshow(test_plot)\n",
    "ax[1].set_title('Восстановленное изображение')\n",
    "ax[1].imshow(standarts[np.argmax(previous_y)])\n"
   ]
  },
  {
   "cell_type": "code",
   "execution_count": null,
   "metadata": {},
   "outputs": [],
   "source": []
  }
 ],
 "metadata": {
  "kernelspec": {
   "display_name": "Python 3",
   "language": "python",
   "name": "python3"
  },
  "language_info": {
   "codemirror_mode": {
    "name": "ipython",
    "version": 3
   },
   "file_extension": ".py",
   "mimetype": "text/x-python",
   "name": "python",
   "nbconvert_exporter": "python",
   "pygments_lexer": "ipython3",
   "version": "3.7.4"
  }
 },
 "nbformat": 4,
 "nbformat_minor": 5
}
